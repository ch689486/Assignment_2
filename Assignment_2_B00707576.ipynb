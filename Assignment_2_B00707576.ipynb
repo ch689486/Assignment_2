{
 "cells": [
  {
   "cell_type": "markdown",
   "metadata": {},
   "source": [
    "# Assignment 2 \n",
    "## Chloe Firth\n",
    "## B00707576"
   ]
  },
  {
   "cell_type": "markdown",
   "metadata": {},
   "source": [
    "\n",
    "# Using rvest and dpylr to Extract NBA Data and Find Maximum Points Per Game Values Depending on Month\n"
   ]
  },
  {
   "cell_type": "markdown",
   "metadata": {},
   "source": [
    "## Introduction\n",
    "\n",
    "\n",
    "Looking at statistics and manipulating data is something that many people do, even when they do not realize they are doing it. Being able to take data from a website and use R to extract particular data from a dataset can be used to many peoples advantages to finding the data they’re looking for. Rvest is a package that was created to take data from web pages and be able to incorporate that data from that website using the html_node() function to select the specific data of interest (Wickham, 2014). This package joined with another package called dplyr which can manipulate the data not only from HTML but any data set (Wickham, 2017) allowed this study to answer the question, which NBA players have the most points per game (PPG) during the regular season depending on the month.\n",
    "\n",
    "A study by Bhandari et al. found that similar methods have also been done in a PC application called Advanced Scout which allows NBA couches and trainers to see patterns in different games to better improve strategy for upcoming games however the method discussed if specific for NBA data (Bhandari et al., 1997). While this approach is widely accepted throughout the NBA the idea of this study applying datasets from HTML to find specific data can be used to any data within any different sports leagues or any information of interest where this study can be applied. \n",
    "\n",
    "A package in R called ballr created by Ryan Elmore and Peter DeWitt was found which is could find similar information of interest however using data current and historical basketball games and allows the user to find out specific information for a particular season, player or position within their records and allows you to look at the statistics per game, year,  team,  date or in a specific time frame, per any amount of positions, or throughout a players entire career (Elmore & Dewitt, 2018). This package conducts similar research and findings within R much like this study; however, Ballr allows the user to find this information with no need to use HTML coding to import data.\n",
    "\n",
    "The results of this study can be beneficial to not only coaches and managers of the NBA but to the fans as well. Coaches and managers can use this data when they’re trading their players to find pieces to their team that they’re missing to improve their team better or this information can be beneficial when creating plays or altering the starting lineup depending on the month to cater to the statistics found through this study. Besides this, the coaches and trainers of any NBA team will be able to use this information to encourage any different training aspects depending on the statistic found within each month. This study will also contribute toward the information that will be important to the spectators, with this information they will be able to alter their fantasy NBA draft or any strategic bets they may wish to do. Knowing this information, any individual that can make the appropriate changes to any best or selections they may want to change.\n"
   ]
  },
  {
   "cell_type": "markdown",
   "metadata": {},
   "source": [
    "## Methods/Results"
   ]
  },
  {
   "cell_type": "markdown",
   "metadata": {},
   "source": [
    "The first step is to find an appropriate website in which it can give the proper information to use and manipulate to find the information for this study. This [website](https://basketball.realgm.com/nba/stats/2018/Averages/Qualified/points/All/desc/1/Regular_Season) was chosen because unlike other websites; it allows you to look at specific data and times such as different months or to look at the play-off or regular season,  different teams or positions can be looked at individually as well. "
   ]
  },
  {
   "cell_type": "markdown",
   "metadata": {},
   "source": [
    "The next step to this project is to acquire the necessary packages to allow the study to work appropriately. The first package is rvest which enable R to read HTML and take information from the website. The second package is dplyr which allows R to manipulate the data to join the tables together, so they’re easier to look at and easier to extract information from."
   ]
  },
  {
   "cell_type": "code",
   "execution_count": 1,
   "metadata": {},
   "outputs": [
    {
     "name": "stderr",
     "output_type": "stream",
     "text": [
      "Loading required package: xml2\n",
      "\n",
      "Attaching package: ‘dplyr’\n",
      "\n",
      "The following objects are masked from ‘package:stats’:\n",
      "\n",
      "    filter, lag\n",
      "\n",
      "The following objects are masked from ‘package:base’:\n",
      "\n",
      "    intersect, setdiff, setequal, union\n",
      "\n"
     ]
    }
   ],
   "source": [
    "library(rvest)\n",
    "library(dplyr)"
   ]
  },
  {
   "cell_type": "markdown",
   "metadata": {},
   "source": [
    "The rest of the methods will be shown through the example of the month of October:"
   ]
  },
  {
   "cell_type": "markdown",
   "metadata": {},
   "source": [
    "### October"
   ]
  },
  {
   "cell_type": "markdown",
   "metadata": {},
   "source": [
    "The website was then read in R using the `read_html()` function. Each month had to read four different website pages because the website only shows 100 players on each page, seeing as there are approximately 336 players in the NBA there were four pages to extract tables from. "
   ]
  },
  {
   "cell_type": "code",
   "execution_count": 2,
   "metadata": {},
   "outputs": [],
   "source": [
    "NBA1 = read_html(\"https://basketball.realgm.com/nba/stats/2018/Averages/Qualified/player/All/asc/1/October\")"
   ]
  },
  {
   "cell_type": "code",
   "execution_count": 3,
   "metadata": {},
   "outputs": [],
   "source": [
    "NBA2 = read_html(\"https://basketball.realgm.com/nba/stats/2018/Averages/Qualified/player/All/asc/2/October\")"
   ]
  },
  {
   "cell_type": "code",
   "execution_count": 4,
   "metadata": {},
   "outputs": [],
   "source": [
    "NBA3 = read_html(\"https://basketball.realgm.com/nba/stats/2018/Averages/Qualified/player/All/asc/3/October\")"
   ]
  },
  {
   "cell_type": "code",
   "execution_count": 5,
   "metadata": {},
   "outputs": [],
   "source": [
    "NBA4 = read_html(\"https://basketball.realgm.com/nba/stats/2018/Averages/Qualified/player/All/asc/4/October\")"
   ]
  },
  {
   "cell_type": "markdown",
   "metadata": {},
   "source": [
    "The `html_nodes('table')%>% .[[1]] %>% html_table()` code was used to take the first `%>% .[[1]]` table `[ html_nodes(‘table’)]` on the website out of the HTML coding and place it into R where it can be manipulated and taken information from. The last part of the code `[%>% html_table()]` will allow the table to show below. This step was completed four times, once for each page for that month."
   ]
  },
  {
   "cell_type": "code",
   "execution_count": 6,
   "metadata": {},
   "outputs": [],
   "source": [
    "October1 = NBA1 %>% html_nodes('table')%>% .[[1]] %>%\n",
    "  html_table()"
   ]
  },
  {
   "cell_type": "code",
   "execution_count": 7,
   "metadata": {},
   "outputs": [],
   "source": [
    "October2 = NBA2 %>% html_nodes('table')%>% .[[1]] %>%\n",
    "  html_table()"
   ]
  },
  {
   "cell_type": "code",
   "execution_count": 8,
   "metadata": {},
   "outputs": [],
   "source": [
    "October3 = NBA3 %>% html_nodes('table')%>% .[[1]] %>%\n",
    "  html_table()"
   ]
  },
  {
   "cell_type": "code",
   "execution_count": 9,
   "metadata": {},
   "outputs": [],
   "source": [
    "October4 = NBA4 %>% html_nodes('table')%>% .[[1]] %>%\n",
    "  html_table()"
   ]
  },
  {
   "cell_type": "markdown",
   "metadata": {},
   "source": [
    "Next the tables were strung together by the function `full_join()`. This function can only join two tables together at a time, this was done three times, once to join the first 200 players, then the last 136 players, and lastly those two joined tables were joined together which looks like this:"
   ]
  },
  {
   "cell_type": "code",
   "execution_count": 10,
   "metadata": {},
   "outputs": [
    {
     "name": "stderr",
     "output_type": "stream",
     "text": [
      "Joining, by = c(\"#\", \"Player\", \"Team\", \"GP\", \"MPG\", \"FGM\", \"FGA\", \"FG%\", \"3PM\", \"3PA\", \"3P%\", \"FTM\", \"FTA\", \"FT%\", \"TOV\", \"PF\", \"ORB\", \"DRB\", \"RPG\", \"APG\", \"SPG\", \"BPG\", \"PPG\")\n"
     ]
    }
   ],
   "source": [
    "a = full_join(October1, October2)"
   ]
  },
  {
   "cell_type": "code",
   "execution_count": 11,
   "metadata": {},
   "outputs": [
    {
     "name": "stderr",
     "output_type": "stream",
     "text": [
      "Joining, by = c(\"#\", \"Player\", \"Team\", \"GP\", \"MPG\", \"FGM\", \"FGA\", \"FG%\", \"3PM\", \"3PA\", \"3P%\", \"FTM\", \"FTA\", \"FT%\", \"TOV\", \"PF\", \"ORB\", \"DRB\", \"RPG\", \"APG\", \"SPG\", \"BPG\", \"PPG\")\n"
     ]
    }
   ],
   "source": [
    "b = full_join(October3, October4)"
   ]
  },
  {
   "cell_type": "code",
   "execution_count": 12,
   "metadata": {},
   "outputs": [
    {
     "name": "stderr",
     "output_type": "stream",
     "text": [
      "Joining, by = c(\"#\", \"Player\", \"Team\", \"GP\", \"MPG\", \"FGM\", \"FGA\", \"FG%\", \"3PM\", \"3PA\", \"3P%\", \"FTM\", \"FTA\", \"FT%\", \"TOV\", \"PF\", \"ORB\", \"DRB\", \"RPG\", \"APG\", \"SPG\", \"BPG\", \"PPG\")\n"
     ]
    }
   ],
   "source": [
    "October = full_join(a, b)"
   ]
  },
  {
   "cell_type": "markdown",
   "metadata": {},
   "source": [
    "Table 1: The data and statistics for all players in the NBA during the month of October in the 2017-2018 season"
   ]
  },
  {
   "cell_type": "code",
   "execution_count": 13,
   "metadata": {
    "scrolled": true
   },
   "outputs": [
    {
     "data": {
      "text/html": [
       "<table>\n",
       "<thead><tr><th scope=col>#</th><th scope=col>Player</th><th scope=col>Team</th><th scope=col>GP</th><th scope=col>MPG</th><th scope=col>FGM</th><th scope=col>FGA</th><th scope=col>FG%</th><th scope=col>3PM</th><th scope=col>3PA</th><th scope=col>⋯</th><th scope=col>FT%</th><th scope=col>TOV</th><th scope=col>PF</th><th scope=col>ORB</th><th scope=col>DRB</th><th scope=col>RPG</th><th scope=col>APG</th><th scope=col>SPG</th><th scope=col>BPG</th><th scope=col>PPG</th></tr></thead>\n",
       "<tbody>\n",
       "\t<tr><td> 1                   </td><td>Alex Abrines         </td><td>OKC                  </td><td>7                    </td><td>19.3                 </td><td> 1.6                 </td><td> 4.4                 </td><td>0.355                </td><td>0.9                  </td><td>2.6                  </td><td>⋯                    </td><td>1.000                </td><td>0.7                  </td><td>2.9                  </td><td>0.4                  </td><td>1.3                  </td><td> 1.7                 </td><td>0.6                  </td><td>1.0                  </td><td>0.0                  </td><td> 4.3                 </td></tr>\n",
       "\t<tr><td> 2                   </td><td>Quincy Acy           </td><td>BRK                  </td><td>6                    </td><td>14.9                 </td><td> 2.0                 </td><td> 3.8                 </td><td>0.522                </td><td>1.8                  </td><td>3.5                  </td><td>⋯                    </td><td>0.000                </td><td>1.5                  </td><td>2.5                  </td><td>0.3                  </td><td>3.0                  </td><td> 3.3                 </td><td>0.2                  </td><td>0.3                  </td><td>0.0                  </td><td> 5.8                 </td></tr>\n",
       "\t<tr><td> 3                   </td><td>Steven Adams         </td><td>OKC                  </td><td>7                    </td><td>30.7                 </td><td> 6.4                 </td><td> 9.4                 </td><td>0.682                </td><td>0.0                  </td><td>0.0                  </td><td>⋯                    </td><td>0.733                </td><td>1.4                  </td><td>1.7                  </td><td>4.9                  </td><td>3.9                  </td><td> 8.7                 </td><td>1.4                  </td><td>1.4                  </td><td>1.3                  </td><td>14.4                 </td></tr>\n",
       "\t<tr><td> 4                   </td><td>Bam Adebayo          </td><td>MIA                  </td><td>4                    </td><td>20.2                 </td><td> 2.2                 </td><td> 5.0                 </td><td>0.450                </td><td>0.0                  </td><td>0.0                  </td><td>⋯                    </td><td>0.625                </td><td>0.5                  </td><td>2.8                  </td><td>3.0                  </td><td>3.0                  </td><td> 6.0                 </td><td>0.0                  </td><td>0.2                  </td><td>0.5                  </td><td> 5.8                 </td></tr>\n",
       "\t<tr><td> 5                   </td><td>LaMarcus Aldridge    </td><td>SAS                  </td><td>7                    </td><td>34.0                 </td><td> 9.1                 </td><td>18.4                 </td><td>0.496                </td><td>0.6                  </td><td>1.7                  </td><td>⋯                    </td><td>0.786                </td><td>1.6                  </td><td>2.1                  </td><td>3.4                  </td><td>5.0                  </td><td> 8.4                 </td><td>1.9                  </td><td>0.7                  </td><td>1.3                  </td><td>23.6                 </td></tr>\n",
       "\t<tr><td> 6                   </td><td>Jarrett Allen        </td><td>BRK                  </td><td>6                    </td><td>15.0                 </td><td> 1.5                 </td><td> 3.7                 </td><td>0.409                </td><td>0.0                  </td><td>0.2                  </td><td>⋯                    </td><td>0.600                </td><td>0.5                  </td><td>2.0                  </td><td>1.0                  </td><td>1.7                  </td><td> 2.7                 </td><td>0.3                  </td><td>1.0                  </td><td>1.0                  </td><td> 4.0                 </td></tr>\n",
       "\t<tr><td> 7                   </td><td>Tony Allen           </td><td>NOP                  </td><td>7                    </td><td>10.7                 </td><td> 1.7                 </td><td> 3.6                 </td><td>0.480                </td><td>0.1                  </td><td>0.7                  </td><td>⋯                    </td><td>0.250                </td><td>1.0                  </td><td>1.9                  </td><td>0.6                  </td><td>1.0                  </td><td> 1.6                 </td><td>0.1                  </td><td>0.6                  </td><td>0.3                  </td><td> 3.7                 </td></tr>\n",
       "\t<tr><td> 8                   </td><td>Al-Farouq Aminu      </td><td>POR                  </td><td>7                    </td><td>30.0                 </td><td> 3.4                 </td><td> 7.7                 </td><td>0.444                </td><td>1.6                  </td><td>3.7                  </td><td>⋯                    </td><td>1.000                </td><td>0.9                  </td><td>1.7                  </td><td>1.6                  </td><td>6.9                  </td><td> 8.4                 </td><td>2.0                  </td><td>1.0                  </td><td>1.3                  </td><td> 9.6                 </td></tr>\n",
       "\t<tr><td> 9                   </td><td>Justin Anderson      </td><td>PHI                  </td><td>5                    </td><td>12.0                 </td><td> 1.6                 </td><td> 5.0                 </td><td>0.320                </td><td>1.0                  </td><td>3.0                  </td><td>⋯                    </td><td>0.500                </td><td>0.4                  </td><td>1.8                  </td><td>0.6                  </td><td>1.2                  </td><td> 1.8                 </td><td>0.2                  </td><td>0.2                  </td><td>0.2                  </td><td> 4.6                 </td></tr>\n",
       "\t<tr><td>10                   </td><td>Kyle Anderson        </td><td>SAS                  </td><td>7                    </td><td>26.6                 </td><td> 3.1                 </td><td> 7.4                 </td><td>0.423                </td><td>0.3                  </td><td>0.7                  </td><td>⋯                    </td><td>0.643                </td><td>1.0                  </td><td>1.3                  </td><td>2.3                  </td><td>4.9                  </td><td> 7.1                 </td><td>1.9                  </td><td>0.4                  </td><td>0.6                  </td><td> 7.9                 </td></tr>\n",
       "\t<tr><td>11                   </td><td>Ryan Anderson        </td><td>HOU                  </td><td>8                    </td><td>31.9                 </td><td> 4.1                 </td><td>10.0                 </td><td>0.412                </td><td>3.2                  </td><td>8.4                  </td><td>⋯                    </td><td>0.778                </td><td>0.5                  </td><td>1.9                  </td><td>1.4                  </td><td>4.4                  </td><td> 5.8                 </td><td>0.6                  </td><td>0.4                  </td><td>0.6                  </td><td>12.4                 </td></tr>\n",
       "\t<tr><td>12                   </td><td>Giannis Antetokounmpo</td><td>MIL                  </td><td>7                    </td><td>37.4                 </td><td>13.0                 </td><td>20.6                 </td><td>0.632                </td><td>0.9                  </td><td>2.1                  </td><td>⋯                    </td><td>0.774                </td><td>3.3                  </td><td>3.6                  </td><td>1.4                  </td><td>8.9                  </td><td>10.3                 </td><td>5.3                  </td><td>1.7                  </td><td>1.0                  </td><td>33.7                 </td></tr>\n",
       "\t<tr><td>13                   </td><td>Carmelo Anthony      </td><td>OKC                  </td><td>7                    </td><td>33.4                 </td><td> 8.4                 </td><td>18.1                 </td><td>0.465                </td><td>2.4                  </td><td>7.0                  </td><td>⋯                    </td><td>0.806                </td><td>1.7                  </td><td>3.1                  </td><td>0.0                  </td><td>4.4                  </td><td> 4.4                 </td><td>1.6                  </td><td>1.1                  </td><td>1.1                  </td><td>22.9                 </td></tr>\n",
       "\t<tr><td>14                   </td><td>Ogugua Anunoby       </td><td>TOR                  </td><td>6                    </td><td>17.6                 </td><td> 2.2                 </td><td> 6.0                 </td><td>0.361                </td><td>0.8                  </td><td>3.2                  </td><td>⋯                    </td><td>0.800                </td><td>0.2                  </td><td>1.7                  </td><td>1.3                  </td><td>1.2                  </td><td> 2.5                 </td><td>1.3                  </td><td>0.7                  </td><td>0.0                  </td><td> 5.8                 </td></tr>\n",
       "\t<tr><td>15                   </td><td>Trevor Ariza         </td><td>HOU                  </td><td>6                    </td><td>35.6                 </td><td> 1.8                 </td><td> 7.5                 </td><td>0.244                </td><td>1.0                  </td><td>5.3                  </td><td>⋯                    </td><td>1.000                </td><td>1.0                  </td><td>2.5                  </td><td>0.3                  </td><td>4.2                  </td><td> 4.5                 </td><td>3.3                  </td><td>1.5                  </td><td>0.2                  </td><td> 6.2                 </td></tr>\n",
       "\t<tr><td>16                   </td><td>D.J. Augustin        </td><td>ORL                  </td><td>7                    </td><td>23.7                 </td><td> 2.6                 </td><td> 5.7                 </td><td>0.450                </td><td>1.0                  </td><td>2.6                  </td><td>⋯                    </td><td>0.857                </td><td>1.3                  </td><td>2.0                  </td><td>0.3                  </td><td>1.9                  </td><td> 2.1                 </td><td>5.4                  </td><td>1.4                  </td><td>0.0                  </td><td> 8.7                 </td></tr>\n",
       "\t<tr><td>17                   </td><td>Luke Babbitt         </td><td>MIA                  </td><td>7                    </td><td>11.9                 </td><td> 1.4                 </td><td> 3.4                 </td><td>0.417                </td><td>0.6                  </td><td>2.3                  </td><td>⋯                    </td><td>1.000                </td><td>0.4                  </td><td>1.3                  </td><td>0.1                  </td><td>1.3                  </td><td> 1.4                 </td><td>0.1                  </td><td>0.1                  </td><td>0.0                  </td><td> 3.7                 </td></tr>\n",
       "\t<tr><td>18                   </td><td>Dwayne Bacon         </td><td>CHA                  </td><td>7                    </td><td>23.6                 </td><td> 1.7                 </td><td> 5.6                 </td><td>0.308                </td><td>0.7                  </td><td>2.4                  </td><td>⋯                    </td><td>0.500                </td><td>1.0                  </td><td>1.9                  </td><td>0.0                  </td><td>5.3                  </td><td> 5.3                 </td><td>1.3                  </td><td>0.3                  </td><td>0.1                  </td><td> 4.4                 </td></tr>\n",
       "\t<tr><td>19                   </td><td>Ron Baker            </td><td>NYK                  </td><td>3                    </td><td>15.9                 </td><td> 0.7                 </td><td> 2.3                 </td><td>0.286                </td><td>0.7                  </td><td>1.0                  </td><td>⋯                    </td><td>0.556                </td><td>2.0                  </td><td>1.0                  </td><td>0.0                  </td><td>0.7                  </td><td> 0.7                 </td><td>3.7                  </td><td>1.3                  </td><td>0.0                  </td><td> 3.7                 </td></tr>\n",
       "\t<tr><td>20                   </td><td>Lonzo Ball           </td><td>LAL                  </td><td>7                    </td><td>34.0                 </td><td> 4.1                 </td><td>12.4                 </td><td>0.333                </td><td>1.4                  </td><td>5.0                  </td><td>⋯                    </td><td>0.556                </td><td>3.0                  </td><td>1.6                  </td><td>1.1                  </td><td>6.1                  </td><td> 7.3                 </td><td>7.0                  </td><td>1.1                  </td><td>0.6                  </td><td>10.4                 </td></tr>\n",
       "\t<tr><td>21                   </td><td>J.J. Barea           </td><td>DAL                  </td><td>8                    </td><td>23.3                 </td><td> 5.1                 </td><td>11.4                 </td><td>0.451                </td><td>2.4                  </td><td>5.2                  </td><td>⋯                    </td><td>0.667                </td><td>2.5                  </td><td>1.4                  </td><td>0.4                  </td><td>2.8                  </td><td> 3.1                 </td><td>4.6                  </td><td>0.5                  </td><td>0.1                  </td><td>13.6                 </td></tr>\n",
       "\t<tr><td>22                   </td><td>Harrison Barnes      </td><td>DAL                  </td><td>8                    </td><td>35.3                 </td><td> 5.9                 </td><td>15.5                 </td><td>0.379                </td><td>1.5                  </td><td>4.6                  </td><td>⋯                    </td><td>0.750                </td><td>1.6                  </td><td>0.9                  </td><td>1.4                  </td><td>5.0                  </td><td> 6.4                 </td><td>1.8                  </td><td>0.5                  </td><td>0.0                  </td><td>16.6                 </td></tr>\n",
       "\t<tr><td>23                   </td><td>Will Barton          </td><td>DEN                  </td><td>7                    </td><td>27.6                 </td><td> 5.4                 </td><td>12.0                 </td><td>0.452                </td><td>1.9                  </td><td>4.7                  </td><td>⋯                    </td><td>0.533                </td><td>1.4                  </td><td>2.3                  </td><td>1.0                  </td><td>3.9                  </td><td> 4.9                 </td><td>2.7                  </td><td>1.0                  </td><td>0.1                  </td><td>13.9                 </td></tr>\n",
       "\t<tr><td>24                   </td><td>Jerryd Bayless       </td><td>PHI                  </td><td>7                    </td><td>31.4                 </td><td> 4.0                 </td><td> 8.6                 </td><td>0.467                </td><td>2.4                  </td><td>5.3                  </td><td>⋯                    </td><td>0.800                </td><td>1.7                  </td><td>2.9                  </td><td>0.1                  </td><td>2.7                  </td><td> 2.9                 </td><td>1.9                  </td><td>0.7                  </td><td>0.0                  </td><td>11.6                 </td></tr>\n",
       "\t<tr><td>25                   </td><td>Aron Baynes          </td><td>BOS                  </td><td>7                    </td><td>19.4                 </td><td> 2.6                 </td><td> 4.4                 </td><td>0.581                </td><td>0.0                  </td><td>0.0                  </td><td>⋯                    </td><td>0.733                </td><td>1.0                  </td><td>3.0                  </td><td>1.9                  </td><td>3.3                  </td><td> 5.1                 </td><td>1.0                  </td><td>0.4                  </td><td>1.0                  </td><td> 6.7                 </td></tr>\n",
       "\t<tr><td>26                   </td><td>Kent Bazemore        </td><td>ATL                  </td><td>7                    </td><td>29.4                 </td><td> 4.3                 </td><td>11.7                 </td><td>0.366                </td><td>1.0                  </td><td>3.1                  </td><td>⋯                    </td><td>0.893                </td><td>2.7                  </td><td>2.0                  </td><td>0.6                  </td><td>3.0                  </td><td> 3.6                 </td><td>3.6                  </td><td>1.7                  </td><td>0.6                  </td><td>13.1                 </td></tr>\n",
       "\t<tr><td>27                   </td><td>Bradley Beal         </td><td>WAS                  </td><td>6                    </td><td>32.3                 </td><td> 7.0                 </td><td>15.5                 </td><td>0.452                </td><td>1.0                  </td><td>4.0                  </td><td>⋯                    </td><td>0.794                </td><td>2.0                  </td><td>1.7                  </td><td>1.2                  </td><td>3.3                  </td><td> 4.5                 </td><td>3.0                  </td><td>1.3                  </td><td>0.8                  </td><td>19.5                 </td></tr>\n",
       "\t<tr><td>28                   </td><td>Malik Beasley        </td><td>DEN                  </td><td>7                    </td><td> 7.0                 </td><td> 0.7                 </td><td> 1.4                 </td><td>0.500                </td><td>0.3                  </td><td>0.6                  </td><td>⋯                    </td><td>0.000                </td><td>0.1                  </td><td>0.7                  </td><td>0.1                  </td><td>0.7                  </td><td> 0.9                 </td><td>0.4                  </td><td>0.1                  </td><td>0.0                  </td><td> 1.7                 </td></tr>\n",
       "\t<tr><td>29                   </td><td>Michael Beasley      </td><td>NYK                  </td><td>5                    </td><td>12.1                 </td><td> 1.8                 </td><td> 4.4                 </td><td>0.409                </td><td>0.0                  </td><td>0.8                  </td><td>⋯                    </td><td>0.571                </td><td>1.2                  </td><td>0.8                  </td><td>0.2                  </td><td>2.0                  </td><td> 2.2                 </td><td>0.8                  </td><td>0.2                  </td><td>0.0                  </td><td> 4.4                 </td></tr>\n",
       "\t<tr><td>30                   </td><td>Marco Belinelli      </td><td>PHI                  </td><td>7                    </td><td>27.2                 </td><td> 4.9                 </td><td>10.7                 </td><td>0.453                </td><td>3.1                  </td><td>5.7                  </td><td>⋯                    </td><td>1.000                </td><td>1.7                  </td><td>1.0                  </td><td>0.1                  </td><td>2.4                  </td><td> 2.6                 </td><td>2.6                  </td><td>1.0                  </td><td>0.0                  </td><td>14.6                 </td></tr>\n",
       "\t<tr><td>⋮</td><td>⋮</td><td>⋮</td><td>⋮</td><td>⋮</td><td>⋮</td><td>⋮</td><td>⋮</td><td>⋮</td><td>⋮</td><td>⋱</td><td>⋮</td><td>⋮</td><td>⋮</td><td>⋮</td><td>⋮</td><td>⋮</td><td>⋮</td><td>⋮</td><td>⋮</td><td>⋮</td></tr>\n",
       "\t<tr><td>307               </td><td>Karl-Anthony Towns</td><td>MIN               </td><td>7                 </td><td>34.9              </td><td>9.3               </td><td>16.0              </td><td>0.580             </td><td>1.3               </td><td>3.4               </td><td>⋯                 </td><td>0.882             </td><td>2.0               </td><td>3.7               </td><td>2.7               </td><td>9.1               </td><td>11.9              </td><td> 1.0              </td><td>0.6               </td><td>2.0               </td><td>24.1              </td></tr>\n",
       "\t<tr><td>308               </td><td>P.J. Tucker       </td><td>HOU               </td><td>8                 </td><td>30.1              </td><td>2.0               </td><td> 5.9              </td><td>0.340             </td><td>1.6               </td><td>4.5               </td><td>⋯                 </td><td>0.700             </td><td>1.5               </td><td>3.1               </td><td>1.2               </td><td>4.6               </td><td> 5.9              </td><td> 1.1              </td><td>1.2               </td><td>0.2               </td><td> 6.5              </td></tr>\n",
       "\t<tr><td>309               </td><td>Evan Turner       </td><td>POR               </td><td>7                 </td><td>27.5              </td><td>3.7               </td><td> 8.1              </td><td>0.456             </td><td>0.7               </td><td>2.3               </td><td>⋯                 </td><td>0.824             </td><td>1.7               </td><td>3.3               </td><td>0.9               </td><td>3.3               </td><td> 4.1              </td><td> 3.3              </td><td>0.7               </td><td>1.0               </td><td>10.1              </td></tr>\n",
       "\t<tr><td>310               </td><td>Ekpe Udoh         </td><td>UTA               </td><td>7                 </td><td>14.2              </td><td>0.3               </td><td> 1.4              </td><td>0.200             </td><td>0.0               </td><td>0.0               </td><td>⋯                 </td><td>0.571             </td><td>0.4               </td><td>1.9               </td><td>1.3               </td><td>1.3               </td><td> 2.6              </td><td> 1.3              </td><td>0.3               </td><td>1.9               </td><td> 1.1              </td></tr>\n",
       "\t<tr><td>311               </td><td>Tyler Ulis        </td><td>PHX               </td><td>6                 </td><td>18.3              </td><td>3.2               </td><td> 7.2              </td><td>0.442             </td><td>0.2               </td><td>1.2               </td><td>⋯                 </td><td>0.778             </td><td>1.3               </td><td>1.2               </td><td>0.2               </td><td>0.8               </td><td> 1.0              </td><td> 2.8              </td><td>1.3               </td><td>0.0               </td><td> 7.7              </td></tr>\n",
       "\t<tr><td>312               </td><td>Jonas Valanciunas </td><td>TOR               </td><td>2                 </td><td>22.8              </td><td>5.5               </td><td>10.5              </td><td>0.524             </td><td>0.0               </td><td>0.5               </td><td>⋯                 </td><td>0.750             </td><td>0.5               </td><td>3.0               </td><td>4.0               </td><td>5.5               </td><td> 9.5              </td><td> 1.0              </td><td>1.0               </td><td>0.0               </td><td>14.0              </td></tr>\n",
       "\t<tr><td>313               </td><td>Denzel Valentine  </td><td>CHI               </td><td>5                 </td><td>27.2              </td><td>3.4               </td><td>10.6              </td><td>0.321             </td><td>2.2               </td><td>5.6               </td><td>⋯                 </td><td>1.000             </td><td>1.4               </td><td>1.4               </td><td>0.8               </td><td>5.0               </td><td> 5.8              </td><td> 1.6              </td><td>0.6               </td><td>0.0               </td><td> 9.6              </td></tr>\n",
       "\t<tr><td>314               </td><td>Fred VanVleet     </td><td>TOR               </td><td>6                 </td><td>11.6              </td><td>1.0               </td><td> 4.0              </td><td>0.250             </td><td>0.3               </td><td>1.5               </td><td>⋯                 </td><td>1.000             </td><td>1.0               </td><td>1.3               </td><td>0.0               </td><td>0.5               </td><td> 0.5              </td><td> 2.0              </td><td>0.5               </td><td>0.2               </td><td> 2.7              </td></tr>\n",
       "\t<tr><td>315               </td><td>Rashad Vaughn     </td><td>ORL               </td><td>4                 </td><td>10.9              </td><td>2.0               </td><td> 4.0              </td><td>0.500             </td><td>1.2               </td><td>2.5               </td><td>⋯                 </td><td>0.000             </td><td>0.2               </td><td>0.8               </td><td>0.0               </td><td>0.8               </td><td> 0.8              </td><td> 0.8              </td><td>0.5               </td><td>0.0               </td><td> 5.2              </td></tr>\n",
       "\t<tr><td>316               </td><td>Nikola Vucevic    </td><td>ORL               </td><td>7                 </td><td>30.6              </td><td>8.7               </td><td>15.7              </td><td>0.555             </td><td>1.9               </td><td>4.6               </td><td>⋯                 </td><td>0.714             </td><td>1.4               </td><td>2.3               </td><td>1.0               </td><td>7.6               </td><td> 8.6              </td><td> 2.7              </td><td>0.6               </td><td>1.4               </td><td>20.7              </td></tr>\n",
       "\t<tr><td>317               </td><td>Dwyane Wade       </td><td>MIA               </td><td>6                 </td><td>22.8              </td><td>3.7               </td><td> 8.5              </td><td>0.431             </td><td>0.3               </td><td>1.0               </td><td>⋯                 </td><td>0.600             </td><td>2.2               </td><td>1.7               </td><td>0.3               </td><td>1.7               </td><td> 2.0              </td><td> 3.8              </td><td>0.7               </td><td>0.8               </td><td> 8.2              </td></tr>\n",
       "\t<tr><td>318               </td><td>Dion Waiters      </td><td>MIA               </td><td>6                 </td><td>32.7              </td><td>6.8               </td><td>15.3              </td><td>0.446             </td><td>1.5               </td><td>5.7               </td><td>⋯                 </td><td>0.667             </td><td>2.3               </td><td>2.3               </td><td>0.2               </td><td>2.3               </td><td> 2.5              </td><td> 3.0              </td><td>1.3               </td><td>0.5               </td><td>16.5              </td></tr>\n",
       "\t<tr><td>319               </td><td>Kemba Walker      </td><td>CHA               </td><td>7                 </td><td>34.8              </td><td>7.4               </td><td>16.0              </td><td>0.464             </td><td>2.1               </td><td>5.6               </td><td>⋯                 </td><td>0.912             </td><td>2.6               </td><td>1.6               </td><td>0.6               </td><td>3.3               </td><td> 3.9              </td><td> 6.4              </td><td>0.9               </td><td>0.3               </td><td>24.4              </td></tr>\n",
       "\t<tr><td>320               </td><td>John Wall         </td><td>WAS               </td><td>6                 </td><td>35.1              </td><td>7.0               </td><td>17.8              </td><td>0.393             </td><td>1.5               </td><td>4.5               </td><td>⋯                 </td><td>0.822             </td><td>4.3               </td><td>1.5               </td><td>0.5               </td><td>2.2               </td><td> 2.7              </td><td>10.3              </td><td>1.0               </td><td>1.2               </td><td>21.7              </td></tr>\n",
       "\t<tr><td>321               </td><td>T.J. Warren       </td><td>PHX               </td><td>7                 </td><td>27.4              </td><td>6.0               </td><td>12.6              </td><td>0.477             </td><td>0.1               </td><td>1.1               </td><td>⋯                 </td><td>0.760             </td><td>1.7               </td><td>2.9               </td><td>1.4               </td><td>4.6               </td><td> 6.0              </td><td> 1.3              </td><td>0.7               </td><td>0.7               </td><td>14.9              </td></tr>\n",
       "\t<tr><td>322               </td><td>David West        </td><td>GSW               </td><td>8                 </td><td>11.6              </td><td>3.2               </td><td> 4.8              </td><td>0.684             </td><td>0.2               </td><td>0.4               </td><td>⋯                 </td><td>0.667             </td><td>1.1               </td><td>1.6               </td><td>1.5               </td><td>1.5               </td><td> 3.0              </td><td> 1.1              </td><td>0.6               </td><td>1.5               </td><td> 7.2              </td></tr>\n",
       "\t<tr><td>323               </td><td>Russell Westbrook </td><td>OKC               </td><td>7                 </td><td>33.2              </td><td>7.3               </td><td>15.4              </td><td>0.472             </td><td>1.3               </td><td>3.6               </td><td>⋯                 </td><td>0.619             </td><td>5.3               </td><td>2.6               </td><td>1.3               </td><td>8.6               </td><td> 9.9              </td><td>11.9              </td><td>1.3               </td><td>0.3               </td><td>19.6              </td></tr>\n",
       "\t<tr><td>324               </td><td>Andrew Wiggins    </td><td>MIN               </td><td>7                 </td><td>35.4              </td><td>6.9               </td><td>16.0              </td><td>0.429             </td><td>1.9               </td><td>5.1               </td><td>⋯                 </td><td>0.592             </td><td>2.0               </td><td>2.0               </td><td>1.4               </td><td>3.4               </td><td> 4.9              </td><td> 1.4              </td><td>1.1               </td><td>0.3               </td><td>19.7              </td></tr>\n",
       "\t<tr><td>325               </td><td>Damien Wilkins    </td><td>IND               </td><td>6                 </td><td> 6.9              </td><td>0.3               </td><td> 1.0              </td><td>0.333             </td><td>0.0               </td><td>0.7               </td><td>⋯                 </td><td>0.000             </td><td>0.3               </td><td>0.3               </td><td>0.0               </td><td>0.5               </td><td> 0.5              </td><td> 0.7              </td><td>0.2               </td><td>0.0               </td><td> 0.7              </td></tr>\n",
       "\t<tr><td>326               </td><td>Lou Williams      </td><td>LAC               </td><td>6                 </td><td>22.3              </td><td>4.3               </td><td>10.2              </td><td>0.426             </td><td>1.3               </td><td>4.0               </td><td>⋯                 </td><td>0.864             </td><td>1.5               </td><td>1.0               </td><td>0.3               </td><td>1.5               </td><td> 1.8              </td><td> 3.8              </td><td>0.5               </td><td>0.0               </td><td>13.2              </td></tr>\n",
       "\t<tr><td>327               </td><td>Marvin Williams   </td><td>CHA               </td><td>7                 </td><td>24.7              </td><td>2.7               </td><td> 6.3              </td><td>0.432             </td><td>1.1               </td><td>3.1               </td><td>⋯                 </td><td>0.571             </td><td>0.7               </td><td>1.4               </td><td>0.7               </td><td>3.6               </td><td> 4.3              </td><td> 1.1              </td><td>0.7               </td><td>0.4               </td><td> 7.1              </td></tr>\n",
       "\t<tr><td>328               </td><td>Justise Winslow   </td><td>MIA               </td><td>6                 </td><td>24.6              </td><td>3.5               </td><td> 6.8              </td><td>0.512             </td><td>0.2               </td><td>1.0               </td><td>⋯                 </td><td>0.500             </td><td>0.7               </td><td>2.3               </td><td>1.3               </td><td>4.7               </td><td> 6.0              </td><td> 1.5              </td><td>0.7               </td><td>0.5               </td><td> 7.3              </td></tr>\n",
       "\t<tr><td>329               </td><td>Brandan Wright    </td><td>HOU               </td><td>7                 </td><td>14.3              </td><td>2.1               </td><td> 3.7              </td><td>0.577             </td><td>0.0               </td><td>0.0               </td><td>⋯                 </td><td>0.600             </td><td>0.1               </td><td>1.0               </td><td>1.3               </td><td>2.4               </td><td> 3.7              </td><td> 0.0              </td><td>0.4               </td><td>0.7               </td><td> 4.7              </td></tr>\n",
       "\t<tr><td>330               </td><td>Delon Wright      </td><td>TOR               </td><td>6                 </td><td>23.9              </td><td>2.2               </td><td> 6.2              </td><td>0.351             </td><td>0.3               </td><td>3.2               </td><td>⋯                 </td><td>1.000             </td><td>1.5               </td><td>1.8               </td><td>0.7               </td><td>3.0               </td><td> 3.7              </td><td> 2.5              </td><td>0.7               </td><td>0.7               </td><td> 7.8              </td></tr>\n",
       "\t<tr><td>331               </td><td>Joe Young         </td><td>IND               </td><td>5                 </td><td> 5.4              </td><td>1.0               </td><td> 2.8              </td><td>0.357             </td><td>0.2               </td><td>1.0               </td><td>⋯                 </td><td>0.500             </td><td>0.2               </td><td>0.6               </td><td>0.2               </td><td>0.6               </td><td> 0.8              </td><td> 0.2              </td><td>0.0               </td><td>0.0               </td><td> 2.6              </td></tr>\n",
       "\t<tr><td>332               </td><td>Nick Young        </td><td>GSW               </td><td>7                 </td><td>12.7              </td><td>2.0               </td><td> 4.3              </td><td>0.467             </td><td>1.7               </td><td>3.6               </td><td>⋯                 </td><td>1.000             </td><td>0.4               </td><td>1.0               </td><td>0.4               </td><td>0.6               </td><td> 1.0              </td><td> 0.3              </td><td>0.1               </td><td>0.1               </td><td> 6.0              </td></tr>\n",
       "\t<tr><td>333               </td><td>Thaddeus Young    </td><td>IND               </td><td>7                 </td><td>31.8              </td><td>5.4               </td><td>11.7              </td><td>0.463             </td><td>1.1               </td><td>3.6               </td><td>⋯                 </td><td>0.625             </td><td>1.1               </td><td>2.0               </td><td>2.0               </td><td>4.1               </td><td> 6.1              </td><td> 1.0              </td><td>1.6               </td><td>0.7               </td><td>12.7              </td></tr>\n",
       "\t<tr><td>334               </td><td>Cody Zeller       </td><td>CHA               </td><td>3                 </td><td>20.3              </td><td>3.3               </td><td> 6.3              </td><td>0.526             </td><td>0.0               </td><td>0.0               </td><td>⋯                 </td><td>1.000             </td><td>1.7               </td><td>3.3               </td><td>2.3               </td><td>5.3               </td><td> 7.7              </td><td> 0.3              </td><td>0.0               </td><td>1.7               </td><td> 8.3              </td></tr>\n",
       "\t<tr><td>335               </td><td>Tyler Zeller      </td><td>MIL               </td><td>3                 </td><td>10.5              </td><td>2.0               </td><td> 4.7              </td><td>0.429             </td><td>0.0               </td><td>0.3               </td><td>⋯                 </td><td>0.000             </td><td>0.3               </td><td>1.3               </td><td>1.3               </td><td>2.0               </td><td> 3.3              </td><td> 0.3              </td><td>0.3               </td><td>0.0               </td><td> 4.0              </td></tr>\n",
       "\t<tr><td>336               </td><td>Paul Zipser       </td><td>CHI               </td><td>4                 </td><td>25.1              </td><td>2.5               </td><td> 6.8              </td><td>0.370             </td><td>0.8               </td><td>2.0               </td><td>⋯                 </td><td>1.000             </td><td>1.8               </td><td>2.2               </td><td>0.5               </td><td>4.2               </td><td> 4.8              </td><td> 2.0              </td><td>0.8               </td><td>0.0               </td><td> 6.0              </td></tr>\n",
       "</tbody>\n",
       "</table>\n"
      ],
      "text/latex": [
       "\\begin{tabular}{r|lllllllllllllllllllllll}\n",
       " \\# & Player & Team & GP & MPG & FGM & FGA & FG\\% & 3PM & 3PA & ⋯ & FT\\% & TOV & PF & ORB & DRB & RPG & APG & SPG & BPG & PPG\\\\\n",
       "\\hline\n",
       "\t  1                    & Alex Abrines          & OKC                   & 7                     & 19.3                  &  1.6                  &  4.4                  & 0.355                 & 0.9                   & 2.6                   & ⋯                     & 1.000                 & 0.7                   & 2.9                   & 0.4                   & 1.3                   &  1.7                  & 0.6                   & 1.0                   & 0.0                   &  4.3                 \\\\\n",
       "\t  2                    & Quincy Acy            & BRK                   & 6                     & 14.9                  &  2.0                  &  3.8                  & 0.522                 & 1.8                   & 3.5                   & ⋯                     & 0.000                 & 1.5                   & 2.5                   & 0.3                   & 3.0                   &  3.3                  & 0.2                   & 0.3                   & 0.0                   &  5.8                 \\\\\n",
       "\t  3                    & Steven Adams          & OKC                   & 7                     & 30.7                  &  6.4                  &  9.4                  & 0.682                 & 0.0                   & 0.0                   & ⋯                     & 0.733                 & 1.4                   & 1.7                   & 4.9                   & 3.9                   &  8.7                  & 1.4                   & 1.4                   & 1.3                   & 14.4                 \\\\\n",
       "\t  4                    & Bam Adebayo           & MIA                   & 4                     & 20.2                  &  2.2                  &  5.0                  & 0.450                 & 0.0                   & 0.0                   & ⋯                     & 0.625                 & 0.5                   & 2.8                   & 3.0                   & 3.0                   &  6.0                  & 0.0                   & 0.2                   & 0.5                   &  5.8                 \\\\\n",
       "\t  5                    & LaMarcus Aldridge     & SAS                   & 7                     & 34.0                  &  9.1                  & 18.4                  & 0.496                 & 0.6                   & 1.7                   & ⋯                     & 0.786                 & 1.6                   & 2.1                   & 3.4                   & 5.0                   &  8.4                  & 1.9                   & 0.7                   & 1.3                   & 23.6                 \\\\\n",
       "\t  6                    & Jarrett Allen         & BRK                   & 6                     & 15.0                  &  1.5                  &  3.7                  & 0.409                 & 0.0                   & 0.2                   & ⋯                     & 0.600                 & 0.5                   & 2.0                   & 1.0                   & 1.7                   &  2.7                  & 0.3                   & 1.0                   & 1.0                   &  4.0                 \\\\\n",
       "\t  7                    & Tony Allen            & NOP                   & 7                     & 10.7                  &  1.7                  &  3.6                  & 0.480                 & 0.1                   & 0.7                   & ⋯                     & 0.250                 & 1.0                   & 1.9                   & 0.6                   & 1.0                   &  1.6                  & 0.1                   & 0.6                   & 0.3                   &  3.7                 \\\\\n",
       "\t  8                    & Al-Farouq Aminu       & POR                   & 7                     & 30.0                  &  3.4                  &  7.7                  & 0.444                 & 1.6                   & 3.7                   & ⋯                     & 1.000                 & 0.9                   & 1.7                   & 1.6                   & 6.9                   &  8.4                  & 2.0                   & 1.0                   & 1.3                   &  9.6                 \\\\\n",
       "\t  9                    & Justin Anderson       & PHI                   & 5                     & 12.0                  &  1.6                  &  5.0                  & 0.320                 & 1.0                   & 3.0                   & ⋯                     & 0.500                 & 0.4                   & 1.8                   & 0.6                   & 1.2                   &  1.8                  & 0.2                   & 0.2                   & 0.2                   &  4.6                 \\\\\n",
       "\t 10                    & Kyle Anderson         & SAS                   & 7                     & 26.6                  &  3.1                  &  7.4                  & 0.423                 & 0.3                   & 0.7                   & ⋯                     & 0.643                 & 1.0                   & 1.3                   & 2.3                   & 4.9                   &  7.1                  & 1.9                   & 0.4                   & 0.6                   &  7.9                 \\\\\n",
       "\t 11                    & Ryan Anderson         & HOU                   & 8                     & 31.9                  &  4.1                  & 10.0                  & 0.412                 & 3.2                   & 8.4                   & ⋯                     & 0.778                 & 0.5                   & 1.9                   & 1.4                   & 4.4                   &  5.8                  & 0.6                   & 0.4                   & 0.6                   & 12.4                 \\\\\n",
       "\t 12                    & Giannis Antetokounmpo & MIL                   & 7                     & 37.4                  & 13.0                  & 20.6                  & 0.632                 & 0.9                   & 2.1                   & ⋯                     & 0.774                 & 3.3                   & 3.6                   & 1.4                   & 8.9                   & 10.3                  & 5.3                   & 1.7                   & 1.0                   & 33.7                 \\\\\n",
       "\t 13                    & Carmelo Anthony       & OKC                   & 7                     & 33.4                  &  8.4                  & 18.1                  & 0.465                 & 2.4                   & 7.0                   & ⋯                     & 0.806                 & 1.7                   & 3.1                   & 0.0                   & 4.4                   &  4.4                  & 1.6                   & 1.1                   & 1.1                   & 22.9                 \\\\\n",
       "\t 14                    & Ogugua Anunoby        & TOR                   & 6                     & 17.6                  &  2.2                  &  6.0                  & 0.361                 & 0.8                   & 3.2                   & ⋯                     & 0.800                 & 0.2                   & 1.7                   & 1.3                   & 1.2                   &  2.5                  & 1.3                   & 0.7                   & 0.0                   &  5.8                 \\\\\n",
       "\t 15                    & Trevor Ariza          & HOU                   & 6                     & 35.6                  &  1.8                  &  7.5                  & 0.244                 & 1.0                   & 5.3                   & ⋯                     & 1.000                 & 1.0                   & 2.5                   & 0.3                   & 4.2                   &  4.5                  & 3.3                   & 1.5                   & 0.2                   &  6.2                 \\\\\n",
       "\t 16                    & D.J. Augustin         & ORL                   & 7                     & 23.7                  &  2.6                  &  5.7                  & 0.450                 & 1.0                   & 2.6                   & ⋯                     & 0.857                 & 1.3                   & 2.0                   & 0.3                   & 1.9                   &  2.1                  & 5.4                   & 1.4                   & 0.0                   &  8.7                 \\\\\n",
       "\t 17                    & Luke Babbitt          & MIA                   & 7                     & 11.9                  &  1.4                  &  3.4                  & 0.417                 & 0.6                   & 2.3                   & ⋯                     & 1.000                 & 0.4                   & 1.3                   & 0.1                   & 1.3                   &  1.4                  & 0.1                   & 0.1                   & 0.0                   &  3.7                 \\\\\n",
       "\t 18                    & Dwayne Bacon          & CHA                   & 7                     & 23.6                  &  1.7                  &  5.6                  & 0.308                 & 0.7                   & 2.4                   & ⋯                     & 0.500                 & 1.0                   & 1.9                   & 0.0                   & 5.3                   &  5.3                  & 1.3                   & 0.3                   & 0.1                   &  4.4                 \\\\\n",
       "\t 19                    & Ron Baker             & NYK                   & 3                     & 15.9                  &  0.7                  &  2.3                  & 0.286                 & 0.7                   & 1.0                   & ⋯                     & 0.556                 & 2.0                   & 1.0                   & 0.0                   & 0.7                   &  0.7                  & 3.7                   & 1.3                   & 0.0                   &  3.7                 \\\\\n",
       "\t 20                    & Lonzo Ball            & LAL                   & 7                     & 34.0                  &  4.1                  & 12.4                  & 0.333                 & 1.4                   & 5.0                   & ⋯                     & 0.556                 & 3.0                   & 1.6                   & 1.1                   & 6.1                   &  7.3                  & 7.0                   & 1.1                   & 0.6                   & 10.4                 \\\\\n",
       "\t 21                    & J.J. Barea            & DAL                   & 8                     & 23.3                  &  5.1                  & 11.4                  & 0.451                 & 2.4                   & 5.2                   & ⋯                     & 0.667                 & 2.5                   & 1.4                   & 0.4                   & 2.8                   &  3.1                  & 4.6                   & 0.5                   & 0.1                   & 13.6                 \\\\\n",
       "\t 22                    & Harrison Barnes       & DAL                   & 8                     & 35.3                  &  5.9                  & 15.5                  & 0.379                 & 1.5                   & 4.6                   & ⋯                     & 0.750                 & 1.6                   & 0.9                   & 1.4                   & 5.0                   &  6.4                  & 1.8                   & 0.5                   & 0.0                   & 16.6                 \\\\\n",
       "\t 23                    & Will Barton           & DEN                   & 7                     & 27.6                  &  5.4                  & 12.0                  & 0.452                 & 1.9                   & 4.7                   & ⋯                     & 0.533                 & 1.4                   & 2.3                   & 1.0                   & 3.9                   &  4.9                  & 2.7                   & 1.0                   & 0.1                   & 13.9                 \\\\\n",
       "\t 24                    & Jerryd Bayless        & PHI                   & 7                     & 31.4                  &  4.0                  &  8.6                  & 0.467                 & 2.4                   & 5.3                   & ⋯                     & 0.800                 & 1.7                   & 2.9                   & 0.1                   & 2.7                   &  2.9                  & 1.9                   & 0.7                   & 0.0                   & 11.6                 \\\\\n",
       "\t 25                    & Aron Baynes           & BOS                   & 7                     & 19.4                  &  2.6                  &  4.4                  & 0.581                 & 0.0                   & 0.0                   & ⋯                     & 0.733                 & 1.0                   & 3.0                   & 1.9                   & 3.3                   &  5.1                  & 1.0                   & 0.4                   & 1.0                   &  6.7                 \\\\\n",
       "\t 26                    & Kent Bazemore         & ATL                   & 7                     & 29.4                  &  4.3                  & 11.7                  & 0.366                 & 1.0                   & 3.1                   & ⋯                     & 0.893                 & 2.7                   & 2.0                   & 0.6                   & 3.0                   &  3.6                  & 3.6                   & 1.7                   & 0.6                   & 13.1                 \\\\\n",
       "\t 27                    & Bradley Beal          & WAS                   & 6                     & 32.3                  &  7.0                  & 15.5                  & 0.452                 & 1.0                   & 4.0                   & ⋯                     & 0.794                 & 2.0                   & 1.7                   & 1.2                   & 3.3                   &  4.5                  & 3.0                   & 1.3                   & 0.8                   & 19.5                 \\\\\n",
       "\t 28                    & Malik Beasley         & DEN                   & 7                     &  7.0                  &  0.7                  &  1.4                  & 0.500                 & 0.3                   & 0.6                   & ⋯                     & 0.000                 & 0.1                   & 0.7                   & 0.1                   & 0.7                   &  0.9                  & 0.4                   & 0.1                   & 0.0                   &  1.7                 \\\\\n",
       "\t 29                    & Michael Beasley       & NYK                   & 5                     & 12.1                  &  1.8                  &  4.4                  & 0.409                 & 0.0                   & 0.8                   & ⋯                     & 0.571                 & 1.2                   & 0.8                   & 0.2                   & 2.0                   &  2.2                  & 0.8                   & 0.2                   & 0.0                   &  4.4                 \\\\\n",
       "\t 30                    & Marco Belinelli       & PHI                   & 7                     & 27.2                  &  4.9                  & 10.7                  & 0.453                 & 3.1                   & 5.7                   & ⋯                     & 1.000                 & 1.7                   & 1.0                   & 0.1                   & 2.4                   &  2.6                  & 2.6                   & 1.0                   & 0.0                   & 14.6                 \\\\\n",
       "\t ⋮ & ⋮ & ⋮ & ⋮ & ⋮ & ⋮ & ⋮ & ⋮ & ⋮ & ⋮ & ⋱ & ⋮ & ⋮ & ⋮ & ⋮ & ⋮ & ⋮ & ⋮ & ⋮ & ⋮ & ⋮\\\\\n",
       "\t 307                & Karl-Anthony Towns & MIN                & 7                  & 34.9               & 9.3                & 16.0               & 0.580              & 1.3                & 3.4                & ⋯                  & 0.882              & 2.0                & 3.7                & 2.7                & 9.1                & 11.9               &  1.0               & 0.6                & 2.0                & 24.1              \\\\\n",
       "\t 308                & P.J. Tucker        & HOU                & 8                  & 30.1               & 2.0                &  5.9               & 0.340              & 1.6                & 4.5                & ⋯                  & 0.700              & 1.5                & 3.1                & 1.2                & 4.6                &  5.9               &  1.1               & 1.2                & 0.2                &  6.5              \\\\\n",
       "\t 309                & Evan Turner        & POR                & 7                  & 27.5               & 3.7                &  8.1               & 0.456              & 0.7                & 2.3                & ⋯                  & 0.824              & 1.7                & 3.3                & 0.9                & 3.3                &  4.1               &  3.3               & 0.7                & 1.0                & 10.1              \\\\\n",
       "\t 310                & Ekpe Udoh          & UTA                & 7                  & 14.2               & 0.3                &  1.4               & 0.200              & 0.0                & 0.0                & ⋯                  & 0.571              & 0.4                & 1.9                & 1.3                & 1.3                &  2.6               &  1.3               & 0.3                & 1.9                &  1.1              \\\\\n",
       "\t 311                & Tyler Ulis         & PHX                & 6                  & 18.3               & 3.2                &  7.2               & 0.442              & 0.2                & 1.2                & ⋯                  & 0.778              & 1.3                & 1.2                & 0.2                & 0.8                &  1.0               &  2.8               & 1.3                & 0.0                &  7.7              \\\\\n",
       "\t 312                & Jonas Valanciunas  & TOR                & 2                  & 22.8               & 5.5                & 10.5               & 0.524              & 0.0                & 0.5                & ⋯                  & 0.750              & 0.5                & 3.0                & 4.0                & 5.5                &  9.5               &  1.0               & 1.0                & 0.0                & 14.0              \\\\\n",
       "\t 313                & Denzel Valentine   & CHI                & 5                  & 27.2               & 3.4                & 10.6               & 0.321              & 2.2                & 5.6                & ⋯                  & 1.000              & 1.4                & 1.4                & 0.8                & 5.0                &  5.8               &  1.6               & 0.6                & 0.0                &  9.6              \\\\\n",
       "\t 314                & Fred VanVleet      & TOR                & 6                  & 11.6               & 1.0                &  4.0               & 0.250              & 0.3                & 1.5                & ⋯                  & 1.000              & 1.0                & 1.3                & 0.0                & 0.5                &  0.5               &  2.0               & 0.5                & 0.2                &  2.7              \\\\\n",
       "\t 315                & Rashad Vaughn      & ORL                & 4                  & 10.9               & 2.0                &  4.0               & 0.500              & 1.2                & 2.5                & ⋯                  & 0.000              & 0.2                & 0.8                & 0.0                & 0.8                &  0.8               &  0.8               & 0.5                & 0.0                &  5.2              \\\\\n",
       "\t 316                & Nikola Vucevic     & ORL                & 7                  & 30.6               & 8.7                & 15.7               & 0.555              & 1.9                & 4.6                & ⋯                  & 0.714              & 1.4                & 2.3                & 1.0                & 7.6                &  8.6               &  2.7               & 0.6                & 1.4                & 20.7              \\\\\n",
       "\t 317                & Dwyane Wade        & MIA                & 6                  & 22.8               & 3.7                &  8.5               & 0.431              & 0.3                & 1.0                & ⋯                  & 0.600              & 2.2                & 1.7                & 0.3                & 1.7                &  2.0               &  3.8               & 0.7                & 0.8                &  8.2              \\\\\n",
       "\t 318                & Dion Waiters       & MIA                & 6                  & 32.7               & 6.8                & 15.3               & 0.446              & 1.5                & 5.7                & ⋯                  & 0.667              & 2.3                & 2.3                & 0.2                & 2.3                &  2.5               &  3.0               & 1.3                & 0.5                & 16.5              \\\\\n",
       "\t 319                & Kemba Walker       & CHA                & 7                  & 34.8               & 7.4                & 16.0               & 0.464              & 2.1                & 5.6                & ⋯                  & 0.912              & 2.6                & 1.6                & 0.6                & 3.3                &  3.9               &  6.4               & 0.9                & 0.3                & 24.4              \\\\\n",
       "\t 320                & John Wall          & WAS                & 6                  & 35.1               & 7.0                & 17.8               & 0.393              & 1.5                & 4.5                & ⋯                  & 0.822              & 4.3                & 1.5                & 0.5                & 2.2                &  2.7               & 10.3               & 1.0                & 1.2                & 21.7              \\\\\n",
       "\t 321                & T.J. Warren        & PHX                & 7                  & 27.4               & 6.0                & 12.6               & 0.477              & 0.1                & 1.1                & ⋯                  & 0.760              & 1.7                & 2.9                & 1.4                & 4.6                &  6.0               &  1.3               & 0.7                & 0.7                & 14.9              \\\\\n",
       "\t 322                & David West         & GSW                & 8                  & 11.6               & 3.2                &  4.8               & 0.684              & 0.2                & 0.4                & ⋯                  & 0.667              & 1.1                & 1.6                & 1.5                & 1.5                &  3.0               &  1.1               & 0.6                & 1.5                &  7.2              \\\\\n",
       "\t 323                & Russell Westbrook  & OKC                & 7                  & 33.2               & 7.3                & 15.4               & 0.472              & 1.3                & 3.6                & ⋯                  & 0.619              & 5.3                & 2.6                & 1.3                & 8.6                &  9.9               & 11.9               & 1.3                & 0.3                & 19.6              \\\\\n",
       "\t 324                & Andrew Wiggins     & MIN                & 7                  & 35.4               & 6.9                & 16.0               & 0.429              & 1.9                & 5.1                & ⋯                  & 0.592              & 2.0                & 2.0                & 1.4                & 3.4                &  4.9               &  1.4               & 1.1                & 0.3                & 19.7              \\\\\n",
       "\t 325                & Damien Wilkins     & IND                & 6                  &  6.9               & 0.3                &  1.0               & 0.333              & 0.0                & 0.7                & ⋯                  & 0.000              & 0.3                & 0.3                & 0.0                & 0.5                &  0.5               &  0.7               & 0.2                & 0.0                &  0.7              \\\\\n",
       "\t 326                & Lou Williams       & LAC                & 6                  & 22.3               & 4.3                & 10.2               & 0.426              & 1.3                & 4.0                & ⋯                  & 0.864              & 1.5                & 1.0                & 0.3                & 1.5                &  1.8               &  3.8               & 0.5                & 0.0                & 13.2              \\\\\n",
       "\t 327                & Marvin Williams    & CHA                & 7                  & 24.7               & 2.7                &  6.3               & 0.432              & 1.1                & 3.1                & ⋯                  & 0.571              & 0.7                & 1.4                & 0.7                & 3.6                &  4.3               &  1.1               & 0.7                & 0.4                &  7.1              \\\\\n",
       "\t 328                & Justise Winslow    & MIA                & 6                  & 24.6               & 3.5                &  6.8               & 0.512              & 0.2                & 1.0                & ⋯                  & 0.500              & 0.7                & 2.3                & 1.3                & 4.7                &  6.0               &  1.5               & 0.7                & 0.5                &  7.3              \\\\\n",
       "\t 329                & Brandan Wright     & HOU                & 7                  & 14.3               & 2.1                &  3.7               & 0.577              & 0.0                & 0.0                & ⋯                  & 0.600              & 0.1                & 1.0                & 1.3                & 2.4                &  3.7               &  0.0               & 0.4                & 0.7                &  4.7              \\\\\n",
       "\t 330                & Delon Wright       & TOR                & 6                  & 23.9               & 2.2                &  6.2               & 0.351              & 0.3                & 3.2                & ⋯                  & 1.000              & 1.5                & 1.8                & 0.7                & 3.0                &  3.7               &  2.5               & 0.7                & 0.7                &  7.8              \\\\\n",
       "\t 331                & Joe Young          & IND                & 5                  &  5.4               & 1.0                &  2.8               & 0.357              & 0.2                & 1.0                & ⋯                  & 0.500              & 0.2                & 0.6                & 0.2                & 0.6                &  0.8               &  0.2               & 0.0                & 0.0                &  2.6              \\\\\n",
       "\t 332                & Nick Young         & GSW                & 7                  & 12.7               & 2.0                &  4.3               & 0.467              & 1.7                & 3.6                & ⋯                  & 1.000              & 0.4                & 1.0                & 0.4                & 0.6                &  1.0               &  0.3               & 0.1                & 0.1                &  6.0              \\\\\n",
       "\t 333                & Thaddeus Young     & IND                & 7                  & 31.8               & 5.4                & 11.7               & 0.463              & 1.1                & 3.6                & ⋯                  & 0.625              & 1.1                & 2.0                & 2.0                & 4.1                &  6.1               &  1.0               & 1.6                & 0.7                & 12.7              \\\\\n",
       "\t 334                & Cody Zeller        & CHA                & 3                  & 20.3               & 3.3                &  6.3               & 0.526              & 0.0                & 0.0                & ⋯                  & 1.000              & 1.7                & 3.3                & 2.3                & 5.3                &  7.7               &  0.3               & 0.0                & 1.7                &  8.3              \\\\\n",
       "\t 335                & Tyler Zeller       & MIL                & 3                  & 10.5               & 2.0                &  4.7               & 0.429              & 0.0                & 0.3                & ⋯                  & 0.000              & 0.3                & 1.3                & 1.3                & 2.0                &  3.3               &  0.3               & 0.3                & 0.0                &  4.0              \\\\\n",
       "\t 336                & Paul Zipser        & CHI                & 4                  & 25.1               & 2.5                &  6.8               & 0.370              & 0.8                & 2.0                & ⋯                  & 1.000              & 1.8                & 2.2                & 0.5                & 4.2                &  4.8               &  2.0               & 0.8                & 0.0                &  6.0              \\\\\n",
       "\\end{tabular}\n"
      ],
      "text/markdown": [
       "\n",
       "# | Player | Team | GP | MPG | FGM | FGA | FG% | 3PM | 3PA | ⋯ | FT% | TOV | PF | ORB | DRB | RPG | APG | SPG | BPG | PPG | \n",
       "|---|---|---|---|---|---|---|---|---|---|---|---|---|---|---|---|---|---|---|---|---|---|---|---|---|---|---|---|---|---|---|---|---|---|---|---|---|---|---|---|---|---|---|---|---|---|---|---|---|---|---|---|---|---|---|---|---|---|---|---|---|\n",
       "|  1                    | Alex Abrines          | OKC                   | 7                     | 19.3                  |  1.6                  |  4.4                  | 0.355                 | 0.9                   | 2.6                   | ⋯                     | 1.000                 | 0.7                   | 2.9                   | 0.4                   | 1.3                   |  1.7                  | 0.6                   | 1.0                   | 0.0                   |  4.3                  | \n",
       "|  2                    | Quincy Acy            | BRK                   | 6                     | 14.9                  |  2.0                  |  3.8                  | 0.522                 | 1.8                   | 3.5                   | ⋯                     | 0.000                 | 1.5                   | 2.5                   | 0.3                   | 3.0                   |  3.3                  | 0.2                   | 0.3                   | 0.0                   |  5.8                  | \n",
       "|  3                    | Steven Adams          | OKC                   | 7                     | 30.7                  |  6.4                  |  9.4                  | 0.682                 | 0.0                   | 0.0                   | ⋯                     | 0.733                 | 1.4                   | 1.7                   | 4.9                   | 3.9                   |  8.7                  | 1.4                   | 1.4                   | 1.3                   | 14.4                  | \n",
       "|  4                    | Bam Adebayo           | MIA                   | 4                     | 20.2                  |  2.2                  |  5.0                  | 0.450                 | 0.0                   | 0.0                   | ⋯                     | 0.625                 | 0.5                   | 2.8                   | 3.0                   | 3.0                   |  6.0                  | 0.0                   | 0.2                   | 0.5                   |  5.8                  | \n",
       "|  5                    | LaMarcus Aldridge     | SAS                   | 7                     | 34.0                  |  9.1                  | 18.4                  | 0.496                 | 0.6                   | 1.7                   | ⋯                     | 0.786                 | 1.6                   | 2.1                   | 3.4                   | 5.0                   |  8.4                  | 1.9                   | 0.7                   | 1.3                   | 23.6                  | \n",
       "|  6                    | Jarrett Allen         | BRK                   | 6                     | 15.0                  |  1.5                  |  3.7                  | 0.409                 | 0.0                   | 0.2                   | ⋯                     | 0.600                 | 0.5                   | 2.0                   | 1.0                   | 1.7                   |  2.7                  | 0.3                   | 1.0                   | 1.0                   |  4.0                  | \n",
       "|  7                    | Tony Allen            | NOP                   | 7                     | 10.7                  |  1.7                  |  3.6                  | 0.480                 | 0.1                   | 0.7                   | ⋯                     | 0.250                 | 1.0                   | 1.9                   | 0.6                   | 1.0                   |  1.6                  | 0.1                   | 0.6                   | 0.3                   |  3.7                  | \n",
       "|  8                    | Al-Farouq Aminu       | POR                   | 7                     | 30.0                  |  3.4                  |  7.7                  | 0.444                 | 1.6                   | 3.7                   | ⋯                     | 1.000                 | 0.9                   | 1.7                   | 1.6                   | 6.9                   |  8.4                  | 2.0                   | 1.0                   | 1.3                   |  9.6                  | \n",
       "|  9                    | Justin Anderson       | PHI                   | 5                     | 12.0                  |  1.6                  |  5.0                  | 0.320                 | 1.0                   | 3.0                   | ⋯                     | 0.500                 | 0.4                   | 1.8                   | 0.6                   | 1.2                   |  1.8                  | 0.2                   | 0.2                   | 0.2                   |  4.6                  | \n",
       "| 10                    | Kyle Anderson         | SAS                   | 7                     | 26.6                  |  3.1                  |  7.4                  | 0.423                 | 0.3                   | 0.7                   | ⋯                     | 0.643                 | 1.0                   | 1.3                   | 2.3                   | 4.9                   |  7.1                  | 1.9                   | 0.4                   | 0.6                   |  7.9                  | \n",
       "| 11                    | Ryan Anderson         | HOU                   | 8                     | 31.9                  |  4.1                  | 10.0                  | 0.412                 | 3.2                   | 8.4                   | ⋯                     | 0.778                 | 0.5                   | 1.9                   | 1.4                   | 4.4                   |  5.8                  | 0.6                   | 0.4                   | 0.6                   | 12.4                  | \n",
       "| 12                    | Giannis Antetokounmpo | MIL                   | 7                     | 37.4                  | 13.0                  | 20.6                  | 0.632                 | 0.9                   | 2.1                   | ⋯                     | 0.774                 | 3.3                   | 3.6                   | 1.4                   | 8.9                   | 10.3                  | 5.3                   | 1.7                   | 1.0                   | 33.7                  | \n",
       "| 13                    | Carmelo Anthony       | OKC                   | 7                     | 33.4                  |  8.4                  | 18.1                  | 0.465                 | 2.4                   | 7.0                   | ⋯                     | 0.806                 | 1.7                   | 3.1                   | 0.0                   | 4.4                   |  4.4                  | 1.6                   | 1.1                   | 1.1                   | 22.9                  | \n",
       "| 14                    | Ogugua Anunoby        | TOR                   | 6                     | 17.6                  |  2.2                  |  6.0                  | 0.361                 | 0.8                   | 3.2                   | ⋯                     | 0.800                 | 0.2                   | 1.7                   | 1.3                   | 1.2                   |  2.5                  | 1.3                   | 0.7                   | 0.0                   |  5.8                  | \n",
       "| 15                    | Trevor Ariza          | HOU                   | 6                     | 35.6                  |  1.8                  |  7.5                  | 0.244                 | 1.0                   | 5.3                   | ⋯                     | 1.000                 | 1.0                   | 2.5                   | 0.3                   | 4.2                   |  4.5                  | 3.3                   | 1.5                   | 0.2                   |  6.2                  | \n",
       "| 16                    | D.J. Augustin         | ORL                   | 7                     | 23.7                  |  2.6                  |  5.7                  | 0.450                 | 1.0                   | 2.6                   | ⋯                     | 0.857                 | 1.3                   | 2.0                   | 0.3                   | 1.9                   |  2.1                  | 5.4                   | 1.4                   | 0.0                   |  8.7                  | \n",
       "| 17                    | Luke Babbitt          | MIA                   | 7                     | 11.9                  |  1.4                  |  3.4                  | 0.417                 | 0.6                   | 2.3                   | ⋯                     | 1.000                 | 0.4                   | 1.3                   | 0.1                   | 1.3                   |  1.4                  | 0.1                   | 0.1                   | 0.0                   |  3.7                  | \n",
       "| 18                    | Dwayne Bacon          | CHA                   | 7                     | 23.6                  |  1.7                  |  5.6                  | 0.308                 | 0.7                   | 2.4                   | ⋯                     | 0.500                 | 1.0                   | 1.9                   | 0.0                   | 5.3                   |  5.3                  | 1.3                   | 0.3                   | 0.1                   |  4.4                  | \n",
       "| 19                    | Ron Baker             | NYK                   | 3                     | 15.9                  |  0.7                  |  2.3                  | 0.286                 | 0.7                   | 1.0                   | ⋯                     | 0.556                 | 2.0                   | 1.0                   | 0.0                   | 0.7                   |  0.7                  | 3.7                   | 1.3                   | 0.0                   |  3.7                  | \n",
       "| 20                    | Lonzo Ball            | LAL                   | 7                     | 34.0                  |  4.1                  | 12.4                  | 0.333                 | 1.4                   | 5.0                   | ⋯                     | 0.556                 | 3.0                   | 1.6                   | 1.1                   | 6.1                   |  7.3                  | 7.0                   | 1.1                   | 0.6                   | 10.4                  | \n",
       "| 21                    | J.J. Barea            | DAL                   | 8                     | 23.3                  |  5.1                  | 11.4                  | 0.451                 | 2.4                   | 5.2                   | ⋯                     | 0.667                 | 2.5                   | 1.4                   | 0.4                   | 2.8                   |  3.1                  | 4.6                   | 0.5                   | 0.1                   | 13.6                  | \n",
       "| 22                    | Harrison Barnes       | DAL                   | 8                     | 35.3                  |  5.9                  | 15.5                  | 0.379                 | 1.5                   | 4.6                   | ⋯                     | 0.750                 | 1.6                   | 0.9                   | 1.4                   | 5.0                   |  6.4                  | 1.8                   | 0.5                   | 0.0                   | 16.6                  | \n",
       "| 23                    | Will Barton           | DEN                   | 7                     | 27.6                  |  5.4                  | 12.0                  | 0.452                 | 1.9                   | 4.7                   | ⋯                     | 0.533                 | 1.4                   | 2.3                   | 1.0                   | 3.9                   |  4.9                  | 2.7                   | 1.0                   | 0.1                   | 13.9                  | \n",
       "| 24                    | Jerryd Bayless        | PHI                   | 7                     | 31.4                  |  4.0                  |  8.6                  | 0.467                 | 2.4                   | 5.3                   | ⋯                     | 0.800                 | 1.7                   | 2.9                   | 0.1                   | 2.7                   |  2.9                  | 1.9                   | 0.7                   | 0.0                   | 11.6                  | \n",
       "| 25                    | Aron Baynes           | BOS                   | 7                     | 19.4                  |  2.6                  |  4.4                  | 0.581                 | 0.0                   | 0.0                   | ⋯                     | 0.733                 | 1.0                   | 3.0                   | 1.9                   | 3.3                   |  5.1                  | 1.0                   | 0.4                   | 1.0                   |  6.7                  | \n",
       "| 26                    | Kent Bazemore         | ATL                   | 7                     | 29.4                  |  4.3                  | 11.7                  | 0.366                 | 1.0                   | 3.1                   | ⋯                     | 0.893                 | 2.7                   | 2.0                   | 0.6                   | 3.0                   |  3.6                  | 3.6                   | 1.7                   | 0.6                   | 13.1                  | \n",
       "| 27                    | Bradley Beal          | WAS                   | 6                     | 32.3                  |  7.0                  | 15.5                  | 0.452                 | 1.0                   | 4.0                   | ⋯                     | 0.794                 | 2.0                   | 1.7                   | 1.2                   | 3.3                   |  4.5                  | 3.0                   | 1.3                   | 0.8                   | 19.5                  | \n",
       "| 28                    | Malik Beasley         | DEN                   | 7                     |  7.0                  |  0.7                  |  1.4                  | 0.500                 | 0.3                   | 0.6                   | ⋯                     | 0.000                 | 0.1                   | 0.7                   | 0.1                   | 0.7                   |  0.9                  | 0.4                   | 0.1                   | 0.0                   |  1.7                  | \n",
       "| 29                    | Michael Beasley       | NYK                   | 5                     | 12.1                  |  1.8                  |  4.4                  | 0.409                 | 0.0                   | 0.8                   | ⋯                     | 0.571                 | 1.2                   | 0.8                   | 0.2                   | 2.0                   |  2.2                  | 0.8                   | 0.2                   | 0.0                   |  4.4                  | \n",
       "| 30                    | Marco Belinelli       | PHI                   | 7                     | 27.2                  |  4.9                  | 10.7                  | 0.453                 | 3.1                   | 5.7                   | ⋯                     | 1.000                 | 1.7                   | 1.0                   | 0.1                   | 2.4                   |  2.6                  | 2.6                   | 1.0                   | 0.0                   | 14.6                  | \n",
       "| ⋮ | ⋮ | ⋮ | ⋮ | ⋮ | ⋮ | ⋮ | ⋮ | ⋮ | ⋮ | ⋱ | ⋮ | ⋮ | ⋮ | ⋮ | ⋮ | ⋮ | ⋮ | ⋮ | ⋮ | ⋮ | \n",
       "| 307                | Karl-Anthony Towns | MIN                | 7                  | 34.9               | 9.3                | 16.0               | 0.580              | 1.3                | 3.4                | ⋯                  | 0.882              | 2.0                | 3.7                | 2.7                | 9.1                | 11.9               |  1.0               | 0.6                | 2.0                | 24.1               | \n",
       "| 308                | P.J. Tucker        | HOU                | 8                  | 30.1               | 2.0                |  5.9               | 0.340              | 1.6                | 4.5                | ⋯                  | 0.700              | 1.5                | 3.1                | 1.2                | 4.6                |  5.9               |  1.1               | 1.2                | 0.2                |  6.5               | \n",
       "| 309                | Evan Turner        | POR                | 7                  | 27.5               | 3.7                |  8.1               | 0.456              | 0.7                | 2.3                | ⋯                  | 0.824              | 1.7                | 3.3                | 0.9                | 3.3                |  4.1               |  3.3               | 0.7                | 1.0                | 10.1               | \n",
       "| 310                | Ekpe Udoh          | UTA                | 7                  | 14.2               | 0.3                |  1.4               | 0.200              | 0.0                | 0.0                | ⋯                  | 0.571              | 0.4                | 1.9                | 1.3                | 1.3                |  2.6               |  1.3               | 0.3                | 1.9                |  1.1               | \n",
       "| 311                | Tyler Ulis         | PHX                | 6                  | 18.3               | 3.2                |  7.2               | 0.442              | 0.2                | 1.2                | ⋯                  | 0.778              | 1.3                | 1.2                | 0.2                | 0.8                |  1.0               |  2.8               | 1.3                | 0.0                |  7.7               | \n",
       "| 312                | Jonas Valanciunas  | TOR                | 2                  | 22.8               | 5.5                | 10.5               | 0.524              | 0.0                | 0.5                | ⋯                  | 0.750              | 0.5                | 3.0                | 4.0                | 5.5                |  9.5               |  1.0               | 1.0                | 0.0                | 14.0               | \n",
       "| 313                | Denzel Valentine   | CHI                | 5                  | 27.2               | 3.4                | 10.6               | 0.321              | 2.2                | 5.6                | ⋯                  | 1.000              | 1.4                | 1.4                | 0.8                | 5.0                |  5.8               |  1.6               | 0.6                | 0.0                |  9.6               | \n",
       "| 314                | Fred VanVleet      | TOR                | 6                  | 11.6               | 1.0                |  4.0               | 0.250              | 0.3                | 1.5                | ⋯                  | 1.000              | 1.0                | 1.3                | 0.0                | 0.5                |  0.5               |  2.0               | 0.5                | 0.2                |  2.7               | \n",
       "| 315                | Rashad Vaughn      | ORL                | 4                  | 10.9               | 2.0                |  4.0               | 0.500              | 1.2                | 2.5                | ⋯                  | 0.000              | 0.2                | 0.8                | 0.0                | 0.8                |  0.8               |  0.8               | 0.5                | 0.0                |  5.2               | \n",
       "| 316                | Nikola Vucevic     | ORL                | 7                  | 30.6               | 8.7                | 15.7               | 0.555              | 1.9                | 4.6                | ⋯                  | 0.714              | 1.4                | 2.3                | 1.0                | 7.6                |  8.6               |  2.7               | 0.6                | 1.4                | 20.7               | \n",
       "| 317                | Dwyane Wade        | MIA                | 6                  | 22.8               | 3.7                |  8.5               | 0.431              | 0.3                | 1.0                | ⋯                  | 0.600              | 2.2                | 1.7                | 0.3                | 1.7                |  2.0               |  3.8               | 0.7                | 0.8                |  8.2               | \n",
       "| 318                | Dion Waiters       | MIA                | 6                  | 32.7               | 6.8                | 15.3               | 0.446              | 1.5                | 5.7                | ⋯                  | 0.667              | 2.3                | 2.3                | 0.2                | 2.3                |  2.5               |  3.0               | 1.3                | 0.5                | 16.5               | \n",
       "| 319                | Kemba Walker       | CHA                | 7                  | 34.8               | 7.4                | 16.0               | 0.464              | 2.1                | 5.6                | ⋯                  | 0.912              | 2.6                | 1.6                | 0.6                | 3.3                |  3.9               |  6.4               | 0.9                | 0.3                | 24.4               | \n",
       "| 320                | John Wall          | WAS                | 6                  | 35.1               | 7.0                | 17.8               | 0.393              | 1.5                | 4.5                | ⋯                  | 0.822              | 4.3                | 1.5                | 0.5                | 2.2                |  2.7               | 10.3               | 1.0                | 1.2                | 21.7               | \n",
       "| 321                | T.J. Warren        | PHX                | 7                  | 27.4               | 6.0                | 12.6               | 0.477              | 0.1                | 1.1                | ⋯                  | 0.760              | 1.7                | 2.9                | 1.4                | 4.6                |  6.0               |  1.3               | 0.7                | 0.7                | 14.9               | \n",
       "| 322                | David West         | GSW                | 8                  | 11.6               | 3.2                |  4.8               | 0.684              | 0.2                | 0.4                | ⋯                  | 0.667              | 1.1                | 1.6                | 1.5                | 1.5                |  3.0               |  1.1               | 0.6                | 1.5                |  7.2               | \n",
       "| 323                | Russell Westbrook  | OKC                | 7                  | 33.2               | 7.3                | 15.4               | 0.472              | 1.3                | 3.6                | ⋯                  | 0.619              | 5.3                | 2.6                | 1.3                | 8.6                |  9.9               | 11.9               | 1.3                | 0.3                | 19.6               | \n",
       "| 324                | Andrew Wiggins     | MIN                | 7                  | 35.4               | 6.9                | 16.0               | 0.429              | 1.9                | 5.1                | ⋯                  | 0.592              | 2.0                | 2.0                | 1.4                | 3.4                |  4.9               |  1.4               | 1.1                | 0.3                | 19.7               | \n",
       "| 325                | Damien Wilkins     | IND                | 6                  |  6.9               | 0.3                |  1.0               | 0.333              | 0.0                | 0.7                | ⋯                  | 0.000              | 0.3                | 0.3                | 0.0                | 0.5                |  0.5               |  0.7               | 0.2                | 0.0                |  0.7               | \n",
       "| 326                | Lou Williams       | LAC                | 6                  | 22.3               | 4.3                | 10.2               | 0.426              | 1.3                | 4.0                | ⋯                  | 0.864              | 1.5                | 1.0                | 0.3                | 1.5                |  1.8               |  3.8               | 0.5                | 0.0                | 13.2               | \n",
       "| 327                | Marvin Williams    | CHA                | 7                  | 24.7               | 2.7                |  6.3               | 0.432              | 1.1                | 3.1                | ⋯                  | 0.571              | 0.7                | 1.4                | 0.7                | 3.6                |  4.3               |  1.1               | 0.7                | 0.4                |  7.1               | \n",
       "| 328                | Justise Winslow    | MIA                | 6                  | 24.6               | 3.5                |  6.8               | 0.512              | 0.2                | 1.0                | ⋯                  | 0.500              | 0.7                | 2.3                | 1.3                | 4.7                |  6.0               |  1.5               | 0.7                | 0.5                |  7.3               | \n",
       "| 329                | Brandan Wright     | HOU                | 7                  | 14.3               | 2.1                |  3.7               | 0.577              | 0.0                | 0.0                | ⋯                  | 0.600              | 0.1                | 1.0                | 1.3                | 2.4                |  3.7               |  0.0               | 0.4                | 0.7                |  4.7               | \n",
       "| 330                | Delon Wright       | TOR                | 6                  | 23.9               | 2.2                |  6.2               | 0.351              | 0.3                | 3.2                | ⋯                  | 1.000              | 1.5                | 1.8                | 0.7                | 3.0                |  3.7               |  2.5               | 0.7                | 0.7                |  7.8               | \n",
       "| 331                | Joe Young          | IND                | 5                  |  5.4               | 1.0                |  2.8               | 0.357              | 0.2                | 1.0                | ⋯                  | 0.500              | 0.2                | 0.6                | 0.2                | 0.6                |  0.8               |  0.2               | 0.0                | 0.0                |  2.6               | \n",
       "| 332                | Nick Young         | GSW                | 7                  | 12.7               | 2.0                |  4.3               | 0.467              | 1.7                | 3.6                | ⋯                  | 1.000              | 0.4                | 1.0                | 0.4                | 0.6                |  1.0               |  0.3               | 0.1                | 0.1                |  6.0               | \n",
       "| 333                | Thaddeus Young     | IND                | 7                  | 31.8               | 5.4                | 11.7               | 0.463              | 1.1                | 3.6                | ⋯                  | 0.625              | 1.1                | 2.0                | 2.0                | 4.1                |  6.1               |  1.0               | 1.6                | 0.7                | 12.7               | \n",
       "| 334                | Cody Zeller        | CHA                | 3                  | 20.3               | 3.3                |  6.3               | 0.526              | 0.0                | 0.0                | ⋯                  | 1.000              | 1.7                | 3.3                | 2.3                | 5.3                |  7.7               |  0.3               | 0.0                | 1.7                |  8.3               | \n",
       "| 335                | Tyler Zeller       | MIL                | 3                  | 10.5               | 2.0                |  4.7               | 0.429              | 0.0                | 0.3                | ⋯                  | 0.000              | 0.3                | 1.3                | 1.3                | 2.0                |  3.3               |  0.3               | 0.3                | 0.0                |  4.0               | \n",
       "| 336                | Paul Zipser        | CHI                | 4                  | 25.1               | 2.5                |  6.8               | 0.370              | 0.8                | 2.0                | ⋯                  | 1.000              | 1.8                | 2.2                | 0.5                | 4.2                |  4.8               |  2.0               | 0.8                | 0.0                |  6.0               | \n",
       "\n",
       "\n"
      ],
      "text/plain": [
       "    #   Player                Team GP MPG  FGM  FGA  FG%   3PM 3PA ⋯ FT%   TOV\n",
       "1    1  Alex Abrines          OKC  7  19.3  1.6  4.4 0.355 0.9 2.6 ⋯ 1.000 0.7\n",
       "2    2  Quincy Acy            BRK  6  14.9  2.0  3.8 0.522 1.8 3.5 ⋯ 0.000 1.5\n",
       "3    3  Steven Adams          OKC  7  30.7  6.4  9.4 0.682 0.0 0.0 ⋯ 0.733 1.4\n",
       "4    4  Bam Adebayo           MIA  4  20.2  2.2  5.0 0.450 0.0 0.0 ⋯ 0.625 0.5\n",
       "5    5  LaMarcus Aldridge     SAS  7  34.0  9.1 18.4 0.496 0.6 1.7 ⋯ 0.786 1.6\n",
       "6    6  Jarrett Allen         BRK  6  15.0  1.5  3.7 0.409 0.0 0.2 ⋯ 0.600 0.5\n",
       "7    7  Tony Allen            NOP  7  10.7  1.7  3.6 0.480 0.1 0.7 ⋯ 0.250 1.0\n",
       "8    8  Al-Farouq Aminu       POR  7  30.0  3.4  7.7 0.444 1.6 3.7 ⋯ 1.000 0.9\n",
       "9    9  Justin Anderson       PHI  5  12.0  1.6  5.0 0.320 1.0 3.0 ⋯ 0.500 0.4\n",
       "10  10  Kyle Anderson         SAS  7  26.6  3.1  7.4 0.423 0.3 0.7 ⋯ 0.643 1.0\n",
       "11  11  Ryan Anderson         HOU  8  31.9  4.1 10.0 0.412 3.2 8.4 ⋯ 0.778 0.5\n",
       "12  12  Giannis Antetokounmpo MIL  7  37.4 13.0 20.6 0.632 0.9 2.1 ⋯ 0.774 3.3\n",
       "13  13  Carmelo Anthony       OKC  7  33.4  8.4 18.1 0.465 2.4 7.0 ⋯ 0.806 1.7\n",
       "14  14  Ogugua Anunoby        TOR  6  17.6  2.2  6.0 0.361 0.8 3.2 ⋯ 0.800 0.2\n",
       "15  15  Trevor Ariza          HOU  6  35.6  1.8  7.5 0.244 1.0 5.3 ⋯ 1.000 1.0\n",
       "16  16  D.J. Augustin         ORL  7  23.7  2.6  5.7 0.450 1.0 2.6 ⋯ 0.857 1.3\n",
       "17  17  Luke Babbitt          MIA  7  11.9  1.4  3.4 0.417 0.6 2.3 ⋯ 1.000 0.4\n",
       "18  18  Dwayne Bacon          CHA  7  23.6  1.7  5.6 0.308 0.7 2.4 ⋯ 0.500 1.0\n",
       "19  19  Ron Baker             NYK  3  15.9  0.7  2.3 0.286 0.7 1.0 ⋯ 0.556 2.0\n",
       "20  20  Lonzo Ball            LAL  7  34.0  4.1 12.4 0.333 1.4 5.0 ⋯ 0.556 3.0\n",
       "21  21  J.J. Barea            DAL  8  23.3  5.1 11.4 0.451 2.4 5.2 ⋯ 0.667 2.5\n",
       "22  22  Harrison Barnes       DAL  8  35.3  5.9 15.5 0.379 1.5 4.6 ⋯ 0.750 1.6\n",
       "23  23  Will Barton           DEN  7  27.6  5.4 12.0 0.452 1.9 4.7 ⋯ 0.533 1.4\n",
       "24  24  Jerryd Bayless        PHI  7  31.4  4.0  8.6 0.467 2.4 5.3 ⋯ 0.800 1.7\n",
       "25  25  Aron Baynes           BOS  7  19.4  2.6  4.4 0.581 0.0 0.0 ⋯ 0.733 1.0\n",
       "26  26  Kent Bazemore         ATL  7  29.4  4.3 11.7 0.366 1.0 3.1 ⋯ 0.893 2.7\n",
       "27  27  Bradley Beal          WAS  6  32.3  7.0 15.5 0.452 1.0 4.0 ⋯ 0.794 2.0\n",
       "28  28  Malik Beasley         DEN  7   7.0  0.7  1.4 0.500 0.3 0.6 ⋯ 0.000 0.1\n",
       "29  29  Michael Beasley       NYK  5  12.1  1.8  4.4 0.409 0.0 0.8 ⋯ 0.571 1.2\n",
       "30  30  Marco Belinelli       PHI  7  27.2  4.9 10.7 0.453 3.1 5.7 ⋯ 1.000 1.7\n",
       "⋮   ⋮   ⋮                     ⋮    ⋮  ⋮    ⋮    ⋮    ⋮     ⋮   ⋮   ⋱ ⋮     ⋮  \n",
       "307 307 Karl-Anthony Towns    MIN  7  34.9 9.3  16.0 0.580 1.3 3.4 ⋯ 0.882 2.0\n",
       "308 308 P.J. Tucker           HOU  8  30.1 2.0   5.9 0.340 1.6 4.5 ⋯ 0.700 1.5\n",
       "309 309 Evan Turner           POR  7  27.5 3.7   8.1 0.456 0.7 2.3 ⋯ 0.824 1.7\n",
       "310 310 Ekpe Udoh             UTA  7  14.2 0.3   1.4 0.200 0.0 0.0 ⋯ 0.571 0.4\n",
       "311 311 Tyler Ulis            PHX  6  18.3 3.2   7.2 0.442 0.2 1.2 ⋯ 0.778 1.3\n",
       "312 312 Jonas Valanciunas     TOR  2  22.8 5.5  10.5 0.524 0.0 0.5 ⋯ 0.750 0.5\n",
       "313 313 Denzel Valentine      CHI  5  27.2 3.4  10.6 0.321 2.2 5.6 ⋯ 1.000 1.4\n",
       "314 314 Fred VanVleet         TOR  6  11.6 1.0   4.0 0.250 0.3 1.5 ⋯ 1.000 1.0\n",
       "315 315 Rashad Vaughn         ORL  4  10.9 2.0   4.0 0.500 1.2 2.5 ⋯ 0.000 0.2\n",
       "316 316 Nikola Vucevic        ORL  7  30.6 8.7  15.7 0.555 1.9 4.6 ⋯ 0.714 1.4\n",
       "317 317 Dwyane Wade           MIA  6  22.8 3.7   8.5 0.431 0.3 1.0 ⋯ 0.600 2.2\n",
       "318 318 Dion Waiters          MIA  6  32.7 6.8  15.3 0.446 1.5 5.7 ⋯ 0.667 2.3\n",
       "319 319 Kemba Walker          CHA  7  34.8 7.4  16.0 0.464 2.1 5.6 ⋯ 0.912 2.6\n",
       "320 320 John Wall             WAS  6  35.1 7.0  17.8 0.393 1.5 4.5 ⋯ 0.822 4.3\n",
       "321 321 T.J. Warren           PHX  7  27.4 6.0  12.6 0.477 0.1 1.1 ⋯ 0.760 1.7\n",
       "322 322 David West            GSW  8  11.6 3.2   4.8 0.684 0.2 0.4 ⋯ 0.667 1.1\n",
       "323 323 Russell Westbrook     OKC  7  33.2 7.3  15.4 0.472 1.3 3.6 ⋯ 0.619 5.3\n",
       "324 324 Andrew Wiggins        MIN  7  35.4 6.9  16.0 0.429 1.9 5.1 ⋯ 0.592 2.0\n",
       "325 325 Damien Wilkins        IND  6   6.9 0.3   1.0 0.333 0.0 0.7 ⋯ 0.000 0.3\n",
       "326 326 Lou Williams          LAC  6  22.3 4.3  10.2 0.426 1.3 4.0 ⋯ 0.864 1.5\n",
       "327 327 Marvin Williams       CHA  7  24.7 2.7   6.3 0.432 1.1 3.1 ⋯ 0.571 0.7\n",
       "328 328 Justise Winslow       MIA  6  24.6 3.5   6.8 0.512 0.2 1.0 ⋯ 0.500 0.7\n",
       "329 329 Brandan Wright        HOU  7  14.3 2.1   3.7 0.577 0.0 0.0 ⋯ 0.600 0.1\n",
       "330 330 Delon Wright          TOR  6  23.9 2.2   6.2 0.351 0.3 3.2 ⋯ 1.000 1.5\n",
       "331 331 Joe Young             IND  5   5.4 1.0   2.8 0.357 0.2 1.0 ⋯ 0.500 0.2\n",
       "332 332 Nick Young            GSW  7  12.7 2.0   4.3 0.467 1.7 3.6 ⋯ 1.000 0.4\n",
       "333 333 Thaddeus Young        IND  7  31.8 5.4  11.7 0.463 1.1 3.6 ⋯ 0.625 1.1\n",
       "334 334 Cody Zeller           CHA  3  20.3 3.3   6.3 0.526 0.0 0.0 ⋯ 1.000 1.7\n",
       "335 335 Tyler Zeller          MIL  3  10.5 2.0   4.7 0.429 0.0 0.3 ⋯ 0.000 0.3\n",
       "336 336 Paul Zipser           CHI  4  25.1 2.5   6.8 0.370 0.8 2.0 ⋯ 1.000 1.8\n",
       "    PF  ORB DRB RPG  APG  SPG BPG PPG \n",
       "1   2.9 0.4 1.3  1.7 0.6  1.0 0.0  4.3\n",
       "2   2.5 0.3 3.0  3.3 0.2  0.3 0.0  5.8\n",
       "3   1.7 4.9 3.9  8.7 1.4  1.4 1.3 14.4\n",
       "4   2.8 3.0 3.0  6.0 0.0  0.2 0.5  5.8\n",
       "5   2.1 3.4 5.0  8.4 1.9  0.7 1.3 23.6\n",
       "6   2.0 1.0 1.7  2.7 0.3  1.0 1.0  4.0\n",
       "7   1.9 0.6 1.0  1.6 0.1  0.6 0.3  3.7\n",
       "8   1.7 1.6 6.9  8.4 2.0  1.0 1.3  9.6\n",
       "9   1.8 0.6 1.2  1.8 0.2  0.2 0.2  4.6\n",
       "10  1.3 2.3 4.9  7.1 1.9  0.4 0.6  7.9\n",
       "11  1.9 1.4 4.4  5.8 0.6  0.4 0.6 12.4\n",
       "12  3.6 1.4 8.9 10.3 5.3  1.7 1.0 33.7\n",
       "13  3.1 0.0 4.4  4.4 1.6  1.1 1.1 22.9\n",
       "14  1.7 1.3 1.2  2.5 1.3  0.7 0.0  5.8\n",
       "15  2.5 0.3 4.2  4.5 3.3  1.5 0.2  6.2\n",
       "16  2.0 0.3 1.9  2.1 5.4  1.4 0.0  8.7\n",
       "17  1.3 0.1 1.3  1.4 0.1  0.1 0.0  3.7\n",
       "18  1.9 0.0 5.3  5.3 1.3  0.3 0.1  4.4\n",
       "19  1.0 0.0 0.7  0.7 3.7  1.3 0.0  3.7\n",
       "20  1.6 1.1 6.1  7.3 7.0  1.1 0.6 10.4\n",
       "21  1.4 0.4 2.8  3.1 4.6  0.5 0.1 13.6\n",
       "22  0.9 1.4 5.0  6.4 1.8  0.5 0.0 16.6\n",
       "23  2.3 1.0 3.9  4.9 2.7  1.0 0.1 13.9\n",
       "24  2.9 0.1 2.7  2.9 1.9  0.7 0.0 11.6\n",
       "25  3.0 1.9 3.3  5.1 1.0  0.4 1.0  6.7\n",
       "26  2.0 0.6 3.0  3.6 3.6  1.7 0.6 13.1\n",
       "27  1.7 1.2 3.3  4.5 3.0  1.3 0.8 19.5\n",
       "28  0.7 0.1 0.7  0.9 0.4  0.1 0.0  1.7\n",
       "29  0.8 0.2 2.0  2.2 0.8  0.2 0.0  4.4\n",
       "30  1.0 0.1 2.4  2.6 2.6  1.0 0.0 14.6\n",
       "⋮   ⋮   ⋮   ⋮   ⋮    ⋮    ⋮   ⋮   ⋮   \n",
       "307 3.7 2.7 9.1 11.9  1.0 0.6 2.0 24.1\n",
       "308 3.1 1.2 4.6  5.9  1.1 1.2 0.2  6.5\n",
       "309 3.3 0.9 3.3  4.1  3.3 0.7 1.0 10.1\n",
       "310 1.9 1.3 1.3  2.6  1.3 0.3 1.9  1.1\n",
       "311 1.2 0.2 0.8  1.0  2.8 1.3 0.0  7.7\n",
       "312 3.0 4.0 5.5  9.5  1.0 1.0 0.0 14.0\n",
       "313 1.4 0.8 5.0  5.8  1.6 0.6 0.0  9.6\n",
       "314 1.3 0.0 0.5  0.5  2.0 0.5 0.2  2.7\n",
       "315 0.8 0.0 0.8  0.8  0.8 0.5 0.0  5.2\n",
       "316 2.3 1.0 7.6  8.6  2.7 0.6 1.4 20.7\n",
       "317 1.7 0.3 1.7  2.0  3.8 0.7 0.8  8.2\n",
       "318 2.3 0.2 2.3  2.5  3.0 1.3 0.5 16.5\n",
       "319 1.6 0.6 3.3  3.9  6.4 0.9 0.3 24.4\n",
       "320 1.5 0.5 2.2  2.7 10.3 1.0 1.2 21.7\n",
       "321 2.9 1.4 4.6  6.0  1.3 0.7 0.7 14.9\n",
       "322 1.6 1.5 1.5  3.0  1.1 0.6 1.5  7.2\n",
       "323 2.6 1.3 8.6  9.9 11.9 1.3 0.3 19.6\n",
       "324 2.0 1.4 3.4  4.9  1.4 1.1 0.3 19.7\n",
       "325 0.3 0.0 0.5  0.5  0.7 0.2 0.0  0.7\n",
       "326 1.0 0.3 1.5  1.8  3.8 0.5 0.0 13.2\n",
       "327 1.4 0.7 3.6  4.3  1.1 0.7 0.4  7.1\n",
       "328 2.3 1.3 4.7  6.0  1.5 0.7 0.5  7.3\n",
       "329 1.0 1.3 2.4  3.7  0.0 0.4 0.7  4.7\n",
       "330 1.8 0.7 3.0  3.7  2.5 0.7 0.7  7.8\n",
       "331 0.6 0.2 0.6  0.8  0.2 0.0 0.0  2.6\n",
       "332 1.0 0.4 0.6  1.0  0.3 0.1 0.1  6.0\n",
       "333 2.0 2.0 4.1  6.1  1.0 1.6 0.7 12.7\n",
       "334 3.3 2.3 5.3  7.7  0.3 0.0 1.7  8.3\n",
       "335 1.3 1.3 2.0  3.3  0.3 0.3 0.0  4.0\n",
       "336 2.2 0.5 4.2  4.8  2.0 0.8 0.0  6.0"
      ]
     },
     "metadata": {},
     "output_type": "display_data"
    }
   ],
   "source": [
    "October"
   ]
  },
  {
   "cell_type": "markdown",
   "metadata": {},
   "source": [
    "The `max()` function was then used to find the maximum value in the PPG (points per game) column, to select this column October(the name of the table)$PPG was done na.rm = TRUE was placed in the function to omit any NA values within the table.\n"
   ]
  },
  {
   "cell_type": "code",
   "execution_count": 14,
   "metadata": {},
   "outputs": [
    {
     "data": {
      "text/html": [
       "33.7"
      ],
      "text/latex": [
       "33.7"
      ],
      "text/markdown": [
       "33.7"
      ],
      "text/plain": [
       "[1] 33.7"
      ]
     },
     "metadata": {},
     "output_type": "display_data"
    }
   ],
   "source": [
    "max(October$PPG, na.rm = TRUE)"
   ]
  },
  {
   "cell_type": "markdown",
   "metadata": {},
   "source": [
    "The highest PPG value in October was 33.7"
   ]
  },
  {
   "cell_type": "markdown",
   "metadata": {},
   "source": [
    "And finally, the row containing the found value using the `max()` function was selected out of the table by using the code: October[October$PPG %in% c(\"33.7\"), ]  where October is the table of interest, `October$PPG` selects the column of interest and %in% c(“33.7”) take the value of interest."
   ]
  },
  {
   "cell_type": "code",
   "execution_count": 15,
   "metadata": {},
   "outputs": [
    {
     "data": {
      "text/html": [
       "<table>\n",
       "<thead><tr><th></th><th scope=col>#</th><th scope=col>Player</th><th scope=col>Team</th><th scope=col>GP</th><th scope=col>MPG</th><th scope=col>FGM</th><th scope=col>FGA</th><th scope=col>FG%</th><th scope=col>3PM</th><th scope=col>3PA</th><th scope=col>⋯</th><th scope=col>FT%</th><th scope=col>TOV</th><th scope=col>PF</th><th scope=col>ORB</th><th scope=col>DRB</th><th scope=col>RPG</th><th scope=col>APG</th><th scope=col>SPG</th><th scope=col>BPG</th><th scope=col>PPG</th></tr></thead>\n",
       "<tbody>\n",
       "\t<tr><th scope=row>12</th><td>12                   </td><td>Giannis Antetokounmpo</td><td>MIL                  </td><td>7                    </td><td>37.4                 </td><td>13                   </td><td>20.6                 </td><td>0.632                </td><td>0.9                  </td><td>2.1                  </td><td>⋯                    </td><td>0.774                </td><td>3.3                  </td><td>3.6                  </td><td>1.4                  </td><td>8.9                  </td><td>10.3                 </td><td>5.3                  </td><td>1.7                  </td><td>1                    </td><td>33.7                 </td></tr>\n",
       "</tbody>\n",
       "</table>\n"
      ],
      "text/latex": [
       "\\begin{tabular}{r|lllllllllllllllllllllll}\n",
       "  & \\# & Player & Team & GP & MPG & FGM & FGA & FG\\% & 3PM & 3PA & ⋯ & FT\\% & TOV & PF & ORB & DRB & RPG & APG & SPG & BPG & PPG\\\\\n",
       "\\hline\n",
       "\t12 & 12                    & Giannis Antetokounmpo & MIL                   & 7                     & 37.4                  & 13                    & 20.6                  & 0.632                 & 0.9                   & 2.1                   & ⋯                     & 0.774                 & 3.3                   & 3.6                   & 1.4                   & 8.9                   & 10.3                  & 5.3                   & 1.7                   & 1                     & 33.7                 \\\\\n",
       "\\end{tabular}\n"
      ],
      "text/markdown": [
       "\n",
       "| <!--/--> | # | Player | Team | GP | MPG | FGM | FGA | FG% | 3PM | 3PA | ⋯ | FT% | TOV | PF | ORB | DRB | RPG | APG | SPG | BPG | PPG | \n",
       "|---|\n",
       "| 12 | 12                    | Giannis Antetokounmpo | MIL                   | 7                     | 37.4                  | 13                    | 20.6                  | 0.632                 | 0.9                   | 2.1                   | ⋯                     | 0.774                 | 3.3                   | 3.6                   | 1.4                   | 8.9                   | 10.3                  | 5.3                   | 1.7                   | 1                     | 33.7                  | \n",
       "\n",
       "\n"
      ],
      "text/plain": [
       "   #  Player                Team GP MPG  FGM FGA  FG%   3PM 3PA ⋯ FT%   TOV PF \n",
       "12 12 Giannis Antetokounmpo MIL  7  37.4 13  20.6 0.632 0.9 2.1 ⋯ 0.774 3.3 3.6\n",
       "   ORB DRB RPG  APG SPG BPG PPG \n",
       "12 1.4 8.9 10.3 5.3 1.7 1   33.7"
      ]
     },
     "metadata": {},
     "output_type": "display_data"
    }
   ],
   "source": [
    "October[October$PPG %in% c(\"33.7\"), ]"
   ]
  },
  {
   "cell_type": "markdown",
   "metadata": {},
   "source": [
    "The player with the most Points Per Game in October is Giannis Antetokounmpo"
   ]
  },
  {
   "cell_type": "markdown",
   "metadata": {},
   "source": [
    "These steps above were then completed in the exact same format for the next 6 months of the NBS season "
   ]
  },
  {
   "cell_type": "markdown",
   "metadata": {},
   "source": [
    "### November"
   ]
  },
  {
   "cell_type": "code",
   "execution_count": 16,
   "metadata": {},
   "outputs": [],
   "source": [
    "NBA5 = read_html(\"https://basketball.realgm.com/nba/stats/2018/Averages/Qualified/player/All/asc/1/November\")"
   ]
  },
  {
   "cell_type": "code",
   "execution_count": 17,
   "metadata": {},
   "outputs": [],
   "source": [
    "NBA6 = read_html(\"https://basketball.realgm.com/nba/stats/2018/Averages/Qualified/player/All/asc/2/November\")"
   ]
  },
  {
   "cell_type": "code",
   "execution_count": 18,
   "metadata": {},
   "outputs": [],
   "source": [
    "NBA7 = read_html(\"https://basketball.realgm.com/nba/stats/2018/Averages/Qualified/player/All/asc/3/November\")"
   ]
  },
  {
   "cell_type": "code",
   "execution_count": 19,
   "metadata": {},
   "outputs": [],
   "source": [
    "NBA8 = read_html(\"https://basketball.realgm.com/nba/stats/2018/Averages/Qualified/player/All/asc/4/November\")"
   ]
  },
  {
   "cell_type": "code",
   "execution_count": 20,
   "metadata": {},
   "outputs": [],
   "source": [
    "November1 = NBA5 %>% html_nodes('table')%>% .[[1]] %>%\n",
    "  html_table()"
   ]
  },
  {
   "cell_type": "code",
   "execution_count": 21,
   "metadata": {},
   "outputs": [],
   "source": [
    "November2 = NBA6 %>% html_nodes('table')%>% .[[1]] %>%\n",
    "  html_table()"
   ]
  },
  {
   "cell_type": "code",
   "execution_count": 22,
   "metadata": {},
   "outputs": [],
   "source": [
    "November3 = NBA7 %>% html_nodes('table')%>% .[[1]] %>%\n",
    "  html_table()"
   ]
  },
  {
   "cell_type": "code",
   "execution_count": 23,
   "metadata": {},
   "outputs": [],
   "source": [
    "November4 = NBA8 %>% html_nodes('table')%>% .[[1]] %>%\n",
    "  html_table()"
   ]
  },
  {
   "cell_type": "code",
   "execution_count": 24,
   "metadata": {},
   "outputs": [
    {
     "name": "stderr",
     "output_type": "stream",
     "text": [
      "Joining, by = c(\"#\", \"Player\", \"Team\", \"GP\", \"MPG\", \"FGM\", \"FGA\", \"FG%\", \"3PM\", \"3PA\", \"3P%\", \"FTM\", \"FTA\", \"FT%\", \"TOV\", \"PF\", \"ORB\", \"DRB\", \"RPG\", \"APG\", \"SPG\", \"BPG\", \"PPG\")\n"
     ]
    }
   ],
   "source": [
    "c = full_join(November1, November2)"
   ]
  },
  {
   "cell_type": "code",
   "execution_count": 25,
   "metadata": {},
   "outputs": [
    {
     "name": "stderr",
     "output_type": "stream",
     "text": [
      "Joining, by = c(\"#\", \"Player\", \"Team\", \"GP\", \"MPG\", \"FGM\", \"FGA\", \"FG%\", \"3PM\", \"3PA\", \"3P%\", \"FTM\", \"FTA\", \"FT%\", \"TOV\", \"PF\", \"ORB\", \"DRB\", \"RPG\", \"APG\", \"SPG\", \"BPG\", \"PPG\")\n"
     ]
    }
   ],
   "source": [
    "d = full_join(November3, November4)"
   ]
  },
  {
   "cell_type": "code",
   "execution_count": 26,
   "metadata": {},
   "outputs": [
    {
     "name": "stderr",
     "output_type": "stream",
     "text": [
      "Joining, by = c(\"#\", \"Player\", \"Team\", \"GP\", \"MPG\", \"FGM\", \"FGA\", \"FG%\", \"3PM\", \"3PA\", \"3P%\", \"FTM\", \"FTA\", \"FT%\", \"TOV\", \"PF\", \"ORB\", \"DRB\", \"RPG\", \"APG\", \"SPG\", \"BPG\", \"PPG\")\n"
     ]
    }
   ],
   "source": [
    "November = full_join(c, d)"
   ]
  },
  {
   "cell_type": "markdown",
   "metadata": {},
   "source": [
    "Table 2: The data and statistics for all players in the NBA during the month of November in the 2017-2018 season."
   ]
  },
  {
   "cell_type": "code",
   "execution_count": 27,
   "metadata": {},
   "outputs": [
    {
     "data": {
      "text/html": [
       "<table>\n",
       "<thead><tr><th scope=col>#</th><th scope=col>Player</th><th scope=col>Team</th><th scope=col>GP</th><th scope=col>MPG</th><th scope=col>FGM</th><th scope=col>FGA</th><th scope=col>FG%</th><th scope=col>3PM</th><th scope=col>3PA</th><th scope=col>⋯</th><th scope=col>FT%</th><th scope=col>TOV</th><th scope=col>PF</th><th scope=col>ORB</th><th scope=col>DRB</th><th scope=col>RPG</th><th scope=col>APG</th><th scope=col>SPG</th><th scope=col>BPG</th><th scope=col>PPG</th></tr></thead>\n",
       "<tbody>\n",
       "\t<tr><td> 1                   </td><td>Alex Abrines         </td><td>OKC                  </td><td>12                   </td><td>12.8                 </td><td>1.2                  </td><td> 3.2                 </td><td>0.385                </td><td>0.8                  </td><td>2.4                  </td><td>⋯                    </td><td>0.778                </td><td>0.2                  </td><td>1.1                  </td><td>0.3                  </td><td>0.9                  </td><td> 1.2                 </td><td>0.2                  </td><td>0.2                  </td><td>0.1                  </td><td> 3.8                 </td></tr>\n",
       "\t<tr><td> 2                   </td><td>Quincy Acy           </td><td>BRK                  </td><td>10                   </td><td>20.6                 </td><td>1.3                  </td><td> 5.3                 </td><td>0.245                </td><td>0.9                  </td><td>3.9                  </td><td>⋯                    </td><td>0.818                </td><td>0.8                  </td><td>2.1                  </td><td>0.7                  </td><td>4.1                  </td><td> 4.8                 </td><td>1.1                  </td><td>0.4                  </td><td>0.3                  </td><td> 5.3                 </td></tr>\n",
       "\t<tr><td> 3                   </td><td>Steven Adams         </td><td>OKC                  </td><td>10                   </td><td>31.3                 </td><td>4.2                  </td><td> 7.6                 </td><td>0.553                </td><td>0.0                  </td><td>0.0                  </td><td>⋯                    </td><td>0.655                </td><td>2.0                  </td><td>3.3                  </td><td>4.0                  </td><td>3.7                  </td><td> 7.7                 </td><td>0.4                  </td><td>1.3                  </td><td>1.1                  </td><td>10.3                 </td></tr>\n",
       "\t<tr><td> 4                   </td><td>Bam Adebayo          </td><td>MIA                  </td><td> 8                   </td><td>11.5                 </td><td>1.9                  </td><td> 2.2                 </td><td>0.833                </td><td>0.0                  </td><td>0.0                  </td><td>⋯                    </td><td>0.833                </td><td>0.4                  </td><td>0.6                  </td><td>0.5                  </td><td>2.4                  </td><td> 2.9                 </td><td>0.2                  </td><td>0.6                  </td><td>0.4                  </td><td> 5.0                 </td></tr>\n",
       "\t<tr><td> 5                   </td><td>Arron Afflalo        </td><td>ORL                  </td><td>12                   </td><td>12.8                 </td><td>0.8                  </td><td> 2.3                 </td><td>0.357                </td><td>0.4                  </td><td>1.2                  </td><td>⋯                    </td><td>0.333                </td><td>0.5                  </td><td>1.1                  </td><td>0.1                  </td><td>1.8                  </td><td> 1.9                 </td><td>0.5                  </td><td>0.1                  </td><td>0.2                  </td><td> 2.2                 </td></tr>\n",
       "\t<tr><td> 6                   </td><td>LaMarcus Aldridge    </td><td>SAS                  </td><td>14                   </td><td>33.0                 </td><td>8.9                  </td><td>16.7                 </td><td>0.534                </td><td>0.6                  </td><td>1.5                  </td><td>⋯                    </td><td>0.861                </td><td>1.4                  </td><td>2.4                  </td><td>3.0                  </td><td>5.1                  </td><td> 8.1                 </td><td>2.5                  </td><td>0.6                  </td><td>1.3                  </td><td>22.9                 </td></tr>\n",
       "\t<tr><td> 7                   </td><td>Jarrett Allen        </td><td>BRK                  </td><td> 7                   </td><td>15.8                 </td><td>1.9                  </td><td> 3.4                 </td><td>0.542                </td><td>0.0                  </td><td>0.0                  </td><td>⋯                    </td><td>0.833                </td><td>0.4                  </td><td>1.3                  </td><td>1.6                  </td><td>3.1                  </td><td> 4.7                 </td><td>0.6                  </td><td>0.4                  </td><td>0.4                  </td><td> 4.4                 </td></tr>\n",
       "\t<tr><td> 8                   </td><td>Tony Allen           </td><td>NOP                  </td><td>10                   </td><td>15.6                 </td><td>2.6                  </td><td> 5.3                 </td><td>0.491                </td><td>0.2                  </td><td>0.6                  </td><td>⋯                    </td><td>0.556                </td><td>1.0                  </td><td>2.5                  </td><td>1.2                  </td><td>1.9                  </td><td> 3.1                 </td><td>0.8                  </td><td>0.6                  </td><td>0.1                  </td><td> 5.9                 </td></tr>\n",
       "\t<tr><td> 9                   </td><td>Al-Farouq Aminu      </td><td>POR                  </td><td> 2                   </td><td>26.9                 </td><td>2.0                  </td><td> 4.5                 </td><td>0.444                </td><td>2.0                  </td><td>3.5                  </td><td>⋯                    </td><td>0.500                </td><td>1.5                  </td><td>1.5                  </td><td>1.5                  </td><td>4.0                  </td><td> 5.5                 </td><td>0.0                  </td><td>0.0                  </td><td>0.5                  </td><td> 7.0                 </td></tr>\n",
       "\t<tr><td>10                   </td><td>Justin Anderson      </td><td>PHI                  </td><td> 5                   </td><td>13.3                 </td><td>2.0                  </td><td> 4.6                 </td><td>0.435                </td><td>0.8                  </td><td>2.2                  </td><td>⋯                    </td><td>1.000                </td><td>0.4                  </td><td>2.0                  </td><td>1.4                  </td><td>2.2                  </td><td> 3.6                 </td><td>0.4                  </td><td>0.4                  </td><td>0.0                  </td><td> 5.4                 </td></tr>\n",
       "\t<tr><td>11                   </td><td>Kyle Anderson        </td><td>SAS                  </td><td>14                   </td><td>28.5                 </td><td>3.9                  </td><td> 6.9                 </td><td>0.557                </td><td>0.1                  </td><td>0.4                  </td><td>⋯                    </td><td>0.811                </td><td>1.4                  </td><td>1.6                  </td><td>1.1                  </td><td>4.6                  </td><td> 5.7                 </td><td>3.8                  </td><td>1.6                  </td><td>1.0                  </td><td> 9.9                 </td></tr>\n",
       "\t<tr><td>12                   </td><td>Ryan Anderson        </td><td>HOU                  </td><td>12                   </td><td>28.8                 </td><td>4.4                  </td><td> 8.9                 </td><td>0.495                </td><td>2.8                  </td><td>6.6                  </td><td>⋯                    </td><td>0.833                </td><td>1.0                  </td><td>2.0                  </td><td>1.3                  </td><td>4.4                  </td><td> 5.8                 </td><td>0.8                  </td><td>0.2                  </td><td>0.3                  </td><td>12.9                 </td></tr>\n",
       "\t<tr><td>13                   </td><td>Giannis Antetokounmpo</td><td>MIL                  </td><td>12                   </td><td>37.1                 </td><td>9.9                  </td><td>20.0                 </td><td>0.496                </td><td>0.2                  </td><td>1.5                  </td><td>⋯                    </td><td>0.748                </td><td>2.5                  </td><td>3.6                  </td><td>2.2                  </td><td>7.8                  </td><td>10.0                 </td><td>4.0                  </td><td>1.8                  </td><td>2.2                  </td><td>26.5                 </td></tr>\n",
       "\t<tr><td>14                   </td><td>Carmelo Anthony      </td><td>OKC                  </td><td>12                   </td><td>32.0                 </td><td>6.2                  </td><td>15.9                 </td><td>0.387                </td><td>2.4                  </td><td>6.3                  </td><td>⋯                    </td><td>0.804                </td><td>1.6                  </td><td>2.8                  </td><td>1.2                  </td><td>6.0                  </td><td> 7.2                 </td><td>1.6                  </td><td>0.8                  </td><td>0.5                  </td><td>17.8                 </td></tr>\n",
       "\t<tr><td>15                   </td><td>Ogugua Anunoby       </td><td>TOR                  </td><td>14                   </td><td>19.3                 </td><td>2.4                  </td><td> 4.2                 </td><td>0.576                </td><td>1.1                  </td><td>2.4                  </td><td>⋯                    </td><td>0.562                </td><td>0.4                  </td><td>1.9                  </td><td>0.3                  </td><td>1.6                  </td><td> 1.9                 </td><td>0.8                  </td><td>0.9                  </td><td>0.1                  </td><td> 6.6                 </td></tr>\n",
       "\t<tr><td>16                   </td><td>Trevor Ariza         </td><td>HOU                  </td><td>13                   </td><td>33.5                 </td><td>5.1                  </td><td>10.2                 </td><td>0.496                </td><td>3.5                  </td><td>7.9                  </td><td>⋯                    </td><td>0.833                </td><td>1.0                  </td><td>1.7                  </td><td>0.8                  </td><td>3.8                  </td><td> 4.6                 </td><td>1.6                  </td><td>1.5                  </td><td>0.2                  </td><td>14.5                 </td></tr>\n",
       "\t<tr><td>17                   </td><td>D.J. Augustin        </td><td>ORL                  </td><td> 8                   </td><td>17.0                 </td><td>2.8                  </td><td> 5.0                 </td><td>0.550                </td><td>1.0                  </td><td>2.1                  </td><td>⋯                    </td><td>0.733                </td><td>1.8                  </td><td>1.2                  </td><td>0.1                  </td><td>1.2                  </td><td> 1.4                 </td><td>2.6                  </td><td>0.2                  </td><td>0.0                  </td><td> 7.9                 </td></tr>\n",
       "\t<tr><td>18                   </td><td>Luke Babbitt         </td><td>MIA                  </td><td>11                   </td><td>24.4                 </td><td>3.7                  </td><td> 7.6                 </td><td>0.488                </td><td>2.5                  </td><td>5.0                  </td><td>⋯                    </td><td>0.625                </td><td>0.9                  </td><td>2.1                  </td><td>0.3                  </td><td>3.0                  </td><td> 3.3                 </td><td>1.4                  </td><td>0.4                  </td><td>0.3                  </td><td>10.4                 </td></tr>\n",
       "\t<tr><td>19                   </td><td>Dwayne Bacon         </td><td>CHA                  </td><td>13                   </td><td>16.6                 </td><td>1.8                  </td><td> 4.5                 </td><td>0.407                </td><td>0.4                  </td><td>0.9                  </td><td>⋯                    </td><td>0.857                </td><td>0.5                  </td><td>1.5                  </td><td>0.1                  </td><td>2.8                  </td><td> 2.9                 </td><td>0.8                  </td><td>0.3                  </td><td>0.1                  </td><td> 4.5                 </td></tr>\n",
       "\t<tr><td>20                   </td><td>Lonzo Ball           </td><td>LAL                  </td><td>14                   </td><td>33.1                 </td><td>3.2                  </td><td>10.6                 </td><td>0.304                </td><td>1.2                  </td><td>5.0                  </td><td>⋯                    </td><td>0.429                </td><td>2.4                  </td><td>2.4                  </td><td>1.5                  </td><td>5.4                  </td><td> 6.9                 </td><td>7.4                  </td><td>1.5                  </td><td>0.9                  </td><td> 8.3                 </td></tr>\n",
       "\t<tr><td>21                   </td><td>J.J. Barea           </td><td>DAL                  </td><td>14                   </td><td>21.5                 </td><td>3.9                  </td><td> 9.8                 </td><td>0.401                </td><td>1.6                  </td><td>4.9                  </td><td>⋯                    </td><td>0.815                </td><td>1.8                  </td><td>1.6                  </td><td>0.3                  </td><td>2.6                  </td><td> 2.9                 </td><td>5.2                  </td><td>0.5                  </td><td>0.0                  </td><td>11.1                 </td></tr>\n",
       "\t<tr><td>22                   </td><td>Harrison Barnes      </td><td>DAL                  </td><td>14                   </td><td>35.5                 </td><td>7.1                  </td><td>15.1                 </td><td>0.474                </td><td>1.1                  </td><td>3.4                  </td><td>⋯                    </td><td>0.867                </td><td>2.2                  </td><td>2.1                  </td><td>1.1                  </td><td>6.9                  </td><td> 8.0                 </td><td>2.1                  </td><td>0.9                  </td><td>0.2                  </td><td>20.0                 </td></tr>\n",
       "\t<tr><td>23                   </td><td>Will Barton          </td><td>DEN                  </td><td>14                   </td><td>30.6                 </td><td>5.7                  </td><td>11.5                 </td><td>0.497                </td><td>2.2                  </td><td>4.9                  </td><td>⋯                    </td><td>0.735                </td><td>2.0                  </td><td>1.6                  </td><td>0.8                  </td><td>4.3                  </td><td> 5.1                 </td><td>2.9                  </td><td>1.1                  </td><td>0.5                  </td><td>16.2                 </td></tr>\n",
       "\t<tr><td>24                   </td><td>Nicolas Batum        </td><td>CHA                  </td><td> 7                   </td><td>26.3                 </td><td>3.6                  </td><td> 9.6                 </td><td>0.373                </td><td>0.9                  </td><td>4.0                  </td><td>⋯                    </td><td>0.938                </td><td>1.6                  </td><td>1.0                  </td><td>0.4                  </td><td>2.9                  </td><td> 3.3                 </td><td>3.7                  </td><td>0.9                  </td><td>0.3                  </td><td>10.1                 </td></tr>\n",
       "\t<tr><td>25                   </td><td>Jerryd Bayless       </td><td>PHI                  </td><td> 8                   </td><td>25.1                 </td><td>2.9                  </td><td> 6.6                 </td><td>0.434                </td><td>0.8                  </td><td>2.9                  </td><td>⋯                    </td><td>0.765                </td><td>1.2                  </td><td>2.1                  </td><td>0.4                  </td><td>1.5                  </td><td> 1.9                 </td><td>2.1                  </td><td>0.6                  </td><td>0.4                  </td><td> 8.1                 </td></tr>\n",
       "\t<tr><td>26                   </td><td>Aron Baynes          </td><td>BOS                  </td><td>16                   </td><td>17.4                 </td><td>2.2                  </td><td> 4.9                 </td><td>0.443                </td><td>0.0                  </td><td>0.2                  </td><td>⋯                    </td><td>0.600                </td><td>1.0                  </td><td>1.6                  </td><td>2.1                  </td><td>3.4                  </td><td> 5.5                 </td><td>0.8                  </td><td>0.4                  </td><td>0.5                  </td><td> 5.1                 </td></tr>\n",
       "\t<tr><td>27                   </td><td>Kent Bazemore        </td><td>ATL                  </td><td>14                   </td><td>27.9                 </td><td>4.1                  </td><td>10.0                 </td><td>0.407                </td><td>1.5                  </td><td>4.1                  </td><td>⋯                    </td><td>0.723                </td><td>2.3                  </td><td>2.2                  </td><td>0.4                  </td><td>4.4                  </td><td> 4.8                 </td><td>3.6                  </td><td>1.9                  </td><td>0.4                  </td><td>12.1                 </td></tr>\n",
       "\t<tr><td>28                   </td><td>Bradley Beal         </td><td>WAS                  </td><td>15                   </td><td>35.7                 </td><td>8.6                  </td><td>18.6                 </td><td>0.462                </td><td>2.8                  </td><td>6.8                  </td><td>⋯                    </td><td>0.826                </td><td>2.9                  </td><td>1.9                  </td><td>0.7                  </td><td>3.7                  </td><td> 4.5                 </td><td>3.7                  </td><td>1.1                  </td><td>0.4                  </td><td>24.7                 </td></tr>\n",
       "\t<tr><td>29                   </td><td>Malik Beasley        </td><td>DEN                  </td><td>12                   </td><td> 9.2                 </td><td>1.3                  </td><td> 3.2                 </td><td>0.410                </td><td>0.4                  </td><td>1.5                  </td><td>⋯                    </td><td>0.545                </td><td>0.6                  </td><td>0.6                  </td><td>0.4                  </td><td>1.4                  </td><td> 1.8                 </td><td>0.6                  </td><td>0.2                  </td><td>0.0                  </td><td> 3.6                 </td></tr>\n",
       "\t<tr><td>30                   </td><td>Michael Beasley      </td><td>NYK                  </td><td>10                   </td><td>15.6                 </td><td>3.8                  </td><td> 7.0                 </td><td>0.543                </td><td>0.0                  </td><td>0.5                  </td><td>⋯                    </td><td>0.615                </td><td>1.9                  </td><td>1.4                  </td><td>1.4                  </td><td>2.8                  </td><td> 4.2                 </td><td>1.0                  </td><td>0.0                  </td><td>0.6                  </td><td> 8.4                 </td></tr>\n",
       "\t<tr><td>⋮</td><td>⋮</td><td>⋮</td><td>⋮</td><td>⋮</td><td>⋮</td><td>⋮</td><td>⋮</td><td>⋮</td><td>⋮</td><td>⋱</td><td>⋮</td><td>⋮</td><td>⋮</td><td>⋮</td><td>⋮</td><td>⋮</td><td>⋮</td><td>⋮</td><td>⋮</td><td>⋮</td></tr>\n",
       "\t<tr><td>352              </td><td>Rashad Vaughn    </td><td>ORL              </td><td> 6               </td><td> 3.7             </td><td>0.2              </td><td> 0.8             </td><td>0.200            </td><td>0.0              </td><td>0.3              </td><td>⋯                </td><td>0.000            </td><td>0.0              </td><td>0.3              </td><td>0.0              </td><td>0.0              </td><td> 0.0             </td><td>0.2              </td><td>0.0              </td><td>0.3              </td><td> 0.3             </td></tr>\n",
       "\t<tr><td>353              </td><td>Noah Vonleh      </td><td>CHI              </td><td>15               </td><td>22.8             </td><td>2.1              </td><td> 3.9             </td><td>0.542            </td><td>0.0              </td><td>0.0              </td><td>⋯                </td><td>0.750            </td><td>0.7              </td><td>2.3              </td><td>1.9              </td><td>6.1              </td><td> 7.9             </td><td>0.6              </td><td>0.3              </td><td>0.5              </td><td> 5.3             </td></tr>\n",
       "\t<tr><td>354              </td><td>Nikola Vucevic   </td><td>ORL              </td><td>15               </td><td>29.4             </td><td>6.0              </td><td>13.5             </td><td>0.443            </td><td>1.4              </td><td>4.1              </td><td>⋯                </td><td>0.800            </td><td>2.0              </td><td>2.5              </td><td>1.6              </td><td>6.7              </td><td> 8.3             </td><td>3.2              </td><td>1.1              </td><td>0.7              </td><td>14.5             </td></tr>\n",
       "\t<tr><td>355              </td><td>Dwyane Wade      </td><td>MIA              </td><td>15               </td><td>23.7             </td><td>4.6              </td><td>10.5             </td><td>0.437            </td><td>0.5              </td><td>1.3              </td><td>⋯                </td><td>0.741            </td><td>2.0              </td><td>2.3              </td><td>0.9              </td><td>3.7              </td><td> 4.6             </td><td>3.9              </td><td>1.1              </td><td>0.9              </td><td>12.3             </td></tr>\n",
       "\t<tr><td>356              </td><td>Dion Waiters     </td><td>MIA              </td><td>13               </td><td>30.8             </td><td>5.6              </td><td>14.9             </td><td>0.376            </td><td>2.2              </td><td>6.7              </td><td>⋯                </td><td>0.826            </td><td>2.9              </td><td>2.2              </td><td>0.5              </td><td>2.3              </td><td> 2.8             </td><td>4.2              </td><td>0.7              </td><td>0.2              </td><td>14.9             </td></tr>\n",
       "\t<tr><td>357              </td><td>Kemba Walker     </td><td>CHA              </td><td>12               </td><td>35.4             </td><td>7.2              </td><td>16.8             </td><td>0.431            </td><td>2.5              </td><td>7.0              </td><td>⋯                </td><td>0.803            </td><td>2.0              </td><td>1.7              </td><td>0.7              </td><td>3.1              </td><td> 3.8             </td><td>6.1              </td><td>0.5              </td><td>0.2              </td><td>21.1             </td></tr>\n",
       "\t<tr><td>358              </td><td>John Wall        </td><td>WAS              </td><td>10               </td><td>34.0             </td><td>6.9              </td><td>14.9             </td><td>0.463            </td><td>1.0              </td><td>3.3              </td><td>⋯                </td><td>0.701            </td><td>2.2              </td><td>2.5              </td><td>0.3              </td><td>3.5              </td><td> 3.8             </td><td>8.5              </td><td>1.1              </td><td>1.1              </td><td>19.5             </td></tr>\n",
       "\t<tr><td>359              </td><td>T.J. Warren      </td><td>PHX              </td><td>16               </td><td>32.4             </td><td>8.2              </td><td>16.4             </td><td>0.502            </td><td>0.2              </td><td>1.6              </td><td>⋯                </td><td>0.754            </td><td>1.1              </td><td>2.0              </td><td>2.2              </td><td>3.4              </td><td> 5.7             </td><td>1.2              </td><td>0.8              </td><td>0.9              </td><td>19.9             </td></tr>\n",
       "\t<tr><td>360              </td><td>David West       </td><td>GSW              </td><td>12               </td><td>12.1             </td><td>2.7              </td><td> 4.1             </td><td>0.653            </td><td>0.1              </td><td>0.2              </td><td>⋯                </td><td>0.818            </td><td>1.0              </td><td>1.2              </td><td>0.4              </td><td>3.0              </td><td> 3.4             </td><td>1.8              </td><td>0.6              </td><td>0.9              </td><td> 6.2             </td></tr>\n",
       "\t<tr><td>361              </td><td>Russell Westbrook</td><td>OKC              </td><td>13               </td><td>36.4             </td><td>8.0              </td><td>21.1             </td><td>0.380            </td><td>2.3              </td><td>6.7              </td><td>⋯                </td><td>0.766            </td><td>4.3              </td><td>2.8              </td><td>1.5              </td><td>7.2              </td><td> 8.8             </td><td>8.2              </td><td>2.7              </td><td>0.0              </td><td>23.8             </td></tr>\n",
       "\t<tr><td>362              </td><td>Okaro White      </td><td>MIA              </td><td> 4               </td><td>15.7             </td><td>1.2              </td><td> 3.5             </td><td>0.357            </td><td>0.8              </td><td>2.5              </td><td>⋯                </td><td>1.000            </td><td>0.2              </td><td>1.2              </td><td>0.5              </td><td>2.0              </td><td> 2.5             </td><td>0.5              </td><td>0.0              </td><td>0.0              </td><td> 3.5             </td></tr>\n",
       "\t<tr><td>363              </td><td>Isaiah Whitehead </td><td>BRK              </td><td> 6               </td><td>14.0             </td><td>3.3              </td><td> 6.8             </td><td>0.488            </td><td>0.3              </td><td>1.3              </td><td>⋯                </td><td>0.600            </td><td>2.7              </td><td>2.2              </td><td>0.2              </td><td>1.7              </td><td> 1.8             </td><td>2.0              </td><td>0.8              </td><td>0.3              </td><td> 8.0             </td></tr>\n",
       "\t<tr><td>364              </td><td>Hassan Whiteside </td><td>MIA              </td><td>14               </td><td>26.1             </td><td>5.9              </td><td>10.1             </td><td>0.577            </td><td>0.1              </td><td>0.1              </td><td>⋯                </td><td>0.673            </td><td>1.6              </td><td>2.2              </td><td>2.6              </td><td>9.4              </td><td>12.1             </td><td>0.4              </td><td>1.1              </td><td>1.6              </td><td>14.1             </td></tr>\n",
       "\t<tr><td>365              </td><td>Andrew Wiggins   </td><td>MIN              </td><td>15               </td><td>37.4             </td><td>7.2              </td><td>15.4             </td><td>0.468            </td><td>1.1              </td><td>3.8              </td><td>⋯                </td><td>0.676            </td><td>1.9              </td><td>1.4              </td><td>0.9              </td><td>2.9              </td><td> 3.8             </td><td>2.3              </td><td>1.3              </td><td>0.8              </td><td>18.7             </td></tr>\n",
       "\t<tr><td>366              </td><td>Damien Wilkins   </td><td>IND              </td><td> 6               </td><td> 6.0             </td><td>1.0              </td><td> 1.7             </td><td>0.600            </td><td>0.0              </td><td>0.3              </td><td>⋯                </td><td>0.000            </td><td>0.3              </td><td>0.3              </td><td>0.7              </td><td>0.3              </td><td> 1.0             </td><td>0.3              </td><td>0.2              </td><td>0.0              </td><td> 2.0             </td></tr>\n",
       "\t<tr><td>367              </td><td>C.J. Williams    </td><td>LAC              </td><td> 8               </td><td> 7.6             </td><td>0.9              </td><td> 1.9             </td><td>0.467            </td><td>0.1              </td><td>0.8              </td><td>⋯                </td><td>0.500            </td><td>0.2              </td><td>0.4              </td><td>0.0              </td><td>1.0              </td><td> 1.0             </td><td>0.8              </td><td>0.1              </td><td>0.0              </td><td> 2.0             </td></tr>\n",
       "\t<tr><td>368              </td><td>Lou Williams     </td><td>LAC              </td><td>14               </td><td>32.3             </td><td>7.1              </td><td>15.3             </td><td>0.463            </td><td>2.7              </td><td>6.7              </td><td>⋯                </td><td>0.908            </td><td>3.4              </td><td>1.4              </td><td>0.6              </td><td>2.4              </td><td> 3.0             </td><td>4.1              </td><td>1.3              </td><td>0.3              </td><td>21.1             </td></tr>\n",
       "\t<tr><td>369              </td><td>Marvin Williams  </td><td>CHA              </td><td>13               </td><td>25.7             </td><td>3.2              </td><td> 7.0             </td><td>0.462            </td><td>1.8              </td><td>3.8              </td><td>⋯                </td><td>1.000            </td><td>0.3              </td><td>1.3              </td><td>0.8              </td><td>3.3              </td><td> 4.1             </td><td>1.1              </td><td>0.8              </td><td>0.3              </td><td> 9.6             </td></tr>\n",
       "\t<tr><td>370              </td><td>D.J. Wilson      </td><td>MIL              </td><td> 6               </td><td> 3.4             </td><td>0.3              </td><td> 0.8             </td><td>0.400            </td><td>0.0              </td><td>0.3              </td><td>⋯                </td><td>0.000            </td><td>0.2              </td><td>0.3              </td><td>0.0              </td><td>0.5              </td><td> 0.5             </td><td>0.2              </td><td>0.0              </td><td>0.0              </td><td> 0.7             </td></tr>\n",
       "\t<tr><td>371              </td><td>Justise Winslow  </td><td>MIA              </td><td>15               </td><td>22.2             </td><td>2.4              </td><td> 6.3             </td><td>0.383            </td><td>0.5              </td><td>1.4              </td><td>⋯                </td><td>0.700            </td><td>1.3              </td><td>1.9              </td><td>0.9              </td><td>4.5              </td><td> 5.4             </td><td>1.8              </td><td>0.9              </td><td>0.3              </td><td> 6.3             </td></tr>\n",
       "\t<tr><td>372              </td><td>Jeff Withey      </td><td>DAL              </td><td> 5               </td><td> 2.7             </td><td>0.4              </td><td> 1.4             </td><td>0.286            </td><td>0.2              </td><td>1.0              </td><td>⋯                </td><td>0.000            </td><td>0.0              </td><td>0.2              </td><td>0.0              </td><td>0.6              </td><td> 0.6             </td><td>0.0              </td><td>0.0              </td><td>0.4              </td><td> 1.0             </td></tr>\n",
       "\t<tr><td>373              </td><td>Brandan Wright   </td><td>HOU              </td><td> 8               </td><td>15.2             </td><td>2.5              </td><td> 4.5             </td><td>0.556            </td><td>0.0              </td><td>0.0              </td><td>⋯                </td><td>0.667            </td><td>0.2              </td><td>1.1              </td><td>1.4              </td><td>2.2              </td><td> 3.6             </td><td>0.6              </td><td>0.6              </td><td>1.5              </td><td> 6.5             </td></tr>\n",
       "\t<tr><td>374              </td><td>Delon Wright     </td><td>TOR              </td><td> 8               </td><td>18.6             </td><td>2.6              </td><td> 3.5             </td><td>0.750            </td><td>0.8              </td><td>1.1              </td><td>⋯                </td><td>0.846            </td><td>2.0              </td><td>1.1              </td><td>0.2              </td><td>1.2              </td><td> 1.5             </td><td>2.8              </td><td>1.1              </td><td>0.1              </td><td> 7.4             </td></tr>\n",
       "\t<tr><td>375              </td><td>Joe Young        </td><td>IND              </td><td> 7               </td><td> 5.7             </td><td>1.3              </td><td> 2.7             </td><td>0.474            </td><td>0.0              </td><td>0.9              </td><td>⋯                </td><td>0.750            </td><td>0.4              </td><td>0.4              </td><td>0.1              </td><td>0.6              </td><td> 0.7             </td><td>0.9              </td><td>0.1              </td><td>0.0              </td><td> 3.0             </td></tr>\n",
       "\t<tr><td>376              </td><td>Nick Young       </td><td>GSW              </td><td>14               </td><td>13.6             </td><td>2.5              </td><td> 5.8             </td><td>0.432            </td><td>1.4              </td><td>4.1              </td><td>⋯                </td><td>0.667            </td><td>0.6              </td><td>0.9              </td><td>0.1              </td><td>1.5              </td><td> 1.6             </td><td>0.8              </td><td>0.8              </td><td>0.1              </td><td> 7.1             </td></tr>\n",
       "\t<tr><td>377              </td><td>Thaddeus Young   </td><td>IND              </td><td>15               </td><td>33.8             </td><td>6.0              </td><td>12.1             </td><td>0.495            </td><td>1.1              </td><td>3.0              </td><td>⋯                </td><td>0.556            </td><td>1.5              </td><td>2.1              </td><td>1.6              </td><td>4.2              </td><td> 5.8             </td><td>2.5              </td><td>1.9              </td><td>0.2              </td><td>13.4             </td></tr>\n",
       "\t<tr><td>378              </td><td>Cody Zeller      </td><td>CHA              </td><td>13               </td><td>19.3             </td><td>2.2              </td><td> 4.6             </td><td>0.483            </td><td>0.1              </td><td>0.1              </td><td>⋯                </td><td>0.644            </td><td>0.9              </td><td>2.7              </td><td>2.3              </td><td>2.8              </td><td> 5.1             </td><td>0.9              </td><td>0.5              </td><td>0.8              </td><td> 6.8             </td></tr>\n",
       "\t<tr><td>379              </td><td>Tyler Zeller     </td><td>MIL              </td><td>10               </td><td>20.2             </td><td>3.7              </td><td> 5.8             </td><td>0.638            </td><td>0.3              </td><td>0.6              </td><td>⋯                </td><td>0.654            </td><td>1.2              </td><td>2.0              </td><td>1.8              </td><td>2.1              </td><td> 3.9             </td><td>1.0              </td><td>0.6              </td><td>0.7              </td><td> 9.4             </td></tr>\n",
       "\t<tr><td>380              </td><td>Paul Zipser      </td><td>CHI              </td><td>13               </td><td>13.6             </td><td>1.2              </td><td> 4.5             </td><td>0.276            </td><td>0.4              </td><td>1.9              </td><td>⋯                </td><td>0.500            </td><td>0.6              </td><td>1.2              </td><td>0.1              </td><td>2.7              </td><td> 2.8             </td><td>0.8              </td><td>0.4              </td><td>0.2              </td><td> 2.9             </td></tr>\n",
       "\t<tr><td>381              </td><td>Ante Zizic       </td><td>CLE              </td><td> 6               </td><td> 2.6             </td><td>0.3              </td><td> 0.7             </td><td>0.500            </td><td>0.0              </td><td>0.0              </td><td>⋯                </td><td>0.000            </td><td>0.2              </td><td>0.5              </td><td>0.2              </td><td>0.0              </td><td> 0.2             </td><td>0.0              </td><td>0.0              </td><td>0.2              </td><td> 0.7             </td></tr>\n",
       "</tbody>\n",
       "</table>\n"
      ],
      "text/latex": [
       "\\begin{tabular}{r|lllllllllllllllllllllll}\n",
       " \\# & Player & Team & GP & MPG & FGM & FGA & FG\\% & 3PM & 3PA & ⋯ & FT\\% & TOV & PF & ORB & DRB & RPG & APG & SPG & BPG & PPG\\\\\n",
       "\\hline\n",
       "\t  1                    & Alex Abrines          & OKC                   & 12                    & 12.8                  & 1.2                   &  3.2                  & 0.385                 & 0.8                   & 2.4                   & ⋯                     & 0.778                 & 0.2                   & 1.1                   & 0.3                   & 0.9                   &  1.2                  & 0.2                   & 0.2                   & 0.1                   &  3.8                 \\\\\n",
       "\t  2                    & Quincy Acy            & BRK                   & 10                    & 20.6                  & 1.3                   &  5.3                  & 0.245                 & 0.9                   & 3.9                   & ⋯                     & 0.818                 & 0.8                   & 2.1                   & 0.7                   & 4.1                   &  4.8                  & 1.1                   & 0.4                   & 0.3                   &  5.3                 \\\\\n",
       "\t  3                    & Steven Adams          & OKC                   & 10                    & 31.3                  & 4.2                   &  7.6                  & 0.553                 & 0.0                   & 0.0                   & ⋯                     & 0.655                 & 2.0                   & 3.3                   & 4.0                   & 3.7                   &  7.7                  & 0.4                   & 1.3                   & 1.1                   & 10.3                 \\\\\n",
       "\t  4                    & Bam Adebayo           & MIA                   &  8                    & 11.5                  & 1.9                   &  2.2                  & 0.833                 & 0.0                   & 0.0                   & ⋯                     & 0.833                 & 0.4                   & 0.6                   & 0.5                   & 2.4                   &  2.9                  & 0.2                   & 0.6                   & 0.4                   &  5.0                 \\\\\n",
       "\t  5                    & Arron Afflalo         & ORL                   & 12                    & 12.8                  & 0.8                   &  2.3                  & 0.357                 & 0.4                   & 1.2                   & ⋯                     & 0.333                 & 0.5                   & 1.1                   & 0.1                   & 1.8                   &  1.9                  & 0.5                   & 0.1                   & 0.2                   &  2.2                 \\\\\n",
       "\t  6                    & LaMarcus Aldridge     & SAS                   & 14                    & 33.0                  & 8.9                   & 16.7                  & 0.534                 & 0.6                   & 1.5                   & ⋯                     & 0.861                 & 1.4                   & 2.4                   & 3.0                   & 5.1                   &  8.1                  & 2.5                   & 0.6                   & 1.3                   & 22.9                 \\\\\n",
       "\t  7                    & Jarrett Allen         & BRK                   &  7                    & 15.8                  & 1.9                   &  3.4                  & 0.542                 & 0.0                   & 0.0                   & ⋯                     & 0.833                 & 0.4                   & 1.3                   & 1.6                   & 3.1                   &  4.7                  & 0.6                   & 0.4                   & 0.4                   &  4.4                 \\\\\n",
       "\t  8                    & Tony Allen            & NOP                   & 10                    & 15.6                  & 2.6                   &  5.3                  & 0.491                 & 0.2                   & 0.6                   & ⋯                     & 0.556                 & 1.0                   & 2.5                   & 1.2                   & 1.9                   &  3.1                  & 0.8                   & 0.6                   & 0.1                   &  5.9                 \\\\\n",
       "\t  9                    & Al-Farouq Aminu       & POR                   &  2                    & 26.9                  & 2.0                   &  4.5                  & 0.444                 & 2.0                   & 3.5                   & ⋯                     & 0.500                 & 1.5                   & 1.5                   & 1.5                   & 4.0                   &  5.5                  & 0.0                   & 0.0                   & 0.5                   &  7.0                 \\\\\n",
       "\t 10                    & Justin Anderson       & PHI                   &  5                    & 13.3                  & 2.0                   &  4.6                  & 0.435                 & 0.8                   & 2.2                   & ⋯                     & 1.000                 & 0.4                   & 2.0                   & 1.4                   & 2.2                   &  3.6                  & 0.4                   & 0.4                   & 0.0                   &  5.4                 \\\\\n",
       "\t 11                    & Kyle Anderson         & SAS                   & 14                    & 28.5                  & 3.9                   &  6.9                  & 0.557                 & 0.1                   & 0.4                   & ⋯                     & 0.811                 & 1.4                   & 1.6                   & 1.1                   & 4.6                   &  5.7                  & 3.8                   & 1.6                   & 1.0                   &  9.9                 \\\\\n",
       "\t 12                    & Ryan Anderson         & HOU                   & 12                    & 28.8                  & 4.4                   &  8.9                  & 0.495                 & 2.8                   & 6.6                   & ⋯                     & 0.833                 & 1.0                   & 2.0                   & 1.3                   & 4.4                   &  5.8                  & 0.8                   & 0.2                   & 0.3                   & 12.9                 \\\\\n",
       "\t 13                    & Giannis Antetokounmpo & MIL                   & 12                    & 37.1                  & 9.9                   & 20.0                  & 0.496                 & 0.2                   & 1.5                   & ⋯                     & 0.748                 & 2.5                   & 3.6                   & 2.2                   & 7.8                   & 10.0                  & 4.0                   & 1.8                   & 2.2                   & 26.5                 \\\\\n",
       "\t 14                    & Carmelo Anthony       & OKC                   & 12                    & 32.0                  & 6.2                   & 15.9                  & 0.387                 & 2.4                   & 6.3                   & ⋯                     & 0.804                 & 1.6                   & 2.8                   & 1.2                   & 6.0                   &  7.2                  & 1.6                   & 0.8                   & 0.5                   & 17.8                 \\\\\n",
       "\t 15                    & Ogugua Anunoby        & TOR                   & 14                    & 19.3                  & 2.4                   &  4.2                  & 0.576                 & 1.1                   & 2.4                   & ⋯                     & 0.562                 & 0.4                   & 1.9                   & 0.3                   & 1.6                   &  1.9                  & 0.8                   & 0.9                   & 0.1                   &  6.6                 \\\\\n",
       "\t 16                    & Trevor Ariza          & HOU                   & 13                    & 33.5                  & 5.1                   & 10.2                  & 0.496                 & 3.5                   & 7.9                   & ⋯                     & 0.833                 & 1.0                   & 1.7                   & 0.8                   & 3.8                   &  4.6                  & 1.6                   & 1.5                   & 0.2                   & 14.5                 \\\\\n",
       "\t 17                    & D.J. Augustin         & ORL                   &  8                    & 17.0                  & 2.8                   &  5.0                  & 0.550                 & 1.0                   & 2.1                   & ⋯                     & 0.733                 & 1.8                   & 1.2                   & 0.1                   & 1.2                   &  1.4                  & 2.6                   & 0.2                   & 0.0                   &  7.9                 \\\\\n",
       "\t 18                    & Luke Babbitt          & MIA                   & 11                    & 24.4                  & 3.7                   &  7.6                  & 0.488                 & 2.5                   & 5.0                   & ⋯                     & 0.625                 & 0.9                   & 2.1                   & 0.3                   & 3.0                   &  3.3                  & 1.4                   & 0.4                   & 0.3                   & 10.4                 \\\\\n",
       "\t 19                    & Dwayne Bacon          & CHA                   & 13                    & 16.6                  & 1.8                   &  4.5                  & 0.407                 & 0.4                   & 0.9                   & ⋯                     & 0.857                 & 0.5                   & 1.5                   & 0.1                   & 2.8                   &  2.9                  & 0.8                   & 0.3                   & 0.1                   &  4.5                 \\\\\n",
       "\t 20                    & Lonzo Ball            & LAL                   & 14                    & 33.1                  & 3.2                   & 10.6                  & 0.304                 & 1.2                   & 5.0                   & ⋯                     & 0.429                 & 2.4                   & 2.4                   & 1.5                   & 5.4                   &  6.9                  & 7.4                   & 1.5                   & 0.9                   &  8.3                 \\\\\n",
       "\t 21                    & J.J. Barea            & DAL                   & 14                    & 21.5                  & 3.9                   &  9.8                  & 0.401                 & 1.6                   & 4.9                   & ⋯                     & 0.815                 & 1.8                   & 1.6                   & 0.3                   & 2.6                   &  2.9                  & 5.2                   & 0.5                   & 0.0                   & 11.1                 \\\\\n",
       "\t 22                    & Harrison Barnes       & DAL                   & 14                    & 35.5                  & 7.1                   & 15.1                  & 0.474                 & 1.1                   & 3.4                   & ⋯                     & 0.867                 & 2.2                   & 2.1                   & 1.1                   & 6.9                   &  8.0                  & 2.1                   & 0.9                   & 0.2                   & 20.0                 \\\\\n",
       "\t 23                    & Will Barton           & DEN                   & 14                    & 30.6                  & 5.7                   & 11.5                  & 0.497                 & 2.2                   & 4.9                   & ⋯                     & 0.735                 & 2.0                   & 1.6                   & 0.8                   & 4.3                   &  5.1                  & 2.9                   & 1.1                   & 0.5                   & 16.2                 \\\\\n",
       "\t 24                    & Nicolas Batum         & CHA                   &  7                    & 26.3                  & 3.6                   &  9.6                  & 0.373                 & 0.9                   & 4.0                   & ⋯                     & 0.938                 & 1.6                   & 1.0                   & 0.4                   & 2.9                   &  3.3                  & 3.7                   & 0.9                   & 0.3                   & 10.1                 \\\\\n",
       "\t 25                    & Jerryd Bayless        & PHI                   &  8                    & 25.1                  & 2.9                   &  6.6                  & 0.434                 & 0.8                   & 2.9                   & ⋯                     & 0.765                 & 1.2                   & 2.1                   & 0.4                   & 1.5                   &  1.9                  & 2.1                   & 0.6                   & 0.4                   &  8.1                 \\\\\n",
       "\t 26                    & Aron Baynes           & BOS                   & 16                    & 17.4                  & 2.2                   &  4.9                  & 0.443                 & 0.0                   & 0.2                   & ⋯                     & 0.600                 & 1.0                   & 1.6                   & 2.1                   & 3.4                   &  5.5                  & 0.8                   & 0.4                   & 0.5                   &  5.1                 \\\\\n",
       "\t 27                    & Kent Bazemore         & ATL                   & 14                    & 27.9                  & 4.1                   & 10.0                  & 0.407                 & 1.5                   & 4.1                   & ⋯                     & 0.723                 & 2.3                   & 2.2                   & 0.4                   & 4.4                   &  4.8                  & 3.6                   & 1.9                   & 0.4                   & 12.1                 \\\\\n",
       "\t 28                    & Bradley Beal          & WAS                   & 15                    & 35.7                  & 8.6                   & 18.6                  & 0.462                 & 2.8                   & 6.8                   & ⋯                     & 0.826                 & 2.9                   & 1.9                   & 0.7                   & 3.7                   &  4.5                  & 3.7                   & 1.1                   & 0.4                   & 24.7                 \\\\\n",
       "\t 29                    & Malik Beasley         & DEN                   & 12                    &  9.2                  & 1.3                   &  3.2                  & 0.410                 & 0.4                   & 1.5                   & ⋯                     & 0.545                 & 0.6                   & 0.6                   & 0.4                   & 1.4                   &  1.8                  & 0.6                   & 0.2                   & 0.0                   &  3.6                 \\\\\n",
       "\t 30                    & Michael Beasley       & NYK                   & 10                    & 15.6                  & 3.8                   &  7.0                  & 0.543                 & 0.0                   & 0.5                   & ⋯                     & 0.615                 & 1.9                   & 1.4                   & 1.4                   & 2.8                   &  4.2                  & 1.0                   & 0.0                   & 0.6                   &  8.4                 \\\\\n",
       "\t ⋮ & ⋮ & ⋮ & ⋮ & ⋮ & ⋮ & ⋮ & ⋮ & ⋮ & ⋮ & ⋱ & ⋮ & ⋮ & ⋮ & ⋮ & ⋮ & ⋮ & ⋮ & ⋮ & ⋮ & ⋮\\\\\n",
       "\t 352               & Rashad Vaughn     & ORL               &  6                &  3.7              & 0.2               &  0.8              & 0.200             & 0.0               & 0.3               & ⋯                 & 0.000             & 0.0               & 0.3               & 0.0               & 0.0               &  0.0              & 0.2               & 0.0               & 0.3               &  0.3             \\\\\n",
       "\t 353               & Noah Vonleh       & CHI               & 15                & 22.8              & 2.1               &  3.9              & 0.542             & 0.0               & 0.0               & ⋯                 & 0.750             & 0.7               & 2.3               & 1.9               & 6.1               &  7.9              & 0.6               & 0.3               & 0.5               &  5.3             \\\\\n",
       "\t 354               & Nikola Vucevic    & ORL               & 15                & 29.4              & 6.0               & 13.5              & 0.443             & 1.4               & 4.1               & ⋯                 & 0.800             & 2.0               & 2.5               & 1.6               & 6.7               &  8.3              & 3.2               & 1.1               & 0.7               & 14.5             \\\\\n",
       "\t 355               & Dwyane Wade       & MIA               & 15                & 23.7              & 4.6               & 10.5              & 0.437             & 0.5               & 1.3               & ⋯                 & 0.741             & 2.0               & 2.3               & 0.9               & 3.7               &  4.6              & 3.9               & 1.1               & 0.9               & 12.3             \\\\\n",
       "\t 356               & Dion Waiters      & MIA               & 13                & 30.8              & 5.6               & 14.9              & 0.376             & 2.2               & 6.7               & ⋯                 & 0.826             & 2.9               & 2.2               & 0.5               & 2.3               &  2.8              & 4.2               & 0.7               & 0.2               & 14.9             \\\\\n",
       "\t 357               & Kemba Walker      & CHA               & 12                & 35.4              & 7.2               & 16.8              & 0.431             & 2.5               & 7.0               & ⋯                 & 0.803             & 2.0               & 1.7               & 0.7               & 3.1               &  3.8              & 6.1               & 0.5               & 0.2               & 21.1             \\\\\n",
       "\t 358               & John Wall         & WAS               & 10                & 34.0              & 6.9               & 14.9              & 0.463             & 1.0               & 3.3               & ⋯                 & 0.701             & 2.2               & 2.5               & 0.3               & 3.5               &  3.8              & 8.5               & 1.1               & 1.1               & 19.5             \\\\\n",
       "\t 359               & T.J. Warren       & PHX               & 16                & 32.4              & 8.2               & 16.4              & 0.502             & 0.2               & 1.6               & ⋯                 & 0.754             & 1.1               & 2.0               & 2.2               & 3.4               &  5.7              & 1.2               & 0.8               & 0.9               & 19.9             \\\\\n",
       "\t 360               & David West        & GSW               & 12                & 12.1              & 2.7               &  4.1              & 0.653             & 0.1               & 0.2               & ⋯                 & 0.818             & 1.0               & 1.2               & 0.4               & 3.0               &  3.4              & 1.8               & 0.6               & 0.9               &  6.2             \\\\\n",
       "\t 361               & Russell Westbrook & OKC               & 13                & 36.4              & 8.0               & 21.1              & 0.380             & 2.3               & 6.7               & ⋯                 & 0.766             & 4.3               & 2.8               & 1.5               & 7.2               &  8.8              & 8.2               & 2.7               & 0.0               & 23.8             \\\\\n",
       "\t 362               & Okaro White       & MIA               &  4                & 15.7              & 1.2               &  3.5              & 0.357             & 0.8               & 2.5               & ⋯                 & 1.000             & 0.2               & 1.2               & 0.5               & 2.0               &  2.5              & 0.5               & 0.0               & 0.0               &  3.5             \\\\\n",
       "\t 363               & Isaiah Whitehead  & BRK               &  6                & 14.0              & 3.3               &  6.8              & 0.488             & 0.3               & 1.3               & ⋯                 & 0.600             & 2.7               & 2.2               & 0.2               & 1.7               &  1.8              & 2.0               & 0.8               & 0.3               &  8.0             \\\\\n",
       "\t 364               & Hassan Whiteside  & MIA               & 14                & 26.1              & 5.9               & 10.1              & 0.577             & 0.1               & 0.1               & ⋯                 & 0.673             & 1.6               & 2.2               & 2.6               & 9.4               & 12.1              & 0.4               & 1.1               & 1.6               & 14.1             \\\\\n",
       "\t 365               & Andrew Wiggins    & MIN               & 15                & 37.4              & 7.2               & 15.4              & 0.468             & 1.1               & 3.8               & ⋯                 & 0.676             & 1.9               & 1.4               & 0.9               & 2.9               &  3.8              & 2.3               & 1.3               & 0.8               & 18.7             \\\\\n",
       "\t 366               & Damien Wilkins    & IND               &  6                &  6.0              & 1.0               &  1.7              & 0.600             & 0.0               & 0.3               & ⋯                 & 0.000             & 0.3               & 0.3               & 0.7               & 0.3               &  1.0              & 0.3               & 0.2               & 0.0               &  2.0             \\\\\n",
       "\t 367               & C.J. Williams     & LAC               &  8                &  7.6              & 0.9               &  1.9              & 0.467             & 0.1               & 0.8               & ⋯                 & 0.500             & 0.2               & 0.4               & 0.0               & 1.0               &  1.0              & 0.8               & 0.1               & 0.0               &  2.0             \\\\\n",
       "\t 368               & Lou Williams      & LAC               & 14                & 32.3              & 7.1               & 15.3              & 0.463             & 2.7               & 6.7               & ⋯                 & 0.908             & 3.4               & 1.4               & 0.6               & 2.4               &  3.0              & 4.1               & 1.3               & 0.3               & 21.1             \\\\\n",
       "\t 369               & Marvin Williams   & CHA               & 13                & 25.7              & 3.2               &  7.0              & 0.462             & 1.8               & 3.8               & ⋯                 & 1.000             & 0.3               & 1.3               & 0.8               & 3.3               &  4.1              & 1.1               & 0.8               & 0.3               &  9.6             \\\\\n",
       "\t 370               & D.J. Wilson       & MIL               &  6                &  3.4              & 0.3               &  0.8              & 0.400             & 0.0               & 0.3               & ⋯                 & 0.000             & 0.2               & 0.3               & 0.0               & 0.5               &  0.5              & 0.2               & 0.0               & 0.0               &  0.7             \\\\\n",
       "\t 371               & Justise Winslow   & MIA               & 15                & 22.2              & 2.4               &  6.3              & 0.383             & 0.5               & 1.4               & ⋯                 & 0.700             & 1.3               & 1.9               & 0.9               & 4.5               &  5.4              & 1.8               & 0.9               & 0.3               &  6.3             \\\\\n",
       "\t 372               & Jeff Withey       & DAL               &  5                &  2.7              & 0.4               &  1.4              & 0.286             & 0.2               & 1.0               & ⋯                 & 0.000             & 0.0               & 0.2               & 0.0               & 0.6               &  0.6              & 0.0               & 0.0               & 0.4               &  1.0             \\\\\n",
       "\t 373               & Brandan Wright    & HOU               &  8                & 15.2              & 2.5               &  4.5              & 0.556             & 0.0               & 0.0               & ⋯                 & 0.667             & 0.2               & 1.1               & 1.4               & 2.2               &  3.6              & 0.6               & 0.6               & 1.5               &  6.5             \\\\\n",
       "\t 374               & Delon Wright      & TOR               &  8                & 18.6              & 2.6               &  3.5              & 0.750             & 0.8               & 1.1               & ⋯                 & 0.846             & 2.0               & 1.1               & 0.2               & 1.2               &  1.5              & 2.8               & 1.1               & 0.1               &  7.4             \\\\\n",
       "\t 375               & Joe Young         & IND               &  7                &  5.7              & 1.3               &  2.7              & 0.474             & 0.0               & 0.9               & ⋯                 & 0.750             & 0.4               & 0.4               & 0.1               & 0.6               &  0.7              & 0.9               & 0.1               & 0.0               &  3.0             \\\\\n",
       "\t 376               & Nick Young        & GSW               & 14                & 13.6              & 2.5               &  5.8              & 0.432             & 1.4               & 4.1               & ⋯                 & 0.667             & 0.6               & 0.9               & 0.1               & 1.5               &  1.6              & 0.8               & 0.8               & 0.1               &  7.1             \\\\\n",
       "\t 377               & Thaddeus Young    & IND               & 15                & 33.8              & 6.0               & 12.1              & 0.495             & 1.1               & 3.0               & ⋯                 & 0.556             & 1.5               & 2.1               & 1.6               & 4.2               &  5.8              & 2.5               & 1.9               & 0.2               & 13.4             \\\\\n",
       "\t 378               & Cody Zeller       & CHA               & 13                & 19.3              & 2.2               &  4.6              & 0.483             & 0.1               & 0.1               & ⋯                 & 0.644             & 0.9               & 2.7               & 2.3               & 2.8               &  5.1              & 0.9               & 0.5               & 0.8               &  6.8             \\\\\n",
       "\t 379               & Tyler Zeller      & MIL               & 10                & 20.2              & 3.7               &  5.8              & 0.638             & 0.3               & 0.6               & ⋯                 & 0.654             & 1.2               & 2.0               & 1.8               & 2.1               &  3.9              & 1.0               & 0.6               & 0.7               &  9.4             \\\\\n",
       "\t 380               & Paul Zipser       & CHI               & 13                & 13.6              & 1.2               &  4.5              & 0.276             & 0.4               & 1.9               & ⋯                 & 0.500             & 0.6               & 1.2               & 0.1               & 2.7               &  2.8              & 0.8               & 0.4               & 0.2               &  2.9             \\\\\n",
       "\t 381               & Ante Zizic        & CLE               &  6                &  2.6              & 0.3               &  0.7              & 0.500             & 0.0               & 0.0               & ⋯                 & 0.000             & 0.2               & 0.5               & 0.2               & 0.0               &  0.2              & 0.0               & 0.0               & 0.2               &  0.7             \\\\\n",
       "\\end{tabular}\n"
      ],
      "text/markdown": [
       "\n",
       "# | Player | Team | GP | MPG | FGM | FGA | FG% | 3PM | 3PA | ⋯ | FT% | TOV | PF | ORB | DRB | RPG | APG | SPG | BPG | PPG | \n",
       "|---|---|---|---|---|---|---|---|---|---|---|---|---|---|---|---|---|---|---|---|---|---|---|---|---|---|---|---|---|---|---|---|---|---|---|---|---|---|---|---|---|---|---|---|---|---|---|---|---|---|---|---|---|---|---|---|---|---|---|---|---|\n",
       "|  1                    | Alex Abrines          | OKC                   | 12                    | 12.8                  | 1.2                   |  3.2                  | 0.385                 | 0.8                   | 2.4                   | ⋯                     | 0.778                 | 0.2                   | 1.1                   | 0.3                   | 0.9                   |  1.2                  | 0.2                   | 0.2                   | 0.1                   |  3.8                  | \n",
       "|  2                    | Quincy Acy            | BRK                   | 10                    | 20.6                  | 1.3                   |  5.3                  | 0.245                 | 0.9                   | 3.9                   | ⋯                     | 0.818                 | 0.8                   | 2.1                   | 0.7                   | 4.1                   |  4.8                  | 1.1                   | 0.4                   | 0.3                   |  5.3                  | \n",
       "|  3                    | Steven Adams          | OKC                   | 10                    | 31.3                  | 4.2                   |  7.6                  | 0.553                 | 0.0                   | 0.0                   | ⋯                     | 0.655                 | 2.0                   | 3.3                   | 4.0                   | 3.7                   |  7.7                  | 0.4                   | 1.3                   | 1.1                   | 10.3                  | \n",
       "|  4                    | Bam Adebayo           | MIA                   |  8                    | 11.5                  | 1.9                   |  2.2                  | 0.833                 | 0.0                   | 0.0                   | ⋯                     | 0.833                 | 0.4                   | 0.6                   | 0.5                   | 2.4                   |  2.9                  | 0.2                   | 0.6                   | 0.4                   |  5.0                  | \n",
       "|  5                    | Arron Afflalo         | ORL                   | 12                    | 12.8                  | 0.8                   |  2.3                  | 0.357                 | 0.4                   | 1.2                   | ⋯                     | 0.333                 | 0.5                   | 1.1                   | 0.1                   | 1.8                   |  1.9                  | 0.5                   | 0.1                   | 0.2                   |  2.2                  | \n",
       "|  6                    | LaMarcus Aldridge     | SAS                   | 14                    | 33.0                  | 8.9                   | 16.7                  | 0.534                 | 0.6                   | 1.5                   | ⋯                     | 0.861                 | 1.4                   | 2.4                   | 3.0                   | 5.1                   |  8.1                  | 2.5                   | 0.6                   | 1.3                   | 22.9                  | \n",
       "|  7                    | Jarrett Allen         | BRK                   |  7                    | 15.8                  | 1.9                   |  3.4                  | 0.542                 | 0.0                   | 0.0                   | ⋯                     | 0.833                 | 0.4                   | 1.3                   | 1.6                   | 3.1                   |  4.7                  | 0.6                   | 0.4                   | 0.4                   |  4.4                  | \n",
       "|  8                    | Tony Allen            | NOP                   | 10                    | 15.6                  | 2.6                   |  5.3                  | 0.491                 | 0.2                   | 0.6                   | ⋯                     | 0.556                 | 1.0                   | 2.5                   | 1.2                   | 1.9                   |  3.1                  | 0.8                   | 0.6                   | 0.1                   |  5.9                  | \n",
       "|  9                    | Al-Farouq Aminu       | POR                   |  2                    | 26.9                  | 2.0                   |  4.5                  | 0.444                 | 2.0                   | 3.5                   | ⋯                     | 0.500                 | 1.5                   | 1.5                   | 1.5                   | 4.0                   |  5.5                  | 0.0                   | 0.0                   | 0.5                   |  7.0                  | \n",
       "| 10                    | Justin Anderson       | PHI                   |  5                    | 13.3                  | 2.0                   |  4.6                  | 0.435                 | 0.8                   | 2.2                   | ⋯                     | 1.000                 | 0.4                   | 2.0                   | 1.4                   | 2.2                   |  3.6                  | 0.4                   | 0.4                   | 0.0                   |  5.4                  | \n",
       "| 11                    | Kyle Anderson         | SAS                   | 14                    | 28.5                  | 3.9                   |  6.9                  | 0.557                 | 0.1                   | 0.4                   | ⋯                     | 0.811                 | 1.4                   | 1.6                   | 1.1                   | 4.6                   |  5.7                  | 3.8                   | 1.6                   | 1.0                   |  9.9                  | \n",
       "| 12                    | Ryan Anderson         | HOU                   | 12                    | 28.8                  | 4.4                   |  8.9                  | 0.495                 | 2.8                   | 6.6                   | ⋯                     | 0.833                 | 1.0                   | 2.0                   | 1.3                   | 4.4                   |  5.8                  | 0.8                   | 0.2                   | 0.3                   | 12.9                  | \n",
       "| 13                    | Giannis Antetokounmpo | MIL                   | 12                    | 37.1                  | 9.9                   | 20.0                  | 0.496                 | 0.2                   | 1.5                   | ⋯                     | 0.748                 | 2.5                   | 3.6                   | 2.2                   | 7.8                   | 10.0                  | 4.0                   | 1.8                   | 2.2                   | 26.5                  | \n",
       "| 14                    | Carmelo Anthony       | OKC                   | 12                    | 32.0                  | 6.2                   | 15.9                  | 0.387                 | 2.4                   | 6.3                   | ⋯                     | 0.804                 | 1.6                   | 2.8                   | 1.2                   | 6.0                   |  7.2                  | 1.6                   | 0.8                   | 0.5                   | 17.8                  | \n",
       "| 15                    | Ogugua Anunoby        | TOR                   | 14                    | 19.3                  | 2.4                   |  4.2                  | 0.576                 | 1.1                   | 2.4                   | ⋯                     | 0.562                 | 0.4                   | 1.9                   | 0.3                   | 1.6                   |  1.9                  | 0.8                   | 0.9                   | 0.1                   |  6.6                  | \n",
       "| 16                    | Trevor Ariza          | HOU                   | 13                    | 33.5                  | 5.1                   | 10.2                  | 0.496                 | 3.5                   | 7.9                   | ⋯                     | 0.833                 | 1.0                   | 1.7                   | 0.8                   | 3.8                   |  4.6                  | 1.6                   | 1.5                   | 0.2                   | 14.5                  | \n",
       "| 17                    | D.J. Augustin         | ORL                   |  8                    | 17.0                  | 2.8                   |  5.0                  | 0.550                 | 1.0                   | 2.1                   | ⋯                     | 0.733                 | 1.8                   | 1.2                   | 0.1                   | 1.2                   |  1.4                  | 2.6                   | 0.2                   | 0.0                   |  7.9                  | \n",
       "| 18                    | Luke Babbitt          | MIA                   | 11                    | 24.4                  | 3.7                   |  7.6                  | 0.488                 | 2.5                   | 5.0                   | ⋯                     | 0.625                 | 0.9                   | 2.1                   | 0.3                   | 3.0                   |  3.3                  | 1.4                   | 0.4                   | 0.3                   | 10.4                  | \n",
       "| 19                    | Dwayne Bacon          | CHA                   | 13                    | 16.6                  | 1.8                   |  4.5                  | 0.407                 | 0.4                   | 0.9                   | ⋯                     | 0.857                 | 0.5                   | 1.5                   | 0.1                   | 2.8                   |  2.9                  | 0.8                   | 0.3                   | 0.1                   |  4.5                  | \n",
       "| 20                    | Lonzo Ball            | LAL                   | 14                    | 33.1                  | 3.2                   | 10.6                  | 0.304                 | 1.2                   | 5.0                   | ⋯                     | 0.429                 | 2.4                   | 2.4                   | 1.5                   | 5.4                   |  6.9                  | 7.4                   | 1.5                   | 0.9                   |  8.3                  | \n",
       "| 21                    | J.J. Barea            | DAL                   | 14                    | 21.5                  | 3.9                   |  9.8                  | 0.401                 | 1.6                   | 4.9                   | ⋯                     | 0.815                 | 1.8                   | 1.6                   | 0.3                   | 2.6                   |  2.9                  | 5.2                   | 0.5                   | 0.0                   | 11.1                  | \n",
       "| 22                    | Harrison Barnes       | DAL                   | 14                    | 35.5                  | 7.1                   | 15.1                  | 0.474                 | 1.1                   | 3.4                   | ⋯                     | 0.867                 | 2.2                   | 2.1                   | 1.1                   | 6.9                   |  8.0                  | 2.1                   | 0.9                   | 0.2                   | 20.0                  | \n",
       "| 23                    | Will Barton           | DEN                   | 14                    | 30.6                  | 5.7                   | 11.5                  | 0.497                 | 2.2                   | 4.9                   | ⋯                     | 0.735                 | 2.0                   | 1.6                   | 0.8                   | 4.3                   |  5.1                  | 2.9                   | 1.1                   | 0.5                   | 16.2                  | \n",
       "| 24                    | Nicolas Batum         | CHA                   |  7                    | 26.3                  | 3.6                   |  9.6                  | 0.373                 | 0.9                   | 4.0                   | ⋯                     | 0.938                 | 1.6                   | 1.0                   | 0.4                   | 2.9                   |  3.3                  | 3.7                   | 0.9                   | 0.3                   | 10.1                  | \n",
       "| 25                    | Jerryd Bayless        | PHI                   |  8                    | 25.1                  | 2.9                   |  6.6                  | 0.434                 | 0.8                   | 2.9                   | ⋯                     | 0.765                 | 1.2                   | 2.1                   | 0.4                   | 1.5                   |  1.9                  | 2.1                   | 0.6                   | 0.4                   |  8.1                  | \n",
       "| 26                    | Aron Baynes           | BOS                   | 16                    | 17.4                  | 2.2                   |  4.9                  | 0.443                 | 0.0                   | 0.2                   | ⋯                     | 0.600                 | 1.0                   | 1.6                   | 2.1                   | 3.4                   |  5.5                  | 0.8                   | 0.4                   | 0.5                   |  5.1                  | \n",
       "| 27                    | Kent Bazemore         | ATL                   | 14                    | 27.9                  | 4.1                   | 10.0                  | 0.407                 | 1.5                   | 4.1                   | ⋯                     | 0.723                 | 2.3                   | 2.2                   | 0.4                   | 4.4                   |  4.8                  | 3.6                   | 1.9                   | 0.4                   | 12.1                  | \n",
       "| 28                    | Bradley Beal          | WAS                   | 15                    | 35.7                  | 8.6                   | 18.6                  | 0.462                 | 2.8                   | 6.8                   | ⋯                     | 0.826                 | 2.9                   | 1.9                   | 0.7                   | 3.7                   |  4.5                  | 3.7                   | 1.1                   | 0.4                   | 24.7                  | \n",
       "| 29                    | Malik Beasley         | DEN                   | 12                    |  9.2                  | 1.3                   |  3.2                  | 0.410                 | 0.4                   | 1.5                   | ⋯                     | 0.545                 | 0.6                   | 0.6                   | 0.4                   | 1.4                   |  1.8                  | 0.6                   | 0.2                   | 0.0                   |  3.6                  | \n",
       "| 30                    | Michael Beasley       | NYK                   | 10                    | 15.6                  | 3.8                   |  7.0                  | 0.543                 | 0.0                   | 0.5                   | ⋯                     | 0.615                 | 1.9                   | 1.4                   | 1.4                   | 2.8                   |  4.2                  | 1.0                   | 0.0                   | 0.6                   |  8.4                  | \n",
       "| ⋮ | ⋮ | ⋮ | ⋮ | ⋮ | ⋮ | ⋮ | ⋮ | ⋮ | ⋮ | ⋱ | ⋮ | ⋮ | ⋮ | ⋮ | ⋮ | ⋮ | ⋮ | ⋮ | ⋮ | ⋮ | \n",
       "| 352               | Rashad Vaughn     | ORL               |  6                |  3.7              | 0.2               |  0.8              | 0.200             | 0.0               | 0.3               | ⋯                 | 0.000             | 0.0               | 0.3               | 0.0               | 0.0               |  0.0              | 0.2               | 0.0               | 0.3               |  0.3              | \n",
       "| 353               | Noah Vonleh       | CHI               | 15                | 22.8              | 2.1               |  3.9              | 0.542             | 0.0               | 0.0               | ⋯                 | 0.750             | 0.7               | 2.3               | 1.9               | 6.1               |  7.9              | 0.6               | 0.3               | 0.5               |  5.3              | \n",
       "| 354               | Nikola Vucevic    | ORL               | 15                | 29.4              | 6.0               | 13.5              | 0.443             | 1.4               | 4.1               | ⋯                 | 0.800             | 2.0               | 2.5               | 1.6               | 6.7               |  8.3              | 3.2               | 1.1               | 0.7               | 14.5              | \n",
       "| 355               | Dwyane Wade       | MIA               | 15                | 23.7              | 4.6               | 10.5              | 0.437             | 0.5               | 1.3               | ⋯                 | 0.741             | 2.0               | 2.3               | 0.9               | 3.7               |  4.6              | 3.9               | 1.1               | 0.9               | 12.3              | \n",
       "| 356               | Dion Waiters      | MIA               | 13                | 30.8              | 5.6               | 14.9              | 0.376             | 2.2               | 6.7               | ⋯                 | 0.826             | 2.9               | 2.2               | 0.5               | 2.3               |  2.8              | 4.2               | 0.7               | 0.2               | 14.9              | \n",
       "| 357               | Kemba Walker      | CHA               | 12                | 35.4              | 7.2               | 16.8              | 0.431             | 2.5               | 7.0               | ⋯                 | 0.803             | 2.0               | 1.7               | 0.7               | 3.1               |  3.8              | 6.1               | 0.5               | 0.2               | 21.1              | \n",
       "| 358               | John Wall         | WAS               | 10                | 34.0              | 6.9               | 14.9              | 0.463             | 1.0               | 3.3               | ⋯                 | 0.701             | 2.2               | 2.5               | 0.3               | 3.5               |  3.8              | 8.5               | 1.1               | 1.1               | 19.5              | \n",
       "| 359               | T.J. Warren       | PHX               | 16                | 32.4              | 8.2               | 16.4              | 0.502             | 0.2               | 1.6               | ⋯                 | 0.754             | 1.1               | 2.0               | 2.2               | 3.4               |  5.7              | 1.2               | 0.8               | 0.9               | 19.9              | \n",
       "| 360               | David West        | GSW               | 12                | 12.1              | 2.7               |  4.1              | 0.653             | 0.1               | 0.2               | ⋯                 | 0.818             | 1.0               | 1.2               | 0.4               | 3.0               |  3.4              | 1.8               | 0.6               | 0.9               |  6.2              | \n",
       "| 361               | Russell Westbrook | OKC               | 13                | 36.4              | 8.0               | 21.1              | 0.380             | 2.3               | 6.7               | ⋯                 | 0.766             | 4.3               | 2.8               | 1.5               | 7.2               |  8.8              | 8.2               | 2.7               | 0.0               | 23.8              | \n",
       "| 362               | Okaro White       | MIA               |  4                | 15.7              | 1.2               |  3.5              | 0.357             | 0.8               | 2.5               | ⋯                 | 1.000             | 0.2               | 1.2               | 0.5               | 2.0               |  2.5              | 0.5               | 0.0               | 0.0               |  3.5              | \n",
       "| 363               | Isaiah Whitehead  | BRK               |  6                | 14.0              | 3.3               |  6.8              | 0.488             | 0.3               | 1.3               | ⋯                 | 0.600             | 2.7               | 2.2               | 0.2               | 1.7               |  1.8              | 2.0               | 0.8               | 0.3               |  8.0              | \n",
       "| 364               | Hassan Whiteside  | MIA               | 14                | 26.1              | 5.9               | 10.1              | 0.577             | 0.1               | 0.1               | ⋯                 | 0.673             | 1.6               | 2.2               | 2.6               | 9.4               | 12.1              | 0.4               | 1.1               | 1.6               | 14.1              | \n",
       "| 365               | Andrew Wiggins    | MIN               | 15                | 37.4              | 7.2               | 15.4              | 0.468             | 1.1               | 3.8               | ⋯                 | 0.676             | 1.9               | 1.4               | 0.9               | 2.9               |  3.8              | 2.3               | 1.3               | 0.8               | 18.7              | \n",
       "| 366               | Damien Wilkins    | IND               |  6                |  6.0              | 1.0               |  1.7              | 0.600             | 0.0               | 0.3               | ⋯                 | 0.000             | 0.3               | 0.3               | 0.7               | 0.3               |  1.0              | 0.3               | 0.2               | 0.0               |  2.0              | \n",
       "| 367               | C.J. Williams     | LAC               |  8                |  7.6              | 0.9               |  1.9              | 0.467             | 0.1               | 0.8               | ⋯                 | 0.500             | 0.2               | 0.4               | 0.0               | 1.0               |  1.0              | 0.8               | 0.1               | 0.0               |  2.0              | \n",
       "| 368               | Lou Williams      | LAC               | 14                | 32.3              | 7.1               | 15.3              | 0.463             | 2.7               | 6.7               | ⋯                 | 0.908             | 3.4               | 1.4               | 0.6               | 2.4               |  3.0              | 4.1               | 1.3               | 0.3               | 21.1              | \n",
       "| 369               | Marvin Williams   | CHA               | 13                | 25.7              | 3.2               |  7.0              | 0.462             | 1.8               | 3.8               | ⋯                 | 1.000             | 0.3               | 1.3               | 0.8               | 3.3               |  4.1              | 1.1               | 0.8               | 0.3               |  9.6              | \n",
       "| 370               | D.J. Wilson       | MIL               |  6                |  3.4              | 0.3               |  0.8              | 0.400             | 0.0               | 0.3               | ⋯                 | 0.000             | 0.2               | 0.3               | 0.0               | 0.5               |  0.5              | 0.2               | 0.0               | 0.0               |  0.7              | \n",
       "| 371               | Justise Winslow   | MIA               | 15                | 22.2              | 2.4               |  6.3              | 0.383             | 0.5               | 1.4               | ⋯                 | 0.700             | 1.3               | 1.9               | 0.9               | 4.5               |  5.4              | 1.8               | 0.9               | 0.3               |  6.3              | \n",
       "| 372               | Jeff Withey       | DAL               |  5                |  2.7              | 0.4               |  1.4              | 0.286             | 0.2               | 1.0               | ⋯                 | 0.000             | 0.0               | 0.2               | 0.0               | 0.6               |  0.6              | 0.0               | 0.0               | 0.4               |  1.0              | \n",
       "| 373               | Brandan Wright    | HOU               |  8                | 15.2              | 2.5               |  4.5              | 0.556             | 0.0               | 0.0               | ⋯                 | 0.667             | 0.2               | 1.1               | 1.4               | 2.2               |  3.6              | 0.6               | 0.6               | 1.5               |  6.5              | \n",
       "| 374               | Delon Wright      | TOR               |  8                | 18.6              | 2.6               |  3.5              | 0.750             | 0.8               | 1.1               | ⋯                 | 0.846             | 2.0               | 1.1               | 0.2               | 1.2               |  1.5              | 2.8               | 1.1               | 0.1               |  7.4              | \n",
       "| 375               | Joe Young         | IND               |  7                |  5.7              | 1.3               |  2.7              | 0.474             | 0.0               | 0.9               | ⋯                 | 0.750             | 0.4               | 0.4               | 0.1               | 0.6               |  0.7              | 0.9               | 0.1               | 0.0               |  3.0              | \n",
       "| 376               | Nick Young        | GSW               | 14                | 13.6              | 2.5               |  5.8              | 0.432             | 1.4               | 4.1               | ⋯                 | 0.667             | 0.6               | 0.9               | 0.1               | 1.5               |  1.6              | 0.8               | 0.8               | 0.1               |  7.1              | \n",
       "| 377               | Thaddeus Young    | IND               | 15                | 33.8              | 6.0               | 12.1              | 0.495             | 1.1               | 3.0               | ⋯                 | 0.556             | 1.5               | 2.1               | 1.6               | 4.2               |  5.8              | 2.5               | 1.9               | 0.2               | 13.4              | \n",
       "| 378               | Cody Zeller       | CHA               | 13                | 19.3              | 2.2               |  4.6              | 0.483             | 0.1               | 0.1               | ⋯                 | 0.644             | 0.9               | 2.7               | 2.3               | 2.8               |  5.1              | 0.9               | 0.5               | 0.8               |  6.8              | \n",
       "| 379               | Tyler Zeller      | MIL               | 10                | 20.2              | 3.7               |  5.8              | 0.638             | 0.3               | 0.6               | ⋯                 | 0.654             | 1.2               | 2.0               | 1.8               | 2.1               |  3.9              | 1.0               | 0.6               | 0.7               |  9.4              | \n",
       "| 380               | Paul Zipser       | CHI               | 13                | 13.6              | 1.2               |  4.5              | 0.276             | 0.4               | 1.9               | ⋯                 | 0.500             | 0.6               | 1.2               | 0.1               | 2.7               |  2.8              | 0.8               | 0.4               | 0.2               |  2.9              | \n",
       "| 381               | Ante Zizic        | CLE               |  6                |  2.6              | 0.3               |  0.7              | 0.500             | 0.0               | 0.0               | ⋯                 | 0.000             | 0.2               | 0.5               | 0.2               | 0.0               |  0.2              | 0.0               | 0.0               | 0.2               |  0.7              | \n",
       "\n",
       "\n"
      ],
      "text/plain": [
       "    #   Player                Team GP MPG  FGM FGA  FG%   3PM 3PA ⋯ FT%   TOV\n",
       "1    1  Alex Abrines          OKC  12 12.8 1.2  3.2 0.385 0.8 2.4 ⋯ 0.778 0.2\n",
       "2    2  Quincy Acy            BRK  10 20.6 1.3  5.3 0.245 0.9 3.9 ⋯ 0.818 0.8\n",
       "3    3  Steven Adams          OKC  10 31.3 4.2  7.6 0.553 0.0 0.0 ⋯ 0.655 2.0\n",
       "4    4  Bam Adebayo           MIA   8 11.5 1.9  2.2 0.833 0.0 0.0 ⋯ 0.833 0.4\n",
       "5    5  Arron Afflalo         ORL  12 12.8 0.8  2.3 0.357 0.4 1.2 ⋯ 0.333 0.5\n",
       "6    6  LaMarcus Aldridge     SAS  14 33.0 8.9 16.7 0.534 0.6 1.5 ⋯ 0.861 1.4\n",
       "7    7  Jarrett Allen         BRK   7 15.8 1.9  3.4 0.542 0.0 0.0 ⋯ 0.833 0.4\n",
       "8    8  Tony Allen            NOP  10 15.6 2.6  5.3 0.491 0.2 0.6 ⋯ 0.556 1.0\n",
       "9    9  Al-Farouq Aminu       POR   2 26.9 2.0  4.5 0.444 2.0 3.5 ⋯ 0.500 1.5\n",
       "10  10  Justin Anderson       PHI   5 13.3 2.0  4.6 0.435 0.8 2.2 ⋯ 1.000 0.4\n",
       "11  11  Kyle Anderson         SAS  14 28.5 3.9  6.9 0.557 0.1 0.4 ⋯ 0.811 1.4\n",
       "12  12  Ryan Anderson         HOU  12 28.8 4.4  8.9 0.495 2.8 6.6 ⋯ 0.833 1.0\n",
       "13  13  Giannis Antetokounmpo MIL  12 37.1 9.9 20.0 0.496 0.2 1.5 ⋯ 0.748 2.5\n",
       "14  14  Carmelo Anthony       OKC  12 32.0 6.2 15.9 0.387 2.4 6.3 ⋯ 0.804 1.6\n",
       "15  15  Ogugua Anunoby        TOR  14 19.3 2.4  4.2 0.576 1.1 2.4 ⋯ 0.562 0.4\n",
       "16  16  Trevor Ariza          HOU  13 33.5 5.1 10.2 0.496 3.5 7.9 ⋯ 0.833 1.0\n",
       "17  17  D.J. Augustin         ORL   8 17.0 2.8  5.0 0.550 1.0 2.1 ⋯ 0.733 1.8\n",
       "18  18  Luke Babbitt          MIA  11 24.4 3.7  7.6 0.488 2.5 5.0 ⋯ 0.625 0.9\n",
       "19  19  Dwayne Bacon          CHA  13 16.6 1.8  4.5 0.407 0.4 0.9 ⋯ 0.857 0.5\n",
       "20  20  Lonzo Ball            LAL  14 33.1 3.2 10.6 0.304 1.2 5.0 ⋯ 0.429 2.4\n",
       "21  21  J.J. Barea            DAL  14 21.5 3.9  9.8 0.401 1.6 4.9 ⋯ 0.815 1.8\n",
       "22  22  Harrison Barnes       DAL  14 35.5 7.1 15.1 0.474 1.1 3.4 ⋯ 0.867 2.2\n",
       "23  23  Will Barton           DEN  14 30.6 5.7 11.5 0.497 2.2 4.9 ⋯ 0.735 2.0\n",
       "24  24  Nicolas Batum         CHA   7 26.3 3.6  9.6 0.373 0.9 4.0 ⋯ 0.938 1.6\n",
       "25  25  Jerryd Bayless        PHI   8 25.1 2.9  6.6 0.434 0.8 2.9 ⋯ 0.765 1.2\n",
       "26  26  Aron Baynes           BOS  16 17.4 2.2  4.9 0.443 0.0 0.2 ⋯ 0.600 1.0\n",
       "27  27  Kent Bazemore         ATL  14 27.9 4.1 10.0 0.407 1.5 4.1 ⋯ 0.723 2.3\n",
       "28  28  Bradley Beal          WAS  15 35.7 8.6 18.6 0.462 2.8 6.8 ⋯ 0.826 2.9\n",
       "29  29  Malik Beasley         DEN  12  9.2 1.3  3.2 0.410 0.4 1.5 ⋯ 0.545 0.6\n",
       "30  30  Michael Beasley       NYK  10 15.6 3.8  7.0 0.543 0.0 0.5 ⋯ 0.615 1.9\n",
       "⋮   ⋮   ⋮                     ⋮    ⋮  ⋮    ⋮   ⋮    ⋮     ⋮   ⋮   ⋱ ⋮     ⋮  \n",
       "352 352 Rashad Vaughn         ORL   6  3.7 0.2  0.8 0.200 0.0 0.3 ⋯ 0.000 0.0\n",
       "353 353 Noah Vonleh           CHI  15 22.8 2.1  3.9 0.542 0.0 0.0 ⋯ 0.750 0.7\n",
       "354 354 Nikola Vucevic        ORL  15 29.4 6.0 13.5 0.443 1.4 4.1 ⋯ 0.800 2.0\n",
       "355 355 Dwyane Wade           MIA  15 23.7 4.6 10.5 0.437 0.5 1.3 ⋯ 0.741 2.0\n",
       "356 356 Dion Waiters          MIA  13 30.8 5.6 14.9 0.376 2.2 6.7 ⋯ 0.826 2.9\n",
       "357 357 Kemba Walker          CHA  12 35.4 7.2 16.8 0.431 2.5 7.0 ⋯ 0.803 2.0\n",
       "358 358 John Wall             WAS  10 34.0 6.9 14.9 0.463 1.0 3.3 ⋯ 0.701 2.2\n",
       "359 359 T.J. Warren           PHX  16 32.4 8.2 16.4 0.502 0.2 1.6 ⋯ 0.754 1.1\n",
       "360 360 David West            GSW  12 12.1 2.7  4.1 0.653 0.1 0.2 ⋯ 0.818 1.0\n",
       "361 361 Russell Westbrook     OKC  13 36.4 8.0 21.1 0.380 2.3 6.7 ⋯ 0.766 4.3\n",
       "362 362 Okaro White           MIA   4 15.7 1.2  3.5 0.357 0.8 2.5 ⋯ 1.000 0.2\n",
       "363 363 Isaiah Whitehead      BRK   6 14.0 3.3  6.8 0.488 0.3 1.3 ⋯ 0.600 2.7\n",
       "364 364 Hassan Whiteside      MIA  14 26.1 5.9 10.1 0.577 0.1 0.1 ⋯ 0.673 1.6\n",
       "365 365 Andrew Wiggins        MIN  15 37.4 7.2 15.4 0.468 1.1 3.8 ⋯ 0.676 1.9\n",
       "366 366 Damien Wilkins        IND   6  6.0 1.0  1.7 0.600 0.0 0.3 ⋯ 0.000 0.3\n",
       "367 367 C.J. Williams         LAC   8  7.6 0.9  1.9 0.467 0.1 0.8 ⋯ 0.500 0.2\n",
       "368 368 Lou Williams          LAC  14 32.3 7.1 15.3 0.463 2.7 6.7 ⋯ 0.908 3.4\n",
       "369 369 Marvin Williams       CHA  13 25.7 3.2  7.0 0.462 1.8 3.8 ⋯ 1.000 0.3\n",
       "370 370 D.J. Wilson           MIL   6  3.4 0.3  0.8 0.400 0.0 0.3 ⋯ 0.000 0.2\n",
       "371 371 Justise Winslow       MIA  15 22.2 2.4  6.3 0.383 0.5 1.4 ⋯ 0.700 1.3\n",
       "372 372 Jeff Withey           DAL   5  2.7 0.4  1.4 0.286 0.2 1.0 ⋯ 0.000 0.0\n",
       "373 373 Brandan Wright        HOU   8 15.2 2.5  4.5 0.556 0.0 0.0 ⋯ 0.667 0.2\n",
       "374 374 Delon Wright          TOR   8 18.6 2.6  3.5 0.750 0.8 1.1 ⋯ 0.846 2.0\n",
       "375 375 Joe Young             IND   7  5.7 1.3  2.7 0.474 0.0 0.9 ⋯ 0.750 0.4\n",
       "376 376 Nick Young            GSW  14 13.6 2.5  5.8 0.432 1.4 4.1 ⋯ 0.667 0.6\n",
       "377 377 Thaddeus Young        IND  15 33.8 6.0 12.1 0.495 1.1 3.0 ⋯ 0.556 1.5\n",
       "378 378 Cody Zeller           CHA  13 19.3 2.2  4.6 0.483 0.1 0.1 ⋯ 0.644 0.9\n",
       "379 379 Tyler Zeller          MIL  10 20.2 3.7  5.8 0.638 0.3 0.6 ⋯ 0.654 1.2\n",
       "380 380 Paul Zipser           CHI  13 13.6 1.2  4.5 0.276 0.4 1.9 ⋯ 0.500 0.6\n",
       "381 381 Ante Zizic            CLE   6  2.6 0.3  0.7 0.500 0.0 0.0 ⋯ 0.000 0.2\n",
       "    PF  ORB DRB RPG  APG SPG BPG PPG \n",
       "1   1.1 0.3 0.9  1.2 0.2 0.2 0.1  3.8\n",
       "2   2.1 0.7 4.1  4.8 1.1 0.4 0.3  5.3\n",
       "3   3.3 4.0 3.7  7.7 0.4 1.3 1.1 10.3\n",
       "4   0.6 0.5 2.4  2.9 0.2 0.6 0.4  5.0\n",
       "5   1.1 0.1 1.8  1.9 0.5 0.1 0.2  2.2\n",
       "6   2.4 3.0 5.1  8.1 2.5 0.6 1.3 22.9\n",
       "7   1.3 1.6 3.1  4.7 0.6 0.4 0.4  4.4\n",
       "8   2.5 1.2 1.9  3.1 0.8 0.6 0.1  5.9\n",
       "9   1.5 1.5 4.0  5.5 0.0 0.0 0.5  7.0\n",
       "10  2.0 1.4 2.2  3.6 0.4 0.4 0.0  5.4\n",
       "11  1.6 1.1 4.6  5.7 3.8 1.6 1.0  9.9\n",
       "12  2.0 1.3 4.4  5.8 0.8 0.2 0.3 12.9\n",
       "13  3.6 2.2 7.8 10.0 4.0 1.8 2.2 26.5\n",
       "14  2.8 1.2 6.0  7.2 1.6 0.8 0.5 17.8\n",
       "15  1.9 0.3 1.6  1.9 0.8 0.9 0.1  6.6\n",
       "16  1.7 0.8 3.8  4.6 1.6 1.5 0.2 14.5\n",
       "17  1.2 0.1 1.2  1.4 2.6 0.2 0.0  7.9\n",
       "18  2.1 0.3 3.0  3.3 1.4 0.4 0.3 10.4\n",
       "19  1.5 0.1 2.8  2.9 0.8 0.3 0.1  4.5\n",
       "20  2.4 1.5 5.4  6.9 7.4 1.5 0.9  8.3\n",
       "21  1.6 0.3 2.6  2.9 5.2 0.5 0.0 11.1\n",
       "22  2.1 1.1 6.9  8.0 2.1 0.9 0.2 20.0\n",
       "23  1.6 0.8 4.3  5.1 2.9 1.1 0.5 16.2\n",
       "24  1.0 0.4 2.9  3.3 3.7 0.9 0.3 10.1\n",
       "25  2.1 0.4 1.5  1.9 2.1 0.6 0.4  8.1\n",
       "26  1.6 2.1 3.4  5.5 0.8 0.4 0.5  5.1\n",
       "27  2.2 0.4 4.4  4.8 3.6 1.9 0.4 12.1\n",
       "28  1.9 0.7 3.7  4.5 3.7 1.1 0.4 24.7\n",
       "29  0.6 0.4 1.4  1.8 0.6 0.2 0.0  3.6\n",
       "30  1.4 1.4 2.8  4.2 1.0 0.0 0.6  8.4\n",
       "⋮   ⋮   ⋮   ⋮   ⋮    ⋮   ⋮   ⋮   ⋮   \n",
       "352 0.3 0.0 0.0  0.0 0.2 0.0 0.3  0.3\n",
       "353 2.3 1.9 6.1  7.9 0.6 0.3 0.5  5.3\n",
       "354 2.5 1.6 6.7  8.3 3.2 1.1 0.7 14.5\n",
       "355 2.3 0.9 3.7  4.6 3.9 1.1 0.9 12.3\n",
       "356 2.2 0.5 2.3  2.8 4.2 0.7 0.2 14.9\n",
       "357 1.7 0.7 3.1  3.8 6.1 0.5 0.2 21.1\n",
       "358 2.5 0.3 3.5  3.8 8.5 1.1 1.1 19.5\n",
       "359 2.0 2.2 3.4  5.7 1.2 0.8 0.9 19.9\n",
       "360 1.2 0.4 3.0  3.4 1.8 0.6 0.9  6.2\n",
       "361 2.8 1.5 7.2  8.8 8.2 2.7 0.0 23.8\n",
       "362 1.2 0.5 2.0  2.5 0.5 0.0 0.0  3.5\n",
       "363 2.2 0.2 1.7  1.8 2.0 0.8 0.3  8.0\n",
       "364 2.2 2.6 9.4 12.1 0.4 1.1 1.6 14.1\n",
       "365 1.4 0.9 2.9  3.8 2.3 1.3 0.8 18.7\n",
       "366 0.3 0.7 0.3  1.0 0.3 0.2 0.0  2.0\n",
       "367 0.4 0.0 1.0  1.0 0.8 0.1 0.0  2.0\n",
       "368 1.4 0.6 2.4  3.0 4.1 1.3 0.3 21.1\n",
       "369 1.3 0.8 3.3  4.1 1.1 0.8 0.3  9.6\n",
       "370 0.3 0.0 0.5  0.5 0.2 0.0 0.0  0.7\n",
       "371 1.9 0.9 4.5  5.4 1.8 0.9 0.3  6.3\n",
       "372 0.2 0.0 0.6  0.6 0.0 0.0 0.4  1.0\n",
       "373 1.1 1.4 2.2  3.6 0.6 0.6 1.5  6.5\n",
       "374 1.1 0.2 1.2  1.5 2.8 1.1 0.1  7.4\n",
       "375 0.4 0.1 0.6  0.7 0.9 0.1 0.0  3.0\n",
       "376 0.9 0.1 1.5  1.6 0.8 0.8 0.1  7.1\n",
       "377 2.1 1.6 4.2  5.8 2.5 1.9 0.2 13.4\n",
       "378 2.7 2.3 2.8  5.1 0.9 0.5 0.8  6.8\n",
       "379 2.0 1.8 2.1  3.9 1.0 0.6 0.7  9.4\n",
       "380 1.2 0.1 2.7  2.8 0.8 0.4 0.2  2.9\n",
       "381 0.5 0.2 0.0  0.2 0.0 0.0 0.2  0.7"
      ]
     },
     "metadata": {},
     "output_type": "display_data"
    }
   ],
   "source": [
    "November"
   ]
  },
  {
   "cell_type": "code",
   "execution_count": 28,
   "metadata": {},
   "outputs": [
    {
     "data": {
      "text/html": [
       "34.9"
      ],
      "text/latex": [
       "34.9"
      ],
      "text/markdown": [
       "34.9"
      ],
      "text/plain": [
       "[1] 34.9"
      ]
     },
     "metadata": {},
     "output_type": "display_data"
    }
   ],
   "source": [
    "max(November$PPG, na.rm = TRUE)"
   ]
  },
  {
   "cell_type": "markdown",
   "metadata": {},
   "source": [
    "The highest PPG value in the month of November was 34.9"
   ]
  },
  {
   "cell_type": "code",
   "execution_count": 29,
   "metadata": {},
   "outputs": [
    {
     "data": {
      "text/html": [
       "<table>\n",
       "<thead><tr><th></th><th scope=col>#</th><th scope=col>Player</th><th scope=col>Team</th><th scope=col>GP</th><th scope=col>MPG</th><th scope=col>FGM</th><th scope=col>FGA</th><th scope=col>FG%</th><th scope=col>3PM</th><th scope=col>3PA</th><th scope=col>⋯</th><th scope=col>FT%</th><th scope=col>TOV</th><th scope=col>PF</th><th scope=col>ORB</th><th scope=col>DRB</th><th scope=col>RPG</th><th scope=col>APG</th><th scope=col>SPG</th><th scope=col>BPG</th><th scope=col>PPG</th></tr></thead>\n",
       "<tbody>\n",
       "\t<tr><th scope=row>146</th><td>146         </td><td>James Harden</td><td>HOU         </td><td>13          </td><td>35.7        </td><td>10.2        </td><td>21.7        </td><td>0.468       </td><td>5.2         </td><td>11.9        </td><td>⋯           </td><td>0.891       </td><td>4.4         </td><td>2.5         </td><td>0.5         </td><td>4.9         </td><td>5.5         </td><td>10.1        </td><td>1.6         </td><td>0.5         </td><td>34.9        </td></tr>\n",
       "</tbody>\n",
       "</table>\n"
      ],
      "text/latex": [
       "\\begin{tabular}{r|lllllllllllllllllllllll}\n",
       "  & \\# & Player & Team & GP & MPG & FGM & FGA & FG\\% & 3PM & 3PA & ⋯ & FT\\% & TOV & PF & ORB & DRB & RPG & APG & SPG & BPG & PPG\\\\\n",
       "\\hline\n",
       "\t146 & 146          & James Harden & HOU          & 13           & 35.7         & 10.2         & 21.7         & 0.468        & 5.2          & 11.9         & ⋯            & 0.891        & 4.4          & 2.5          & 0.5          & 4.9          & 5.5          & 10.1         & 1.6          & 0.5          & 34.9        \\\\\n",
       "\\end{tabular}\n"
      ],
      "text/markdown": [
       "\n",
       "| <!--/--> | # | Player | Team | GP | MPG | FGM | FGA | FG% | 3PM | 3PA | ⋯ | FT% | TOV | PF | ORB | DRB | RPG | APG | SPG | BPG | PPG | \n",
       "|---|\n",
       "| 146 | 146          | James Harden | HOU          | 13           | 35.7         | 10.2         | 21.7         | 0.468        | 5.2          | 11.9         | ⋯            | 0.891        | 4.4          | 2.5          | 0.5          | 4.9          | 5.5          | 10.1         | 1.6          | 0.5          | 34.9         | \n",
       "\n",
       "\n"
      ],
      "text/plain": [
       "    #   Player       Team GP MPG  FGM  FGA  FG%   3PM 3PA  ⋯ FT%   TOV PF  ORB\n",
       "146 146 James Harden HOU  13 35.7 10.2 21.7 0.468 5.2 11.9 ⋯ 0.891 4.4 2.5 0.5\n",
       "    DRB RPG APG  SPG BPG PPG \n",
       "146 4.9 5.5 10.1 1.6 0.5 34.9"
      ]
     },
     "metadata": {},
     "output_type": "display_data"
    }
   ],
   "source": [
    "November[November$PPG %in% c(\"34.9\"), ]"
   ]
  },
  {
   "cell_type": "markdown",
   "metadata": {},
   "source": [
    "The player with the most Points Per Game in November is James Harden"
   ]
  },
  {
   "cell_type": "markdown",
   "metadata": {},
   "source": [
    "### December"
   ]
  },
  {
   "cell_type": "code",
   "execution_count": 30,
   "metadata": {},
   "outputs": [],
   "source": [
    "NBA9 = read_html(\"https://basketball.realgm.com/nba/stats/2018/Averages/Qualified/player/All/asc/1/December\")"
   ]
  },
  {
   "cell_type": "code",
   "execution_count": 31,
   "metadata": {},
   "outputs": [],
   "source": [
    "NBA10 = read_html(\"https://basketball.realgm.com/nba/stats/2018/Averages/Qualified/player/All/asc/2/December\")"
   ]
  },
  {
   "cell_type": "code",
   "execution_count": 32,
   "metadata": {},
   "outputs": [],
   "source": [
    "NBA11 = read_html(\"https://basketball.realgm.com/nba/stats/2018/Averages/Qualified/player/All/asc/3/Decemeber\")"
   ]
  },
  {
   "cell_type": "code",
   "execution_count": 33,
   "metadata": {},
   "outputs": [],
   "source": [
    "NBA12 = read_html(\"https://basketball.realgm.com/nba/stats/2018/Averages/Qualified/player/All/asc/4/Decemeber\")"
   ]
  },
  {
   "cell_type": "code",
   "execution_count": 34,
   "metadata": {},
   "outputs": [],
   "source": [
    "December1 = NBA9 %>% html_nodes('table')%>% .[[1]] %>%\n",
    "  html_table()"
   ]
  },
  {
   "cell_type": "code",
   "execution_count": 35,
   "metadata": {},
   "outputs": [],
   "source": [
    "December2 = NBA10 %>% html_nodes('table')%>% .[[1]] %>%\n",
    "  html_table()"
   ]
  },
  {
   "cell_type": "code",
   "execution_count": 36,
   "metadata": {},
   "outputs": [],
   "source": [
    "December3 = NBA11 %>% html_nodes('table')%>% .[[1]] %>%\n",
    "  html_table()"
   ]
  },
  {
   "cell_type": "code",
   "execution_count": 37,
   "metadata": {},
   "outputs": [],
   "source": [
    "December4 = NBA12 %>% html_nodes('table')%>% .[[1]] %>%\n",
    "  html_table()"
   ]
  },
  {
   "cell_type": "code",
   "execution_count": 38,
   "metadata": {},
   "outputs": [
    {
     "name": "stderr",
     "output_type": "stream",
     "text": [
      "Joining, by = c(\"#\", \"Player\", \"Team\", \"GP\", \"MPG\", \"FGM\", \"FGA\", \"FG%\", \"3PM\", \"3PA\", \"3P%\", \"FTM\", \"FTA\", \"FT%\", \"TOV\", \"PF\", \"ORB\", \"DRB\", \"RPG\", \"APG\", \"SPG\", \"BPG\", \"PPG\")\n"
     ]
    }
   ],
   "source": [
    "e = full_join(December1, December2)"
   ]
  },
  {
   "cell_type": "code",
   "execution_count": 39,
   "metadata": {},
   "outputs": [
    {
     "name": "stderr",
     "output_type": "stream",
     "text": [
      "Joining, by = c(\"#\", \"Player\", \"Team\", \"GP\", \"MPG\", \"FGM\", \"FGA\", \"FG%\", \"3PM\", \"3PA\", \"3P%\", \"FTM\", \"FTA\", \"FT%\", \"TOV\", \"PF\", \"ORB\", \"DRB\", \"RPG\", \"APG\", \"SPG\", \"BPG\", \"PPG\")\n"
     ]
    }
   ],
   "source": [
    "f = full_join(December3, December4)"
   ]
  },
  {
   "cell_type": "code",
   "execution_count": 40,
   "metadata": {},
   "outputs": [
    {
     "name": "stderr",
     "output_type": "stream",
     "text": [
      "Joining, by = c(\"#\", \"Player\", \"Team\", \"GP\", \"MPG\", \"FGM\", \"FGA\", \"FG%\", \"3PM\", \"3PA\", \"3P%\", \"FTM\", \"FTA\", \"FT%\", \"TOV\", \"PF\", \"ORB\", \"DRB\", \"RPG\", \"APG\", \"SPG\", \"BPG\", \"PPG\")\n"
     ]
    }
   ],
   "source": [
    "December = full_join(e, f)"
   ]
  },
  {
   "cell_type": "markdown",
   "metadata": {},
   "source": [
    "Table 3: The data and statistics for all players in the NBA during the month of December in the 2017-2018 season"
   ]
  },
  {
   "cell_type": "code",
   "execution_count": 41,
   "metadata": {},
   "outputs": [
    {
     "data": {
      "text/html": [
       "<table>\n",
       "<thead><tr><th scope=col>#</th><th scope=col>Player</th><th scope=col>Team</th><th scope=col>GP</th><th scope=col>MPG</th><th scope=col>FGM</th><th scope=col>FGA</th><th scope=col>FG%</th><th scope=col>3PM</th><th scope=col>3PA</th><th scope=col>⋯</th><th scope=col>FT%</th><th scope=col>TOV</th><th scope=col>PF</th><th scope=col>ORB</th><th scope=col>DRB</th><th scope=col>RPG</th><th scope=col>APG</th><th scope=col>SPG</th><th scope=col>BPG</th><th scope=col>PPG</th></tr></thead>\n",
       "<tbody>\n",
       "\t<tr><td> 1                   </td><td>Alex Abrines         </td><td>OKC                  </td><td>16                   </td><td>17.2                 </td><td> 1.6                 </td><td> 4.0                 </td><td>0.406                </td><td>1.3                  </td><td>2.9                  </td><td>⋯                    </td><td>0.800                </td><td>0.7                  </td><td>2.1                  </td><td>0.3                  </td><td>1.8                  </td><td> 2.1                 </td><td>0.4                  </td><td>0.6                  </td><td>0.1                  </td><td> 5.1                 </td></tr>\n",
       "\t<tr><td> 2                   </td><td>Quincy Acy           </td><td>BRK                  </td><td>15                   </td><td>18.0                 </td><td> 2.1                 </td><td> 5.7                 </td><td>0.360                </td><td>1.5                  </td><td>4.2                  </td><td>⋯                    </td><td>0.812                </td><td>1.0                  </td><td>1.7                  </td><td>0.6                  </td><td>3.3                  </td><td> 3.9                 </td><td>0.5                  </td><td>0.3                  </td><td>0.2                  </td><td> 6.5                 </td></tr>\n",
       "\t<tr><td> 3                   </td><td>Steven Adams         </td><td>OKC                  </td><td>15                   </td><td>33.6                 </td><td> 6.4                 </td><td> 9.7                 </td><td>0.658                </td><td>0.0                  </td><td>0.1                  </td><td>⋯                    </td><td>0.642                </td><td>1.3                  </td><td>2.9                  </td><td>5.7                  </td><td>3.9                  </td><td> 9.7                 </td><td>0.9                  </td><td>1.1                  </td><td>0.6                  </td><td>15.1                 </td></tr>\n",
       "\t<tr><td> 4                   </td><td>Bam Adebayo          </td><td>MIA                  </td><td>15                   </td><td>24.5                 </td><td> 3.1                 </td><td> 5.3                 </td><td>0.582                </td><td>0.0                  </td><td>0.1                  </td><td>⋯                    </td><td>0.721                </td><td>1.3                  </td><td>2.9                  </td><td>2.0                  </td><td>3.5                  </td><td> 5.5                 </td><td>1.7                  </td><td>0.8                  </td><td>0.7                  </td><td> 8.2                 </td></tr>\n",
       "\t<tr><td> 5                   </td><td>Arron Afflalo        </td><td>ORL                  </td><td>12                   </td><td>16.4                 </td><td> 1.4                 </td><td> 3.8                 </td><td>0.378                </td><td>0.3                  </td><td>1.2                  </td><td>⋯                    </td><td>0.917                </td><td>0.2                  </td><td>1.2                  </td><td>0.2                  </td><td>0.8                  </td><td> 1.0                 </td><td>0.3                  </td><td>0.1                  </td><td>0.1                  </td><td> 4.1                 </td></tr>\n",
       "\t<tr><td> 6                   </td><td>LaMarcus Aldridge    </td><td>SAS                  </td><td>15                   </td><td>33.8                 </td><td> 7.9                 </td><td>17.5                 </td><td>0.450                </td><td>0.5                  </td><td>1.5                  </td><td>⋯                    </td><td>0.863                </td><td>1.7                  </td><td>2.3                  </td><td>3.5                  </td><td>5.1                  </td><td> 8.6                 </td><td>1.6                  </td><td>0.3                  </td><td>0.9                  </td><td>20.4                 </td></tr>\n",
       "\t<tr><td> 7                   </td><td>Jarrett Allen        </td><td>BRK                  </td><td>14                   </td><td>18.5                 </td><td> 2.7                 </td><td> 5.6                 </td><td>0.487                </td><td>0.1                  </td><td>0.4                  </td><td>⋯                    </td><td>0.900                </td><td>0.9                  </td><td>2.0                  </td><td>2.2                  </td><td>2.6                  </td><td> 4.9                 </td><td>0.4                  </td><td>0.4                  </td><td>1.2                  </td><td> 6.9                 </td></tr>\n",
       "\t<tr><td> 8                   </td><td>Tony Allen           </td><td>NOP                  </td><td> 5                   </td><td> 8.4                 </td><td> 1.2                 </td><td> 2.6                 </td><td>0.462                </td><td>0.2                  </td><td>0.2                  </td><td>⋯                    </td><td>0.625                </td><td>0.4                  </td><td>2.2                  </td><td>0.8                  </td><td>0.2                  </td><td> 1.0                 </td><td>0.0                  </td><td>0.2                  </td><td>0.0                  </td><td> 3.6                 </td></tr>\n",
       "\t<tr><td> 9                   </td><td>Al-Farouq Aminu      </td><td>POR                  </td><td>13                   </td><td>30.1                 </td><td> 3.2                 </td><td> 8.3                 </td><td>0.389                </td><td>2.1                  </td><td>5.3                  </td><td>⋯                    </td><td>0.375                </td><td>1.3                  </td><td>2.2                  </td><td>0.9                  </td><td>5.6                  </td><td> 6.5                 </td><td>0.8                  </td><td>0.8                  </td><td>0.8                  </td><td> 8.8                 </td></tr>\n",
       "\t<tr><td>10                   </td><td>Kyle Anderson        </td><td>SAS                  </td><td> 8                   </td><td>23.3                 </td><td> 2.5                 </td><td> 4.2                 </td><td>0.588                </td><td>0.2                  </td><td>0.5                  </td><td>⋯                    </td><td>0.824                </td><td>1.1                  </td><td>1.6                  </td><td>0.6                  </td><td>4.4                  </td><td> 5.0                 </td><td>1.5                  </td><td>1.1                  </td><td>0.2                  </td><td> 7.0                 </td></tr>\n",
       "\t<tr><td>11                   </td><td>Ryan Anderson        </td><td>HOU                  </td><td>14                   </td><td>26.4                 </td><td> 2.5                 </td><td> 6.7                 </td><td>0.372                </td><td>1.4                  </td><td>4.4                  </td><td>⋯                    </td><td>0.765                </td><td>1.1                  </td><td>2.1                  </td><td>1.9                  </td><td>3.6                  </td><td> 5.5                 </td><td>1.1                  </td><td>0.6                  </td><td>0.4                  </td><td> 7.3                 </td></tr>\n",
       "\t<tr><td>12                   </td><td>Giannis Antetokounmpo</td><td>MIL                  </td><td>13                   </td><td>39.3                 </td><td>10.4                 </td><td>19.0                 </td><td>0.547                </td><td>0.5                  </td><td>1.8                  </td><td>⋯                    </td><td>0.802                </td><td>3.1                  </td><td>2.5                  </td><td>2.8                  </td><td>7.9                  </td><td>10.8                 </td><td>4.8                  </td><td>1.7                  </td><td>0.7                  </td><td>29.0                 </td></tr>\n",
       "\t<tr><td>13                   </td><td>Carmelo Anthony      </td><td>OKC                  </td><td>17                   </td><td>33.7                 </td><td> 5.9                 </td><td>14.5                 </td><td>0.407                </td><td>1.8                  </td><td>5.0                  </td><td>⋯                    </td><td>0.684                </td><td>1.2                  </td><td>2.6                  </td><td>0.6                  </td><td>5.1                  </td><td> 5.7                 </td><td>1.6                  </td><td>0.5                  </td><td>0.4                  </td><td>15.1                 </td></tr>\n",
       "\t<tr><td>14                   </td><td>Ogugua Anunoby       </td><td>TOR                  </td><td>14                   </td><td>24.1                 </td><td> 2.6                 </td><td> 5.7                 </td><td>0.463                </td><td>1.6                  </td><td>3.8                  </td><td>⋯                    </td><td>0.667                </td><td>1.2                  </td><td>2.0                  </td><td>0.6                  </td><td>1.7                  </td><td> 2.4                 </td><td>0.7                  </td><td>1.1                  </td><td>0.1                  </td><td> 7.2                 </td></tr>\n",
       "\t<tr><td>15                   </td><td>Trevor Ariza         </td><td>HOU                  </td><td>14                   </td><td>38.8                 </td><td> 4.5                 </td><td>10.1                 </td><td>0.447                </td><td>2.8                  </td><td>7.1                  </td><td>⋯                    </td><td>0.875                </td><td>0.6                  </td><td>1.9                  </td><td>0.5                  </td><td>4.6                  </td><td> 5.1                 </td><td>1.1                  </td><td>1.7                  </td><td>0.2                  </td><td>13.3                 </td></tr>\n",
       "\t<tr><td>16                   </td><td>Jamel Artis          </td><td>ORL                  </td><td> 5                   </td><td>11.0                 </td><td> 0.8                 </td><td> 3.4                 </td><td>0.235                </td><td>0.0                  </td><td>1.0                  </td><td>⋯                    </td><td>0.333                </td><td>0.0                  </td><td>0.0                  </td><td>0.2                  </td><td>1.2                  </td><td> 1.4                 </td><td>0.8                  </td><td>0.0                  </td><td>0.0                  </td><td> 1.8                 </td></tr>\n",
       "\t<tr><td>17                   </td><td>Omer Asik            </td><td>CHI                  </td><td> 9                   </td><td> 7.5                 </td><td> 0.2                 </td><td> 0.8                 </td><td>0.286                </td><td>0.0                  </td><td>0.0                  </td><td>⋯                    </td><td>0.500                </td><td>0.2                  </td><td>0.4                  </td><td>0.3                  </td><td>2.2                  </td><td> 2.6                 </td><td>0.2                  </td><td>0.0                  </td><td>0.0                  </td><td> 0.8                 </td></tr>\n",
       "\t<tr><td>18                   </td><td>D.J. Augustin        </td><td>ORL                  </td><td>15                   </td><td>21.6                 </td><td> 2.4                 </td><td> 6.3                 </td><td>0.379                </td><td>1.5                  </td><td>3.7                  </td><td>⋯                    </td><td>0.919                </td><td>1.5                  </td><td>1.3                  </td><td>0.2                  </td><td>1.3                  </td><td> 1.5                 </td><td>2.1                  </td><td>0.9                  </td><td>0.0                  </td><td> 8.5                 </td></tr>\n",
       "\t<tr><td>19                   </td><td>Luke Babbitt         </td><td>MIA                  </td><td>10                   </td><td>15.2                 </td><td> 1.7                 </td><td> 3.7                 </td><td>0.459                </td><td>1.0                  </td><td>2.2                  </td><td>⋯                    </td><td>0.778                </td><td>0.1                  </td><td>0.9                  </td><td>0.0                  </td><td>2.4                  </td><td> 2.4                 </td><td>0.6                  </td><td>0.1                  </td><td>0.1                  </td><td> 5.1                 </td></tr>\n",
       "\t<tr><td>20                   </td><td>Dwayne Bacon         </td><td>CHA                  </td><td> 8                   </td><td> 8.1                 </td><td> 0.6                 </td><td> 1.5                 </td><td>0.417                </td><td>0.0                  </td><td>0.1                  </td><td>⋯                    </td><td>0.667                </td><td>0.2                  </td><td>0.5                  </td><td>0.0                  </td><td>1.4                  </td><td> 1.4                 </td><td>0.1                  </td><td>0.4                  </td><td>0.0                  </td><td> 1.5                 </td></tr>\n",
       "\t<tr><td>21                   </td><td>Ron Baker            </td><td>NYK                  </td><td>12                   </td><td>15.9                 </td><td> 0.9                 </td><td> 2.6                 </td><td>0.355                </td><td>0.6                  </td><td>1.5                  </td><td>⋯                    </td><td>0.867                </td><td>0.7                  </td><td>1.5                  </td><td>0.2                  </td><td>0.7                  </td><td> 0.8                 </td><td>1.8                  </td><td>1.0                  </td><td>0.3                  </td><td> 3.5                 </td></tr>\n",
       "\t<tr><td>22                   </td><td>Lonzo Ball           </td><td>LAL                  </td><td>10                   </td><td>34.8                 </td><td> 4.6                 </td><td>10.9                 </td><td>0.422                </td><td>2.0                  </td><td>5.3                  </td><td>⋯                    </td><td>0.500                </td><td>3.4                  </td><td>2.4                  </td><td>1.0                  </td><td>5.7                  </td><td> 6.7                 </td><td>6.8                  </td><td>1.3                  </td><td>1.4                  </td><td>12.2                 </td></tr>\n",
       "\t<tr><td>23                   </td><td>J.J. Barea           </td><td>DAL                  </td><td>16                   </td><td>24.1                 </td><td> 4.7                 </td><td> 9.8                 </td><td>0.481                </td><td>1.8                  </td><td>4.2                  </td><td>⋯                    </td><td>0.727                </td><td>2.1                  </td><td>1.1                  </td><td>0.1                  </td><td>3.2                  </td><td> 3.3                 </td><td>7.3                  </td><td>0.7                  </td><td>0.1                  </td><td>12.1                 </td></tr>\n",
       "\t<tr><td>24                   </td><td>Harrison Barnes      </td><td>DAL                  </td><td>16                   </td><td>33.8                 </td><td> 7.2                 </td><td>15.5                 </td><td>0.464                </td><td>1.3                  </td><td>3.6                  </td><td>⋯                    </td><td>0.787                </td><td>1.2                  </td><td>0.8                  </td><td>1.1                  </td><td>4.5                  </td><td> 5.6                 </td><td>2.1                  </td><td>0.5                  </td><td>0.2                  </td><td>18.0                 </td></tr>\n",
       "\t<tr><td>25                   </td><td>Will Barton          </td><td>DEN                  </td><td>14                   </td><td>33.8                 </td><td> 5.3                 </td><td>13.0                 </td><td>0.407                </td><td>1.5                  </td><td>5.5                  </td><td>⋯                    </td><td>0.800                </td><td>1.4                  </td><td>2.4                  </td><td>0.9                  </td><td>4.6                  </td><td> 5.5                 </td><td>5.3                  </td><td>1.1                  </td><td>1.1                  </td><td>14.1                 </td></tr>\n",
       "\t<tr><td>26                   </td><td>Nicolas Batum        </td><td>CHA                  </td><td>15                   </td><td>33.1                 </td><td> 4.1                 </td><td> 9.7                 </td><td>0.418                </td><td>1.2                  </td><td>3.8                  </td><td>⋯                    </td><td>0.722                </td><td>2.2                  </td><td>1.3                  </td><td>0.7                  </td><td>3.9                  </td><td> 4.6                 </td><td>5.4                  </td><td>1.1                  </td><td>0.5                  </td><td>10.2                 </td></tr>\n",
       "\t<tr><td>27                   </td><td>Jerryd Bayless       </td><td>PHI                  </td><td>15                   </td><td>23.3                 </td><td> 2.8                 </td><td> 7.5                 </td><td>0.375                </td><td>1.7                  </td><td>4.5                  </td><td>⋯                    </td><td>0.824                </td><td>1.1                  </td><td>2.6                  </td><td>0.5                  </td><td>1.7                  </td><td> 2.1                 </td><td>0.9                  </td><td>0.8                  </td><td>0.2                  </td><td> 8.2                 </td></tr>\n",
       "\t<tr><td>28                   </td><td>Aron Baynes          </td><td>BOS                  </td><td>17                   </td><td>18.7                 </td><td> 2.5                 </td><td> 5.1                 </td><td>0.500                </td><td>0.0                  </td><td>0.2                  </td><td>⋯                    </td><td>0.889                </td><td>0.9                  </td><td>2.7                  </td><td>1.1                  </td><td>3.9                  </td><td> 4.9                 </td><td>0.9                  </td><td>0.2                  </td><td>0.6                  </td><td> 6.0                 </td></tr>\n",
       "\t<tr><td>29                   </td><td>Kent Bazemore        </td><td>ATL                  </td><td>15                   </td><td>28.5                 </td><td> 4.1                 </td><td> 9.6                 </td><td>0.431                </td><td>1.8                  </td><td>4.3                  </td><td>⋯                    </td><td>0.861                </td><td>2.5                  </td><td>2.6                  </td><td>0.4                  </td><td>4.5                  </td><td> 4.9                 </td><td>4.4                  </td><td>1.9                  </td><td>0.9                  </td><td>12.1                 </td></tr>\n",
       "\t<tr><td>30                   </td><td>Bradley Beal         </td><td>WAS                  </td><td>16                   </td><td>36.2                 </td><td> 9.0                 </td><td>20.8                 </td><td>0.434                </td><td>2.5                  </td><td>7.2                  </td><td>⋯                    </td><td>0.716                </td><td>1.3                  </td><td>2.1                  </td><td>0.8                  </td><td>3.4                  </td><td> 4.2                 </td><td>3.7                  </td><td>1.0                  </td><td>0.4                  </td><td>23.5                 </td></tr>\n",
       "\t<tr><td>⋮</td><td>⋮</td><td>⋮</td><td>⋮</td><td>⋮</td><td>⋮</td><td>⋮</td><td>⋮</td><td>⋮</td><td>⋮</td><td>⋱</td><td>⋮</td><td>⋮</td><td>⋮</td><td>⋮</td><td>⋮</td><td>⋮</td><td>⋮</td><td>⋮</td><td>⋮</td><td>⋮</td></tr>\n",
       "\t<tr><td>326              </td><td>Evan Turner      </td><td>POR              </td><td>79               </td><td>25.7             </td><td>3.3              </td><td> 7.3             </td><td>0.447            </td><td>0.5              </td><td>1.7              </td><td>⋯                </td><td>0.850            </td><td>1.3              </td><td>2.1              </td><td>0.4              </td><td>2.7              </td><td> 3.1             </td><td> 2.2             </td><td>0.6              </td><td>0.4              </td><td> 8.2             </td></tr>\n",
       "\t<tr><td>327              </td><td>Myles Turner     </td><td>IND              </td><td>65               </td><td>28.3             </td><td>4.7              </td><td> 9.8             </td><td>0.479            </td><td>0.9              </td><td>2.4              </td><td>⋯                </td><td>0.777            </td><td>1.5              </td><td>2.9              </td><td>1.4              </td><td>5.0              </td><td> 6.4             </td><td> 1.3             </td><td>0.6              </td><td>1.8              </td><td>12.7             </td></tr>\n",
       "\t<tr><td>328              </td><td>Ekpe Udoh        </td><td>UTA              </td><td>63               </td><td>12.8             </td><td>1.0              </td><td> 1.9             </td><td>0.500            </td><td>0.0              </td><td>0.0              </td><td>⋯                </td><td>0.750            </td><td>0.3              </td><td>1.7              </td><td>1.1              </td><td>1.3              </td><td> 2.4             </td><td> 0.8             </td><td>0.7              </td><td>1.2              </td><td> 2.6             </td></tr>\n",
       "\t<tr><td>329              </td><td>Tyler Ulis       </td><td>PHX              </td><td>71               </td><td>23.4             </td><td>3.0              </td><td> 7.8             </td><td>0.388            </td><td>0.6              </td><td>2.1              </td><td>⋯                </td><td>0.832            </td><td>1.8              </td><td>1.7              </td><td>0.3              </td><td>1.5              </td><td> 1.8             </td><td> 4.4             </td><td>1.0              </td><td>0.1              </td><td> 7.8             </td></tr>\n",
       "\t<tr><td>330              </td><td>Jonas Valanciunas</td><td>TOR              </td><td>77               </td><td>22.4             </td><td>5.1              </td><td> 8.9             </td><td>0.568            </td><td>0.4              </td><td>1.0              </td><td>⋯                </td><td>0.806            </td><td>1.5              </td><td>2.5              </td><td>2.4              </td><td>6.2              </td><td> 8.6             </td><td> 1.1             </td><td>0.4              </td><td>0.9              </td><td>12.7             </td></tr>\n",
       "\t<tr><td>331              </td><td>Denzel Valentine </td><td>CHI              </td><td>77               </td><td>27.2             </td><td>3.9              </td><td> 9.4             </td><td>0.417            </td><td>1.9              </td><td>4.8              </td><td>⋯                </td><td>0.745            </td><td>1.3              </td><td>2.4              </td><td>0.6              </td><td>4.5              </td><td> 5.1             </td><td> 3.2             </td><td>0.8              </td><td>0.1              </td><td>10.2             </td></tr>\n",
       "\t<tr><td>332              </td><td>Fred VanVleet    </td><td>TOR              </td><td>76               </td><td>20.0             </td><td>3.1              </td><td> 7.2             </td><td>0.426            </td><td>1.4              </td><td>3.4              </td><td>⋯                </td><td>0.832            </td><td>1.0              </td><td>1.7              </td><td>0.3              </td><td>2.1              </td><td> 2.4             </td><td> 3.2             </td><td>0.9              </td><td>0.2              </td><td> 8.6             </td></tr>\n",
       "\t<tr><td>333              </td><td>Noah Vonleh      </td><td>CHI              </td><td>54               </td><td>16.2             </td><td>1.9              </td><td> 4.3             </td><td>0.444            </td><td>0.4              </td><td>1.2              </td><td>⋯                </td><td>0.621            </td><td>0.6              </td><td>1.3              </td><td>1.3              </td><td>4.5              </td><td> 5.8             </td><td> 0.6             </td><td>0.4              </td><td>0.3              </td><td> 4.9             </td></tr>\n",
       "\t<tr><td>334              </td><td>Nikola Vucevic   </td><td>ORL              </td><td>57               </td><td>29.5             </td><td>7.0              </td><td>14.7             </td><td>0.475            </td><td>1.1              </td><td>3.6              </td><td>⋯                </td><td>0.819            </td><td>1.9              </td><td>2.5              </td><td>1.8              </td><td>7.4              </td><td> 9.2             </td><td> 3.4             </td><td>1.0              </td><td>1.1              </td><td>16.5             </td></tr>\n",
       "\t<tr><td>335              </td><td>Dwyane Wade      </td><td>MIA              </td><td>67               </td><td>22.9             </td><td>4.5              </td><td>10.2             </td><td>0.438            </td><td>0.5              </td><td>1.7              </td><td>⋯                </td><td>0.714            </td><td>2.1              </td><td>1.9              </td><td>0.7              </td><td>3.0              </td><td> 3.8             </td><td> 3.4             </td><td>0.9              </td><td>0.7              </td><td>11.4             </td></tr>\n",
       "\t<tr><td>336              </td><td>Dion Waiters     </td><td>MIA              </td><td>30               </td><td>30.6             </td><td>5.4              </td><td>13.7             </td><td>0.398            </td><td>1.7              </td><td>5.7              </td><td>⋯                </td><td>0.739            </td><td>2.3              </td><td>2.0              </td><td>0.3              </td><td>2.3              </td><td> 2.6             </td><td> 3.8             </td><td>0.8              </td><td>0.3              </td><td>14.3             </td></tr>\n",
       "\t<tr><td>337              </td><td>Kemba Walker     </td><td>CHA              </td><td>80               </td><td>34.2             </td><td>7.3              </td><td>17.0             </td><td>0.431            </td><td>2.9              </td><td>7.5              </td><td>⋯                </td><td>0.864            </td><td>2.2              </td><td>1.2              </td><td>0.4              </td><td>2.7              </td><td> 3.1             </td><td> 5.5             </td><td>1.1              </td><td>0.3              </td><td>22.1             </td></tr>\n",
       "\t<tr><td>338              </td><td>John Wall        </td><td>WAS              </td><td>41               </td><td>34.4             </td><td>6.8              </td><td>16.3             </td><td>0.420            </td><td>1.5              </td><td>4.1              </td><td>⋯                </td><td>0.726            </td><td>3.9              </td><td>2.0              </td><td>0.5              </td><td>3.1              </td><td> 3.7             </td><td> 9.6             </td><td>1.4              </td><td>1.1              </td><td>19.4             </td></tr>\n",
       "\t<tr><td>339              </td><td>Tyrone Wallace   </td><td>LAC              </td><td>30               </td><td>28.4             </td><td>3.7              </td><td> 8.2             </td><td>0.445            </td><td>0.3              </td><td>1.3              </td><td>⋯                </td><td>0.782            </td><td>1.5              </td><td>2.8              </td><td>0.7              </td><td>2.8              </td><td> 3.5             </td><td> 2.4             </td><td>0.9              </td><td>0.4              </td><td> 9.7             </td></tr>\n",
       "\t<tr><td>340              </td><td>T.J. Warren      </td><td>PHX              </td><td>65               </td><td>33.0             </td><td>8.1              </td><td>16.4             </td><td>0.498            </td><td>0.3              </td><td>1.4              </td><td>⋯                </td><td>0.757            </td><td>1.3              </td><td>2.3              </td><td>1.9              </td><td>3.2              </td><td> 5.1             </td><td> 1.3             </td><td>1.0              </td><td>0.6              </td><td>19.6             </td></tr>\n",
       "\t<tr><td>341              </td><td>David West       </td><td>GSW              </td><td>73               </td><td>13.7             </td><td>3.0              </td><td> 5.2             </td><td>0.571            </td><td>0.0              </td><td>0.1              </td><td>⋯                </td><td>0.759            </td><td>1.1              </td><td>1.6              </td><td>0.9              </td><td>2.4              </td><td> 3.3             </td><td> 1.9             </td><td>0.6              </td><td>1.0              </td><td> 6.8             </td></tr>\n",
       "\t<tr><td>342              </td><td>Russell Westbrook</td><td>OKC              </td><td>80               </td><td>36.4             </td><td>9.5              </td><td>21.1             </td><td>0.449            </td><td>1.2              </td><td>4.1              </td><td>⋯                </td><td>0.737            </td><td>4.8              </td><td>2.5              </td><td>1.9              </td><td>8.2              </td><td>10.1             </td><td>10.2             </td><td>1.8              </td><td>0.2              </td><td>25.4             </td></tr>\n",
       "\t<tr><td>343              </td><td>Hassan Whiteside </td><td>MIA              </td><td>54               </td><td>25.3             </td><td>5.8              </td><td>10.7             </td><td>0.540            </td><td>0.0              </td><td>0.0              </td><td>⋯                </td><td>0.703            </td><td>1.7              </td><td>2.4              </td><td>3.2              </td><td>8.2              </td><td>11.4             </td><td> 1.0             </td><td>0.7              </td><td>1.7              </td><td>14.0             </td></tr>\n",
       "\t<tr><td>344              </td><td>Andrew Wiggins   </td><td>MIN              </td><td>82               </td><td>36.3             </td><td>6.9              </td><td>15.9             </td><td>0.438            </td><td>1.4              </td><td>4.1              </td><td>⋯                </td><td>0.643            </td><td>1.7              </td><td>2.0              </td><td>1.0              </td><td>3.4              </td><td> 4.4             </td><td> 2.0             </td><td>1.1              </td><td>0.6              </td><td>17.7             </td></tr>\n",
       "\t<tr><td>345              </td><td>C.J. Williams    </td><td>LAC              </td><td>38               </td><td>18.6             </td><td>2.3              </td><td> 5.2             </td><td>0.442            </td><td>0.6              </td><td>2.1              </td><td>⋯                </td><td>0.812            </td><td>0.5              </td><td>1.7              </td><td>0.3              </td><td>1.2              </td><td> 1.5             </td><td> 1.1             </td><td>0.8              </td><td>0.3              </td><td> 5.5             </td></tr>\n",
       "\t<tr><td>346              </td><td>Lou Williams     </td><td>LAC              </td><td>79               </td><td>32.8             </td><td>7.4              </td><td>16.9             </td><td>0.435            </td><td>2.4              </td><td>6.6              </td><td>⋯                </td><td>0.880            </td><td>3.0              </td><td>1.3              </td><td>0.5              </td><td>2.0              </td><td> 2.5             </td><td> 5.3             </td><td>1.1              </td><td>0.2              </td><td>22.6             </td></tr>\n",
       "\t<tr><td>347              </td><td>Marvin Williams  </td><td>CHA              </td><td>78               </td><td>25.7             </td><td>3.3              </td><td> 7.2             </td><td>0.458            </td><td>1.6              </td><td>3.9              </td><td>⋯                </td><td>0.829            </td><td>0.8              </td><td>1.5              </td><td>0.9              </td><td>3.8              </td><td> 4.7             </td><td> 1.2             </td><td>0.7              </td><td>0.5              </td><td> 9.5             </td></tr>\n",
       "\t<tr><td>348              </td><td>Justise Winslow  </td><td>MIA              </td><td>68               </td><td>24.7             </td><td>3.0              </td><td> 7.2             </td><td>0.424            </td><td>0.7              </td><td>1.9              </td><td>⋯                </td><td>0.635            </td><td>1.1              </td><td>2.1              </td><td>0.9              </td><td>4.5              </td><td> 5.4             </td><td> 2.2             </td><td>0.8              </td><td>0.5              </td><td> 7.8             </td></tr>\n",
       "\t<tr><td>349              </td><td>Delon Wright     </td><td>TOR              </td><td>69               </td><td>20.8             </td><td>2.9              </td><td> 6.3             </td><td>0.465            </td><td>0.8              </td><td>2.2              </td><td>⋯                </td><td>0.829            </td><td>1.1              </td><td>1.2              </td><td>0.7              </td><td>2.2              </td><td> 2.9             </td><td> 2.9             </td><td>1.0              </td><td>0.5              </td><td> 8.0             </td></tr>\n",
       "\t<tr><td>350              </td><td>Joe Young        </td><td>IND              </td><td>53               </td><td>10.5             </td><td>1.5              </td><td> 3.5             </td><td>0.430            </td><td>0.5              </td><td>1.2              </td><td>⋯                </td><td>0.759            </td><td>0.5              </td><td>0.7              </td><td>0.2              </td><td>1.0              </td><td> 1.2             </td><td> 0.7             </td><td>0.3              </td><td>0.0              </td><td> 3.9             </td></tr>\n",
       "\t<tr><td>351              </td><td>Nick Young       </td><td>GSW              </td><td>80               </td><td>17.4             </td><td>2.5              </td><td> 6.1             </td><td>0.412            </td><td>1.5              </td><td>4.1              </td><td>⋯                </td><td>0.862            </td><td>0.5              </td><td>1.2              </td><td>0.2              </td><td>1.3              </td><td> 1.6             </td><td> 0.5             </td><td>0.5              </td><td>0.1              </td><td> 7.3             </td></tr>\n",
       "\t<tr><td>352              </td><td>Thaddeus Young   </td><td>IND              </td><td>81               </td><td>32.2             </td><td>5.2              </td><td>10.7             </td><td>0.487            </td><td>0.7              </td><td>2.2              </td><td>⋯                </td><td>0.598            </td><td>1.3              </td><td>2.2              </td><td>2.3              </td><td>4.0              </td><td> 6.3             </td><td> 1.9             </td><td>1.7              </td><td>0.4              </td><td>11.8             </td></tr>\n",
       "\t<tr><td>353              </td><td>Cody Zeller      </td><td>CHA              </td><td>33               </td><td>19.0             </td><td>2.6              </td><td> 4.7             </td><td>0.545            </td><td>0.1              </td><td>0.1              </td><td>⋯                </td><td>0.718            </td><td>1.0              </td><td>2.5              </td><td>2.0              </td><td>3.3              </td><td> 5.4             </td><td> 0.9             </td><td>0.4              </td><td>0.6              </td><td> 7.1             </td></tr>\n",
       "\t<tr><td>354              </td><td>Tyler Zeller     </td><td>MIL              </td><td>66               </td><td>16.8             </td><td>2.8              </td><td> 5.1             </td><td>0.560            </td><td>0.2              </td><td>0.4              </td><td>⋯                </td><td>0.722            </td><td>0.7              </td><td>1.9              </td><td>1.7              </td><td>3.0              </td><td> 4.6             </td><td> 0.7             </td><td>0.2              </td><td>0.5              </td><td> 6.7             </td></tr>\n",
       "\t<tr><td>355              </td><td>Paul Zipser      </td><td>CHI              </td><td>54               </td><td>15.2             </td><td>1.5              </td><td> 4.3             </td><td>0.346            </td><td>0.7              </td><td>2.0              </td><td>⋯                </td><td>0.760            </td><td>0.8              </td><td>1.6              </td><td>0.2              </td><td>2.2              </td><td> 2.4             </td><td> 0.9             </td><td>0.4              </td><td>0.3              </td><td> 4.0             </td></tr>\n",
       "</tbody>\n",
       "</table>\n"
      ],
      "text/latex": [
       "\\begin{tabular}{r|lllllllllllllllllllllll}\n",
       " \\# & Player & Team & GP & MPG & FGM & FGA & FG\\% & 3PM & 3PA & ⋯ & FT\\% & TOV & PF & ORB & DRB & RPG & APG & SPG & BPG & PPG\\\\\n",
       "\\hline\n",
       "\t  1                    & Alex Abrines          & OKC                   & 16                    & 17.2                  &  1.6                  &  4.0                  & 0.406                 & 1.3                   & 2.9                   & ⋯                     & 0.800                 & 0.7                   & 2.1                   & 0.3                   & 1.8                   &  2.1                  & 0.4                   & 0.6                   & 0.1                   &  5.1                 \\\\\n",
       "\t  2                    & Quincy Acy            & BRK                   & 15                    & 18.0                  &  2.1                  &  5.7                  & 0.360                 & 1.5                   & 4.2                   & ⋯                     & 0.812                 & 1.0                   & 1.7                   & 0.6                   & 3.3                   &  3.9                  & 0.5                   & 0.3                   & 0.2                   &  6.5                 \\\\\n",
       "\t  3                    & Steven Adams          & OKC                   & 15                    & 33.6                  &  6.4                  &  9.7                  & 0.658                 & 0.0                   & 0.1                   & ⋯                     & 0.642                 & 1.3                   & 2.9                   & 5.7                   & 3.9                   &  9.7                  & 0.9                   & 1.1                   & 0.6                   & 15.1                 \\\\\n",
       "\t  4                    & Bam Adebayo           & MIA                   & 15                    & 24.5                  &  3.1                  &  5.3                  & 0.582                 & 0.0                   & 0.1                   & ⋯                     & 0.721                 & 1.3                   & 2.9                   & 2.0                   & 3.5                   &  5.5                  & 1.7                   & 0.8                   & 0.7                   &  8.2                 \\\\\n",
       "\t  5                    & Arron Afflalo         & ORL                   & 12                    & 16.4                  &  1.4                  &  3.8                  & 0.378                 & 0.3                   & 1.2                   & ⋯                     & 0.917                 & 0.2                   & 1.2                   & 0.2                   & 0.8                   &  1.0                  & 0.3                   & 0.1                   & 0.1                   &  4.1                 \\\\\n",
       "\t  6                    & LaMarcus Aldridge     & SAS                   & 15                    & 33.8                  &  7.9                  & 17.5                  & 0.450                 & 0.5                   & 1.5                   & ⋯                     & 0.863                 & 1.7                   & 2.3                   & 3.5                   & 5.1                   &  8.6                  & 1.6                   & 0.3                   & 0.9                   & 20.4                 \\\\\n",
       "\t  7                    & Jarrett Allen         & BRK                   & 14                    & 18.5                  &  2.7                  &  5.6                  & 0.487                 & 0.1                   & 0.4                   & ⋯                     & 0.900                 & 0.9                   & 2.0                   & 2.2                   & 2.6                   &  4.9                  & 0.4                   & 0.4                   & 1.2                   &  6.9                 \\\\\n",
       "\t  8                    & Tony Allen            & NOP                   &  5                    &  8.4                  &  1.2                  &  2.6                  & 0.462                 & 0.2                   & 0.2                   & ⋯                     & 0.625                 & 0.4                   & 2.2                   & 0.8                   & 0.2                   &  1.0                  & 0.0                   & 0.2                   & 0.0                   &  3.6                 \\\\\n",
       "\t  9                    & Al-Farouq Aminu       & POR                   & 13                    & 30.1                  &  3.2                  &  8.3                  & 0.389                 & 2.1                   & 5.3                   & ⋯                     & 0.375                 & 1.3                   & 2.2                   & 0.9                   & 5.6                   &  6.5                  & 0.8                   & 0.8                   & 0.8                   &  8.8                 \\\\\n",
       "\t 10                    & Kyle Anderson         & SAS                   &  8                    & 23.3                  &  2.5                  &  4.2                  & 0.588                 & 0.2                   & 0.5                   & ⋯                     & 0.824                 & 1.1                   & 1.6                   & 0.6                   & 4.4                   &  5.0                  & 1.5                   & 1.1                   & 0.2                   &  7.0                 \\\\\n",
       "\t 11                    & Ryan Anderson         & HOU                   & 14                    & 26.4                  &  2.5                  &  6.7                  & 0.372                 & 1.4                   & 4.4                   & ⋯                     & 0.765                 & 1.1                   & 2.1                   & 1.9                   & 3.6                   &  5.5                  & 1.1                   & 0.6                   & 0.4                   &  7.3                 \\\\\n",
       "\t 12                    & Giannis Antetokounmpo & MIL                   & 13                    & 39.3                  & 10.4                  & 19.0                  & 0.547                 & 0.5                   & 1.8                   & ⋯                     & 0.802                 & 3.1                   & 2.5                   & 2.8                   & 7.9                   & 10.8                  & 4.8                   & 1.7                   & 0.7                   & 29.0                 \\\\\n",
       "\t 13                    & Carmelo Anthony       & OKC                   & 17                    & 33.7                  &  5.9                  & 14.5                  & 0.407                 & 1.8                   & 5.0                   & ⋯                     & 0.684                 & 1.2                   & 2.6                   & 0.6                   & 5.1                   &  5.7                  & 1.6                   & 0.5                   & 0.4                   & 15.1                 \\\\\n",
       "\t 14                    & Ogugua Anunoby        & TOR                   & 14                    & 24.1                  &  2.6                  &  5.7                  & 0.463                 & 1.6                   & 3.8                   & ⋯                     & 0.667                 & 1.2                   & 2.0                   & 0.6                   & 1.7                   &  2.4                  & 0.7                   & 1.1                   & 0.1                   &  7.2                 \\\\\n",
       "\t 15                    & Trevor Ariza          & HOU                   & 14                    & 38.8                  &  4.5                  & 10.1                  & 0.447                 & 2.8                   & 7.1                   & ⋯                     & 0.875                 & 0.6                   & 1.9                   & 0.5                   & 4.6                   &  5.1                  & 1.1                   & 1.7                   & 0.2                   & 13.3                 \\\\\n",
       "\t 16                    & Jamel Artis           & ORL                   &  5                    & 11.0                  &  0.8                  &  3.4                  & 0.235                 & 0.0                   & 1.0                   & ⋯                     & 0.333                 & 0.0                   & 0.0                   & 0.2                   & 1.2                   &  1.4                  & 0.8                   & 0.0                   & 0.0                   &  1.8                 \\\\\n",
       "\t 17                    & Omer Asik             & CHI                   &  9                    &  7.5                  &  0.2                  &  0.8                  & 0.286                 & 0.0                   & 0.0                   & ⋯                     & 0.500                 & 0.2                   & 0.4                   & 0.3                   & 2.2                   &  2.6                  & 0.2                   & 0.0                   & 0.0                   &  0.8                 \\\\\n",
       "\t 18                    & D.J. Augustin         & ORL                   & 15                    & 21.6                  &  2.4                  &  6.3                  & 0.379                 & 1.5                   & 3.7                   & ⋯                     & 0.919                 & 1.5                   & 1.3                   & 0.2                   & 1.3                   &  1.5                  & 2.1                   & 0.9                   & 0.0                   &  8.5                 \\\\\n",
       "\t 19                    & Luke Babbitt          & MIA                   & 10                    & 15.2                  &  1.7                  &  3.7                  & 0.459                 & 1.0                   & 2.2                   & ⋯                     & 0.778                 & 0.1                   & 0.9                   & 0.0                   & 2.4                   &  2.4                  & 0.6                   & 0.1                   & 0.1                   &  5.1                 \\\\\n",
       "\t 20                    & Dwayne Bacon          & CHA                   &  8                    &  8.1                  &  0.6                  &  1.5                  & 0.417                 & 0.0                   & 0.1                   & ⋯                     & 0.667                 & 0.2                   & 0.5                   & 0.0                   & 1.4                   &  1.4                  & 0.1                   & 0.4                   & 0.0                   &  1.5                 \\\\\n",
       "\t 21                    & Ron Baker             & NYK                   & 12                    & 15.9                  &  0.9                  &  2.6                  & 0.355                 & 0.6                   & 1.5                   & ⋯                     & 0.867                 & 0.7                   & 1.5                   & 0.2                   & 0.7                   &  0.8                  & 1.8                   & 1.0                   & 0.3                   &  3.5                 \\\\\n",
       "\t 22                    & Lonzo Ball            & LAL                   & 10                    & 34.8                  &  4.6                  & 10.9                  & 0.422                 & 2.0                   & 5.3                   & ⋯                     & 0.500                 & 3.4                   & 2.4                   & 1.0                   & 5.7                   &  6.7                  & 6.8                   & 1.3                   & 1.4                   & 12.2                 \\\\\n",
       "\t 23                    & J.J. Barea            & DAL                   & 16                    & 24.1                  &  4.7                  &  9.8                  & 0.481                 & 1.8                   & 4.2                   & ⋯                     & 0.727                 & 2.1                   & 1.1                   & 0.1                   & 3.2                   &  3.3                  & 7.3                   & 0.7                   & 0.1                   & 12.1                 \\\\\n",
       "\t 24                    & Harrison Barnes       & DAL                   & 16                    & 33.8                  &  7.2                  & 15.5                  & 0.464                 & 1.3                   & 3.6                   & ⋯                     & 0.787                 & 1.2                   & 0.8                   & 1.1                   & 4.5                   &  5.6                  & 2.1                   & 0.5                   & 0.2                   & 18.0                 \\\\\n",
       "\t 25                    & Will Barton           & DEN                   & 14                    & 33.8                  &  5.3                  & 13.0                  & 0.407                 & 1.5                   & 5.5                   & ⋯                     & 0.800                 & 1.4                   & 2.4                   & 0.9                   & 4.6                   &  5.5                  & 5.3                   & 1.1                   & 1.1                   & 14.1                 \\\\\n",
       "\t 26                    & Nicolas Batum         & CHA                   & 15                    & 33.1                  &  4.1                  &  9.7                  & 0.418                 & 1.2                   & 3.8                   & ⋯                     & 0.722                 & 2.2                   & 1.3                   & 0.7                   & 3.9                   &  4.6                  & 5.4                   & 1.1                   & 0.5                   & 10.2                 \\\\\n",
       "\t 27                    & Jerryd Bayless        & PHI                   & 15                    & 23.3                  &  2.8                  &  7.5                  & 0.375                 & 1.7                   & 4.5                   & ⋯                     & 0.824                 & 1.1                   & 2.6                   & 0.5                   & 1.7                   &  2.1                  & 0.9                   & 0.8                   & 0.2                   &  8.2                 \\\\\n",
       "\t 28                    & Aron Baynes           & BOS                   & 17                    & 18.7                  &  2.5                  &  5.1                  & 0.500                 & 0.0                   & 0.2                   & ⋯                     & 0.889                 & 0.9                   & 2.7                   & 1.1                   & 3.9                   &  4.9                  & 0.9                   & 0.2                   & 0.6                   &  6.0                 \\\\\n",
       "\t 29                    & Kent Bazemore         & ATL                   & 15                    & 28.5                  &  4.1                  &  9.6                  & 0.431                 & 1.8                   & 4.3                   & ⋯                     & 0.861                 & 2.5                   & 2.6                   & 0.4                   & 4.5                   &  4.9                  & 4.4                   & 1.9                   & 0.9                   & 12.1                 \\\\\n",
       "\t 30                    & Bradley Beal          & WAS                   & 16                    & 36.2                  &  9.0                  & 20.8                  & 0.434                 & 2.5                   & 7.2                   & ⋯                     & 0.716                 & 1.3                   & 2.1                   & 0.8                   & 3.4                   &  4.2                  & 3.7                   & 1.0                   & 0.4                   & 23.5                 \\\\\n",
       "\t ⋮ & ⋮ & ⋮ & ⋮ & ⋮ & ⋮ & ⋮ & ⋮ & ⋮ & ⋮ & ⋱ & ⋮ & ⋮ & ⋮ & ⋮ & ⋮ & ⋮ & ⋮ & ⋮ & ⋮ & ⋮\\\\\n",
       "\t 326               & Evan Turner       & POR               & 79                & 25.7              & 3.3               &  7.3              & 0.447             & 0.5               & 1.7               & ⋯                 & 0.850             & 1.3               & 2.1               & 0.4               & 2.7               &  3.1              &  2.2              & 0.6               & 0.4               &  8.2             \\\\\n",
       "\t 327               & Myles Turner      & IND               & 65                & 28.3              & 4.7               &  9.8              & 0.479             & 0.9               & 2.4               & ⋯                 & 0.777             & 1.5               & 2.9               & 1.4               & 5.0               &  6.4              &  1.3              & 0.6               & 1.8               & 12.7             \\\\\n",
       "\t 328               & Ekpe Udoh         & UTA               & 63                & 12.8              & 1.0               &  1.9              & 0.500             & 0.0               & 0.0               & ⋯                 & 0.750             & 0.3               & 1.7               & 1.1               & 1.3               &  2.4              &  0.8              & 0.7               & 1.2               &  2.6             \\\\\n",
       "\t 329               & Tyler Ulis        & PHX               & 71                & 23.4              & 3.0               &  7.8              & 0.388             & 0.6               & 2.1               & ⋯                 & 0.832             & 1.8               & 1.7               & 0.3               & 1.5               &  1.8              &  4.4              & 1.0               & 0.1               &  7.8             \\\\\n",
       "\t 330               & Jonas Valanciunas & TOR               & 77                & 22.4              & 5.1               &  8.9              & 0.568             & 0.4               & 1.0               & ⋯                 & 0.806             & 1.5               & 2.5               & 2.4               & 6.2               &  8.6              &  1.1              & 0.4               & 0.9               & 12.7             \\\\\n",
       "\t 331               & Denzel Valentine  & CHI               & 77                & 27.2              & 3.9               &  9.4              & 0.417             & 1.9               & 4.8               & ⋯                 & 0.745             & 1.3               & 2.4               & 0.6               & 4.5               &  5.1              &  3.2              & 0.8               & 0.1               & 10.2             \\\\\n",
       "\t 332               & Fred VanVleet     & TOR               & 76                & 20.0              & 3.1               &  7.2              & 0.426             & 1.4               & 3.4               & ⋯                 & 0.832             & 1.0               & 1.7               & 0.3               & 2.1               &  2.4              &  3.2              & 0.9               & 0.2               &  8.6             \\\\\n",
       "\t 333               & Noah Vonleh       & CHI               & 54                & 16.2              & 1.9               &  4.3              & 0.444             & 0.4               & 1.2               & ⋯                 & 0.621             & 0.6               & 1.3               & 1.3               & 4.5               &  5.8              &  0.6              & 0.4               & 0.3               &  4.9             \\\\\n",
       "\t 334               & Nikola Vucevic    & ORL               & 57                & 29.5              & 7.0               & 14.7              & 0.475             & 1.1               & 3.6               & ⋯                 & 0.819             & 1.9               & 2.5               & 1.8               & 7.4               &  9.2              &  3.4              & 1.0               & 1.1               & 16.5             \\\\\n",
       "\t 335               & Dwyane Wade       & MIA               & 67                & 22.9              & 4.5               & 10.2              & 0.438             & 0.5               & 1.7               & ⋯                 & 0.714             & 2.1               & 1.9               & 0.7               & 3.0               &  3.8              &  3.4              & 0.9               & 0.7               & 11.4             \\\\\n",
       "\t 336               & Dion Waiters      & MIA               & 30                & 30.6              & 5.4               & 13.7              & 0.398             & 1.7               & 5.7               & ⋯                 & 0.739             & 2.3               & 2.0               & 0.3               & 2.3               &  2.6              &  3.8              & 0.8               & 0.3               & 14.3             \\\\\n",
       "\t 337               & Kemba Walker      & CHA               & 80                & 34.2              & 7.3               & 17.0              & 0.431             & 2.9               & 7.5               & ⋯                 & 0.864             & 2.2               & 1.2               & 0.4               & 2.7               &  3.1              &  5.5              & 1.1               & 0.3               & 22.1             \\\\\n",
       "\t 338               & John Wall         & WAS               & 41                & 34.4              & 6.8               & 16.3              & 0.420             & 1.5               & 4.1               & ⋯                 & 0.726             & 3.9               & 2.0               & 0.5               & 3.1               &  3.7              &  9.6              & 1.4               & 1.1               & 19.4             \\\\\n",
       "\t 339               & Tyrone Wallace    & LAC               & 30                & 28.4              & 3.7               &  8.2              & 0.445             & 0.3               & 1.3               & ⋯                 & 0.782             & 1.5               & 2.8               & 0.7               & 2.8               &  3.5              &  2.4              & 0.9               & 0.4               &  9.7             \\\\\n",
       "\t 340               & T.J. Warren       & PHX               & 65                & 33.0              & 8.1               & 16.4              & 0.498             & 0.3               & 1.4               & ⋯                 & 0.757             & 1.3               & 2.3               & 1.9               & 3.2               &  5.1              &  1.3              & 1.0               & 0.6               & 19.6             \\\\\n",
       "\t 341               & David West        & GSW               & 73                & 13.7              & 3.0               &  5.2              & 0.571             & 0.0               & 0.1               & ⋯                 & 0.759             & 1.1               & 1.6               & 0.9               & 2.4               &  3.3              &  1.9              & 0.6               & 1.0               &  6.8             \\\\\n",
       "\t 342               & Russell Westbrook & OKC               & 80                & 36.4              & 9.5               & 21.1              & 0.449             & 1.2               & 4.1               & ⋯                 & 0.737             & 4.8               & 2.5               & 1.9               & 8.2               & 10.1              & 10.2              & 1.8               & 0.2               & 25.4             \\\\\n",
       "\t 343               & Hassan Whiteside  & MIA               & 54                & 25.3              & 5.8               & 10.7              & 0.540             & 0.0               & 0.0               & ⋯                 & 0.703             & 1.7               & 2.4               & 3.2               & 8.2               & 11.4              &  1.0              & 0.7               & 1.7               & 14.0             \\\\\n",
       "\t 344               & Andrew Wiggins    & MIN               & 82                & 36.3              & 6.9               & 15.9              & 0.438             & 1.4               & 4.1               & ⋯                 & 0.643             & 1.7               & 2.0               & 1.0               & 3.4               &  4.4              &  2.0              & 1.1               & 0.6               & 17.7             \\\\\n",
       "\t 345               & C.J. Williams     & LAC               & 38                & 18.6              & 2.3               &  5.2              & 0.442             & 0.6               & 2.1               & ⋯                 & 0.812             & 0.5               & 1.7               & 0.3               & 1.2               &  1.5              &  1.1              & 0.8               & 0.3               &  5.5             \\\\\n",
       "\t 346               & Lou Williams      & LAC               & 79                & 32.8              & 7.4               & 16.9              & 0.435             & 2.4               & 6.6               & ⋯                 & 0.880             & 3.0               & 1.3               & 0.5               & 2.0               &  2.5              &  5.3              & 1.1               & 0.2               & 22.6             \\\\\n",
       "\t 347               & Marvin Williams   & CHA               & 78                & 25.7              & 3.3               &  7.2              & 0.458             & 1.6               & 3.9               & ⋯                 & 0.829             & 0.8               & 1.5               & 0.9               & 3.8               &  4.7              &  1.2              & 0.7               & 0.5               &  9.5             \\\\\n",
       "\t 348               & Justise Winslow   & MIA               & 68                & 24.7              & 3.0               &  7.2              & 0.424             & 0.7               & 1.9               & ⋯                 & 0.635             & 1.1               & 2.1               & 0.9               & 4.5               &  5.4              &  2.2              & 0.8               & 0.5               &  7.8             \\\\\n",
       "\t 349               & Delon Wright      & TOR               & 69                & 20.8              & 2.9               &  6.3              & 0.465             & 0.8               & 2.2               & ⋯                 & 0.829             & 1.1               & 1.2               & 0.7               & 2.2               &  2.9              &  2.9              & 1.0               & 0.5               &  8.0             \\\\\n",
       "\t 350               & Joe Young         & IND               & 53                & 10.5              & 1.5               &  3.5              & 0.430             & 0.5               & 1.2               & ⋯                 & 0.759             & 0.5               & 0.7               & 0.2               & 1.0               &  1.2              &  0.7              & 0.3               & 0.0               &  3.9             \\\\\n",
       "\t 351               & Nick Young        & GSW               & 80                & 17.4              & 2.5               &  6.1              & 0.412             & 1.5               & 4.1               & ⋯                 & 0.862             & 0.5               & 1.2               & 0.2               & 1.3               &  1.6              &  0.5              & 0.5               & 0.1               &  7.3             \\\\\n",
       "\t 352               & Thaddeus Young    & IND               & 81                & 32.2              & 5.2               & 10.7              & 0.487             & 0.7               & 2.2               & ⋯                 & 0.598             & 1.3               & 2.2               & 2.3               & 4.0               &  6.3              &  1.9              & 1.7               & 0.4               & 11.8             \\\\\n",
       "\t 353               & Cody Zeller       & CHA               & 33                & 19.0              & 2.6               &  4.7              & 0.545             & 0.1               & 0.1               & ⋯                 & 0.718             & 1.0               & 2.5               & 2.0               & 3.3               &  5.4              &  0.9              & 0.4               & 0.6               &  7.1             \\\\\n",
       "\t 354               & Tyler Zeller      & MIL               & 66                & 16.8              & 2.8               &  5.1              & 0.560             & 0.2               & 0.4               & ⋯                 & 0.722             & 0.7               & 1.9               & 1.7               & 3.0               &  4.6              &  0.7              & 0.2               & 0.5               &  6.7             \\\\\n",
       "\t 355               & Paul Zipser       & CHI               & 54                & 15.2              & 1.5               &  4.3              & 0.346             & 0.7               & 2.0               & ⋯                 & 0.760             & 0.8               & 1.6               & 0.2               & 2.2               &  2.4              &  0.9              & 0.4               & 0.3               &  4.0             \\\\\n",
       "\\end{tabular}\n"
      ],
      "text/markdown": [
       "\n",
       "# | Player | Team | GP | MPG | FGM | FGA | FG% | 3PM | 3PA | ⋯ | FT% | TOV | PF | ORB | DRB | RPG | APG | SPG | BPG | PPG | \n",
       "|---|---|---|---|---|---|---|---|---|---|---|---|---|---|---|---|---|---|---|---|---|---|---|---|---|---|---|---|---|---|---|---|---|---|---|---|---|---|---|---|---|---|---|---|---|---|---|---|---|---|---|---|---|---|---|---|---|---|---|---|---|\n",
       "|  1                    | Alex Abrines          | OKC                   | 16                    | 17.2                  |  1.6                  |  4.0                  | 0.406                 | 1.3                   | 2.9                   | ⋯                     | 0.800                 | 0.7                   | 2.1                   | 0.3                   | 1.8                   |  2.1                  | 0.4                   | 0.6                   | 0.1                   |  5.1                  | \n",
       "|  2                    | Quincy Acy            | BRK                   | 15                    | 18.0                  |  2.1                  |  5.7                  | 0.360                 | 1.5                   | 4.2                   | ⋯                     | 0.812                 | 1.0                   | 1.7                   | 0.6                   | 3.3                   |  3.9                  | 0.5                   | 0.3                   | 0.2                   |  6.5                  | \n",
       "|  3                    | Steven Adams          | OKC                   | 15                    | 33.6                  |  6.4                  |  9.7                  | 0.658                 | 0.0                   | 0.1                   | ⋯                     | 0.642                 | 1.3                   | 2.9                   | 5.7                   | 3.9                   |  9.7                  | 0.9                   | 1.1                   | 0.6                   | 15.1                  | \n",
       "|  4                    | Bam Adebayo           | MIA                   | 15                    | 24.5                  |  3.1                  |  5.3                  | 0.582                 | 0.0                   | 0.1                   | ⋯                     | 0.721                 | 1.3                   | 2.9                   | 2.0                   | 3.5                   |  5.5                  | 1.7                   | 0.8                   | 0.7                   |  8.2                  | \n",
       "|  5                    | Arron Afflalo         | ORL                   | 12                    | 16.4                  |  1.4                  |  3.8                  | 0.378                 | 0.3                   | 1.2                   | ⋯                     | 0.917                 | 0.2                   | 1.2                   | 0.2                   | 0.8                   |  1.0                  | 0.3                   | 0.1                   | 0.1                   |  4.1                  | \n",
       "|  6                    | LaMarcus Aldridge     | SAS                   | 15                    | 33.8                  |  7.9                  | 17.5                  | 0.450                 | 0.5                   | 1.5                   | ⋯                     | 0.863                 | 1.7                   | 2.3                   | 3.5                   | 5.1                   |  8.6                  | 1.6                   | 0.3                   | 0.9                   | 20.4                  | \n",
       "|  7                    | Jarrett Allen         | BRK                   | 14                    | 18.5                  |  2.7                  |  5.6                  | 0.487                 | 0.1                   | 0.4                   | ⋯                     | 0.900                 | 0.9                   | 2.0                   | 2.2                   | 2.6                   |  4.9                  | 0.4                   | 0.4                   | 1.2                   |  6.9                  | \n",
       "|  8                    | Tony Allen            | NOP                   |  5                    |  8.4                  |  1.2                  |  2.6                  | 0.462                 | 0.2                   | 0.2                   | ⋯                     | 0.625                 | 0.4                   | 2.2                   | 0.8                   | 0.2                   |  1.0                  | 0.0                   | 0.2                   | 0.0                   |  3.6                  | \n",
       "|  9                    | Al-Farouq Aminu       | POR                   | 13                    | 30.1                  |  3.2                  |  8.3                  | 0.389                 | 2.1                   | 5.3                   | ⋯                     | 0.375                 | 1.3                   | 2.2                   | 0.9                   | 5.6                   |  6.5                  | 0.8                   | 0.8                   | 0.8                   |  8.8                  | \n",
       "| 10                    | Kyle Anderson         | SAS                   |  8                    | 23.3                  |  2.5                  |  4.2                  | 0.588                 | 0.2                   | 0.5                   | ⋯                     | 0.824                 | 1.1                   | 1.6                   | 0.6                   | 4.4                   |  5.0                  | 1.5                   | 1.1                   | 0.2                   |  7.0                  | \n",
       "| 11                    | Ryan Anderson         | HOU                   | 14                    | 26.4                  |  2.5                  |  6.7                  | 0.372                 | 1.4                   | 4.4                   | ⋯                     | 0.765                 | 1.1                   | 2.1                   | 1.9                   | 3.6                   |  5.5                  | 1.1                   | 0.6                   | 0.4                   |  7.3                  | \n",
       "| 12                    | Giannis Antetokounmpo | MIL                   | 13                    | 39.3                  | 10.4                  | 19.0                  | 0.547                 | 0.5                   | 1.8                   | ⋯                     | 0.802                 | 3.1                   | 2.5                   | 2.8                   | 7.9                   | 10.8                  | 4.8                   | 1.7                   | 0.7                   | 29.0                  | \n",
       "| 13                    | Carmelo Anthony       | OKC                   | 17                    | 33.7                  |  5.9                  | 14.5                  | 0.407                 | 1.8                   | 5.0                   | ⋯                     | 0.684                 | 1.2                   | 2.6                   | 0.6                   | 5.1                   |  5.7                  | 1.6                   | 0.5                   | 0.4                   | 15.1                  | \n",
       "| 14                    | Ogugua Anunoby        | TOR                   | 14                    | 24.1                  |  2.6                  |  5.7                  | 0.463                 | 1.6                   | 3.8                   | ⋯                     | 0.667                 | 1.2                   | 2.0                   | 0.6                   | 1.7                   |  2.4                  | 0.7                   | 1.1                   | 0.1                   |  7.2                  | \n",
       "| 15                    | Trevor Ariza          | HOU                   | 14                    | 38.8                  |  4.5                  | 10.1                  | 0.447                 | 2.8                   | 7.1                   | ⋯                     | 0.875                 | 0.6                   | 1.9                   | 0.5                   | 4.6                   |  5.1                  | 1.1                   | 1.7                   | 0.2                   | 13.3                  | \n",
       "| 16                    | Jamel Artis           | ORL                   |  5                    | 11.0                  |  0.8                  |  3.4                  | 0.235                 | 0.0                   | 1.0                   | ⋯                     | 0.333                 | 0.0                   | 0.0                   | 0.2                   | 1.2                   |  1.4                  | 0.8                   | 0.0                   | 0.0                   |  1.8                  | \n",
       "| 17                    | Omer Asik             | CHI                   |  9                    |  7.5                  |  0.2                  |  0.8                  | 0.286                 | 0.0                   | 0.0                   | ⋯                     | 0.500                 | 0.2                   | 0.4                   | 0.3                   | 2.2                   |  2.6                  | 0.2                   | 0.0                   | 0.0                   |  0.8                  | \n",
       "| 18                    | D.J. Augustin         | ORL                   | 15                    | 21.6                  |  2.4                  |  6.3                  | 0.379                 | 1.5                   | 3.7                   | ⋯                     | 0.919                 | 1.5                   | 1.3                   | 0.2                   | 1.3                   |  1.5                  | 2.1                   | 0.9                   | 0.0                   |  8.5                  | \n",
       "| 19                    | Luke Babbitt          | MIA                   | 10                    | 15.2                  |  1.7                  |  3.7                  | 0.459                 | 1.0                   | 2.2                   | ⋯                     | 0.778                 | 0.1                   | 0.9                   | 0.0                   | 2.4                   |  2.4                  | 0.6                   | 0.1                   | 0.1                   |  5.1                  | \n",
       "| 20                    | Dwayne Bacon          | CHA                   |  8                    |  8.1                  |  0.6                  |  1.5                  | 0.417                 | 0.0                   | 0.1                   | ⋯                     | 0.667                 | 0.2                   | 0.5                   | 0.0                   | 1.4                   |  1.4                  | 0.1                   | 0.4                   | 0.0                   |  1.5                  | \n",
       "| 21                    | Ron Baker             | NYK                   | 12                    | 15.9                  |  0.9                  |  2.6                  | 0.355                 | 0.6                   | 1.5                   | ⋯                     | 0.867                 | 0.7                   | 1.5                   | 0.2                   | 0.7                   |  0.8                  | 1.8                   | 1.0                   | 0.3                   |  3.5                  | \n",
       "| 22                    | Lonzo Ball            | LAL                   | 10                    | 34.8                  |  4.6                  | 10.9                  | 0.422                 | 2.0                   | 5.3                   | ⋯                     | 0.500                 | 3.4                   | 2.4                   | 1.0                   | 5.7                   |  6.7                  | 6.8                   | 1.3                   | 1.4                   | 12.2                  | \n",
       "| 23                    | J.J. Barea            | DAL                   | 16                    | 24.1                  |  4.7                  |  9.8                  | 0.481                 | 1.8                   | 4.2                   | ⋯                     | 0.727                 | 2.1                   | 1.1                   | 0.1                   | 3.2                   |  3.3                  | 7.3                   | 0.7                   | 0.1                   | 12.1                  | \n",
       "| 24                    | Harrison Barnes       | DAL                   | 16                    | 33.8                  |  7.2                  | 15.5                  | 0.464                 | 1.3                   | 3.6                   | ⋯                     | 0.787                 | 1.2                   | 0.8                   | 1.1                   | 4.5                   |  5.6                  | 2.1                   | 0.5                   | 0.2                   | 18.0                  | \n",
       "| 25                    | Will Barton           | DEN                   | 14                    | 33.8                  |  5.3                  | 13.0                  | 0.407                 | 1.5                   | 5.5                   | ⋯                     | 0.800                 | 1.4                   | 2.4                   | 0.9                   | 4.6                   |  5.5                  | 5.3                   | 1.1                   | 1.1                   | 14.1                  | \n",
       "| 26                    | Nicolas Batum         | CHA                   | 15                    | 33.1                  |  4.1                  |  9.7                  | 0.418                 | 1.2                   | 3.8                   | ⋯                     | 0.722                 | 2.2                   | 1.3                   | 0.7                   | 3.9                   |  4.6                  | 5.4                   | 1.1                   | 0.5                   | 10.2                  | \n",
       "| 27                    | Jerryd Bayless        | PHI                   | 15                    | 23.3                  |  2.8                  |  7.5                  | 0.375                 | 1.7                   | 4.5                   | ⋯                     | 0.824                 | 1.1                   | 2.6                   | 0.5                   | 1.7                   |  2.1                  | 0.9                   | 0.8                   | 0.2                   |  8.2                  | \n",
       "| 28                    | Aron Baynes           | BOS                   | 17                    | 18.7                  |  2.5                  |  5.1                  | 0.500                 | 0.0                   | 0.2                   | ⋯                     | 0.889                 | 0.9                   | 2.7                   | 1.1                   | 3.9                   |  4.9                  | 0.9                   | 0.2                   | 0.6                   |  6.0                  | \n",
       "| 29                    | Kent Bazemore         | ATL                   | 15                    | 28.5                  |  4.1                  |  9.6                  | 0.431                 | 1.8                   | 4.3                   | ⋯                     | 0.861                 | 2.5                   | 2.6                   | 0.4                   | 4.5                   |  4.9                  | 4.4                   | 1.9                   | 0.9                   | 12.1                  | \n",
       "| 30                    | Bradley Beal          | WAS                   | 16                    | 36.2                  |  9.0                  | 20.8                  | 0.434                 | 2.5                   | 7.2                   | ⋯                     | 0.716                 | 1.3                   | 2.1                   | 0.8                   | 3.4                   |  4.2                  | 3.7                   | 1.0                   | 0.4                   | 23.5                  | \n",
       "| ⋮ | ⋮ | ⋮ | ⋮ | ⋮ | ⋮ | ⋮ | ⋮ | ⋮ | ⋮ | ⋱ | ⋮ | ⋮ | ⋮ | ⋮ | ⋮ | ⋮ | ⋮ | ⋮ | ⋮ | ⋮ | \n",
       "| 326               | Evan Turner       | POR               | 79                | 25.7              | 3.3               |  7.3              | 0.447             | 0.5               | 1.7               | ⋯                 | 0.850             | 1.3               | 2.1               | 0.4               | 2.7               |  3.1              |  2.2              | 0.6               | 0.4               |  8.2              | \n",
       "| 327               | Myles Turner      | IND               | 65                | 28.3              | 4.7               |  9.8              | 0.479             | 0.9               | 2.4               | ⋯                 | 0.777             | 1.5               | 2.9               | 1.4               | 5.0               |  6.4              |  1.3              | 0.6               | 1.8               | 12.7              | \n",
       "| 328               | Ekpe Udoh         | UTA               | 63                | 12.8              | 1.0               |  1.9              | 0.500             | 0.0               | 0.0               | ⋯                 | 0.750             | 0.3               | 1.7               | 1.1               | 1.3               |  2.4              |  0.8              | 0.7               | 1.2               |  2.6              | \n",
       "| 329               | Tyler Ulis        | PHX               | 71                | 23.4              | 3.0               |  7.8              | 0.388             | 0.6               | 2.1               | ⋯                 | 0.832             | 1.8               | 1.7               | 0.3               | 1.5               |  1.8              |  4.4              | 1.0               | 0.1               |  7.8              | \n",
       "| 330               | Jonas Valanciunas | TOR               | 77                | 22.4              | 5.1               |  8.9              | 0.568             | 0.4               | 1.0               | ⋯                 | 0.806             | 1.5               | 2.5               | 2.4               | 6.2               |  8.6              |  1.1              | 0.4               | 0.9               | 12.7              | \n",
       "| 331               | Denzel Valentine  | CHI               | 77                | 27.2              | 3.9               |  9.4              | 0.417             | 1.9               | 4.8               | ⋯                 | 0.745             | 1.3               | 2.4               | 0.6               | 4.5               |  5.1              |  3.2              | 0.8               | 0.1               | 10.2              | \n",
       "| 332               | Fred VanVleet     | TOR               | 76                | 20.0              | 3.1               |  7.2              | 0.426             | 1.4               | 3.4               | ⋯                 | 0.832             | 1.0               | 1.7               | 0.3               | 2.1               |  2.4              |  3.2              | 0.9               | 0.2               |  8.6              | \n",
       "| 333               | Noah Vonleh       | CHI               | 54                | 16.2              | 1.9               |  4.3              | 0.444             | 0.4               | 1.2               | ⋯                 | 0.621             | 0.6               | 1.3               | 1.3               | 4.5               |  5.8              |  0.6              | 0.4               | 0.3               |  4.9              | \n",
       "| 334               | Nikola Vucevic    | ORL               | 57                | 29.5              | 7.0               | 14.7              | 0.475             | 1.1               | 3.6               | ⋯                 | 0.819             | 1.9               | 2.5               | 1.8               | 7.4               |  9.2              |  3.4              | 1.0               | 1.1               | 16.5              | \n",
       "| 335               | Dwyane Wade       | MIA               | 67                | 22.9              | 4.5               | 10.2              | 0.438             | 0.5               | 1.7               | ⋯                 | 0.714             | 2.1               | 1.9               | 0.7               | 3.0               |  3.8              |  3.4              | 0.9               | 0.7               | 11.4              | \n",
       "| 336               | Dion Waiters      | MIA               | 30                | 30.6              | 5.4               | 13.7              | 0.398             | 1.7               | 5.7               | ⋯                 | 0.739             | 2.3               | 2.0               | 0.3               | 2.3               |  2.6              |  3.8              | 0.8               | 0.3               | 14.3              | \n",
       "| 337               | Kemba Walker      | CHA               | 80                | 34.2              | 7.3               | 17.0              | 0.431             | 2.9               | 7.5               | ⋯                 | 0.864             | 2.2               | 1.2               | 0.4               | 2.7               |  3.1              |  5.5              | 1.1               | 0.3               | 22.1              | \n",
       "| 338               | John Wall         | WAS               | 41                | 34.4              | 6.8               | 16.3              | 0.420             | 1.5               | 4.1               | ⋯                 | 0.726             | 3.9               | 2.0               | 0.5               | 3.1               |  3.7              |  9.6              | 1.4               | 1.1               | 19.4              | \n",
       "| 339               | Tyrone Wallace    | LAC               | 30                | 28.4              | 3.7               |  8.2              | 0.445             | 0.3               | 1.3               | ⋯                 | 0.782             | 1.5               | 2.8               | 0.7               | 2.8               |  3.5              |  2.4              | 0.9               | 0.4               |  9.7              | \n",
       "| 340               | T.J. Warren       | PHX               | 65                | 33.0              | 8.1               | 16.4              | 0.498             | 0.3               | 1.4               | ⋯                 | 0.757             | 1.3               | 2.3               | 1.9               | 3.2               |  5.1              |  1.3              | 1.0               | 0.6               | 19.6              | \n",
       "| 341               | David West        | GSW               | 73                | 13.7              | 3.0               |  5.2              | 0.571             | 0.0               | 0.1               | ⋯                 | 0.759             | 1.1               | 1.6               | 0.9               | 2.4               |  3.3              |  1.9              | 0.6               | 1.0               |  6.8              | \n",
       "| 342               | Russell Westbrook | OKC               | 80                | 36.4              | 9.5               | 21.1              | 0.449             | 1.2               | 4.1               | ⋯                 | 0.737             | 4.8               | 2.5               | 1.9               | 8.2               | 10.1              | 10.2              | 1.8               | 0.2               | 25.4              | \n",
       "| 343               | Hassan Whiteside  | MIA               | 54                | 25.3              | 5.8               | 10.7              | 0.540             | 0.0               | 0.0               | ⋯                 | 0.703             | 1.7               | 2.4               | 3.2               | 8.2               | 11.4              |  1.0              | 0.7               | 1.7               | 14.0              | \n",
       "| 344               | Andrew Wiggins    | MIN               | 82                | 36.3              | 6.9               | 15.9              | 0.438             | 1.4               | 4.1               | ⋯                 | 0.643             | 1.7               | 2.0               | 1.0               | 3.4               |  4.4              |  2.0              | 1.1               | 0.6               | 17.7              | \n",
       "| 345               | C.J. Williams     | LAC               | 38                | 18.6              | 2.3               |  5.2              | 0.442             | 0.6               | 2.1               | ⋯                 | 0.812             | 0.5               | 1.7               | 0.3               | 1.2               |  1.5              |  1.1              | 0.8               | 0.3               |  5.5              | \n",
       "| 346               | Lou Williams      | LAC               | 79                | 32.8              | 7.4               | 16.9              | 0.435             | 2.4               | 6.6               | ⋯                 | 0.880             | 3.0               | 1.3               | 0.5               | 2.0               |  2.5              |  5.3              | 1.1               | 0.2               | 22.6              | \n",
       "| 347               | Marvin Williams   | CHA               | 78                | 25.7              | 3.3               |  7.2              | 0.458             | 1.6               | 3.9               | ⋯                 | 0.829             | 0.8               | 1.5               | 0.9               | 3.8               |  4.7              |  1.2              | 0.7               | 0.5               |  9.5              | \n",
       "| 348               | Justise Winslow   | MIA               | 68                | 24.7              | 3.0               |  7.2              | 0.424             | 0.7               | 1.9               | ⋯                 | 0.635             | 1.1               | 2.1               | 0.9               | 4.5               |  5.4              |  2.2              | 0.8               | 0.5               |  7.8              | \n",
       "| 349               | Delon Wright      | TOR               | 69                | 20.8              | 2.9               |  6.3              | 0.465             | 0.8               | 2.2               | ⋯                 | 0.829             | 1.1               | 1.2               | 0.7               | 2.2               |  2.9              |  2.9              | 1.0               | 0.5               |  8.0              | \n",
       "| 350               | Joe Young         | IND               | 53                | 10.5              | 1.5               |  3.5              | 0.430             | 0.5               | 1.2               | ⋯                 | 0.759             | 0.5               | 0.7               | 0.2               | 1.0               |  1.2              |  0.7              | 0.3               | 0.0               |  3.9              | \n",
       "| 351               | Nick Young        | GSW               | 80                | 17.4              | 2.5               |  6.1              | 0.412             | 1.5               | 4.1               | ⋯                 | 0.862             | 0.5               | 1.2               | 0.2               | 1.3               |  1.6              |  0.5              | 0.5               | 0.1               |  7.3              | \n",
       "| 352               | Thaddeus Young    | IND               | 81                | 32.2              | 5.2               | 10.7              | 0.487             | 0.7               | 2.2               | ⋯                 | 0.598             | 1.3               | 2.2               | 2.3               | 4.0               |  6.3              |  1.9              | 1.7               | 0.4               | 11.8              | \n",
       "| 353               | Cody Zeller       | CHA               | 33                | 19.0              | 2.6               |  4.7              | 0.545             | 0.1               | 0.1               | ⋯                 | 0.718             | 1.0               | 2.5               | 2.0               | 3.3               |  5.4              |  0.9              | 0.4               | 0.6               |  7.1              | \n",
       "| 354               | Tyler Zeller      | MIL               | 66                | 16.8              | 2.8               |  5.1              | 0.560             | 0.2               | 0.4               | ⋯                 | 0.722             | 0.7               | 1.9               | 1.7               | 3.0               |  4.6              |  0.7              | 0.2               | 0.5               |  6.7              | \n",
       "| 355               | Paul Zipser       | CHI               | 54                | 15.2              | 1.5               |  4.3              | 0.346             | 0.7               | 2.0               | ⋯                 | 0.760             | 0.8               | 1.6               | 0.2               | 2.2               |  2.4              |  0.9              | 0.4               | 0.3               |  4.0              | \n",
       "\n",
       "\n"
      ],
      "text/plain": [
       "    #   Player                Team GP MPG  FGM  FGA  FG%   3PM 3PA ⋯ FT%   TOV\n",
       "1    1  Alex Abrines          OKC  16 17.2  1.6  4.0 0.406 1.3 2.9 ⋯ 0.800 0.7\n",
       "2    2  Quincy Acy            BRK  15 18.0  2.1  5.7 0.360 1.5 4.2 ⋯ 0.812 1.0\n",
       "3    3  Steven Adams          OKC  15 33.6  6.4  9.7 0.658 0.0 0.1 ⋯ 0.642 1.3\n",
       "4    4  Bam Adebayo           MIA  15 24.5  3.1  5.3 0.582 0.0 0.1 ⋯ 0.721 1.3\n",
       "5    5  Arron Afflalo         ORL  12 16.4  1.4  3.8 0.378 0.3 1.2 ⋯ 0.917 0.2\n",
       "6    6  LaMarcus Aldridge     SAS  15 33.8  7.9 17.5 0.450 0.5 1.5 ⋯ 0.863 1.7\n",
       "7    7  Jarrett Allen         BRK  14 18.5  2.7  5.6 0.487 0.1 0.4 ⋯ 0.900 0.9\n",
       "8    8  Tony Allen            NOP   5  8.4  1.2  2.6 0.462 0.2 0.2 ⋯ 0.625 0.4\n",
       "9    9  Al-Farouq Aminu       POR  13 30.1  3.2  8.3 0.389 2.1 5.3 ⋯ 0.375 1.3\n",
       "10  10  Kyle Anderson         SAS   8 23.3  2.5  4.2 0.588 0.2 0.5 ⋯ 0.824 1.1\n",
       "11  11  Ryan Anderson         HOU  14 26.4  2.5  6.7 0.372 1.4 4.4 ⋯ 0.765 1.1\n",
       "12  12  Giannis Antetokounmpo MIL  13 39.3 10.4 19.0 0.547 0.5 1.8 ⋯ 0.802 3.1\n",
       "13  13  Carmelo Anthony       OKC  17 33.7  5.9 14.5 0.407 1.8 5.0 ⋯ 0.684 1.2\n",
       "14  14  Ogugua Anunoby        TOR  14 24.1  2.6  5.7 0.463 1.6 3.8 ⋯ 0.667 1.2\n",
       "15  15  Trevor Ariza          HOU  14 38.8  4.5 10.1 0.447 2.8 7.1 ⋯ 0.875 0.6\n",
       "16  16  Jamel Artis           ORL   5 11.0  0.8  3.4 0.235 0.0 1.0 ⋯ 0.333 0.0\n",
       "17  17  Omer Asik             CHI   9  7.5  0.2  0.8 0.286 0.0 0.0 ⋯ 0.500 0.2\n",
       "18  18  D.J. Augustin         ORL  15 21.6  2.4  6.3 0.379 1.5 3.7 ⋯ 0.919 1.5\n",
       "19  19  Luke Babbitt          MIA  10 15.2  1.7  3.7 0.459 1.0 2.2 ⋯ 0.778 0.1\n",
       "20  20  Dwayne Bacon          CHA   8  8.1  0.6  1.5 0.417 0.0 0.1 ⋯ 0.667 0.2\n",
       "21  21  Ron Baker             NYK  12 15.9  0.9  2.6 0.355 0.6 1.5 ⋯ 0.867 0.7\n",
       "22  22  Lonzo Ball            LAL  10 34.8  4.6 10.9 0.422 2.0 5.3 ⋯ 0.500 3.4\n",
       "23  23  J.J. Barea            DAL  16 24.1  4.7  9.8 0.481 1.8 4.2 ⋯ 0.727 2.1\n",
       "24  24  Harrison Barnes       DAL  16 33.8  7.2 15.5 0.464 1.3 3.6 ⋯ 0.787 1.2\n",
       "25  25  Will Barton           DEN  14 33.8  5.3 13.0 0.407 1.5 5.5 ⋯ 0.800 1.4\n",
       "26  26  Nicolas Batum         CHA  15 33.1  4.1  9.7 0.418 1.2 3.8 ⋯ 0.722 2.2\n",
       "27  27  Jerryd Bayless        PHI  15 23.3  2.8  7.5 0.375 1.7 4.5 ⋯ 0.824 1.1\n",
       "28  28  Aron Baynes           BOS  17 18.7  2.5  5.1 0.500 0.0 0.2 ⋯ 0.889 0.9\n",
       "29  29  Kent Bazemore         ATL  15 28.5  4.1  9.6 0.431 1.8 4.3 ⋯ 0.861 2.5\n",
       "30  30  Bradley Beal          WAS  16 36.2  9.0 20.8 0.434 2.5 7.2 ⋯ 0.716 1.3\n",
       "⋮   ⋮   ⋮                     ⋮    ⋮  ⋮    ⋮    ⋮    ⋮     ⋮   ⋮   ⋱ ⋮     ⋮  \n",
       "326 326 Evan Turner           POR  79 25.7 3.3   7.3 0.447 0.5 1.7 ⋯ 0.850 1.3\n",
       "327 327 Myles Turner          IND  65 28.3 4.7   9.8 0.479 0.9 2.4 ⋯ 0.777 1.5\n",
       "328 328 Ekpe Udoh             UTA  63 12.8 1.0   1.9 0.500 0.0 0.0 ⋯ 0.750 0.3\n",
       "329 329 Tyler Ulis            PHX  71 23.4 3.0   7.8 0.388 0.6 2.1 ⋯ 0.832 1.8\n",
       "330 330 Jonas Valanciunas     TOR  77 22.4 5.1   8.9 0.568 0.4 1.0 ⋯ 0.806 1.5\n",
       "331 331 Denzel Valentine      CHI  77 27.2 3.9   9.4 0.417 1.9 4.8 ⋯ 0.745 1.3\n",
       "332 332 Fred VanVleet         TOR  76 20.0 3.1   7.2 0.426 1.4 3.4 ⋯ 0.832 1.0\n",
       "333 333 Noah Vonleh           CHI  54 16.2 1.9   4.3 0.444 0.4 1.2 ⋯ 0.621 0.6\n",
       "334 334 Nikola Vucevic        ORL  57 29.5 7.0  14.7 0.475 1.1 3.6 ⋯ 0.819 1.9\n",
       "335 335 Dwyane Wade           MIA  67 22.9 4.5  10.2 0.438 0.5 1.7 ⋯ 0.714 2.1\n",
       "336 336 Dion Waiters          MIA  30 30.6 5.4  13.7 0.398 1.7 5.7 ⋯ 0.739 2.3\n",
       "337 337 Kemba Walker          CHA  80 34.2 7.3  17.0 0.431 2.9 7.5 ⋯ 0.864 2.2\n",
       "338 338 John Wall             WAS  41 34.4 6.8  16.3 0.420 1.5 4.1 ⋯ 0.726 3.9\n",
       "339 339 Tyrone Wallace        LAC  30 28.4 3.7   8.2 0.445 0.3 1.3 ⋯ 0.782 1.5\n",
       "340 340 T.J. Warren           PHX  65 33.0 8.1  16.4 0.498 0.3 1.4 ⋯ 0.757 1.3\n",
       "341 341 David West            GSW  73 13.7 3.0   5.2 0.571 0.0 0.1 ⋯ 0.759 1.1\n",
       "342 342 Russell Westbrook     OKC  80 36.4 9.5  21.1 0.449 1.2 4.1 ⋯ 0.737 4.8\n",
       "343 343 Hassan Whiteside      MIA  54 25.3 5.8  10.7 0.540 0.0 0.0 ⋯ 0.703 1.7\n",
       "344 344 Andrew Wiggins        MIN  82 36.3 6.9  15.9 0.438 1.4 4.1 ⋯ 0.643 1.7\n",
       "345 345 C.J. Williams         LAC  38 18.6 2.3   5.2 0.442 0.6 2.1 ⋯ 0.812 0.5\n",
       "346 346 Lou Williams          LAC  79 32.8 7.4  16.9 0.435 2.4 6.6 ⋯ 0.880 3.0\n",
       "347 347 Marvin Williams       CHA  78 25.7 3.3   7.2 0.458 1.6 3.9 ⋯ 0.829 0.8\n",
       "348 348 Justise Winslow       MIA  68 24.7 3.0   7.2 0.424 0.7 1.9 ⋯ 0.635 1.1\n",
       "349 349 Delon Wright          TOR  69 20.8 2.9   6.3 0.465 0.8 2.2 ⋯ 0.829 1.1\n",
       "350 350 Joe Young             IND  53 10.5 1.5   3.5 0.430 0.5 1.2 ⋯ 0.759 0.5\n",
       "351 351 Nick Young            GSW  80 17.4 2.5   6.1 0.412 1.5 4.1 ⋯ 0.862 0.5\n",
       "352 352 Thaddeus Young        IND  81 32.2 5.2  10.7 0.487 0.7 2.2 ⋯ 0.598 1.3\n",
       "353 353 Cody Zeller           CHA  33 19.0 2.6   4.7 0.545 0.1 0.1 ⋯ 0.718 1.0\n",
       "354 354 Tyler Zeller          MIL  66 16.8 2.8   5.1 0.560 0.2 0.4 ⋯ 0.722 0.7\n",
       "355 355 Paul Zipser           CHI  54 15.2 1.5   4.3 0.346 0.7 2.0 ⋯ 0.760 0.8\n",
       "    PF  ORB DRB RPG  APG  SPG BPG PPG \n",
       "1   2.1 0.3 1.8  2.1 0.4  0.6 0.1  5.1\n",
       "2   1.7 0.6 3.3  3.9 0.5  0.3 0.2  6.5\n",
       "3   2.9 5.7 3.9  9.7 0.9  1.1 0.6 15.1\n",
       "4   2.9 2.0 3.5  5.5 1.7  0.8 0.7  8.2\n",
       "5   1.2 0.2 0.8  1.0 0.3  0.1 0.1  4.1\n",
       "6   2.3 3.5 5.1  8.6 1.6  0.3 0.9 20.4\n",
       "7   2.0 2.2 2.6  4.9 0.4  0.4 1.2  6.9\n",
       "8   2.2 0.8 0.2  1.0 0.0  0.2 0.0  3.6\n",
       "9   2.2 0.9 5.6  6.5 0.8  0.8 0.8  8.8\n",
       "10  1.6 0.6 4.4  5.0 1.5  1.1 0.2  7.0\n",
       "11  2.1 1.9 3.6  5.5 1.1  0.6 0.4  7.3\n",
       "12  2.5 2.8 7.9 10.8 4.8  1.7 0.7 29.0\n",
       "13  2.6 0.6 5.1  5.7 1.6  0.5 0.4 15.1\n",
       "14  2.0 0.6 1.7  2.4 0.7  1.1 0.1  7.2\n",
       "15  1.9 0.5 4.6  5.1 1.1  1.7 0.2 13.3\n",
       "16  0.0 0.2 1.2  1.4 0.8  0.0 0.0  1.8\n",
       "17  0.4 0.3 2.2  2.6 0.2  0.0 0.0  0.8\n",
       "18  1.3 0.2 1.3  1.5 2.1  0.9 0.0  8.5\n",
       "19  0.9 0.0 2.4  2.4 0.6  0.1 0.1  5.1\n",
       "20  0.5 0.0 1.4  1.4 0.1  0.4 0.0  1.5\n",
       "21  1.5 0.2 0.7  0.8 1.8  1.0 0.3  3.5\n",
       "22  2.4 1.0 5.7  6.7 6.8  1.3 1.4 12.2\n",
       "23  1.1 0.1 3.2  3.3 7.3  0.7 0.1 12.1\n",
       "24  0.8 1.1 4.5  5.6 2.1  0.5 0.2 18.0\n",
       "25  2.4 0.9 4.6  5.5 5.3  1.1 1.1 14.1\n",
       "26  1.3 0.7 3.9  4.6 5.4  1.1 0.5 10.2\n",
       "27  2.6 0.5 1.7  2.1 0.9  0.8 0.2  8.2\n",
       "28  2.7 1.1 3.9  4.9 0.9  0.2 0.6  6.0\n",
       "29  2.6 0.4 4.5  4.9 4.4  1.9 0.9 12.1\n",
       "30  2.1 0.8 3.4  4.2 3.7  1.0 0.4 23.5\n",
       "⋮   ⋮   ⋮   ⋮   ⋮    ⋮    ⋮   ⋮   ⋮   \n",
       "326 2.1 0.4 2.7  3.1  2.2 0.6 0.4  8.2\n",
       "327 2.9 1.4 5.0  6.4  1.3 0.6 1.8 12.7\n",
       "328 1.7 1.1 1.3  2.4  0.8 0.7 1.2  2.6\n",
       "329 1.7 0.3 1.5  1.8  4.4 1.0 0.1  7.8\n",
       "330 2.5 2.4 6.2  8.6  1.1 0.4 0.9 12.7\n",
       "331 2.4 0.6 4.5  5.1  3.2 0.8 0.1 10.2\n",
       "332 1.7 0.3 2.1  2.4  3.2 0.9 0.2  8.6\n",
       "333 1.3 1.3 4.5  5.8  0.6 0.4 0.3  4.9\n",
       "334 2.5 1.8 7.4  9.2  3.4 1.0 1.1 16.5\n",
       "335 1.9 0.7 3.0  3.8  3.4 0.9 0.7 11.4\n",
       "336 2.0 0.3 2.3  2.6  3.8 0.8 0.3 14.3\n",
       "337 1.2 0.4 2.7  3.1  5.5 1.1 0.3 22.1\n",
       "338 2.0 0.5 3.1  3.7  9.6 1.4 1.1 19.4\n",
       "339 2.8 0.7 2.8  3.5  2.4 0.9 0.4  9.7\n",
       "340 2.3 1.9 3.2  5.1  1.3 1.0 0.6 19.6\n",
       "341 1.6 0.9 2.4  3.3  1.9 0.6 1.0  6.8\n",
       "342 2.5 1.9 8.2 10.1 10.2 1.8 0.2 25.4\n",
       "343 2.4 3.2 8.2 11.4  1.0 0.7 1.7 14.0\n",
       "344 2.0 1.0 3.4  4.4  2.0 1.1 0.6 17.7\n",
       "345 1.7 0.3 1.2  1.5  1.1 0.8 0.3  5.5\n",
       "346 1.3 0.5 2.0  2.5  5.3 1.1 0.2 22.6\n",
       "347 1.5 0.9 3.8  4.7  1.2 0.7 0.5  9.5\n",
       "348 2.1 0.9 4.5  5.4  2.2 0.8 0.5  7.8\n",
       "349 1.2 0.7 2.2  2.9  2.9 1.0 0.5  8.0\n",
       "350 0.7 0.2 1.0  1.2  0.7 0.3 0.0  3.9\n",
       "351 1.2 0.2 1.3  1.6  0.5 0.5 0.1  7.3\n",
       "352 2.2 2.3 4.0  6.3  1.9 1.7 0.4 11.8\n",
       "353 2.5 2.0 3.3  5.4  0.9 0.4 0.6  7.1\n",
       "354 1.9 1.7 3.0  4.6  0.7 0.2 0.5  6.7\n",
       "355 1.6 0.2 2.2  2.4  0.9 0.4 0.3  4.0"
      ]
     },
     "metadata": {},
     "output_type": "display_data"
    }
   ],
   "source": [
    "December"
   ]
  },
  {
   "cell_type": "code",
   "execution_count": 42,
   "metadata": {},
   "outputs": [
    {
     "data": {
      "text/html": [
       "33.6"
      ],
      "text/latex": [
       "33.6"
      ],
      "text/markdown": [
       "33.6"
      ],
      "text/plain": [
       "[1] 33.6"
      ]
     },
     "metadata": {},
     "output_type": "display_data"
    }
   ],
   "source": [
    "max(December$PPG, na.rm = TRUE)"
   ]
  },
  {
   "cell_type": "markdown",
   "metadata": {},
   "source": [
    "The highest PPG value in the month of December was 33.6 "
   ]
  },
  {
   "cell_type": "code",
   "execution_count": 43,
   "metadata": {},
   "outputs": [
    {
     "data": {
      "text/html": [
       "<table>\n",
       "<thead><tr><th></th><th scope=col>#</th><th scope=col>Player</th><th scope=col>Team</th><th scope=col>GP</th><th scope=col>MPG</th><th scope=col>FGM</th><th scope=col>FGA</th><th scope=col>FG%</th><th scope=col>3PM</th><th scope=col>3PA</th><th scope=col>⋯</th><th scope=col>FT%</th><th scope=col>TOV</th><th scope=col>PF</th><th scope=col>ORB</th><th scope=col>DRB</th><th scope=col>RPG</th><th scope=col>APG</th><th scope=col>SPG</th><th scope=col>BPG</th><th scope=col>PPG</th></tr></thead>\n",
       "<tbody>\n",
       "\t<tr><th scope=row>145</th><td>145         </td><td>James Harden</td><td>HOU         </td><td>14          </td><td>36.9        </td><td>9.6         </td><td>21.3        </td><td>0.45        </td><td>3.6         </td><td>9.9         </td><td>⋯           </td><td>0.868       </td><td>4.1         </td><td>2.8         </td><td>0.3         </td><td>4.4         </td><td>4.7         </td><td>8.1         </td><td>2           </td><td>0.6         </td><td>33.6        </td></tr>\n",
       "</tbody>\n",
       "</table>\n"
      ],
      "text/latex": [
       "\\begin{tabular}{r|lllllllllllllllllllllll}\n",
       "  & \\# & Player & Team & GP & MPG & FGM & FGA & FG\\% & 3PM & 3PA & ⋯ & FT\\% & TOV & PF & ORB & DRB & RPG & APG & SPG & BPG & PPG\\\\\n",
       "\\hline\n",
       "\t145 & 145          & James Harden & HOU          & 14           & 36.9         & 9.6          & 21.3         & 0.45         & 3.6          & 9.9          & ⋯            & 0.868        & 4.1          & 2.8          & 0.3          & 4.4          & 4.7          & 8.1          & 2            & 0.6          & 33.6        \\\\\n",
       "\\end{tabular}\n"
      ],
      "text/markdown": [
       "\n",
       "| <!--/--> | # | Player | Team | GP | MPG | FGM | FGA | FG% | 3PM | 3PA | ⋯ | FT% | TOV | PF | ORB | DRB | RPG | APG | SPG | BPG | PPG | \n",
       "|---|\n",
       "| 145 | 145          | James Harden | HOU          | 14           | 36.9         | 9.6          | 21.3         | 0.45         | 3.6          | 9.9          | ⋯            | 0.868        | 4.1          | 2.8          | 0.3          | 4.4          | 4.7          | 8.1          | 2            | 0.6          | 33.6         | \n",
       "\n",
       "\n"
      ],
      "text/plain": [
       "    #   Player       Team GP MPG  FGM FGA  FG%  3PM 3PA ⋯ FT%   TOV PF  ORB DRB\n",
       "145 145 James Harden HOU  14 36.9 9.6 21.3 0.45 3.6 9.9 ⋯ 0.868 4.1 2.8 0.3 4.4\n",
       "    RPG APG SPG BPG PPG \n",
       "145 4.7 8.1 2   0.6 33.6"
      ]
     },
     "metadata": {},
     "output_type": "display_data"
    }
   ],
   "source": [
    "December[December$PPG %in% c(\"33.6\"), ]"
   ]
  },
  {
   "cell_type": "markdown",
   "metadata": {},
   "source": [
    "The player with the most Points Per Game in December is James Harden "
   ]
  },
  {
   "cell_type": "markdown",
   "metadata": {},
   "source": [
    "### January"
   ]
  },
  {
   "cell_type": "code",
   "execution_count": 44,
   "metadata": {},
   "outputs": [],
   "source": [
    "NBA13 = read_html(\"https://basketball.realgm.com/nba/stats/2018/Averages/Qualified/player/All/asc/1/January\")"
   ]
  },
  {
   "cell_type": "code",
   "execution_count": 45,
   "metadata": {},
   "outputs": [],
   "source": [
    "NBA14 = read_html(\"https://basketball.realgm.com/nba/stats/2018/Averages/Qualified/player/All/asc/2/January\")"
   ]
  },
  {
   "cell_type": "code",
   "execution_count": 46,
   "metadata": {},
   "outputs": [],
   "source": [
    "NBA15 = read_html(\"https://basketball.realgm.com/nba/stats/2018/Averages/Qualified/player/All/asc/3/January\")"
   ]
  },
  {
   "cell_type": "code",
   "execution_count": 47,
   "metadata": {},
   "outputs": [],
   "source": [
    "NBA16 = read_html(\"https://basketball.realgm.com/nba/stats/2018/Averages/Qualified/player/All/asc/4/January\")"
   ]
  },
  {
   "cell_type": "code",
   "execution_count": 48,
   "metadata": {},
   "outputs": [],
   "source": [
    "January1 = NBA13 %>% html_nodes('table')%>% .[[1]] %>%\n",
    "  html_table()"
   ]
  },
  {
   "cell_type": "code",
   "execution_count": 49,
   "metadata": {},
   "outputs": [],
   "source": [
    "January2 = NBA14 %>% html_nodes('table')%>% .[[1]] %>%\n",
    "  html_table()"
   ]
  },
  {
   "cell_type": "code",
   "execution_count": 50,
   "metadata": {},
   "outputs": [],
   "source": [
    "January3 = NBA15 %>% html_nodes('table')%>% .[[1]] %>%\n",
    "  html_table()"
   ]
  },
  {
   "cell_type": "code",
   "execution_count": 51,
   "metadata": {},
   "outputs": [],
   "source": [
    "January4 = NBA16 %>% html_nodes('table')%>% .[[1]] %>%\n",
    "  html_table()"
   ]
  },
  {
   "cell_type": "code",
   "execution_count": 52,
   "metadata": {},
   "outputs": [
    {
     "name": "stderr",
     "output_type": "stream",
     "text": [
      "Joining, by = c(\"#\", \"Player\", \"Team\", \"GP\", \"MPG\", \"FGM\", \"FGA\", \"FG%\", \"3PM\", \"3PA\", \"3P%\", \"FTM\", \"FTA\", \"FT%\", \"TOV\", \"PF\", \"ORB\", \"DRB\", \"RPG\", \"APG\", \"SPG\", \"BPG\", \"PPG\")\n"
     ]
    }
   ],
   "source": [
    "g = full_join(January1, January2)"
   ]
  },
  {
   "cell_type": "code",
   "execution_count": 53,
   "metadata": {},
   "outputs": [
    {
     "name": "stderr",
     "output_type": "stream",
     "text": [
      "Joining, by = c(\"#\", \"Player\", \"Team\", \"GP\", \"MPG\", \"FGM\", \"FGA\", \"FG%\", \"3PM\", \"3PA\", \"3P%\", \"FTM\", \"FTA\", \"FT%\", \"TOV\", \"PF\", \"ORB\", \"DRB\", \"RPG\", \"APG\", \"SPG\", \"BPG\", \"PPG\")\n"
     ]
    }
   ],
   "source": [
    "h = full_join(January3, January4)"
   ]
  },
  {
   "cell_type": "code",
   "execution_count": 54,
   "metadata": {},
   "outputs": [
    {
     "name": "stderr",
     "output_type": "stream",
     "text": [
      "Joining, by = c(\"#\", \"Player\", \"Team\", \"GP\", \"MPG\", \"FGM\", \"FGA\", \"FG%\", \"3PM\", \"3PA\", \"3P%\", \"FTM\", \"FTA\", \"FT%\", \"TOV\", \"PF\", \"ORB\", \"DRB\", \"RPG\", \"APG\", \"SPG\", \"BPG\", \"PPG\")\n"
     ]
    }
   ],
   "source": [
    "January = full_join(g, h)"
   ]
  },
  {
   "cell_type": "markdown",
   "metadata": {},
   "source": [
    "Table 4: The data and statistics for all players in the NBA during the month of January in the 2017-2018 season."
   ]
  },
  {
   "cell_type": "code",
   "execution_count": 55,
   "metadata": {},
   "outputs": [
    {
     "data": {
      "text/html": [
       "<table>\n",
       "<thead><tr><th scope=col>#</th><th scope=col>Player</th><th scope=col>Team</th><th scope=col>GP</th><th scope=col>MPG</th><th scope=col>FGM</th><th scope=col>FGA</th><th scope=col>FG%</th><th scope=col>3PM</th><th scope=col>3PA</th><th scope=col>⋯</th><th scope=col>FT%</th><th scope=col>TOV</th><th scope=col>PF</th><th scope=col>ORB</th><th scope=col>DRB</th><th scope=col>RPG</th><th scope=col>APG</th><th scope=col>SPG</th><th scope=col>BPG</th><th scope=col>PPG</th></tr></thead>\n",
       "<tbody>\n",
       "\t<tr><td> 1                   </td><td>Alex Abrines         </td><td>OKC                  </td><td>10                   </td><td> 8.3                 </td><td>1.0                  </td><td> 2.7                 </td><td>0.370                </td><td>0.7                  </td><td>2.0                  </td><td>⋯                    </td><td>1.000                </td><td>0.1                  </td><td>0.7                  </td><td>0.5                  </td><td>0.6                  </td><td> 1.1                 </td><td>0.2                  </td><td>0.3                  </td><td>0.0                  </td><td> 3.6                 </td></tr>\n",
       "\t<tr><td> 2                   </td><td>Quincy Acy           </td><td>BRK                  </td><td>16                   </td><td>23.1                 </td><td>1.8                  </td><td> 5.2                 </td><td>0.333                </td><td>1.4                  </td><td>4.2                  </td><td>⋯                    </td><td>0.750                </td><td>1.1                  </td><td>2.3                  </td><td>0.8                  </td><td>3.6                  </td><td> 4.4                 </td><td>0.5                  </td><td>0.5                  </td><td>0.6                  </td><td> 5.5                 </td></tr>\n",
       "\t<tr><td> 3                   </td><td>Steven Adams         </td><td>OKC                  </td><td>14                   </td><td>32.2                 </td><td>6.6                  </td><td>10.1                 </td><td>0.648                </td><td>0.0                  </td><td>0.1                  </td><td>⋯                    </td><td>0.449                </td><td>1.7                  </td><td>3.1                  </td><td>5.9                  </td><td>3.7                  </td><td> 9.6                 </td><td>1.3                  </td><td>1.1                  </td><td>1.1                  </td><td>14.7                 </td></tr>\n",
       "\t<tr><td> 4                   </td><td>Bam Adebayo          </td><td>MIA                  </td><td>15                   </td><td>20.0                 </td><td>2.5                  </td><td> 5.1                 </td><td>0.500                </td><td>0.0                  </td><td>0.2                  </td><td>⋯                    </td><td>0.774                </td><td>1.1                  </td><td>1.7                  </td><td>1.5                  </td><td>3.9                  </td><td> 5.3                 </td><td>2.5                  </td><td>0.5                  </td><td>0.6                  </td><td> 6.7                 </td></tr>\n",
       "\t<tr><td> 5                   </td><td>Arron Afflalo        </td><td>ORL                  </td><td> 9                   </td><td>10.8                 </td><td>1.6                  </td><td> 3.1                 </td><td>0.500                </td><td>0.8                  </td><td>1.2                  </td><td>⋯                    </td><td>0.000                </td><td>0.4                  </td><td>1.0                  </td><td>0.0                  </td><td>0.8                  </td><td> 0.8                 </td><td>0.7                  </td><td>0.0                  </td><td>0.1                  </td><td> 3.9                 </td></tr>\n",
       "\t<tr><td> 6                   </td><td>LaMarcus Aldridge    </td><td>SAS                  </td><td>14                   </td><td>35.5                 </td><td>9.4                  </td><td>19.1                 </td><td>0.494                </td><td>0.4                  </td><td>1.4                  </td><td>⋯                    </td><td>0.831                </td><td>1.7                  </td><td>2.0                  </td><td>3.6                  </td><td>5.1                  </td><td> 8.7                 </td><td>1.7                  </td><td>0.6                  </td><td>1.3                  </td><td>23.4                 </td></tr>\n",
       "\t<tr><td> 7                   </td><td>Jarrett Allen        </td><td>BRK                  </td><td>16                   </td><td>18.2                 </td><td>3.6                  </td><td> 4.9                 </td><td>0.722                </td><td>0.1                  </td><td>0.1                  </td><td>⋯                    </td><td>0.714                </td><td>1.5                  </td><td>2.2                  </td><td>1.9                  </td><td>3.6                  </td><td> 5.6                 </td><td>0.7                  </td><td>0.2                  </td><td>0.6                  </td><td> 8.8                 </td></tr>\n",
       "\t<tr><td> 8                   </td><td>Al-Farouq Aminu      </td><td>POR                  </td><td>16                   </td><td>30.1                 </td><td>4.1                  </td><td> 9.9                 </td><td>0.415                </td><td>2.1                  </td><td>5.4                  </td><td>⋯                    </td><td>0.800                </td><td>0.8                  </td><td>1.8                  </td><td>1.1                  </td><td>5.8                  </td><td> 6.9                 </td><td>1.1                  </td><td>1.0                  </td><td>0.4                  </td><td>11.3                 </td></tr>\n",
       "\t<tr><td> 9                   </td><td>Justin Anderson      </td><td>PHI                  </td><td>10                   </td><td>16.4                 </td><td>2.5                  </td><td> 5.6                 </td><td>0.446                </td><td>0.6                  </td><td>2.4                  </td><td>⋯                    </td><td>0.909                </td><td>0.3                  </td><td>1.4                  </td><td>0.7                  </td><td>1.9                  </td><td> 2.6                 </td><td>0.9                  </td><td>0.6                  </td><td>0.3                  </td><td> 6.6                 </td></tr>\n",
       "\t<tr><td>10                   </td><td>Kyle Anderson        </td><td>SAS                  </td><td>16                   </td><td>29.3                 </td><td>2.8                  </td><td> 5.6                 </td><td>0.500                </td><td>0.4                  </td><td>0.9                  </td><td>⋯                    </td><td>0.850                </td><td>1.7                  </td><td>1.5                  </td><td>1.0                  </td><td>5.1                  </td><td> 6.1                 </td><td>2.8                  </td><td>1.8                  </td><td>1.0                  </td><td> 7.1                 </td></tr>\n",
       "\t<tr><td>11                   </td><td>Ryan Anderson        </td><td>HOU                  </td><td>14                   </td><td>27.8                 </td><td>2.9                  </td><td> 7.0                 </td><td>0.408                </td><td>1.4                  </td><td>4.4                  </td><td>⋯                    </td><td>0.786                </td><td>0.6                  </td><td>1.5                  </td><td>1.4                  </td><td>3.5                  </td><td> 4.9                 </td><td>1.2                  </td><td>0.5                  </td><td>0.1                  </td><td> 8.7                 </td></tr>\n",
       "\t<tr><td>12                   </td><td>Giannis Antetokounmpo</td><td>MIL                  </td><td>13                   </td><td>35.2                 </td><td>9.3                  </td><td>16.9                 </td><td>0.550                </td><td>0.6                  </td><td>1.5                  </td><td>⋯                    </td><td>0.754                </td><td>2.4                  </td><td>2.9                  </td><td>2.5                  </td><td>7.7                  </td><td>10.2                 </td><td>5.1                  </td><td>1.0                  </td><td>1.1                  </td><td>27.0                 </td></tr>\n",
       "\t<tr><td>13                   </td><td>Carmelo Anthony      </td><td>OKC                  </td><td>14                   </td><td>31.6                 </td><td>6.9                  </td><td>16.0                 </td><td>0.429                </td><td>2.2                  </td><td>6.6                  </td><td>⋯                    </td><td>0.789                </td><td>0.9                  </td><td>2.6                  </td><td>0.7                  </td><td>5.1                  </td><td> 5.9                 </td><td>1.2                  </td><td>0.6                  </td><td>0.7                  </td><td>18.1                 </td></tr>\n",
       "\t<tr><td>14                   </td><td>Ogugua Anunoby       </td><td>TOR                  </td><td>15                   </td><td>22.0                 </td><td>1.7                  </td><td> 4.3                 </td><td>0.391                </td><td>0.5                  </td><td>2.4                  </td><td>⋯                    </td><td>0.812                </td><td>0.5                  </td><td>1.6                  </td><td>0.7                  </td><td>2.4                  </td><td> 3.1                 </td><td>0.7                  </td><td>0.7                  </td><td>0.4                  </td><td> 4.7                 </td></tr>\n",
       "\t<tr><td>15                   </td><td>Ryan Arcidiacono     </td><td>CHI                  </td><td> 6                   </td><td>11.9                 </td><td>0.5                  </td><td> 0.8                 </td><td>0.600                </td><td>0.3                  </td><td>0.7                  </td><td>⋯                    </td><td>1.000                </td><td>0.2                  </td><td>1.2                  </td><td>0.0                  </td><td>0.5                  </td><td> 0.5                 </td><td>1.3                  </td><td>0.5                  </td><td>0.0                  </td><td> 1.7                 </td></tr>\n",
       "\t<tr><td>16                   </td><td>Trevor Ariza         </td><td>HOU                  </td><td>11                   </td><td>31.4                 </td><td>3.5                  </td><td> 9.4                 </td><td>0.379                </td><td>2.6                  </td><td>7.1                  </td><td>⋯                    </td><td>0.867                </td><td>1.1                  </td><td>1.8                  </td><td>0.5                  </td><td>3.8                  </td><td> 4.3                 </td><td>1.3                  </td><td>1.4                  </td><td>0.2                  </td><td>10.9                 </td></tr>\n",
       "\t<tr><td>17                   </td><td>Omer Asik            </td><td>CHI                  </td><td> 4                   </td><td>10.6                 </td><td>0.5                  </td><td> 1.0                 </td><td>0.500                </td><td>0.0                  </td><td>0.0                  </td><td>⋯                    </td><td>0.167                </td><td>0.8                  </td><td>2.0                  </td><td>0.8                  </td><td>2.5                  </td><td> 3.2                 </td><td>0.0                  </td><td>0.2                  </td><td>0.5                  </td><td> 1.2                 </td></tr>\n",
       "\t<tr><td>18                   </td><td>D.J. Augustin        </td><td>ORL                  </td><td>13                   </td><td>18.6                 </td><td>2.8                  </td><td> 6.3                 </td><td>0.439                </td><td>1.4                  </td><td>3.2                  </td><td>⋯                    </td><td>0.769                </td><td>1.1                  </td><td>0.5                  </td><td>0.6                  </td><td>1.6                  </td><td> 2.2                 </td><td>3.3                  </td><td>0.6                  </td><td>0.0                  </td><td> 8.5                 </td></tr>\n",
       "\t<tr><td>19                   </td><td>Luke Babbitt         </td><td>MIA                  </td><td> 7                   </td><td> 7.5                 </td><td>1.4                  </td><td> 2.6                 </td><td>0.556                </td><td>0.9                  </td><td>1.9                  </td><td>⋯                    </td><td>1.000                </td><td>0.1                  </td><td>0.7                  </td><td>0.1                  </td><td>1.1                  </td><td> 1.3                 </td><td>0.4                  </td><td>0.0                  </td><td>0.1                  </td><td> 4.1                 </td></tr>\n",
       "\t<tr><td>20                   </td><td>Ron Baker            </td><td>NYK                  </td><td>12                   </td><td>11.3                 </td><td>0.5                  </td><td> 1.6                 </td><td>0.316                </td><td>0.2                  </td><td>1.0                  </td><td>⋯                    </td><td>1.000                </td><td>0.2                  </td><td>0.9                  </td><td>0.2                  </td><td>1.1                  </td><td> 1.3                 </td><td>1.0                  </td><td>0.7                  </td><td>0.2                  </td><td> 1.3                 </td></tr>\n",
       "\t<tr><td>21                   </td><td>Lonzo Ball           </td><td>LAL                  </td><td> 5                   </td><td>34.5                 </td><td>4.4                  </td><td>11.0                 </td><td>0.400                </td><td>2.4                  </td><td>7.4                  </td><td>⋯                    </td><td>0.000                </td><td>1.8                  </td><td>1.8                  </td><td>1.8                  </td><td>6.6                  </td><td> 8.4                 </td><td>7.0                  </td><td>2.6                  </td><td>0.2                  </td><td>11.2                 </td></tr>\n",
       "\t<tr><td>22                   </td><td>J.J. Barea           </td><td>DAL                  </td><td>10                   </td><td>22.6                 </td><td>3.0                  </td><td> 8.8                 </td><td>0.341                </td><td>0.7                  </td><td>3.3                  </td><td>⋯                    </td><td>0.815                </td><td>1.3                  </td><td>1.4                  </td><td>0.1                  </td><td>3.2                  </td><td> 3.3                 </td><td>5.3                  </td><td>0.2                  </td><td>0.0                  </td><td> 8.9                 </td></tr>\n",
       "\t<tr><td>23                   </td><td>Harrison Barnes      </td><td>DAL                  </td><td>14                   </td><td>34.8                 </td><td>7.0                  </td><td>15.6                 </td><td>0.450                </td><td>1.5                  </td><td>4.3                  </td><td>⋯                    </td><td>0.848                </td><td>1.1                  </td><td>1.1                  </td><td>1.1                  </td><td>5.8                  </td><td> 6.9                 </td><td>1.6                  </td><td>0.8                  </td><td>0.4                  </td><td>18.3                 </td></tr>\n",
       "\t<tr><td>24                   </td><td>Will Barton          </td><td>DEN                  </td><td>15                   </td><td>33.0                 </td><td>4.6                  </td><td>11.9                 </td><td>0.385                </td><td>1.5                  </td><td>4.7                  </td><td>⋯                    </td><td>0.833                </td><td>2.5                  </td><td>1.7                  </td><td>0.7                  </td><td>3.3                  </td><td> 4.0                 </td><td>4.5                  </td><td>1.1                  </td><td>0.5                  </td><td>12.7                 </td></tr>\n",
       "\t<tr><td>25                   </td><td>Nicolas Batum        </td><td>CHA                  </td><td>14                   </td><td>32.2                 </td><td>4.7                  </td><td>11.2                 </td><td>0.420                </td><td>1.5                  </td><td>4.6                  </td><td>⋯                    </td><td>0.775                </td><td>2.5                  </td><td>1.1                  </td><td>1.2                  </td><td>3.5                  </td><td> 4.7                 </td><td>4.6                  </td><td>1.0                  </td><td>0.2                  </td><td>13.1                 </td></tr>\n",
       "\t<tr><td>26                   </td><td>Jerryd Bayless       </td><td>PHI                  </td><td> 5                   </td><td>19.8                 </td><td>2.0                  </td><td> 4.2                 </td><td>0.476                </td><td>0.6                  </td><td>2.0                  </td><td>⋯                    </td><td>0.000                </td><td>0.6                  </td><td>2.2                  </td><td>0.6                  </td><td>1.4                  </td><td> 2.0                 </td><td>1.2                  </td><td>0.2                  </td><td>0.0                  </td><td> 4.6                 </td></tr>\n",
       "\t<tr><td>27                   </td><td>Aron Baynes          </td><td>BOS                  </td><td>12                   </td><td>17.4                 </td><td>2.3                  </td><td> 6.0                 </td><td>0.389                </td><td>0.0                  </td><td>0.2                  </td><td>⋯                    </td><td>0.667                </td><td>1.0                  </td><td>3.1                  </td><td>1.1                  </td><td>3.9                  </td><td> 5.0                 </td><td>0.8                  </td><td>0.2                  </td><td>0.5                  </td><td> 5.0                 </td></tr>\n",
       "\t<tr><td>28                   </td><td>Kent Bazemore        </td><td>ATL                  </td><td>15                   </td><td>27.4                 </td><td>5.3                  </td><td>11.3                 </td><td>0.465                </td><td>1.9                  </td><td>4.9                  </td><td>⋯                    </td><td>0.755                </td><td>2.5                  </td><td>2.0                  </td><td>0.4                  </td><td>2.2                  </td><td> 2.6                 </td><td>2.8                  </td><td>1.4                  </td><td>0.8                  </td><td>14.9                 </td></tr>\n",
       "\t<tr><td>29                   </td><td>Bradley Beal         </td><td>WAS                  </td><td>13                   </td><td>38.2                 </td><td>8.8                  </td><td>17.5                 </td><td>0.504                </td><td>2.7                  </td><td>6.6                  </td><td>⋯                    </td><td>0.785                </td><td>3.0                  </td><td>1.7                  </td><td>0.8                  </td><td>3.8                  </td><td> 4.5                 </td><td>4.9                  </td><td>1.2                  </td><td>0.5                  </td><td>25.2                 </td></tr>\n",
       "\t<tr><td>30                   </td><td>Malik Beasley        </td><td>DEN                  </td><td>12                   </td><td>12.3                 </td><td>1.2                  </td><td> 3.3                 </td><td>0.375                </td><td>0.4                  </td><td>1.7                  </td><td>⋯                    </td><td>0.600                </td><td>0.3                  </td><td>1.0                  </td><td>0.3                  </td><td>1.2                  </td><td> 1.5                 </td><td>0.7                  </td><td>0.6                  </td><td>0.2                  </td><td> 3.2                 </td></tr>\n",
       "\t<tr><td>⋮</td><td>⋮</td><td>⋮</td><td>⋮</td><td>⋮</td><td>⋮</td><td>⋮</td><td>⋮</td><td>⋮</td><td>⋮</td><td>⋱</td><td>⋮</td><td>⋮</td><td>⋮</td><td>⋮</td><td>⋮</td><td>⋮</td><td>⋮</td><td>⋮</td><td>⋮</td><td>⋮</td></tr>\n",
       "\t<tr><td>349                </td><td>Fred VanVleet      </td><td>TOR                </td><td>13                 </td><td>19.2               </td><td> 4.2               </td><td> 7.9               </td><td>0.524              </td><td>1.9                </td><td>3.8                </td><td>⋯                  </td><td>0.880              </td><td>0.8                </td><td>2.1                </td><td>0.2                </td><td>2.6                </td><td> 2.8               </td><td> 2.4               </td><td>0.8                </td><td>0.2                </td><td>11.9               </td></tr>\n",
       "\t<tr><td>350                </td><td>Noah Vonleh        </td><td>CHI                </td><td> 7                 </td><td> 5.0               </td><td> 0.7               </td><td> 2.3               </td><td>0.312              </td><td>0.3                </td><td>0.7                </td><td>⋯                  </td><td>1.000              </td><td>0.1                </td><td>0.3                </td><td>0.1                </td><td>2.3                </td><td> 2.4               </td><td> 0.0               </td><td>0.0                </td><td>0.0                </td><td> 2.3               </td></tr>\n",
       "\t<tr><td>351                </td><td>Dwyane Wade        </td><td>MIA                </td><td>11                 </td><td>22.1               </td><td> 4.5               </td><td> 9.2               </td><td>0.485              </td><td>0.2                </td><td>1.1                </td><td>⋯                  </td><td>0.727              </td><td>1.9                </td><td>1.8                </td><td>1.3                </td><td>3.5                </td><td> 4.8               </td><td> 3.0               </td><td>0.9                </td><td>0.5                </td><td>11.3               </td></tr>\n",
       "\t<tr><td>352                </td><td>Kemba Walker       </td><td>CHA                </td><td>14                 </td><td>35.1               </td><td> 8.1               </td><td>18.9               </td><td>0.430              </td><td>3.4                </td><td>8.2                </td><td>⋯                  </td><td>0.842              </td><td>2.4                </td><td>1.5                </td><td>0.4                </td><td>3.1                </td><td> 3.6               </td><td> 6.2               </td><td>1.4                </td><td>0.4                </td><td>24.3               </td></tr>\n",
       "\t<tr><td>353                </td><td>John Wall          </td><td>WAS                </td><td>11                 </td><td>36.8               </td><td> 7.9               </td><td>18.6               </td><td>0.424              </td><td>1.7                </td><td>4.0                </td><td>⋯                  </td><td>0.762              </td><td>4.9                </td><td>1.3                </td><td>0.5                </td><td>2.6                </td><td> 3.2               </td><td>10.5               </td><td>1.6                </td><td>1.3                </td><td>21.9               </td></tr>\n",
       "\t<tr><td>354                </td><td>Tyrone Wallace     </td><td>LAC                </td><td>13                 </td><td>32.7               </td><td> 4.5               </td><td> 9.2               </td><td>0.483              </td><td>0.5                </td><td>1.5                </td><td>⋯                  </td><td>0.739              </td><td>1.5                </td><td>3.1                </td><td>0.7                </td><td>2.8                </td><td> 3.5               </td><td> 2.5               </td><td>1.0                </td><td>0.5                </td><td>12.1               </td></tr>\n",
       "\t<tr><td>355                </td><td>Derrick Walton, Jr.</td><td>MIA                </td><td> 3                 </td><td>12.3               </td><td> 0.7               </td><td> 2.0               </td><td>0.333              </td><td>0.7                </td><td>2.0                </td><td>⋯                  </td><td>0.000              </td><td>0.0                </td><td>0.3                </td><td>0.3                </td><td>1.3                </td><td> 1.7               </td><td> 0.7               </td><td>0.7                </td><td>0.3                </td><td> 2.0               </td></tr>\n",
       "\t<tr><td>356                </td><td>T.J. Warren        </td><td>PHX                </td><td>11                 </td><td>34.2               </td><td> 9.5               </td><td>16.6               </td><td>0.568              </td><td>0.5                </td><td>1.5                </td><td>⋯                  </td><td>0.677              </td><td>1.3                </td><td>1.9                </td><td>1.7                </td><td>2.5                </td><td> 4.2               </td><td> 1.7               </td><td>1.2                </td><td>0.7                </td><td>21.3               </td></tr>\n",
       "\t<tr><td>357                </td><td>James Webb III     </td><td>BRK                </td><td> 3                 </td><td>12.6               </td><td> 0.0               </td><td> 2.7               </td><td>0.000              </td><td>0.0                </td><td>2.3                </td><td>⋯                  </td><td>0.000              </td><td>0.0                </td><td>1.7                </td><td>0.3                </td><td>0.7                </td><td> 1.0               </td><td> 0.7               </td><td>0.3                </td><td>0.0                </td><td> 0.0               </td></tr>\n",
       "\t<tr><td>358                </td><td>Briante Weber      </td><td>MEM                </td><td> 5                 </td><td> 9.7               </td><td> 0.8               </td><td> 2.4               </td><td>0.333              </td><td>0.2                </td><td>1.0                </td><td>⋯                  </td><td>1.000              </td><td>0.4                </td><td>2.0                </td><td>0.4                </td><td>1.4                </td><td> 1.8               </td><td> 1.6               </td><td>0.8                </td><td>0.2                </td><td> 2.2               </td></tr>\n",
       "\t<tr><td>359                </td><td>David West         </td><td>GSW                </td><td>14                 </td><td>14.1               </td><td> 3.3               </td><td> 5.8               </td><td>0.568              </td><td>0.0                </td><td>0.0                </td><td>⋯                  </td><td>0.812              </td><td>1.3                </td><td>1.6                </td><td>0.7                </td><td>2.1                </td><td> 2.8               </td><td> 2.1               </td><td>0.6                </td><td>1.1                </td><td> 7.5               </td></tr>\n",
       "\t<tr><td>360                </td><td>Russell Westbrook  </td><td>OKC                </td><td>14                 </td><td>34.9               </td><td>10.9               </td><td>22.4               </td><td>0.484              </td><td>0.9                </td><td>2.6                </td><td>⋯                  </td><td>0.685              </td><td>4.8                </td><td>1.8                </td><td>1.9                </td><td>7.0                </td><td> 8.9               </td><td>10.2               </td><td>2.1                </td><td>0.2                </td><td>27.1               </td></tr>\n",
       "\t<tr><td>361                </td><td>Derrick White      </td><td>SAS                </td><td> 6                 </td><td> 5.2               </td><td> 0.3               </td><td> 0.7               </td><td>0.500              </td><td>0.2                </td><td>0.5                </td><td>⋯                  </td><td>0.750              </td><td>0.3                </td><td>0.2                </td><td>0.3                </td><td>0.7                </td><td> 1.0               </td><td> 0.3               </td><td>0.0                </td><td>0.0                </td><td> 1.3               </td></tr>\n",
       "\t<tr><td>362                </td><td>Hassan Whiteside   </td><td>MIA                </td><td>15                 </td><td>25.6               </td><td> 6.0               </td><td>10.7               </td><td>0.562              </td><td>0.0                </td><td>0.0                </td><td>⋯                  </td><td>0.809              </td><td>2.3                </td><td>2.7                </td><td>3.0                </td><td>8.3                </td><td>11.3               </td><td> 1.1               </td><td>0.5                </td><td>2.1                </td><td>14.5               </td></tr>\n",
       "\t<tr><td>363                </td><td>Andrew Wiggins     </td><td>MIN                </td><td>17                 </td><td>35.6               </td><td> 7.9               </td><td>17.4               </td><td>0.453              </td><td>1.2                </td><td>4.1                </td><td>⋯                  </td><td>0.696              </td><td>1.5                </td><td>1.8                </td><td>1.1                </td><td>3.8                </td><td> 4.9               </td><td> 2.2               </td><td>1.1                </td><td>0.8                </td><td>19.2               </td></tr>\n",
       "\t<tr><td>364                </td><td>Damien Wilkins     </td><td>IND                </td><td> 2                 </td><td>13.4               </td><td> 1.5               </td><td> 4.5               </td><td>0.333              </td><td>1.5                </td><td>3.0                </td><td>⋯                  </td><td>1.000              </td><td>0.0                </td><td>0.5                </td><td>0.0                </td><td>1.0                </td><td> 1.0               </td><td> 0.5               </td><td>0.0                </td><td>0.5                </td><td> 5.5               </td></tr>\n",
       "\t<tr><td>365                </td><td>C.J. Williams      </td><td>LAC                </td><td> 5                 </td><td>28.3               </td><td> 4.6               </td><td> 8.4               </td><td>0.548              </td><td>1.6                </td><td>3.8                </td><td>⋯                  </td><td>0.750              </td><td>1.0                </td><td>2.6                </td><td>0.4                </td><td>1.4                </td><td> 1.8               </td><td> 0.8               </td><td>2.0                </td><td>0.8                </td><td>11.4               </td></tr>\n",
       "\t<tr><td>366                </td><td>Lou Williams       </td><td>LAC                </td><td>15                 </td><td>35.4               </td><td> 9.0               </td><td>20.4               </td><td>0.441              </td><td>3.3                </td><td>9.1                </td><td>⋯                  </td><td>0.904              </td><td>3.6                </td><td>1.6                </td><td>0.5                </td><td>1.7                </td><td> 2.2               </td><td> 6.3               </td><td>1.7                </td><td>0.4                </td><td>28.2               </td></tr>\n",
       "\t<tr><td>367                </td><td>Marvin Williams    </td><td>CHA                </td><td>13                 </td><td>26.0               </td><td> 3.9               </td><td> 7.4               </td><td>0.531              </td><td>2.2                </td><td>4.5                </td><td>⋯                  </td><td>0.857              </td><td>0.9                </td><td>2.1                </td><td>0.8                </td><td>4.3                </td><td> 5.2               </td><td> 1.6               </td><td>0.6                </td><td>0.2                </td><td>10.9               </td></tr>\n",
       "\t<tr><td>368                </td><td>D.J. Wilson        </td><td>MIL                </td><td> 5                 </td><td> 1.9               </td><td> 0.2               </td><td> 0.2               </td><td>1.000              </td><td>0.2                </td><td>0.2                </td><td>⋯                  </td><td>0.000              </td><td>0.4                </td><td>0.0                </td><td>0.0                </td><td>0.0                </td><td> 0.0               </td><td> 0.0               </td><td>0.2                </td><td>0.2                </td><td> 0.6               </td></tr>\n",
       "\t<tr><td>369                </td><td>Justise Winslow    </td><td>MIA                </td><td>10                 </td><td>24.6               </td><td> 2.2               </td><td> 5.2               </td><td>0.423              </td><td>0.7                </td><td>1.4                </td><td>⋯                  </td><td>0.643              </td><td>1.3                </td><td>2.6                </td><td>0.6                </td><td>4.3                </td><td> 4.9               </td><td> 2.5               </td><td>0.4                </td><td>0.7                </td><td> 6.0               </td></tr>\n",
       "\t<tr><td>370                </td><td>Brandan Wright     </td><td>HOU                </td><td> 5                 </td><td>11.8               </td><td> 1.6               </td><td> 3.4               </td><td>0.471              </td><td>0.0                </td><td>0.0                </td><td>⋯                  </td><td>0.500              </td><td>0.4                </td><td>0.4                </td><td>1.6                </td><td>2.2                </td><td> 3.8               </td><td> 0.6               </td><td>0.6                </td><td>0.4                </td><td> 3.8               </td></tr>\n",
       "\t<tr><td>371                </td><td>Delon Wright       </td><td>TOR                </td><td>15                 </td><td>22.6               </td><td> 3.2               </td><td> 7.2               </td><td>0.444              </td><td>0.9                </td><td>2.1                </td><td>⋯                  </td><td>0.800              </td><td>0.9                </td><td>0.9                </td><td>1.0                </td><td>3.0                </td><td> 4.0               </td><td> 3.1               </td><td>0.9                </td><td>0.6                </td><td> 9.2               </td></tr>\n",
       "\t<tr><td>372                </td><td>James Young        </td><td>PHI                </td><td> 5                 </td><td>10.4               </td><td> 0.8               </td><td> 2.4               </td><td>0.333              </td><td>0.6                </td><td>2.0                </td><td>⋯                  </td><td>0.667              </td><td>0.0                </td><td>0.6                </td><td>0.0                </td><td>0.4                </td><td> 0.4               </td><td> 0.4               </td><td>0.0                </td><td>0.0                </td><td> 3.0               </td></tr>\n",
       "\t<tr><td>373                </td><td>Joe Young          </td><td>IND                </td><td>14                 </td><td>11.4               </td><td> 1.2               </td><td> 3.0               </td><td>0.405              </td><td>0.2                </td><td>0.9                </td><td>⋯                  </td><td>0.800              </td><td>0.5                </td><td>0.9                </td><td>0.1                </td><td>0.9                </td><td> 1.0               </td><td> 0.6               </td><td>0.4                </td><td>0.0                </td><td> 3.2               </td></tr>\n",
       "\t<tr><td>374                </td><td>Nick Young         </td><td>GSW                </td><td>14                 </td><td>15.1               </td><td> 2.3               </td><td> 5.2               </td><td>0.438              </td><td>1.3                </td><td>3.6                </td><td>⋯                  </td><td>0.667              </td><td>0.3                </td><td>1.4                </td><td>0.2                </td><td>0.5                </td><td> 0.7               </td><td> 0.2               </td><td>0.6                </td><td>0.2                </td><td> 6.0               </td></tr>\n",
       "\t<tr><td>375                </td><td>Thaddeus Young     </td><td>IND                </td><td>15                 </td><td>33.0               </td><td> 5.7               </td><td>10.8               </td><td>0.531              </td><td>0.7                </td><td>2.3                </td><td>⋯                  </td><td>0.500              </td><td>1.3                </td><td>2.1                </td><td>1.6                </td><td>3.7                </td><td> 5.3               </td><td> 2.1               </td><td>1.4                </td><td>0.5                </td><td>12.5               </td></tr>\n",
       "\t<tr><td>376                </td><td>Tyler Zeller       </td><td>MIL                </td><td>14                 </td><td>12.5               </td><td> 2.3               </td><td> 4.6               </td><td>0.500              </td><td>0.2                </td><td>0.6                </td><td>⋯                  </td><td>0.556              </td><td>0.3                </td><td>2.0                </td><td>1.3                </td><td>2.6                </td><td> 3.9               </td><td> 0.6               </td><td>0.1                </td><td>0.6                </td><td> 5.1               </td></tr>\n",
       "\t<tr><td>377                </td><td>Paul Zipser        </td><td>CHI                </td><td> 9                 </td><td>10.8               </td><td> 1.0               </td><td> 2.3               </td><td>0.429              </td><td>0.3                </td><td>1.0                </td><td>⋯                  </td><td>1.000              </td><td>0.3                </td><td>1.3                </td><td>0.2                </td><td>0.9                </td><td> 1.1               </td><td> 0.1               </td><td>0.1                </td><td>0.1                </td><td> 2.6               </td></tr>\n",
       "\t<tr><td>378                </td><td>Ivica Zubac        </td><td>LAL                </td><td> 6                 </td><td> 5.4               </td><td> 0.7               </td><td> 1.5               </td><td>0.444              </td><td>0.0                </td><td>0.0                </td><td>⋯                  </td><td>0.000              </td><td>0.5                </td><td>0.5                </td><td>0.2                </td><td>0.8                </td><td> 1.0               </td><td> 0.2               </td><td>0.0                </td><td>0.0                </td><td> 1.3               </td></tr>\n",
       "</tbody>\n",
       "</table>\n"
      ],
      "text/latex": [
       "\\begin{tabular}{r|lllllllllllllllllllllll}\n",
       " \\# & Player & Team & GP & MPG & FGM & FGA & FG\\% & 3PM & 3PA & ⋯ & FT\\% & TOV & PF & ORB & DRB & RPG & APG & SPG & BPG & PPG\\\\\n",
       "\\hline\n",
       "\t  1                    & Alex Abrines          & OKC                   & 10                    &  8.3                  & 1.0                   &  2.7                  & 0.370                 & 0.7                   & 2.0                   & ⋯                     & 1.000                 & 0.1                   & 0.7                   & 0.5                   & 0.6                   &  1.1                  & 0.2                   & 0.3                   & 0.0                   &  3.6                 \\\\\n",
       "\t  2                    & Quincy Acy            & BRK                   & 16                    & 23.1                  & 1.8                   &  5.2                  & 0.333                 & 1.4                   & 4.2                   & ⋯                     & 0.750                 & 1.1                   & 2.3                   & 0.8                   & 3.6                   &  4.4                  & 0.5                   & 0.5                   & 0.6                   &  5.5                 \\\\\n",
       "\t  3                    & Steven Adams          & OKC                   & 14                    & 32.2                  & 6.6                   & 10.1                  & 0.648                 & 0.0                   & 0.1                   & ⋯                     & 0.449                 & 1.7                   & 3.1                   & 5.9                   & 3.7                   &  9.6                  & 1.3                   & 1.1                   & 1.1                   & 14.7                 \\\\\n",
       "\t  4                    & Bam Adebayo           & MIA                   & 15                    & 20.0                  & 2.5                   &  5.1                  & 0.500                 & 0.0                   & 0.2                   & ⋯                     & 0.774                 & 1.1                   & 1.7                   & 1.5                   & 3.9                   &  5.3                  & 2.5                   & 0.5                   & 0.6                   &  6.7                 \\\\\n",
       "\t  5                    & Arron Afflalo         & ORL                   &  9                    & 10.8                  & 1.6                   &  3.1                  & 0.500                 & 0.8                   & 1.2                   & ⋯                     & 0.000                 & 0.4                   & 1.0                   & 0.0                   & 0.8                   &  0.8                  & 0.7                   & 0.0                   & 0.1                   &  3.9                 \\\\\n",
       "\t  6                    & LaMarcus Aldridge     & SAS                   & 14                    & 35.5                  & 9.4                   & 19.1                  & 0.494                 & 0.4                   & 1.4                   & ⋯                     & 0.831                 & 1.7                   & 2.0                   & 3.6                   & 5.1                   &  8.7                  & 1.7                   & 0.6                   & 1.3                   & 23.4                 \\\\\n",
       "\t  7                    & Jarrett Allen         & BRK                   & 16                    & 18.2                  & 3.6                   &  4.9                  & 0.722                 & 0.1                   & 0.1                   & ⋯                     & 0.714                 & 1.5                   & 2.2                   & 1.9                   & 3.6                   &  5.6                  & 0.7                   & 0.2                   & 0.6                   &  8.8                 \\\\\n",
       "\t  8                    & Al-Farouq Aminu       & POR                   & 16                    & 30.1                  & 4.1                   &  9.9                  & 0.415                 & 2.1                   & 5.4                   & ⋯                     & 0.800                 & 0.8                   & 1.8                   & 1.1                   & 5.8                   &  6.9                  & 1.1                   & 1.0                   & 0.4                   & 11.3                 \\\\\n",
       "\t  9                    & Justin Anderson       & PHI                   & 10                    & 16.4                  & 2.5                   &  5.6                  & 0.446                 & 0.6                   & 2.4                   & ⋯                     & 0.909                 & 0.3                   & 1.4                   & 0.7                   & 1.9                   &  2.6                  & 0.9                   & 0.6                   & 0.3                   &  6.6                 \\\\\n",
       "\t 10                    & Kyle Anderson         & SAS                   & 16                    & 29.3                  & 2.8                   &  5.6                  & 0.500                 & 0.4                   & 0.9                   & ⋯                     & 0.850                 & 1.7                   & 1.5                   & 1.0                   & 5.1                   &  6.1                  & 2.8                   & 1.8                   & 1.0                   &  7.1                 \\\\\n",
       "\t 11                    & Ryan Anderson         & HOU                   & 14                    & 27.8                  & 2.9                   &  7.0                  & 0.408                 & 1.4                   & 4.4                   & ⋯                     & 0.786                 & 0.6                   & 1.5                   & 1.4                   & 3.5                   &  4.9                  & 1.2                   & 0.5                   & 0.1                   &  8.7                 \\\\\n",
       "\t 12                    & Giannis Antetokounmpo & MIL                   & 13                    & 35.2                  & 9.3                   & 16.9                  & 0.550                 & 0.6                   & 1.5                   & ⋯                     & 0.754                 & 2.4                   & 2.9                   & 2.5                   & 7.7                   & 10.2                  & 5.1                   & 1.0                   & 1.1                   & 27.0                 \\\\\n",
       "\t 13                    & Carmelo Anthony       & OKC                   & 14                    & 31.6                  & 6.9                   & 16.0                  & 0.429                 & 2.2                   & 6.6                   & ⋯                     & 0.789                 & 0.9                   & 2.6                   & 0.7                   & 5.1                   &  5.9                  & 1.2                   & 0.6                   & 0.7                   & 18.1                 \\\\\n",
       "\t 14                    & Ogugua Anunoby        & TOR                   & 15                    & 22.0                  & 1.7                   &  4.3                  & 0.391                 & 0.5                   & 2.4                   & ⋯                     & 0.812                 & 0.5                   & 1.6                   & 0.7                   & 2.4                   &  3.1                  & 0.7                   & 0.7                   & 0.4                   &  4.7                 \\\\\n",
       "\t 15                    & Ryan Arcidiacono      & CHI                   &  6                    & 11.9                  & 0.5                   &  0.8                  & 0.600                 & 0.3                   & 0.7                   & ⋯                     & 1.000                 & 0.2                   & 1.2                   & 0.0                   & 0.5                   &  0.5                  & 1.3                   & 0.5                   & 0.0                   &  1.7                 \\\\\n",
       "\t 16                    & Trevor Ariza          & HOU                   & 11                    & 31.4                  & 3.5                   &  9.4                  & 0.379                 & 2.6                   & 7.1                   & ⋯                     & 0.867                 & 1.1                   & 1.8                   & 0.5                   & 3.8                   &  4.3                  & 1.3                   & 1.4                   & 0.2                   & 10.9                 \\\\\n",
       "\t 17                    & Omer Asik             & CHI                   &  4                    & 10.6                  & 0.5                   &  1.0                  & 0.500                 & 0.0                   & 0.0                   & ⋯                     & 0.167                 & 0.8                   & 2.0                   & 0.8                   & 2.5                   &  3.2                  & 0.0                   & 0.2                   & 0.5                   &  1.2                 \\\\\n",
       "\t 18                    & D.J. Augustin         & ORL                   & 13                    & 18.6                  & 2.8                   &  6.3                  & 0.439                 & 1.4                   & 3.2                   & ⋯                     & 0.769                 & 1.1                   & 0.5                   & 0.6                   & 1.6                   &  2.2                  & 3.3                   & 0.6                   & 0.0                   &  8.5                 \\\\\n",
       "\t 19                    & Luke Babbitt          & MIA                   &  7                    &  7.5                  & 1.4                   &  2.6                  & 0.556                 & 0.9                   & 1.9                   & ⋯                     & 1.000                 & 0.1                   & 0.7                   & 0.1                   & 1.1                   &  1.3                  & 0.4                   & 0.0                   & 0.1                   &  4.1                 \\\\\n",
       "\t 20                    & Ron Baker             & NYK                   & 12                    & 11.3                  & 0.5                   &  1.6                  & 0.316                 & 0.2                   & 1.0                   & ⋯                     & 1.000                 & 0.2                   & 0.9                   & 0.2                   & 1.1                   &  1.3                  & 1.0                   & 0.7                   & 0.2                   &  1.3                 \\\\\n",
       "\t 21                    & Lonzo Ball            & LAL                   &  5                    & 34.5                  & 4.4                   & 11.0                  & 0.400                 & 2.4                   & 7.4                   & ⋯                     & 0.000                 & 1.8                   & 1.8                   & 1.8                   & 6.6                   &  8.4                  & 7.0                   & 2.6                   & 0.2                   & 11.2                 \\\\\n",
       "\t 22                    & J.J. Barea            & DAL                   & 10                    & 22.6                  & 3.0                   &  8.8                  & 0.341                 & 0.7                   & 3.3                   & ⋯                     & 0.815                 & 1.3                   & 1.4                   & 0.1                   & 3.2                   &  3.3                  & 5.3                   & 0.2                   & 0.0                   &  8.9                 \\\\\n",
       "\t 23                    & Harrison Barnes       & DAL                   & 14                    & 34.8                  & 7.0                   & 15.6                  & 0.450                 & 1.5                   & 4.3                   & ⋯                     & 0.848                 & 1.1                   & 1.1                   & 1.1                   & 5.8                   &  6.9                  & 1.6                   & 0.8                   & 0.4                   & 18.3                 \\\\\n",
       "\t 24                    & Will Barton           & DEN                   & 15                    & 33.0                  & 4.6                   & 11.9                  & 0.385                 & 1.5                   & 4.7                   & ⋯                     & 0.833                 & 2.5                   & 1.7                   & 0.7                   & 3.3                   &  4.0                  & 4.5                   & 1.1                   & 0.5                   & 12.7                 \\\\\n",
       "\t 25                    & Nicolas Batum         & CHA                   & 14                    & 32.2                  & 4.7                   & 11.2                  & 0.420                 & 1.5                   & 4.6                   & ⋯                     & 0.775                 & 2.5                   & 1.1                   & 1.2                   & 3.5                   &  4.7                  & 4.6                   & 1.0                   & 0.2                   & 13.1                 \\\\\n",
       "\t 26                    & Jerryd Bayless        & PHI                   &  5                    & 19.8                  & 2.0                   &  4.2                  & 0.476                 & 0.6                   & 2.0                   & ⋯                     & 0.000                 & 0.6                   & 2.2                   & 0.6                   & 1.4                   &  2.0                  & 1.2                   & 0.2                   & 0.0                   &  4.6                 \\\\\n",
       "\t 27                    & Aron Baynes           & BOS                   & 12                    & 17.4                  & 2.3                   &  6.0                  & 0.389                 & 0.0                   & 0.2                   & ⋯                     & 0.667                 & 1.0                   & 3.1                   & 1.1                   & 3.9                   &  5.0                  & 0.8                   & 0.2                   & 0.5                   &  5.0                 \\\\\n",
       "\t 28                    & Kent Bazemore         & ATL                   & 15                    & 27.4                  & 5.3                   & 11.3                  & 0.465                 & 1.9                   & 4.9                   & ⋯                     & 0.755                 & 2.5                   & 2.0                   & 0.4                   & 2.2                   &  2.6                  & 2.8                   & 1.4                   & 0.8                   & 14.9                 \\\\\n",
       "\t 29                    & Bradley Beal          & WAS                   & 13                    & 38.2                  & 8.8                   & 17.5                  & 0.504                 & 2.7                   & 6.6                   & ⋯                     & 0.785                 & 3.0                   & 1.7                   & 0.8                   & 3.8                   &  4.5                  & 4.9                   & 1.2                   & 0.5                   & 25.2                 \\\\\n",
       "\t 30                    & Malik Beasley         & DEN                   & 12                    & 12.3                  & 1.2                   &  3.3                  & 0.375                 & 0.4                   & 1.7                   & ⋯                     & 0.600                 & 0.3                   & 1.0                   & 0.3                   & 1.2                   &  1.5                  & 0.7                   & 0.6                   & 0.2                   &  3.2                 \\\\\n",
       "\t ⋮ & ⋮ & ⋮ & ⋮ & ⋮ & ⋮ & ⋮ & ⋮ & ⋮ & ⋮ & ⋱ & ⋮ & ⋮ & ⋮ & ⋮ & ⋮ & ⋮ & ⋮ & ⋮ & ⋮ & ⋮\\\\\n",
       "\t 349                 & Fred VanVleet       & TOR                 & 13                  & 19.2                &  4.2                &  7.9                & 0.524               & 1.9                 & 3.8                 & ⋯                   & 0.880               & 0.8                 & 2.1                 & 0.2                 & 2.6                 &  2.8                &  2.4                & 0.8                 & 0.2                 & 11.9               \\\\\n",
       "\t 350                 & Noah Vonleh         & CHI                 &  7                  &  5.0                &  0.7                &  2.3                & 0.312               & 0.3                 & 0.7                 & ⋯                   & 1.000               & 0.1                 & 0.3                 & 0.1                 & 2.3                 &  2.4                &  0.0                & 0.0                 & 0.0                 &  2.3               \\\\\n",
       "\t 351                 & Dwyane Wade         & MIA                 & 11                  & 22.1                &  4.5                &  9.2                & 0.485               & 0.2                 & 1.1                 & ⋯                   & 0.727               & 1.9                 & 1.8                 & 1.3                 & 3.5                 &  4.8                &  3.0                & 0.9                 & 0.5                 & 11.3               \\\\\n",
       "\t 352                 & Kemba Walker        & CHA                 & 14                  & 35.1                &  8.1                & 18.9                & 0.430               & 3.4                 & 8.2                 & ⋯                   & 0.842               & 2.4                 & 1.5                 & 0.4                 & 3.1                 &  3.6                &  6.2                & 1.4                 & 0.4                 & 24.3               \\\\\n",
       "\t 353                 & John Wall           & WAS                 & 11                  & 36.8                &  7.9                & 18.6                & 0.424               & 1.7                 & 4.0                 & ⋯                   & 0.762               & 4.9                 & 1.3                 & 0.5                 & 2.6                 &  3.2                & 10.5                & 1.6                 & 1.3                 & 21.9               \\\\\n",
       "\t 354                 & Tyrone Wallace      & LAC                 & 13                  & 32.7                &  4.5                &  9.2                & 0.483               & 0.5                 & 1.5                 & ⋯                   & 0.739               & 1.5                 & 3.1                 & 0.7                 & 2.8                 &  3.5                &  2.5                & 1.0                 & 0.5                 & 12.1               \\\\\n",
       "\t 355                 & Derrick Walton, Jr. & MIA                 &  3                  & 12.3                &  0.7                &  2.0                & 0.333               & 0.7                 & 2.0                 & ⋯                   & 0.000               & 0.0                 & 0.3                 & 0.3                 & 1.3                 &  1.7                &  0.7                & 0.7                 & 0.3                 &  2.0               \\\\\n",
       "\t 356                 & T.J. Warren         & PHX                 & 11                  & 34.2                &  9.5                & 16.6                & 0.568               & 0.5                 & 1.5                 & ⋯                   & 0.677               & 1.3                 & 1.9                 & 1.7                 & 2.5                 &  4.2                &  1.7                & 1.2                 & 0.7                 & 21.3               \\\\\n",
       "\t 357                 & James Webb III      & BRK                 &  3                  & 12.6                &  0.0                &  2.7                & 0.000               & 0.0                 & 2.3                 & ⋯                   & 0.000               & 0.0                 & 1.7                 & 0.3                 & 0.7                 &  1.0                &  0.7                & 0.3                 & 0.0                 &  0.0               \\\\\n",
       "\t 358                 & Briante Weber       & MEM                 &  5                  &  9.7                &  0.8                &  2.4                & 0.333               & 0.2                 & 1.0                 & ⋯                   & 1.000               & 0.4                 & 2.0                 & 0.4                 & 1.4                 &  1.8                &  1.6                & 0.8                 & 0.2                 &  2.2               \\\\\n",
       "\t 359                 & David West          & GSW                 & 14                  & 14.1                &  3.3                &  5.8                & 0.568               & 0.0                 & 0.0                 & ⋯                   & 0.812               & 1.3                 & 1.6                 & 0.7                 & 2.1                 &  2.8                &  2.1                & 0.6                 & 1.1                 &  7.5               \\\\\n",
       "\t 360                 & Russell Westbrook   & OKC                 & 14                  & 34.9                & 10.9                & 22.4                & 0.484               & 0.9                 & 2.6                 & ⋯                   & 0.685               & 4.8                 & 1.8                 & 1.9                 & 7.0                 &  8.9                & 10.2                & 2.1                 & 0.2                 & 27.1               \\\\\n",
       "\t 361                 & Derrick White       & SAS                 &  6                  &  5.2                &  0.3                &  0.7                & 0.500               & 0.2                 & 0.5                 & ⋯                   & 0.750               & 0.3                 & 0.2                 & 0.3                 & 0.7                 &  1.0                &  0.3                & 0.0                 & 0.0                 &  1.3               \\\\\n",
       "\t 362                 & Hassan Whiteside    & MIA                 & 15                  & 25.6                &  6.0                & 10.7                & 0.562               & 0.0                 & 0.0                 & ⋯                   & 0.809               & 2.3                 & 2.7                 & 3.0                 & 8.3                 & 11.3                &  1.1                & 0.5                 & 2.1                 & 14.5               \\\\\n",
       "\t 363                 & Andrew Wiggins      & MIN                 & 17                  & 35.6                &  7.9                & 17.4                & 0.453               & 1.2                 & 4.1                 & ⋯                   & 0.696               & 1.5                 & 1.8                 & 1.1                 & 3.8                 &  4.9                &  2.2                & 1.1                 & 0.8                 & 19.2               \\\\\n",
       "\t 364                 & Damien Wilkins      & IND                 &  2                  & 13.4                &  1.5                &  4.5                & 0.333               & 1.5                 & 3.0                 & ⋯                   & 1.000               & 0.0                 & 0.5                 & 0.0                 & 1.0                 &  1.0                &  0.5                & 0.0                 & 0.5                 &  5.5               \\\\\n",
       "\t 365                 & C.J. Williams       & LAC                 &  5                  & 28.3                &  4.6                &  8.4                & 0.548               & 1.6                 & 3.8                 & ⋯                   & 0.750               & 1.0                 & 2.6                 & 0.4                 & 1.4                 &  1.8                &  0.8                & 2.0                 & 0.8                 & 11.4               \\\\\n",
       "\t 366                 & Lou Williams        & LAC                 & 15                  & 35.4                &  9.0                & 20.4                & 0.441               & 3.3                 & 9.1                 & ⋯                   & 0.904               & 3.6                 & 1.6                 & 0.5                 & 1.7                 &  2.2                &  6.3                & 1.7                 & 0.4                 & 28.2               \\\\\n",
       "\t 367                 & Marvin Williams     & CHA                 & 13                  & 26.0                &  3.9                &  7.4                & 0.531               & 2.2                 & 4.5                 & ⋯                   & 0.857               & 0.9                 & 2.1                 & 0.8                 & 4.3                 &  5.2                &  1.6                & 0.6                 & 0.2                 & 10.9               \\\\\n",
       "\t 368                 & D.J. Wilson         & MIL                 &  5                  &  1.9                &  0.2                &  0.2                & 1.000               & 0.2                 & 0.2                 & ⋯                   & 0.000               & 0.4                 & 0.0                 & 0.0                 & 0.0                 &  0.0                &  0.0                & 0.2                 & 0.2                 &  0.6               \\\\\n",
       "\t 369                 & Justise Winslow     & MIA                 & 10                  & 24.6                &  2.2                &  5.2                & 0.423               & 0.7                 & 1.4                 & ⋯                   & 0.643               & 1.3                 & 2.6                 & 0.6                 & 4.3                 &  4.9                &  2.5                & 0.4                 & 0.7                 &  6.0               \\\\\n",
       "\t 370                 & Brandan Wright      & HOU                 &  5                  & 11.8                &  1.6                &  3.4                & 0.471               & 0.0                 & 0.0                 & ⋯                   & 0.500               & 0.4                 & 0.4                 & 1.6                 & 2.2                 &  3.8                &  0.6                & 0.6                 & 0.4                 &  3.8               \\\\\n",
       "\t 371                 & Delon Wright        & TOR                 & 15                  & 22.6                &  3.2                &  7.2                & 0.444               & 0.9                 & 2.1                 & ⋯                   & 0.800               & 0.9                 & 0.9                 & 1.0                 & 3.0                 &  4.0                &  3.1                & 0.9                 & 0.6                 &  9.2               \\\\\n",
       "\t 372                 & James Young         & PHI                 &  5                  & 10.4                &  0.8                &  2.4                & 0.333               & 0.6                 & 2.0                 & ⋯                   & 0.667               & 0.0                 & 0.6                 & 0.0                 & 0.4                 &  0.4                &  0.4                & 0.0                 & 0.0                 &  3.0               \\\\\n",
       "\t 373                 & Joe Young           & IND                 & 14                  & 11.4                &  1.2                &  3.0                & 0.405               & 0.2                 & 0.9                 & ⋯                   & 0.800               & 0.5                 & 0.9                 & 0.1                 & 0.9                 &  1.0                &  0.6                & 0.4                 & 0.0                 &  3.2               \\\\\n",
       "\t 374                 & Nick Young          & GSW                 & 14                  & 15.1                &  2.3                &  5.2                & 0.438               & 1.3                 & 3.6                 & ⋯                   & 0.667               & 0.3                 & 1.4                 & 0.2                 & 0.5                 &  0.7                &  0.2                & 0.6                 & 0.2                 &  6.0               \\\\\n",
       "\t 375                 & Thaddeus Young      & IND                 & 15                  & 33.0                &  5.7                & 10.8                & 0.531               & 0.7                 & 2.3                 & ⋯                   & 0.500               & 1.3                 & 2.1                 & 1.6                 & 3.7                 &  5.3                &  2.1                & 1.4                 & 0.5                 & 12.5               \\\\\n",
       "\t 376                 & Tyler Zeller        & MIL                 & 14                  & 12.5                &  2.3                &  4.6                & 0.500               & 0.2                 & 0.6                 & ⋯                   & 0.556               & 0.3                 & 2.0                 & 1.3                 & 2.6                 &  3.9                &  0.6                & 0.1                 & 0.6                 &  5.1               \\\\\n",
       "\t 377                 & Paul Zipser         & CHI                 &  9                  & 10.8                &  1.0                &  2.3                & 0.429               & 0.3                 & 1.0                 & ⋯                   & 1.000               & 0.3                 & 1.3                 & 0.2                 & 0.9                 &  1.1                &  0.1                & 0.1                 & 0.1                 &  2.6               \\\\\n",
       "\t 378                 & Ivica Zubac         & LAL                 &  6                  &  5.4                &  0.7                &  1.5                & 0.444               & 0.0                 & 0.0                 & ⋯                   & 0.000               & 0.5                 & 0.5                 & 0.2                 & 0.8                 &  1.0                &  0.2                & 0.0                 & 0.0                 &  1.3               \\\\\n",
       "\\end{tabular}\n"
      ],
      "text/markdown": [
       "\n",
       "# | Player | Team | GP | MPG | FGM | FGA | FG% | 3PM | 3PA | ⋯ | FT% | TOV | PF | ORB | DRB | RPG | APG | SPG | BPG | PPG | \n",
       "|---|---|---|---|---|---|---|---|---|---|---|---|---|---|---|---|---|---|---|---|---|---|---|---|---|---|---|---|---|---|---|---|---|---|---|---|---|---|---|---|---|---|---|---|---|---|---|---|---|---|---|---|---|---|---|---|---|---|---|---|---|\n",
       "|  1                    | Alex Abrines          | OKC                   | 10                    |  8.3                  | 1.0                   |  2.7                  | 0.370                 | 0.7                   | 2.0                   | ⋯                     | 1.000                 | 0.1                   | 0.7                   | 0.5                   | 0.6                   |  1.1                  | 0.2                   | 0.3                   | 0.0                   |  3.6                  | \n",
       "|  2                    | Quincy Acy            | BRK                   | 16                    | 23.1                  | 1.8                   |  5.2                  | 0.333                 | 1.4                   | 4.2                   | ⋯                     | 0.750                 | 1.1                   | 2.3                   | 0.8                   | 3.6                   |  4.4                  | 0.5                   | 0.5                   | 0.6                   |  5.5                  | \n",
       "|  3                    | Steven Adams          | OKC                   | 14                    | 32.2                  | 6.6                   | 10.1                  | 0.648                 | 0.0                   | 0.1                   | ⋯                     | 0.449                 | 1.7                   | 3.1                   | 5.9                   | 3.7                   |  9.6                  | 1.3                   | 1.1                   | 1.1                   | 14.7                  | \n",
       "|  4                    | Bam Adebayo           | MIA                   | 15                    | 20.0                  | 2.5                   |  5.1                  | 0.500                 | 0.0                   | 0.2                   | ⋯                     | 0.774                 | 1.1                   | 1.7                   | 1.5                   | 3.9                   |  5.3                  | 2.5                   | 0.5                   | 0.6                   |  6.7                  | \n",
       "|  5                    | Arron Afflalo         | ORL                   |  9                    | 10.8                  | 1.6                   |  3.1                  | 0.500                 | 0.8                   | 1.2                   | ⋯                     | 0.000                 | 0.4                   | 1.0                   | 0.0                   | 0.8                   |  0.8                  | 0.7                   | 0.0                   | 0.1                   |  3.9                  | \n",
       "|  6                    | LaMarcus Aldridge     | SAS                   | 14                    | 35.5                  | 9.4                   | 19.1                  | 0.494                 | 0.4                   | 1.4                   | ⋯                     | 0.831                 | 1.7                   | 2.0                   | 3.6                   | 5.1                   |  8.7                  | 1.7                   | 0.6                   | 1.3                   | 23.4                  | \n",
       "|  7                    | Jarrett Allen         | BRK                   | 16                    | 18.2                  | 3.6                   |  4.9                  | 0.722                 | 0.1                   | 0.1                   | ⋯                     | 0.714                 | 1.5                   | 2.2                   | 1.9                   | 3.6                   |  5.6                  | 0.7                   | 0.2                   | 0.6                   |  8.8                  | \n",
       "|  8                    | Al-Farouq Aminu       | POR                   | 16                    | 30.1                  | 4.1                   |  9.9                  | 0.415                 | 2.1                   | 5.4                   | ⋯                     | 0.800                 | 0.8                   | 1.8                   | 1.1                   | 5.8                   |  6.9                  | 1.1                   | 1.0                   | 0.4                   | 11.3                  | \n",
       "|  9                    | Justin Anderson       | PHI                   | 10                    | 16.4                  | 2.5                   |  5.6                  | 0.446                 | 0.6                   | 2.4                   | ⋯                     | 0.909                 | 0.3                   | 1.4                   | 0.7                   | 1.9                   |  2.6                  | 0.9                   | 0.6                   | 0.3                   |  6.6                  | \n",
       "| 10                    | Kyle Anderson         | SAS                   | 16                    | 29.3                  | 2.8                   |  5.6                  | 0.500                 | 0.4                   | 0.9                   | ⋯                     | 0.850                 | 1.7                   | 1.5                   | 1.0                   | 5.1                   |  6.1                  | 2.8                   | 1.8                   | 1.0                   |  7.1                  | \n",
       "| 11                    | Ryan Anderson         | HOU                   | 14                    | 27.8                  | 2.9                   |  7.0                  | 0.408                 | 1.4                   | 4.4                   | ⋯                     | 0.786                 | 0.6                   | 1.5                   | 1.4                   | 3.5                   |  4.9                  | 1.2                   | 0.5                   | 0.1                   |  8.7                  | \n",
       "| 12                    | Giannis Antetokounmpo | MIL                   | 13                    | 35.2                  | 9.3                   | 16.9                  | 0.550                 | 0.6                   | 1.5                   | ⋯                     | 0.754                 | 2.4                   | 2.9                   | 2.5                   | 7.7                   | 10.2                  | 5.1                   | 1.0                   | 1.1                   | 27.0                  | \n",
       "| 13                    | Carmelo Anthony       | OKC                   | 14                    | 31.6                  | 6.9                   | 16.0                  | 0.429                 | 2.2                   | 6.6                   | ⋯                     | 0.789                 | 0.9                   | 2.6                   | 0.7                   | 5.1                   |  5.9                  | 1.2                   | 0.6                   | 0.7                   | 18.1                  | \n",
       "| 14                    | Ogugua Anunoby        | TOR                   | 15                    | 22.0                  | 1.7                   |  4.3                  | 0.391                 | 0.5                   | 2.4                   | ⋯                     | 0.812                 | 0.5                   | 1.6                   | 0.7                   | 2.4                   |  3.1                  | 0.7                   | 0.7                   | 0.4                   |  4.7                  | \n",
       "| 15                    | Ryan Arcidiacono      | CHI                   |  6                    | 11.9                  | 0.5                   |  0.8                  | 0.600                 | 0.3                   | 0.7                   | ⋯                     | 1.000                 | 0.2                   | 1.2                   | 0.0                   | 0.5                   |  0.5                  | 1.3                   | 0.5                   | 0.0                   |  1.7                  | \n",
       "| 16                    | Trevor Ariza          | HOU                   | 11                    | 31.4                  | 3.5                   |  9.4                  | 0.379                 | 2.6                   | 7.1                   | ⋯                     | 0.867                 | 1.1                   | 1.8                   | 0.5                   | 3.8                   |  4.3                  | 1.3                   | 1.4                   | 0.2                   | 10.9                  | \n",
       "| 17                    | Omer Asik             | CHI                   |  4                    | 10.6                  | 0.5                   |  1.0                  | 0.500                 | 0.0                   | 0.0                   | ⋯                     | 0.167                 | 0.8                   | 2.0                   | 0.8                   | 2.5                   |  3.2                  | 0.0                   | 0.2                   | 0.5                   |  1.2                  | \n",
       "| 18                    | D.J. Augustin         | ORL                   | 13                    | 18.6                  | 2.8                   |  6.3                  | 0.439                 | 1.4                   | 3.2                   | ⋯                     | 0.769                 | 1.1                   | 0.5                   | 0.6                   | 1.6                   |  2.2                  | 3.3                   | 0.6                   | 0.0                   |  8.5                  | \n",
       "| 19                    | Luke Babbitt          | MIA                   |  7                    |  7.5                  | 1.4                   |  2.6                  | 0.556                 | 0.9                   | 1.9                   | ⋯                     | 1.000                 | 0.1                   | 0.7                   | 0.1                   | 1.1                   |  1.3                  | 0.4                   | 0.0                   | 0.1                   |  4.1                  | \n",
       "| 20                    | Ron Baker             | NYK                   | 12                    | 11.3                  | 0.5                   |  1.6                  | 0.316                 | 0.2                   | 1.0                   | ⋯                     | 1.000                 | 0.2                   | 0.9                   | 0.2                   | 1.1                   |  1.3                  | 1.0                   | 0.7                   | 0.2                   |  1.3                  | \n",
       "| 21                    | Lonzo Ball            | LAL                   |  5                    | 34.5                  | 4.4                   | 11.0                  | 0.400                 | 2.4                   | 7.4                   | ⋯                     | 0.000                 | 1.8                   | 1.8                   | 1.8                   | 6.6                   |  8.4                  | 7.0                   | 2.6                   | 0.2                   | 11.2                  | \n",
       "| 22                    | J.J. Barea            | DAL                   | 10                    | 22.6                  | 3.0                   |  8.8                  | 0.341                 | 0.7                   | 3.3                   | ⋯                     | 0.815                 | 1.3                   | 1.4                   | 0.1                   | 3.2                   |  3.3                  | 5.3                   | 0.2                   | 0.0                   |  8.9                  | \n",
       "| 23                    | Harrison Barnes       | DAL                   | 14                    | 34.8                  | 7.0                   | 15.6                  | 0.450                 | 1.5                   | 4.3                   | ⋯                     | 0.848                 | 1.1                   | 1.1                   | 1.1                   | 5.8                   |  6.9                  | 1.6                   | 0.8                   | 0.4                   | 18.3                  | \n",
       "| 24                    | Will Barton           | DEN                   | 15                    | 33.0                  | 4.6                   | 11.9                  | 0.385                 | 1.5                   | 4.7                   | ⋯                     | 0.833                 | 2.5                   | 1.7                   | 0.7                   | 3.3                   |  4.0                  | 4.5                   | 1.1                   | 0.5                   | 12.7                  | \n",
       "| 25                    | Nicolas Batum         | CHA                   | 14                    | 32.2                  | 4.7                   | 11.2                  | 0.420                 | 1.5                   | 4.6                   | ⋯                     | 0.775                 | 2.5                   | 1.1                   | 1.2                   | 3.5                   |  4.7                  | 4.6                   | 1.0                   | 0.2                   | 13.1                  | \n",
       "| 26                    | Jerryd Bayless        | PHI                   |  5                    | 19.8                  | 2.0                   |  4.2                  | 0.476                 | 0.6                   | 2.0                   | ⋯                     | 0.000                 | 0.6                   | 2.2                   | 0.6                   | 1.4                   |  2.0                  | 1.2                   | 0.2                   | 0.0                   |  4.6                  | \n",
       "| 27                    | Aron Baynes           | BOS                   | 12                    | 17.4                  | 2.3                   |  6.0                  | 0.389                 | 0.0                   | 0.2                   | ⋯                     | 0.667                 | 1.0                   | 3.1                   | 1.1                   | 3.9                   |  5.0                  | 0.8                   | 0.2                   | 0.5                   |  5.0                  | \n",
       "| 28                    | Kent Bazemore         | ATL                   | 15                    | 27.4                  | 5.3                   | 11.3                  | 0.465                 | 1.9                   | 4.9                   | ⋯                     | 0.755                 | 2.5                   | 2.0                   | 0.4                   | 2.2                   |  2.6                  | 2.8                   | 1.4                   | 0.8                   | 14.9                  | \n",
       "| 29                    | Bradley Beal          | WAS                   | 13                    | 38.2                  | 8.8                   | 17.5                  | 0.504                 | 2.7                   | 6.6                   | ⋯                     | 0.785                 | 3.0                   | 1.7                   | 0.8                   | 3.8                   |  4.5                  | 4.9                   | 1.2                   | 0.5                   | 25.2                  | \n",
       "| 30                    | Malik Beasley         | DEN                   | 12                    | 12.3                  | 1.2                   |  3.3                  | 0.375                 | 0.4                   | 1.7                   | ⋯                     | 0.600                 | 0.3                   | 1.0                   | 0.3                   | 1.2                   |  1.5                  | 0.7                   | 0.6                   | 0.2                   |  3.2                  | \n",
       "| ⋮ | ⋮ | ⋮ | ⋮ | ⋮ | ⋮ | ⋮ | ⋮ | ⋮ | ⋮ | ⋱ | ⋮ | ⋮ | ⋮ | ⋮ | ⋮ | ⋮ | ⋮ | ⋮ | ⋮ | ⋮ | \n",
       "| 349                 | Fred VanVleet       | TOR                 | 13                  | 19.2                |  4.2                |  7.9                | 0.524               | 1.9                 | 3.8                 | ⋯                   | 0.880               | 0.8                 | 2.1                 | 0.2                 | 2.6                 |  2.8                |  2.4                | 0.8                 | 0.2                 | 11.9                | \n",
       "| 350                 | Noah Vonleh         | CHI                 |  7                  |  5.0                |  0.7                |  2.3                | 0.312               | 0.3                 | 0.7                 | ⋯                   | 1.000               | 0.1                 | 0.3                 | 0.1                 | 2.3                 |  2.4                |  0.0                | 0.0                 | 0.0                 |  2.3                | \n",
       "| 351                 | Dwyane Wade         | MIA                 | 11                  | 22.1                |  4.5                |  9.2                | 0.485               | 0.2                 | 1.1                 | ⋯                   | 0.727               | 1.9                 | 1.8                 | 1.3                 | 3.5                 |  4.8                |  3.0                | 0.9                 | 0.5                 | 11.3                | \n",
       "| 352                 | Kemba Walker        | CHA                 | 14                  | 35.1                |  8.1                | 18.9                | 0.430               | 3.4                 | 8.2                 | ⋯                   | 0.842               | 2.4                 | 1.5                 | 0.4                 | 3.1                 |  3.6                |  6.2                | 1.4                 | 0.4                 | 24.3                | \n",
       "| 353                 | John Wall           | WAS                 | 11                  | 36.8                |  7.9                | 18.6                | 0.424               | 1.7                 | 4.0                 | ⋯                   | 0.762               | 4.9                 | 1.3                 | 0.5                 | 2.6                 |  3.2                | 10.5                | 1.6                 | 1.3                 | 21.9                | \n",
       "| 354                 | Tyrone Wallace      | LAC                 | 13                  | 32.7                |  4.5                |  9.2                | 0.483               | 0.5                 | 1.5                 | ⋯                   | 0.739               | 1.5                 | 3.1                 | 0.7                 | 2.8                 |  3.5                |  2.5                | 1.0                 | 0.5                 | 12.1                | \n",
       "| 355                 | Derrick Walton, Jr. | MIA                 |  3                  | 12.3                |  0.7                |  2.0                | 0.333               | 0.7                 | 2.0                 | ⋯                   | 0.000               | 0.0                 | 0.3                 | 0.3                 | 1.3                 |  1.7                |  0.7                | 0.7                 | 0.3                 |  2.0                | \n",
       "| 356                 | T.J. Warren         | PHX                 | 11                  | 34.2                |  9.5                | 16.6                | 0.568               | 0.5                 | 1.5                 | ⋯                   | 0.677               | 1.3                 | 1.9                 | 1.7                 | 2.5                 |  4.2                |  1.7                | 1.2                 | 0.7                 | 21.3                | \n",
       "| 357                 | James Webb III      | BRK                 |  3                  | 12.6                |  0.0                |  2.7                | 0.000               | 0.0                 | 2.3                 | ⋯                   | 0.000               | 0.0                 | 1.7                 | 0.3                 | 0.7                 |  1.0                |  0.7                | 0.3                 | 0.0                 |  0.0                | \n",
       "| 358                 | Briante Weber       | MEM                 |  5                  |  9.7                |  0.8                |  2.4                | 0.333               | 0.2                 | 1.0                 | ⋯                   | 1.000               | 0.4                 | 2.0                 | 0.4                 | 1.4                 |  1.8                |  1.6                | 0.8                 | 0.2                 |  2.2                | \n",
       "| 359                 | David West          | GSW                 | 14                  | 14.1                |  3.3                |  5.8                | 0.568               | 0.0                 | 0.0                 | ⋯                   | 0.812               | 1.3                 | 1.6                 | 0.7                 | 2.1                 |  2.8                |  2.1                | 0.6                 | 1.1                 |  7.5                | \n",
       "| 360                 | Russell Westbrook   | OKC                 | 14                  | 34.9                | 10.9                | 22.4                | 0.484               | 0.9                 | 2.6                 | ⋯                   | 0.685               | 4.8                 | 1.8                 | 1.9                 | 7.0                 |  8.9                | 10.2                | 2.1                 | 0.2                 | 27.1                | \n",
       "| 361                 | Derrick White       | SAS                 |  6                  |  5.2                |  0.3                |  0.7                | 0.500               | 0.2                 | 0.5                 | ⋯                   | 0.750               | 0.3                 | 0.2                 | 0.3                 | 0.7                 |  1.0                |  0.3                | 0.0                 | 0.0                 |  1.3                | \n",
       "| 362                 | Hassan Whiteside    | MIA                 | 15                  | 25.6                |  6.0                | 10.7                | 0.562               | 0.0                 | 0.0                 | ⋯                   | 0.809               | 2.3                 | 2.7                 | 3.0                 | 8.3                 | 11.3                |  1.1                | 0.5                 | 2.1                 | 14.5                | \n",
       "| 363                 | Andrew Wiggins      | MIN                 | 17                  | 35.6                |  7.9                | 17.4                | 0.453               | 1.2                 | 4.1                 | ⋯                   | 0.696               | 1.5                 | 1.8                 | 1.1                 | 3.8                 |  4.9                |  2.2                | 1.1                 | 0.8                 | 19.2                | \n",
       "| 364                 | Damien Wilkins      | IND                 |  2                  | 13.4                |  1.5                |  4.5                | 0.333               | 1.5                 | 3.0                 | ⋯                   | 1.000               | 0.0                 | 0.5                 | 0.0                 | 1.0                 |  1.0                |  0.5                | 0.0                 | 0.5                 |  5.5                | \n",
       "| 365                 | C.J. Williams       | LAC                 |  5                  | 28.3                |  4.6                |  8.4                | 0.548               | 1.6                 | 3.8                 | ⋯                   | 0.750               | 1.0                 | 2.6                 | 0.4                 | 1.4                 |  1.8                |  0.8                | 2.0                 | 0.8                 | 11.4                | \n",
       "| 366                 | Lou Williams        | LAC                 | 15                  | 35.4                |  9.0                | 20.4                | 0.441               | 3.3                 | 9.1                 | ⋯                   | 0.904               | 3.6                 | 1.6                 | 0.5                 | 1.7                 |  2.2                |  6.3                | 1.7                 | 0.4                 | 28.2                | \n",
       "| 367                 | Marvin Williams     | CHA                 | 13                  | 26.0                |  3.9                |  7.4                | 0.531               | 2.2                 | 4.5                 | ⋯                   | 0.857               | 0.9                 | 2.1                 | 0.8                 | 4.3                 |  5.2                |  1.6                | 0.6                 | 0.2                 | 10.9                | \n",
       "| 368                 | D.J. Wilson         | MIL                 |  5                  |  1.9                |  0.2                |  0.2                | 1.000               | 0.2                 | 0.2                 | ⋯                   | 0.000               | 0.4                 | 0.0                 | 0.0                 | 0.0                 |  0.0                |  0.0                | 0.2                 | 0.2                 |  0.6                | \n",
       "| 369                 | Justise Winslow     | MIA                 | 10                  | 24.6                |  2.2                |  5.2                | 0.423               | 0.7                 | 1.4                 | ⋯                   | 0.643               | 1.3                 | 2.6                 | 0.6                 | 4.3                 |  4.9                |  2.5                | 0.4                 | 0.7                 |  6.0                | \n",
       "| 370                 | Brandan Wright      | HOU                 |  5                  | 11.8                |  1.6                |  3.4                | 0.471               | 0.0                 | 0.0                 | ⋯                   | 0.500               | 0.4                 | 0.4                 | 1.6                 | 2.2                 |  3.8                |  0.6                | 0.6                 | 0.4                 |  3.8                | \n",
       "| 371                 | Delon Wright        | TOR                 | 15                  | 22.6                |  3.2                |  7.2                | 0.444               | 0.9                 | 2.1                 | ⋯                   | 0.800               | 0.9                 | 0.9                 | 1.0                 | 3.0                 |  4.0                |  3.1                | 0.9                 | 0.6                 |  9.2                | \n",
       "| 372                 | James Young         | PHI                 |  5                  | 10.4                |  0.8                |  2.4                | 0.333               | 0.6                 | 2.0                 | ⋯                   | 0.667               | 0.0                 | 0.6                 | 0.0                 | 0.4                 |  0.4                |  0.4                | 0.0                 | 0.0                 |  3.0                | \n",
       "| 373                 | Joe Young           | IND                 | 14                  | 11.4                |  1.2                |  3.0                | 0.405               | 0.2                 | 0.9                 | ⋯                   | 0.800               | 0.5                 | 0.9                 | 0.1                 | 0.9                 |  1.0                |  0.6                | 0.4                 | 0.0                 |  3.2                | \n",
       "| 374                 | Nick Young          | GSW                 | 14                  | 15.1                |  2.3                |  5.2                | 0.438               | 1.3                 | 3.6                 | ⋯                   | 0.667               | 0.3                 | 1.4                 | 0.2                 | 0.5                 |  0.7                |  0.2                | 0.6                 | 0.2                 |  6.0                | \n",
       "| 375                 | Thaddeus Young      | IND                 | 15                  | 33.0                |  5.7                | 10.8                | 0.531               | 0.7                 | 2.3                 | ⋯                   | 0.500               | 1.3                 | 2.1                 | 1.6                 | 3.7                 |  5.3                |  2.1                | 1.4                 | 0.5                 | 12.5                | \n",
       "| 376                 | Tyler Zeller        | MIL                 | 14                  | 12.5                |  2.3                |  4.6                | 0.500               | 0.2                 | 0.6                 | ⋯                   | 0.556               | 0.3                 | 2.0                 | 1.3                 | 2.6                 |  3.9                |  0.6                | 0.1                 | 0.6                 |  5.1                | \n",
       "| 377                 | Paul Zipser         | CHI                 |  9                  | 10.8                |  1.0                |  2.3                | 0.429               | 0.3                 | 1.0                 | ⋯                   | 1.000               | 0.3                 | 1.3                 | 0.2                 | 0.9                 |  1.1                |  0.1                | 0.1                 | 0.1                 |  2.6                | \n",
       "| 378                 | Ivica Zubac         | LAL                 |  6                  |  5.4                |  0.7                |  1.5                | 0.444               | 0.0                 | 0.0                 | ⋯                   | 0.000               | 0.5                 | 0.5                 | 0.2                 | 0.8                 |  1.0                |  0.2                | 0.0                 | 0.0                 |  1.3                | \n",
       "\n",
       "\n"
      ],
      "text/plain": [
       "    #   Player                Team GP MPG  FGM  FGA  FG%   3PM 3PA ⋯ FT%   TOV\n",
       "1    1  Alex Abrines          OKC  10  8.3 1.0   2.7 0.370 0.7 2.0 ⋯ 1.000 0.1\n",
       "2    2  Quincy Acy            BRK  16 23.1 1.8   5.2 0.333 1.4 4.2 ⋯ 0.750 1.1\n",
       "3    3  Steven Adams          OKC  14 32.2 6.6  10.1 0.648 0.0 0.1 ⋯ 0.449 1.7\n",
       "4    4  Bam Adebayo           MIA  15 20.0 2.5   5.1 0.500 0.0 0.2 ⋯ 0.774 1.1\n",
       "5    5  Arron Afflalo         ORL   9 10.8 1.6   3.1 0.500 0.8 1.2 ⋯ 0.000 0.4\n",
       "6    6  LaMarcus Aldridge     SAS  14 35.5 9.4  19.1 0.494 0.4 1.4 ⋯ 0.831 1.7\n",
       "7    7  Jarrett Allen         BRK  16 18.2 3.6   4.9 0.722 0.1 0.1 ⋯ 0.714 1.5\n",
       "8    8  Al-Farouq Aminu       POR  16 30.1 4.1   9.9 0.415 2.1 5.4 ⋯ 0.800 0.8\n",
       "9    9  Justin Anderson       PHI  10 16.4 2.5   5.6 0.446 0.6 2.4 ⋯ 0.909 0.3\n",
       "10  10  Kyle Anderson         SAS  16 29.3 2.8   5.6 0.500 0.4 0.9 ⋯ 0.850 1.7\n",
       "11  11  Ryan Anderson         HOU  14 27.8 2.9   7.0 0.408 1.4 4.4 ⋯ 0.786 0.6\n",
       "12  12  Giannis Antetokounmpo MIL  13 35.2 9.3  16.9 0.550 0.6 1.5 ⋯ 0.754 2.4\n",
       "13  13  Carmelo Anthony       OKC  14 31.6 6.9  16.0 0.429 2.2 6.6 ⋯ 0.789 0.9\n",
       "14  14  Ogugua Anunoby        TOR  15 22.0 1.7   4.3 0.391 0.5 2.4 ⋯ 0.812 0.5\n",
       "15  15  Ryan Arcidiacono      CHI   6 11.9 0.5   0.8 0.600 0.3 0.7 ⋯ 1.000 0.2\n",
       "16  16  Trevor Ariza          HOU  11 31.4 3.5   9.4 0.379 2.6 7.1 ⋯ 0.867 1.1\n",
       "17  17  Omer Asik             CHI   4 10.6 0.5   1.0 0.500 0.0 0.0 ⋯ 0.167 0.8\n",
       "18  18  D.J. Augustin         ORL  13 18.6 2.8   6.3 0.439 1.4 3.2 ⋯ 0.769 1.1\n",
       "19  19  Luke Babbitt          MIA   7  7.5 1.4   2.6 0.556 0.9 1.9 ⋯ 1.000 0.1\n",
       "20  20  Ron Baker             NYK  12 11.3 0.5   1.6 0.316 0.2 1.0 ⋯ 1.000 0.2\n",
       "21  21  Lonzo Ball            LAL   5 34.5 4.4  11.0 0.400 2.4 7.4 ⋯ 0.000 1.8\n",
       "22  22  J.J. Barea            DAL  10 22.6 3.0   8.8 0.341 0.7 3.3 ⋯ 0.815 1.3\n",
       "23  23  Harrison Barnes       DAL  14 34.8 7.0  15.6 0.450 1.5 4.3 ⋯ 0.848 1.1\n",
       "24  24  Will Barton           DEN  15 33.0 4.6  11.9 0.385 1.5 4.7 ⋯ 0.833 2.5\n",
       "25  25  Nicolas Batum         CHA  14 32.2 4.7  11.2 0.420 1.5 4.6 ⋯ 0.775 2.5\n",
       "26  26  Jerryd Bayless        PHI   5 19.8 2.0   4.2 0.476 0.6 2.0 ⋯ 0.000 0.6\n",
       "27  27  Aron Baynes           BOS  12 17.4 2.3   6.0 0.389 0.0 0.2 ⋯ 0.667 1.0\n",
       "28  28  Kent Bazemore         ATL  15 27.4 5.3  11.3 0.465 1.9 4.9 ⋯ 0.755 2.5\n",
       "29  29  Bradley Beal          WAS  13 38.2 8.8  17.5 0.504 2.7 6.6 ⋯ 0.785 3.0\n",
       "30  30  Malik Beasley         DEN  12 12.3 1.2   3.3 0.375 0.4 1.7 ⋯ 0.600 0.3\n",
       "⋮   ⋮   ⋮                     ⋮    ⋮  ⋮    ⋮    ⋮    ⋮     ⋮   ⋮   ⋱ ⋮     ⋮  \n",
       "349 349 Fred VanVleet         TOR  13 19.2  4.2  7.9 0.524 1.9 3.8 ⋯ 0.880 0.8\n",
       "350 350 Noah Vonleh           CHI   7  5.0  0.7  2.3 0.312 0.3 0.7 ⋯ 1.000 0.1\n",
       "351 351 Dwyane Wade           MIA  11 22.1  4.5  9.2 0.485 0.2 1.1 ⋯ 0.727 1.9\n",
       "352 352 Kemba Walker          CHA  14 35.1  8.1 18.9 0.430 3.4 8.2 ⋯ 0.842 2.4\n",
       "353 353 John Wall             WAS  11 36.8  7.9 18.6 0.424 1.7 4.0 ⋯ 0.762 4.9\n",
       "354 354 Tyrone Wallace        LAC  13 32.7  4.5  9.2 0.483 0.5 1.5 ⋯ 0.739 1.5\n",
       "355 355 Derrick Walton, Jr.   MIA   3 12.3  0.7  2.0 0.333 0.7 2.0 ⋯ 0.000 0.0\n",
       "356 356 T.J. Warren           PHX  11 34.2  9.5 16.6 0.568 0.5 1.5 ⋯ 0.677 1.3\n",
       "357 357 James Webb III        BRK   3 12.6  0.0  2.7 0.000 0.0 2.3 ⋯ 0.000 0.0\n",
       "358 358 Briante Weber         MEM   5  9.7  0.8  2.4 0.333 0.2 1.0 ⋯ 1.000 0.4\n",
       "359 359 David West            GSW  14 14.1  3.3  5.8 0.568 0.0 0.0 ⋯ 0.812 1.3\n",
       "360 360 Russell Westbrook     OKC  14 34.9 10.9 22.4 0.484 0.9 2.6 ⋯ 0.685 4.8\n",
       "361 361 Derrick White         SAS   6  5.2  0.3  0.7 0.500 0.2 0.5 ⋯ 0.750 0.3\n",
       "362 362 Hassan Whiteside      MIA  15 25.6  6.0 10.7 0.562 0.0 0.0 ⋯ 0.809 2.3\n",
       "363 363 Andrew Wiggins        MIN  17 35.6  7.9 17.4 0.453 1.2 4.1 ⋯ 0.696 1.5\n",
       "364 364 Damien Wilkins        IND   2 13.4  1.5  4.5 0.333 1.5 3.0 ⋯ 1.000 0.0\n",
       "365 365 C.J. Williams         LAC   5 28.3  4.6  8.4 0.548 1.6 3.8 ⋯ 0.750 1.0\n",
       "366 366 Lou Williams          LAC  15 35.4  9.0 20.4 0.441 3.3 9.1 ⋯ 0.904 3.6\n",
       "367 367 Marvin Williams       CHA  13 26.0  3.9  7.4 0.531 2.2 4.5 ⋯ 0.857 0.9\n",
       "368 368 D.J. Wilson           MIL   5  1.9  0.2  0.2 1.000 0.2 0.2 ⋯ 0.000 0.4\n",
       "369 369 Justise Winslow       MIA  10 24.6  2.2  5.2 0.423 0.7 1.4 ⋯ 0.643 1.3\n",
       "370 370 Brandan Wright        HOU   5 11.8  1.6  3.4 0.471 0.0 0.0 ⋯ 0.500 0.4\n",
       "371 371 Delon Wright          TOR  15 22.6  3.2  7.2 0.444 0.9 2.1 ⋯ 0.800 0.9\n",
       "372 372 James Young           PHI   5 10.4  0.8  2.4 0.333 0.6 2.0 ⋯ 0.667 0.0\n",
       "373 373 Joe Young             IND  14 11.4  1.2  3.0 0.405 0.2 0.9 ⋯ 0.800 0.5\n",
       "374 374 Nick Young            GSW  14 15.1  2.3  5.2 0.438 1.3 3.6 ⋯ 0.667 0.3\n",
       "375 375 Thaddeus Young        IND  15 33.0  5.7 10.8 0.531 0.7 2.3 ⋯ 0.500 1.3\n",
       "376 376 Tyler Zeller          MIL  14 12.5  2.3  4.6 0.500 0.2 0.6 ⋯ 0.556 0.3\n",
       "377 377 Paul Zipser           CHI   9 10.8  1.0  2.3 0.429 0.3 1.0 ⋯ 1.000 0.3\n",
       "378 378 Ivica Zubac           LAL   6  5.4  0.7  1.5 0.444 0.0 0.0 ⋯ 0.000 0.5\n",
       "    PF  ORB DRB RPG  APG  SPG BPG PPG \n",
       "1   0.7 0.5 0.6  1.1 0.2  0.3 0.0  3.6\n",
       "2   2.3 0.8 3.6  4.4 0.5  0.5 0.6  5.5\n",
       "3   3.1 5.9 3.7  9.6 1.3  1.1 1.1 14.7\n",
       "4   1.7 1.5 3.9  5.3 2.5  0.5 0.6  6.7\n",
       "5   1.0 0.0 0.8  0.8 0.7  0.0 0.1  3.9\n",
       "6   2.0 3.6 5.1  8.7 1.7  0.6 1.3 23.4\n",
       "7   2.2 1.9 3.6  5.6 0.7  0.2 0.6  8.8\n",
       "8   1.8 1.1 5.8  6.9 1.1  1.0 0.4 11.3\n",
       "9   1.4 0.7 1.9  2.6 0.9  0.6 0.3  6.6\n",
       "10  1.5 1.0 5.1  6.1 2.8  1.8 1.0  7.1\n",
       "11  1.5 1.4 3.5  4.9 1.2  0.5 0.1  8.7\n",
       "12  2.9 2.5 7.7 10.2 5.1  1.0 1.1 27.0\n",
       "13  2.6 0.7 5.1  5.9 1.2  0.6 0.7 18.1\n",
       "14  1.6 0.7 2.4  3.1 0.7  0.7 0.4  4.7\n",
       "15  1.2 0.0 0.5  0.5 1.3  0.5 0.0  1.7\n",
       "16  1.8 0.5 3.8  4.3 1.3  1.4 0.2 10.9\n",
       "17  2.0 0.8 2.5  3.2 0.0  0.2 0.5  1.2\n",
       "18  0.5 0.6 1.6  2.2 3.3  0.6 0.0  8.5\n",
       "19  0.7 0.1 1.1  1.3 0.4  0.0 0.1  4.1\n",
       "20  0.9 0.2 1.1  1.3 1.0  0.7 0.2  1.3\n",
       "21  1.8 1.8 6.6  8.4 7.0  2.6 0.2 11.2\n",
       "22  1.4 0.1 3.2  3.3 5.3  0.2 0.0  8.9\n",
       "23  1.1 1.1 5.8  6.9 1.6  0.8 0.4 18.3\n",
       "24  1.7 0.7 3.3  4.0 4.5  1.1 0.5 12.7\n",
       "25  1.1 1.2 3.5  4.7 4.6  1.0 0.2 13.1\n",
       "26  2.2 0.6 1.4  2.0 1.2  0.2 0.0  4.6\n",
       "27  3.1 1.1 3.9  5.0 0.8  0.2 0.5  5.0\n",
       "28  2.0 0.4 2.2  2.6 2.8  1.4 0.8 14.9\n",
       "29  1.7 0.8 3.8  4.5 4.9  1.2 0.5 25.2\n",
       "30  1.0 0.3 1.2  1.5 0.7  0.6 0.2  3.2\n",
       "⋮   ⋮   ⋮   ⋮   ⋮    ⋮    ⋮   ⋮   ⋮   \n",
       "349 2.1 0.2 2.6  2.8  2.4 0.8 0.2 11.9\n",
       "350 0.3 0.1 2.3  2.4  0.0 0.0 0.0  2.3\n",
       "351 1.8 1.3 3.5  4.8  3.0 0.9 0.5 11.3\n",
       "352 1.5 0.4 3.1  3.6  6.2 1.4 0.4 24.3\n",
       "353 1.3 0.5 2.6  3.2 10.5 1.6 1.3 21.9\n",
       "354 3.1 0.7 2.8  3.5  2.5 1.0 0.5 12.1\n",
       "355 0.3 0.3 1.3  1.7  0.7 0.7 0.3  2.0\n",
       "356 1.9 1.7 2.5  4.2  1.7 1.2 0.7 21.3\n",
       "357 1.7 0.3 0.7  1.0  0.7 0.3 0.0  0.0\n",
       "358 2.0 0.4 1.4  1.8  1.6 0.8 0.2  2.2\n",
       "359 1.6 0.7 2.1  2.8  2.1 0.6 1.1  7.5\n",
       "360 1.8 1.9 7.0  8.9 10.2 2.1 0.2 27.1\n",
       "361 0.2 0.3 0.7  1.0  0.3 0.0 0.0  1.3\n",
       "362 2.7 3.0 8.3 11.3  1.1 0.5 2.1 14.5\n",
       "363 1.8 1.1 3.8  4.9  2.2 1.1 0.8 19.2\n",
       "364 0.5 0.0 1.0  1.0  0.5 0.0 0.5  5.5\n",
       "365 2.6 0.4 1.4  1.8  0.8 2.0 0.8 11.4\n",
       "366 1.6 0.5 1.7  2.2  6.3 1.7 0.4 28.2\n",
       "367 2.1 0.8 4.3  5.2  1.6 0.6 0.2 10.9\n",
       "368 0.0 0.0 0.0  0.0  0.0 0.2 0.2  0.6\n",
       "369 2.6 0.6 4.3  4.9  2.5 0.4 0.7  6.0\n",
       "370 0.4 1.6 2.2  3.8  0.6 0.6 0.4  3.8\n",
       "371 0.9 1.0 3.0  4.0  3.1 0.9 0.6  9.2\n",
       "372 0.6 0.0 0.4  0.4  0.4 0.0 0.0  3.0\n",
       "373 0.9 0.1 0.9  1.0  0.6 0.4 0.0  3.2\n",
       "374 1.4 0.2 0.5  0.7  0.2 0.6 0.2  6.0\n",
       "375 2.1 1.6 3.7  5.3  2.1 1.4 0.5 12.5\n",
       "376 2.0 1.3 2.6  3.9  0.6 0.1 0.6  5.1\n",
       "377 1.3 0.2 0.9  1.1  0.1 0.1 0.1  2.6\n",
       "378 0.5 0.2 0.8  1.0  0.2 0.0 0.0  1.3"
      ]
     },
     "metadata": {},
     "output_type": "display_data"
    }
   ],
   "source": [
    "January"
   ]
  },
  {
   "cell_type": "code",
   "execution_count": 56,
   "metadata": {},
   "outputs": [
    {
     "data": {
      "text/html": [
       "29.5"
      ],
      "text/latex": [
       "29.5"
      ],
      "text/markdown": [
       "29.5"
      ],
      "text/plain": [
       "[1] 29.5"
      ]
     },
     "metadata": {},
     "output_type": "display_data"
    }
   ],
   "source": [
    "max(January$PPG, na.rm = TRUE)"
   ]
  },
  {
   "cell_type": "markdown",
   "metadata": {},
   "source": [
    "The highest PPG value in the month of January was 29.5"
   ]
  },
  {
   "cell_type": "code",
   "execution_count": 57,
   "metadata": {},
   "outputs": [
    {
     "data": {
      "text/html": [
       "<table>\n",
       "<thead><tr><th></th><th scope=col>#</th><th scope=col>Player</th><th scope=col>Team</th><th scope=col>GP</th><th scope=col>MPG</th><th scope=col>FGM</th><th scope=col>FGA</th><th scope=col>FG%</th><th scope=col>3PM</th><th scope=col>3PA</th><th scope=col>⋯</th><th scope=col>FT%</th><th scope=col>TOV</th><th scope=col>PF</th><th scope=col>ORB</th><th scope=col>DRB</th><th scope=col>RPG</th><th scope=col>APG</th><th scope=col>SPG</th><th scope=col>BPG</th><th scope=col>PPG</th></tr></thead>\n",
       "<tbody>\n",
       "\t<tr><th scope=row>86</th><td>86           </td><td>Stephen Curry</td><td>GSW          </td><td>12           </td><td>34.3         </td><td>9.1          </td><td>17.7         </td><td>0.514        </td><td>5.2          </td><td>11.2         </td><td>⋯            </td><td>0.871        </td><td>3.1          </td><td>2.2          </td><td>0.6          </td><td>4.5          </td><td>5.1          </td><td>6.7          </td><td>1.5          </td><td>0            </td><td>29.5         </td></tr>\n",
       "</tbody>\n",
       "</table>\n"
      ],
      "text/latex": [
       "\\begin{tabular}{r|lllllllllllllllllllllll}\n",
       "  & \\# & Player & Team & GP & MPG & FGM & FGA & FG\\% & 3PM & 3PA & ⋯ & FT\\% & TOV & PF & ORB & DRB & RPG & APG & SPG & BPG & PPG\\\\\n",
       "\\hline\n",
       "\t86 & 86            & Stephen Curry & GSW           & 12            & 34.3          & 9.1           & 17.7          & 0.514         & 5.2           & 11.2          & ⋯             & 0.871         & 3.1           & 2.2           & 0.6           & 4.5           & 5.1           & 6.7           & 1.5           & 0             & 29.5         \\\\\n",
       "\\end{tabular}\n"
      ],
      "text/markdown": [
       "\n",
       "| <!--/--> | # | Player | Team | GP | MPG | FGM | FGA | FG% | 3PM | 3PA | ⋯ | FT% | TOV | PF | ORB | DRB | RPG | APG | SPG | BPG | PPG | \n",
       "|---|\n",
       "| 86 | 86            | Stephen Curry | GSW           | 12            | 34.3          | 9.1           | 17.7          | 0.514         | 5.2           | 11.2          | ⋯             | 0.871         | 3.1           | 2.2           | 0.6           | 4.5           | 5.1           | 6.7           | 1.5           | 0             | 29.5          | \n",
       "\n",
       "\n"
      ],
      "text/plain": [
       "   #  Player        Team GP MPG  FGM FGA  FG%   3PM 3PA  ⋯ FT%   TOV PF  ORB\n",
       "86 86 Stephen Curry GSW  12 34.3 9.1 17.7 0.514 5.2 11.2 ⋯ 0.871 3.1 2.2 0.6\n",
       "   DRB RPG APG SPG BPG PPG \n",
       "86 4.5 5.1 6.7 1.5 0   29.5"
      ]
     },
     "metadata": {},
     "output_type": "display_data"
    }
   ],
   "source": [
    "January[January$PPG %in% c(\"29.5\"), ]"
   ]
  },
  {
   "cell_type": "markdown",
   "metadata": {},
   "source": [
    "The player with the most Points Per Game in January is Stephen Curry "
   ]
  },
  {
   "cell_type": "markdown",
   "metadata": {},
   "source": [
    "### February"
   ]
  },
  {
   "cell_type": "code",
   "execution_count": 58,
   "metadata": {},
   "outputs": [],
   "source": [
    "NBA17 = read_html(\"https://basketball.realgm.com/nba/stats/2018/Averages/Qualified/player/All/asc/1/February\")"
   ]
  },
  {
   "cell_type": "code",
   "execution_count": 59,
   "metadata": {},
   "outputs": [],
   "source": [
    "NBA18 = read_html(\"https://basketball.realgm.com/nba/stats/2018/Averages/Qualified/player/All/asc/2/February\")"
   ]
  },
  {
   "cell_type": "code",
   "execution_count": 60,
   "metadata": {},
   "outputs": [],
   "source": [
    "NBA19 = read_html(\"https://basketball.realgm.com/nba/stats/2018/Averages/Qualified/player/All/asc/3/February\")"
   ]
  },
  {
   "cell_type": "code",
   "execution_count": 61,
   "metadata": {},
   "outputs": [],
   "source": [
    "NBA20 = read_html(\"https://basketball.realgm.com/nba/stats/2018/Averages/Qualified/player/All/asc/4/February\")"
   ]
  },
  {
   "cell_type": "code",
   "execution_count": 62,
   "metadata": {},
   "outputs": [],
   "source": [
    "February1 = NBA17 %>% html_nodes('table')%>% .[[1]] %>%\n",
    "  html_table()"
   ]
  },
  {
   "cell_type": "code",
   "execution_count": 63,
   "metadata": {},
   "outputs": [],
   "source": [
    "February2 = NBA18 %>% html_nodes('table')%>% .[[1]] %>%\n",
    "  html_table()"
   ]
  },
  {
   "cell_type": "code",
   "execution_count": 64,
   "metadata": {},
   "outputs": [],
   "source": [
    "February3 = NBA19 %>% html_nodes('table')%>% .[[1]] %>%\n",
    "  html_table()"
   ]
  },
  {
   "cell_type": "code",
   "execution_count": 65,
   "metadata": {},
   "outputs": [],
   "source": [
    "February4 = NBA20 %>% html_nodes('table')%>% .[[1]] %>%\n",
    "  html_table()"
   ]
  },
  {
   "cell_type": "code",
   "execution_count": 66,
   "metadata": {},
   "outputs": [
    {
     "name": "stderr",
     "output_type": "stream",
     "text": [
      "Joining, by = c(\"#\", \"Player\", \"Team\", \"GP\", \"MPG\", \"FGM\", \"FGA\", \"FG%\", \"3PM\", \"3PA\", \"3P%\", \"FTM\", \"FTA\", \"FT%\", \"TOV\", \"PF\", \"ORB\", \"DRB\", \"RPG\", \"APG\", \"SPG\", \"BPG\", \"PPG\")\n"
     ]
    }
   ],
   "source": [
    "i = full_join(February1, February2)"
   ]
  },
  {
   "cell_type": "code",
   "execution_count": 67,
   "metadata": {},
   "outputs": [
    {
     "name": "stderr",
     "output_type": "stream",
     "text": [
      "Joining, by = c(\"#\", \"Player\", \"Team\", \"GP\", \"MPG\", \"FGM\", \"FGA\", \"FG%\", \"3PM\", \"3PA\", \"3P%\", \"FTM\", \"FTA\", \"FT%\", \"TOV\", \"PF\", \"ORB\", \"DRB\", \"RPG\", \"APG\", \"SPG\", \"BPG\", \"PPG\")\n"
     ]
    }
   ],
   "source": [
    "j = full_join(February3, February4)"
   ]
  },
  {
   "cell_type": "code",
   "execution_count": 68,
   "metadata": {},
   "outputs": [
    {
     "name": "stderr",
     "output_type": "stream",
     "text": [
      "Joining, by = c(\"#\", \"Player\", \"Team\", \"GP\", \"MPG\", \"FGM\", \"FGA\", \"FG%\", \"3PM\", \"3PA\", \"3P%\", \"FTM\", \"FTA\", \"FT%\", \"TOV\", \"PF\", \"ORB\", \"DRB\", \"RPG\", \"APG\", \"SPG\", \"BPG\", \"PPG\")\n"
     ]
    }
   ],
   "source": [
    "February = full_join(i, j)"
   ]
  },
  {
   "cell_type": "markdown",
   "metadata": {},
   "source": [
    "Table 5: The data and statistics for all players in the NBA during the month of February in the 2017-2018 season"
   ]
  },
  {
   "cell_type": "code",
   "execution_count": 69,
   "metadata": {},
   "outputs": [
    {
     "data": {
      "text/html": [
       "<table>\n",
       "<thead><tr><th scope=col>#</th><th scope=col>Player</th><th scope=col>Team</th><th scope=col>GP</th><th scope=col>MPG</th><th scope=col>FGM</th><th scope=col>FGA</th><th scope=col>FG%</th><th scope=col>3PM</th><th scope=col>3PA</th><th scope=col>⋯</th><th scope=col>FT%</th><th scope=col>TOV</th><th scope=col>PF</th><th scope=col>ORB</th><th scope=col>DRB</th><th scope=col>RPG</th><th scope=col>APG</th><th scope=col>SPG</th><th scope=col>BPG</th><th scope=col>PPG</th></tr></thead>\n",
       "<tbody>\n",
       "\t<tr><td> 1                   </td><td>Alex Abrines         </td><td>OKC                  </td><td>12                   </td><td>22.3                 </td><td>2.3                  </td><td> 6.2                 </td><td>0.373                </td><td>1.7                  </td><td>4.9                  </td><td>⋯                    </td><td>0.889                </td><td>0.4                  </td><td>2.2                  </td><td>0.4                  </td><td>1.8                  </td><td>2.2                  </td><td>0.6                  </td><td>0.7                  </td><td>0.3                  </td><td> 7.0                 </td></tr>\n",
       "\t<tr><td> 2                   </td><td>Quincy Acy           </td><td>BRK                  </td><td> 8                   </td><td>23.1                 </td><td>1.5                  </td><td> 5.1                 </td><td>0.293                </td><td>1.1                  </td><td>4.4                  </td><td>⋯                    </td><td>1.000                </td><td>1.0                  </td><td>2.2                  </td><td>0.8                  </td><td>2.8                  </td><td>3.5                  </td><td>2.2                  </td><td>1.2                  </td><td>0.4                  </td><td> 4.9                 </td></tr>\n",
       "\t<tr><td> 3                   </td><td>Steven Adams         </td><td>OKC                  </td><td>12                   </td><td>34.6                 </td><td>5.8                  </td><td> 9.5                 </td><td>0.614                </td><td>0.0                  </td><td>0.0                  </td><td>⋯                    </td><td>0.544                </td><td>1.6                  </td><td>3.0                  </td><td>5.0                  </td><td>4.3                  </td><td>9.3                  </td><td>1.1                  </td><td>1.3                  </td><td>1.3                  </td><td>14.2                 </td></tr>\n",
       "\t<tr><td> 4                   </td><td>Bam Adebayo          </td><td>MIA                  </td><td>10                   </td><td>21.5                 </td><td>2.8                  </td><td> 5.6                 </td><td>0.500                </td><td>0.0                  </td><td>0.2                  </td><td>⋯                    </td><td>0.700                </td><td>0.7                  </td><td>2.2                  </td><td>1.5                  </td><td>5.4                  </td><td>6.9                  </td><td>1.9                  </td><td>0.2                  </td><td>1.0                  </td><td> 9.1                 </td></tr>\n",
       "\t<tr><td> 5                   </td><td>Arron Afflalo        </td><td>ORL                  </td><td> 8                   </td><td>12.5                 </td><td>1.4                  </td><td> 3.5                 </td><td>0.393                </td><td>0.8                  </td><td>1.8                  </td><td>⋯                    </td><td>1.000                </td><td>0.6                  </td><td>1.1                  </td><td>0.0                  </td><td>2.1                  </td><td>2.1                  </td><td>0.8                  </td><td>0.0                  </td><td>0.2                  </td><td> 4.0                 </td></tr>\n",
       "\t<tr><td> 6                   </td><td>LaMarcus Aldridge    </td><td>SAS                  </td><td> 7                   </td><td>30.2                 </td><td>9.3                  </td><td>16.1                 </td><td>0.575                </td><td>0.1                  </td><td>0.4                  </td><td>⋯                    </td><td>0.821                </td><td>0.9                  </td><td>1.9                  </td><td>2.7                  </td><td>3.7                  </td><td>6.4                  </td><td>2.9                  </td><td>0.6                  </td><td>1.0                  </td><td>23.3                 </td></tr>\n",
       "\t<tr><td> 7                   </td><td>Jarrett Allen        </td><td>BRK                  </td><td>10                   </td><td>23.9                 </td><td>5.3                  </td><td> 8.6                 </td><td>0.616                </td><td>0.0                  </td><td>0.2                  </td><td>⋯                    </td><td>0.821                </td><td>0.8                  </td><td>1.8                  </td><td>2.2                  </td><td>4.6                  </td><td>6.8                  </td><td>1.6                  </td><td>0.6                  </td><td>1.0                  </td><td>12.9                 </td></tr>\n",
       "\t<tr><td> 8                   </td><td>Al-Farouq Aminu      </td><td>POR                  </td><td>10                   </td><td>30.6                 </td><td>2.8                  </td><td> 7.3                 </td><td>0.384                </td><td>1.6                  </td><td>4.2                  </td><td>⋯                    </td><td>0.786                </td><td>0.9                  </td><td>1.5                  </td><td>1.6                  </td><td>7.2                  </td><td>8.8                  </td><td>1.0                  </td><td>1.1                  </td><td>0.3                  </td><td> 8.3                 </td></tr>\n",
       "\t<tr><td> 9                   </td><td>Justin Anderson      </td><td>PHI                  </td><td> 6                   </td><td>12.6                 </td><td>2.7                  </td><td> 4.8                 </td><td>0.552                </td><td>1.2                  </td><td>2.2                  </td><td>⋯                    </td><td>0.286                </td><td>0.3                  </td><td>1.2                  </td><td>0.0                  </td><td>1.3                  </td><td>1.3                  </td><td>0.5                  </td><td>0.3                  </td><td>0.2                  </td><td> 6.8                 </td></tr>\n",
       "\t<tr><td>10                   </td><td>Kyle Anderson        </td><td>SAS                  </td><td> 9                   </td><td>26.9                 </td><td>3.4                  </td><td> 6.7                 </td><td>0.517                </td><td>0.0                  </td><td>0.9                  </td><td>⋯                    </td><td>0.542                </td><td>1.2                  </td><td>1.6                  </td><td>1.2                  </td><td>3.4                  </td><td>4.7                  </td><td>2.8                  </td><td>1.2                  </td><td>1.1                  </td><td> 8.3                 </td></tr>\n",
       "\t<tr><td>11                   </td><td>Ryan Anderson        </td><td>HOU                  </td><td> 9                   </td><td>23.3                 </td><td>3.4                  </td><td> 7.1                 </td><td>0.484                </td><td>2.3                  </td><td>5.0                  </td><td>⋯                    </td><td>0.727                </td><td>0.1                  </td><td>1.8                  </td><td>1.3                  </td><td>3.3                  </td><td>4.7                  </td><td>0.8                  </td><td>0.1                  </td><td>0.2                  </td><td>10.1                 </td></tr>\n",
       "\t<tr><td>12                   </td><td>Giannis Antetokounmpo</td><td>MIL                  </td><td>12                   </td><td>36.7                 </td><td>8.8                  </td><td>18.5                 </td><td>0.477                </td><td>0.5                  </td><td>2.0                  </td><td>⋯                    </td><td>0.679                </td><td>3.2                  </td><td>2.9                  </td><td>1.3                  </td><td>8.5                  </td><td>9.8                  </td><td>5.3                  </td><td>1.2                  </td><td>1.8                  </td><td>22.6                 </td></tr>\n",
       "\t<tr><td>13                   </td><td>Carmelo Anthony      </td><td>OKC                  </td><td>10                   </td><td>30.9                 </td><td>5.4                  </td><td>14.8                 </td><td>0.365                </td><td>2.0                  </td><td>5.8                  </td><td>⋯                    </td><td>0.750                </td><td>1.1                  </td><td>2.3                  </td><td>0.9                  </td><td>4.9                  </td><td>5.8                  </td><td>0.5                  </td><td>0.4                  </td><td>0.6                  </td><td>13.4                 </td></tr>\n",
       "\t<tr><td>14                   </td><td>Ogugua Anunoby       </td><td>TOR                  </td><td>11                   </td><td>16.9                 </td><td>1.9                  </td><td> 4.4                 </td><td>0.438                </td><td>0.7                  </td><td>2.3                  </td><td>⋯                    </td><td>0.625                </td><td>0.5                  </td><td>1.2                  </td><td>0.5                  </td><td>1.9                  </td><td>2.4                  </td><td>0.7                  </td><td>0.4                  </td><td>0.1                  </td><td> 5.0                 </td></tr>\n",
       "\t<tr><td>15                   </td><td>Ryan Arcidiacono     </td><td>CHI                  </td><td> 6                   </td><td> 7.1                 </td><td>0.3                  </td><td> 0.8                 </td><td>0.400                </td><td>0.2                  </td><td>0.7                  </td><td>⋯                    </td><td>0.000                </td><td>0.3                  </td><td>0.3                  </td><td>0.0                  </td><td>0.7                  </td><td>0.7                  </td><td>0.7                  </td><td>0.3                  </td><td>0.0                  </td><td> 0.8                 </td></tr>\n",
       "\t<tr><td>16                   </td><td>Trevor Ariza         </td><td>HOU                  </td><td> 4                   </td><td>31.1                 </td><td>4.0                  </td><td> 9.0                 </td><td>0.444                </td><td>3.0                  </td><td>6.2                  </td><td>⋯                    </td><td>0.500                </td><td>0.0                  </td><td>2.0                  </td><td>0.8                  </td><td>3.5                  </td><td>4.2                  </td><td>0.8                  </td><td>1.0                  </td><td>0.2                  </td><td>11.2                 </td></tr>\n",
       "\t<tr><td>17                   </td><td>Darrell Arthur       </td><td>DEN                  </td><td> 7                   </td><td> 8.6                 </td><td>1.9                  </td><td> 2.9                 </td><td>0.650                </td><td>0.6                  </td><td>1.1                  </td><td>⋯                    </td><td>0.500                </td><td>1.0                  </td><td>1.7                  </td><td>0.3                  </td><td>0.6                  </td><td>0.9                  </td><td>0.9                  </td><td>0.7                  </td><td>0.1                  </td><td> 4.4                 </td></tr>\n",
       "\t<tr><td>18                   </td><td>D.J. Augustin        </td><td>ORL                  </td><td>11                   </td><td>27.0                 </td><td>3.5                  </td><td> 8.4                 </td><td>0.413                </td><td>1.9                  </td><td>4.6                  </td><td>⋯                    </td><td>0.935                </td><td>1.6                  </td><td>1.3                  </td><td>0.4                  </td><td>2.0                  </td><td>2.4                  </td><td>4.5                  </td><td>0.8                  </td><td>0.0                  </td><td>11.5                 </td></tr>\n",
       "\t<tr><td>19                   </td><td>Luke Babbitt         </td><td>MIA                  </td><td> 5                   </td><td> 7.8                 </td><td>0.8                  </td><td> 2.4                 </td><td>0.333                </td><td>0.8                  </td><td>2.4                  </td><td>⋯                    </td><td>0.000                </td><td>0.4                  </td><td>1.0                  </td><td>0.2                  </td><td>1.4                  </td><td>1.6                  </td><td>0.4                  </td><td>0.2                  </td><td>0.0                  </td><td> 2.4                 </td></tr>\n",
       "\t<tr><td>20                   </td><td>Dwayne Bacon         </td><td>CHA                  </td><td> 8                   </td><td> 3.0                 </td><td>0.4                  </td><td> 0.9                 </td><td>0.429                </td><td>0.0                  </td><td>0.1                  </td><td>⋯                    </td><td>0.000                </td><td>0.1                  </td><td>0.0                  </td><td>0.1                  </td><td>0.2                  </td><td>0.4                  </td><td>0.2                  </td><td>0.0                  </td><td>0.0                  </td><td> 0.8                 </td></tr>\n",
       "\t<tr><td>21                   </td><td>Lonzo Ball           </td><td>LAL                  </td><td> 2                   </td><td>20.7                 </td><td>3.5                  </td><td> 6.0                 </td><td>0.583                </td><td>3.0                  </td><td>4.5                  </td><td>⋯                    </td><td>1.000                </td><td>2.0                  </td><td>1.5                  </td><td>1.0                  </td><td>6.0                  </td><td>7.0                  </td><td>5.5                  </td><td>1.5                  </td><td>0.0                  </td><td>11.0                 </td></tr>\n",
       "\t<tr><td>22                   </td><td>J.J. Barea           </td><td>DAL                  </td><td> 9                   </td><td>26.9                 </td><td>4.9                  </td><td>10.7                 </td><td>0.458                </td><td>1.9                  </td><td>5.4                  </td><td>⋯                    </td><td>0.875                </td><td>2.1                  </td><td>1.2                  </td><td>0.1                  </td><td>2.0                  </td><td>2.1                  </td><td>8.9                  </td><td>0.7                  </td><td>0.1                  </td><td>12.4                 </td></tr>\n",
       "\t<tr><td>23                   </td><td>Harrison Barnes      </td><td>DAL                  </td><td> 8                   </td><td>31.8                 </td><td>6.2                  </td><td>14.0                 </td><td>0.446                </td><td>2.0                  </td><td>5.2                  </td><td>⋯                    </td><td>0.900                </td><td>1.5                  </td><td>1.2                  </td><td>0.6                  </td><td>4.0                  </td><td>4.6                  </td><td>1.6                  </td><td>0.9                  </td><td>0.1                  </td><td>17.9                 </td></tr>\n",
       "\t<tr><td>24                   </td><td>Will Barton          </td><td>DEN                  </td><td>10                   </td><td>36.5                 </td><td>7.1                  </td><td>13.2                 </td><td>0.538                </td><td>2.4                  </td><td>5.5                  </td><td>⋯                    </td><td>0.955                </td><td>1.5                  </td><td>2.3                  </td><td>0.8                  </td><td>4.3                  </td><td>5.1                  </td><td>4.6                  </td><td>1.1                  </td><td>0.8                  </td><td>18.7                 </td></tr>\n",
       "\t<tr><td>25                   </td><td>Nicolas Batum        </td><td>CHA                  </td><td>12                   </td><td>31.4                 </td><td>4.8                  </td><td>11.7                 </td><td>0.407                </td><td>2.3                  </td><td>6.2                  </td><td>⋯                    </td><td>0.842                </td><td>1.3                  </td><td>1.2                  </td><td>0.8                  </td><td>3.8                  </td><td>4.6                  </td><td>6.4                  </td><td>1.5                  </td><td>0.3                  </td><td>13.2                 </td></tr>\n",
       "\t<tr><td>26                   </td><td>Jerryd Bayless       </td><td>PHI                  </td><td> 4                   </td><td>13.7                 </td><td>1.5                  </td><td> 4.0                 </td><td>0.375                </td><td>0.8                  </td><td>2.0                  </td><td>⋯                    </td><td>0.000                </td><td>1.0                  </td><td>1.0                  </td><td>0.2                  </td><td>0.5                  </td><td>0.8                  </td><td>1.0                  </td><td>0.0                  </td><td>0.0                  </td><td> 3.8                 </td></tr>\n",
       "\t<tr><td>27                   </td><td>Aron Baynes          </td><td>BOS                  </td><td>10                   </td><td>16.9                 </td><td>2.9                  </td><td> 5.3                 </td><td>0.547                </td><td>0.0                  </td><td>0.1                  </td><td>⋯                    </td><td>0.778                </td><td>0.6                  </td><td>2.1                  </td><td>1.1                  </td><td>4.5                  </td><td>5.6                  </td><td>1.4                  </td><td>0.1                  </td><td>1.1                  </td><td> 6.5                 </td></tr>\n",
       "\t<tr><td>28                   </td><td>Kent Bazemore        </td><td>ATL                  </td><td>10                   </td><td>26.1                 </td><td>3.6                  </td><td>10.1                 </td><td>0.356                </td><td>1.5                  </td><td>3.9                  </td><td>⋯                    </td><td>0.806                </td><td>2.2                  </td><td>2.6                  </td><td>0.3                  </td><td>3.4                  </td><td>3.7                  </td><td>3.6                  </td><td>0.8                  </td><td>0.7                  </td><td>11.6                 </td></tr>\n",
       "\t<tr><td>29                   </td><td>Bradley Beal         </td><td>WAS                  </td><td>12                   </td><td>37.7                 </td><td>8.5                  </td><td>18.3                 </td><td>0.464                </td><td>2.3                  </td><td>6.5                  </td><td>⋯                    </td><td>0.879                </td><td>3.8                  </td><td>1.9                  </td><td>0.6                  </td><td>4.2                  </td><td>4.8                  </td><td>6.7                  </td><td>1.6                  </td><td>0.6                  </td><td>21.8                 </td></tr>\n",
       "\t<tr><td>30                   </td><td>Malik Beasley        </td><td>DEN                  </td><td> 9                   </td><td> 7.6                 </td><td>1.0                  </td><td> 2.4                 </td><td>0.409                </td><td>0.3                  </td><td>1.0                  </td><td>⋯                    </td><td>0.667                </td><td>0.3                  </td><td>0.1                  </td><td>0.0                  </td><td>0.4                  </td><td>0.4                  </td><td>0.3                  </td><td>0.2                  </td><td>0.2                  </td><td> 2.6                 </td></tr>\n",
       "\t<tr><td>⋮</td><td>⋮</td><td>⋮</td><td>⋮</td><td>⋮</td><td>⋮</td><td>⋮</td><td>⋮</td><td>⋮</td><td>⋮</td><td>⋱</td><td>⋮</td><td>⋮</td><td>⋮</td><td>⋮</td><td>⋮</td><td>⋮</td><td>⋮</td><td>⋮</td><td>⋮</td><td>⋮</td></tr>\n",
       "\t<tr><td>338              </td><td>Jonas Valanciunas</td><td>TOR              </td><td>11               </td><td>24.8             </td><td>5.0              </td><td> 8.8             </td><td>0.567            </td><td>0.9              </td><td>1.8              </td><td>⋯                </td><td>0.556            </td><td>1.4              </td><td>2.4              </td><td>1.8              </td><td>6.0              </td><td> 7.8             </td><td> 1.8             </td><td>0.5              </td><td>0.9              </td><td>11.8             </td></tr>\n",
       "\t<tr><td>339              </td><td>Denzel Valentine </td><td>CHI              </td><td>10               </td><td>24.4             </td><td>3.6              </td><td>10.2             </td><td>0.353            </td><td>1.2              </td><td>4.4              </td><td>⋯                </td><td>0.900            </td><td>1.3              </td><td>2.4              </td><td>0.8              </td><td>4.6              </td><td> 5.4             </td><td> 3.1             </td><td>0.7              </td><td>0.1              </td><td> 9.3             </td></tr>\n",
       "\t<tr><td>340              </td><td>Fred VanVleet    </td><td>TOR              </td><td>10               </td><td>23.3             </td><td>3.8              </td><td> 8.6             </td><td>0.442            </td><td>1.9              </td><td>4.1              </td><td>⋯                </td><td>0.917            </td><td>1.2              </td><td>1.6              </td><td>0.4              </td><td>3.1              </td><td> 3.5             </td><td> 4.3             </td><td>1.4              </td><td>0.1              </td><td>10.6             </td></tr>\n",
       "\t<tr><td>341              </td><td>Rashad Vaughn    </td><td>ORL              </td><td> 7               </td><td> 4.9             </td><td>0.3              </td><td> 0.9             </td><td>0.333            </td><td>0.1              </td><td>0.3              </td><td>⋯                </td><td>0.000            </td><td>0.4              </td><td>0.3              </td><td>0.3              </td><td>0.1              </td><td> 0.4             </td><td> 0.1             </td><td>0.1              </td><td>0.0              </td><td> 0.7             </td></tr>\n",
       "\t<tr><td>342              </td><td>Noah Vonleh      </td><td>CHI              </td><td> 7               </td><td>11.5             </td><td>1.6              </td><td> 2.9             </td><td>0.550            </td><td>0.4              </td><td>1.1              </td><td>⋯                </td><td>0.500            </td><td>0.6              </td><td>0.3              </td><td>0.3              </td><td>4.0              </td><td> 4.3             </td><td> 0.7             </td><td>0.1              </td><td>0.3              </td><td> 4.3             </td></tr>\n",
       "\t<tr><td>343              </td><td>Nikola Vucevic   </td><td>ORL              </td><td> 4               </td><td>29.0             </td><td>6.8              </td><td>12.5             </td><td>0.540            </td><td>1.5              </td><td>3.8              </td><td>⋯                </td><td>0.600            </td><td>2.2              </td><td>2.8              </td><td>1.5              </td><td>5.5              </td><td> 7.0             </td><td> 2.5             </td><td>1.2              </td><td>1.5              </td><td>15.8             </td></tr>\n",
       "\t<tr><td>344              </td><td>Dwyane Wade      </td><td>MIA              </td><td> 8               </td><td>22.3             </td><td>4.6              </td><td>11.0             </td><td>0.420            </td><td>0.6              </td><td>2.0              </td><td>⋯                </td><td>0.706            </td><td>2.6              </td><td>2.2              </td><td>1.0              </td><td>2.9              </td><td> 3.9             </td><td> 2.2             </td><td>0.8              </td><td>0.6              </td><td>11.4             </td></tr>\n",
       "\t<tr><td>345              </td><td>Kemba Walker     </td><td>CHA              </td><td>12               </td><td>34.0             </td><td>8.5              </td><td>18.1             </td><td>0.470            </td><td>4.0              </td><td>8.2              </td><td>⋯                </td><td>0.917            </td><td>2.3              </td><td>1.2              </td><td>0.3              </td><td>2.1              </td><td> 2.4             </td><td> 5.5             </td><td>1.3              </td><td>0.3              </td><td>25.6             </td></tr>\n",
       "\t<tr><td>346              </td><td>Tyrone Wallace   </td><td>LAC              </td><td> 8               </td><td>19.5             </td><td>2.4              </td><td> 5.9             </td><td>0.404            </td><td>0.1              </td><td>0.8              </td><td>⋯                </td><td>0.889            </td><td>0.6              </td><td>2.2              </td><td>0.6              </td><td>2.5              </td><td> 3.1             </td><td> 2.6             </td><td>0.6              </td><td>0.2              </td><td> 6.9             </td></tr>\n",
       "\t<tr><td>347              </td><td>T.J. Warren      </td><td>PHX              </td><td>10               </td><td>33.8             </td><td>7.2              </td><td>15.4             </td><td>0.468            </td><td>0.2              </td><td>0.5              </td><td>⋯                </td><td>0.750            </td><td>0.4              </td><td>2.2              </td><td>1.7              </td><td>2.4              </td><td> 4.1             </td><td> 1.2             </td><td>1.4              </td><td>0.6              </td><td>17.9             </td></tr>\n",
       "\t<tr><td>348              </td><td>James Webb III   </td><td>BRK              </td><td> 6               </td><td>11.7             </td><td>0.8              </td><td> 2.2             </td><td>0.385            </td><td>0.7              </td><td>1.7              </td><td>⋯                </td><td>0.000            </td><td>0.5              </td><td>0.8              </td><td>1.0              </td><td>2.2              </td><td> 3.2             </td><td> 0.3             </td><td>0.0              </td><td>0.0              </td><td> 2.3             </td></tr>\n",
       "\t<tr><td>349              </td><td>David West       </td><td>GSW              </td><td> 9               </td><td>14.9             </td><td>3.3              </td><td> 5.0             </td><td>0.667            </td><td>0.0              </td><td>0.0              </td><td>⋯                </td><td>0.900            </td><td>1.2              </td><td>2.1              </td><td>1.1              </td><td>2.7              </td><td> 3.8             </td><td> 2.6             </td><td>0.7              </td><td>1.2              </td><td> 7.7             </td></tr>\n",
       "\t<tr><td>350              </td><td>Russell Westbrook</td><td>OKC              </td><td>10               </td><td>37.4             </td><td>7.7              </td><td>18.9             </td><td>0.407            </td><td>0.7              </td><td>4.5              </td><td>⋯                </td><td>0.894            </td><td>5.7              </td><td>2.4              </td><td>1.4              </td><td>9.0              </td><td>10.4             </td><td>11.6             </td><td>1.5              </td><td>0.4              </td><td>22.0             </td></tr>\n",
       "\t<tr><td>351              </td><td>Andrew White     </td><td>ATL              </td><td> 3               </td><td>12.2             </td><td>2.7              </td><td> 6.0             </td><td>0.444            </td><td>1.0              </td><td>3.7              </td><td>⋯                </td><td>0.000            </td><td>0.3              </td><td>1.3              </td><td>0.7              </td><td>0.7              </td><td> 1.3             </td><td> 0.3             </td><td>0.3              </td><td>0.0              </td><td> 6.3             </td></tr>\n",
       "\t<tr><td>352              </td><td>Derrick White    </td><td>SAS              </td><td> 3               </td><td>14.0             </td><td>2.3              </td><td> 4.7             </td><td>0.500            </td><td>1.0              </td><td>1.7              </td><td>⋯                </td><td>0.750            </td><td>0.3              </td><td>0.7              </td><td>0.3              </td><td>2.0              </td><td> 2.3             </td><td> 1.0             </td><td>0.3              </td><td>0.0              </td><td> 7.7             </td></tr>\n",
       "\t<tr><td>353              </td><td>Hassan Whiteside </td><td>MIA              </td><td> 9               </td><td>27.1             </td><td>6.0              </td><td>11.7             </td><td>0.514            </td><td>0.0              </td><td>0.0              </td><td>⋯                </td><td>0.469            </td><td>1.6              </td><td>2.4              </td><td>3.9              </td><td>8.4              </td><td>12.3             </td><td> 1.3             </td><td>0.9              </td><td>1.7              </td><td>13.7             </td></tr>\n",
       "\t<tr><td>354              </td><td>Andrew Wiggins   </td><td>MIN              </td><td>10               </td><td>36.1             </td><td>6.5              </td><td>13.8             </td><td>0.471            </td><td>1.2              </td><td>3.9              </td><td>⋯                </td><td>0.636            </td><td>1.9              </td><td>1.9              </td><td>0.5              </td><td>3.2              </td><td> 3.7             </td><td> 1.1             </td><td>0.8              </td><td>0.6              </td><td>15.6             </td></tr>\n",
       "\t<tr><td>355              </td><td>Lou Williams     </td><td>LAC              </td><td>10               </td><td>32.9             </td><td>7.3              </td><td>16.4             </td><td>0.445            </td><td>1.8              </td><td>6.4              </td><td>⋯                </td><td>0.871            </td><td>3.0              </td><td>1.1              </td><td>0.4              </td><td>2.3              </td><td> 2.7             </td><td> 6.1             </td><td>1.0              </td><td>0.3              </td><td>21.8             </td></tr>\n",
       "\t<tr><td>356              </td><td>Marvin Williams  </td><td>CHA              </td><td> 9               </td><td>25.3             </td><td>3.1              </td><td> 7.6             </td><td>0.412            </td><td>1.9              </td><td>4.3              </td><td>⋯                </td><td>0.706            </td><td>1.6              </td><td>1.4              </td><td>1.1              </td><td>3.9              </td><td> 5.0             </td><td> 0.9             </td><td>0.6              </td><td>0.8              </td><td> 9.4             </td></tr>\n",
       "\t<tr><td>357              </td><td>Troy Williams    </td><td>NYK              </td><td> 3               </td><td>10.9             </td><td>3.0              </td><td> 5.0             </td><td>0.600            </td><td>0.0              </td><td>1.7              </td><td>⋯                </td><td>0.750            </td><td>0.7              </td><td>1.0              </td><td>0.7              </td><td>2.3              </td><td> 3.0             </td><td> 0.0             </td><td>1.0              </td><td>0.3              </td><td> 7.0             </td></tr>\n",
       "\t<tr><td>358              </td><td>Justise Winslow  </td><td>MIA              </td><td>10               </td><td>22.9             </td><td>2.0              </td><td> 6.5             </td><td>0.308            </td><td>0.5              </td><td>1.3              </td><td>⋯                </td><td>0.778            </td><td>1.3              </td><td>2.0              </td><td>1.0              </td><td>4.0              </td><td> 5.0             </td><td> 2.1             </td><td>1.1              </td><td>0.5              </td><td> 5.9             </td></tr>\n",
       "\t<tr><td>359              </td><td>Brandan Wright   </td><td>HOU              </td><td> 2               </td><td>15.1             </td><td>2.5              </td><td> 3.5             </td><td>0.714            </td><td>0.0              </td><td>0.0              </td><td>⋯                </td><td>0.000            </td><td>0.5              </td><td>3.0              </td><td>1.0              </td><td>1.5              </td><td> 2.5             </td><td> 1.5             </td><td>0.0              </td><td>1.0              </td><td> 5.0             </td></tr>\n",
       "\t<tr><td>360              </td><td>Delon Wright     </td><td>TOR              </td><td>11               </td><td>20.0             </td><td>3.0              </td><td> 6.4             </td><td>0.471            </td><td>0.9              </td><td>2.5              </td><td>⋯                </td><td>0.857            </td><td>1.3              </td><td>1.6              </td><td>0.4              </td><td>1.9              </td><td> 2.3             </td><td> 3.3             </td><td>1.2              </td><td>0.5              </td><td> 7.5             </td></tr>\n",
       "\t<tr><td>361              </td><td>Joe Young        </td><td>IND              </td><td> 9               </td><td>16.7             </td><td>2.1              </td><td> 4.8             </td><td>0.442            </td><td>1.1              </td><td>2.1              </td><td>⋯                </td><td>0.000            </td><td>0.8              </td><td>1.1              </td><td>0.0              </td><td>1.9              </td><td> 1.9             </td><td> 1.1             </td><td>0.6              </td><td>0.0              </td><td> 5.3             </td></tr>\n",
       "\t<tr><td>362              </td><td>Nick Young       </td><td>GSW              </td><td>11               </td><td>13.9             </td><td>2.2              </td><td> 5.2             </td><td>0.421            </td><td>1.7              </td><td>3.9              </td><td>⋯                </td><td>1.000            </td><td>0.4              </td><td>0.7              </td><td>0.4              </td><td>1.2              </td><td> 1.5             </td><td> 0.4             </td><td>0.6              </td><td>0.0              </td><td> 6.5             </td></tr>\n",
       "\t<tr><td>363              </td><td>Thaddeus Young   </td><td>IND              </td><td> 9               </td><td>32.2             </td><td>5.0              </td><td>10.8             </td><td>0.464            </td><td>0.8              </td><td>1.8              </td><td>⋯                </td><td>0.526            </td><td>1.6              </td><td>1.7              </td><td>3.4              </td><td>4.2              </td><td> 7.7             </td><td> 2.3             </td><td>1.6              </td><td>0.8              </td><td>11.9             </td></tr>\n",
       "\t<tr><td>364              </td><td>Cody Zeller      </td><td>CHA              </td><td>11               </td><td>17.4             </td><td>2.5              </td><td> 4.4             </td><td>0.562            </td><td>0.1              </td><td>0.2              </td><td>⋯                </td><td>0.667            </td><td>1.0              </td><td>1.8              </td><td>1.6              </td><td>3.6              </td><td> 5.3             </td><td> 1.2             </td><td>0.4              </td><td>0.0              </td><td> 6.3             </td></tr>\n",
       "\t<tr><td>365              </td><td>Tyler Zeller     </td><td>MIL              </td><td> 8               </td><td>15.6             </td><td>2.5              </td><td> 4.0             </td><td>0.625            </td><td>0.0              </td><td>0.2              </td><td>⋯                </td><td>0.000            </td><td>0.8              </td><td>1.6              </td><td>2.1              </td><td>2.2              </td><td> 4.4             </td><td> 0.4             </td><td>0.0              </td><td>0.6              </td><td> 5.0             </td></tr>\n",
       "\t<tr><td>366              </td><td>Paul Zipser      </td><td>CHI              </td><td> 7               </td><td>16.7             </td><td>2.1              </td><td> 4.9             </td><td>0.441            </td><td>1.3              </td><td>3.0              </td><td>⋯                </td><td>1.000            </td><td>0.7              </td><td>2.0              </td><td>0.1              </td><td>2.1              </td><td> 2.3             </td><td> 1.0             </td><td>0.6              </td><td>0.7              </td><td> 5.9             </td></tr>\n",
       "\t<tr><td>367              </td><td>Ivica Zubac      </td><td>LAL              </td><td> 8               </td><td>11.4             </td><td>2.9              </td><td> 4.2             </td><td>0.676            </td><td>0.0              </td><td>0.0              </td><td>⋯                </td><td>0.706            </td><td>0.9              </td><td>1.6              </td><td>1.4              </td><td>2.0              </td><td> 3.4             </td><td> 0.4             </td><td>0.0              </td><td>0.2              </td><td> 7.2             </td></tr>\n",
       "</tbody>\n",
       "</table>\n"
      ],
      "text/latex": [
       "\\begin{tabular}{r|lllllllllllllllllllllll}\n",
       " \\# & Player & Team & GP & MPG & FGM & FGA & FG\\% & 3PM & 3PA & ⋯ & FT\\% & TOV & PF & ORB & DRB & RPG & APG & SPG & BPG & PPG\\\\\n",
       "\\hline\n",
       "\t  1                    & Alex Abrines          & OKC                   & 12                    & 22.3                  & 2.3                   &  6.2                  & 0.373                 & 1.7                   & 4.9                   & ⋯                     & 0.889                 & 0.4                   & 2.2                   & 0.4                   & 1.8                   & 2.2                   & 0.6                   & 0.7                   & 0.3                   &  7.0                 \\\\\n",
       "\t  2                    & Quincy Acy            & BRK                   &  8                    & 23.1                  & 1.5                   &  5.1                  & 0.293                 & 1.1                   & 4.4                   & ⋯                     & 1.000                 & 1.0                   & 2.2                   & 0.8                   & 2.8                   & 3.5                   & 2.2                   & 1.2                   & 0.4                   &  4.9                 \\\\\n",
       "\t  3                    & Steven Adams          & OKC                   & 12                    & 34.6                  & 5.8                   &  9.5                  & 0.614                 & 0.0                   & 0.0                   & ⋯                     & 0.544                 & 1.6                   & 3.0                   & 5.0                   & 4.3                   & 9.3                   & 1.1                   & 1.3                   & 1.3                   & 14.2                 \\\\\n",
       "\t  4                    & Bam Adebayo           & MIA                   & 10                    & 21.5                  & 2.8                   &  5.6                  & 0.500                 & 0.0                   & 0.2                   & ⋯                     & 0.700                 & 0.7                   & 2.2                   & 1.5                   & 5.4                   & 6.9                   & 1.9                   & 0.2                   & 1.0                   &  9.1                 \\\\\n",
       "\t  5                    & Arron Afflalo         & ORL                   &  8                    & 12.5                  & 1.4                   &  3.5                  & 0.393                 & 0.8                   & 1.8                   & ⋯                     & 1.000                 & 0.6                   & 1.1                   & 0.0                   & 2.1                   & 2.1                   & 0.8                   & 0.0                   & 0.2                   &  4.0                 \\\\\n",
       "\t  6                    & LaMarcus Aldridge     & SAS                   &  7                    & 30.2                  & 9.3                   & 16.1                  & 0.575                 & 0.1                   & 0.4                   & ⋯                     & 0.821                 & 0.9                   & 1.9                   & 2.7                   & 3.7                   & 6.4                   & 2.9                   & 0.6                   & 1.0                   & 23.3                 \\\\\n",
       "\t  7                    & Jarrett Allen         & BRK                   & 10                    & 23.9                  & 5.3                   &  8.6                  & 0.616                 & 0.0                   & 0.2                   & ⋯                     & 0.821                 & 0.8                   & 1.8                   & 2.2                   & 4.6                   & 6.8                   & 1.6                   & 0.6                   & 1.0                   & 12.9                 \\\\\n",
       "\t  8                    & Al-Farouq Aminu       & POR                   & 10                    & 30.6                  & 2.8                   &  7.3                  & 0.384                 & 1.6                   & 4.2                   & ⋯                     & 0.786                 & 0.9                   & 1.5                   & 1.6                   & 7.2                   & 8.8                   & 1.0                   & 1.1                   & 0.3                   &  8.3                 \\\\\n",
       "\t  9                    & Justin Anderson       & PHI                   &  6                    & 12.6                  & 2.7                   &  4.8                  & 0.552                 & 1.2                   & 2.2                   & ⋯                     & 0.286                 & 0.3                   & 1.2                   & 0.0                   & 1.3                   & 1.3                   & 0.5                   & 0.3                   & 0.2                   &  6.8                 \\\\\n",
       "\t 10                    & Kyle Anderson         & SAS                   &  9                    & 26.9                  & 3.4                   &  6.7                  & 0.517                 & 0.0                   & 0.9                   & ⋯                     & 0.542                 & 1.2                   & 1.6                   & 1.2                   & 3.4                   & 4.7                   & 2.8                   & 1.2                   & 1.1                   &  8.3                 \\\\\n",
       "\t 11                    & Ryan Anderson         & HOU                   &  9                    & 23.3                  & 3.4                   &  7.1                  & 0.484                 & 2.3                   & 5.0                   & ⋯                     & 0.727                 & 0.1                   & 1.8                   & 1.3                   & 3.3                   & 4.7                   & 0.8                   & 0.1                   & 0.2                   & 10.1                 \\\\\n",
       "\t 12                    & Giannis Antetokounmpo & MIL                   & 12                    & 36.7                  & 8.8                   & 18.5                  & 0.477                 & 0.5                   & 2.0                   & ⋯                     & 0.679                 & 3.2                   & 2.9                   & 1.3                   & 8.5                   & 9.8                   & 5.3                   & 1.2                   & 1.8                   & 22.6                 \\\\\n",
       "\t 13                    & Carmelo Anthony       & OKC                   & 10                    & 30.9                  & 5.4                   & 14.8                  & 0.365                 & 2.0                   & 5.8                   & ⋯                     & 0.750                 & 1.1                   & 2.3                   & 0.9                   & 4.9                   & 5.8                   & 0.5                   & 0.4                   & 0.6                   & 13.4                 \\\\\n",
       "\t 14                    & Ogugua Anunoby        & TOR                   & 11                    & 16.9                  & 1.9                   &  4.4                  & 0.438                 & 0.7                   & 2.3                   & ⋯                     & 0.625                 & 0.5                   & 1.2                   & 0.5                   & 1.9                   & 2.4                   & 0.7                   & 0.4                   & 0.1                   &  5.0                 \\\\\n",
       "\t 15                    & Ryan Arcidiacono      & CHI                   &  6                    &  7.1                  & 0.3                   &  0.8                  & 0.400                 & 0.2                   & 0.7                   & ⋯                     & 0.000                 & 0.3                   & 0.3                   & 0.0                   & 0.7                   & 0.7                   & 0.7                   & 0.3                   & 0.0                   &  0.8                 \\\\\n",
       "\t 16                    & Trevor Ariza          & HOU                   &  4                    & 31.1                  & 4.0                   &  9.0                  & 0.444                 & 3.0                   & 6.2                   & ⋯                     & 0.500                 & 0.0                   & 2.0                   & 0.8                   & 3.5                   & 4.2                   & 0.8                   & 1.0                   & 0.2                   & 11.2                 \\\\\n",
       "\t 17                    & Darrell Arthur        & DEN                   &  7                    &  8.6                  & 1.9                   &  2.9                  & 0.650                 & 0.6                   & 1.1                   & ⋯                     & 0.500                 & 1.0                   & 1.7                   & 0.3                   & 0.6                   & 0.9                   & 0.9                   & 0.7                   & 0.1                   &  4.4                 \\\\\n",
       "\t 18                    & D.J. Augustin         & ORL                   & 11                    & 27.0                  & 3.5                   &  8.4                  & 0.413                 & 1.9                   & 4.6                   & ⋯                     & 0.935                 & 1.6                   & 1.3                   & 0.4                   & 2.0                   & 2.4                   & 4.5                   & 0.8                   & 0.0                   & 11.5                 \\\\\n",
       "\t 19                    & Luke Babbitt          & MIA                   &  5                    &  7.8                  & 0.8                   &  2.4                  & 0.333                 & 0.8                   & 2.4                   & ⋯                     & 0.000                 & 0.4                   & 1.0                   & 0.2                   & 1.4                   & 1.6                   & 0.4                   & 0.2                   & 0.0                   &  2.4                 \\\\\n",
       "\t 20                    & Dwayne Bacon          & CHA                   &  8                    &  3.0                  & 0.4                   &  0.9                  & 0.429                 & 0.0                   & 0.1                   & ⋯                     & 0.000                 & 0.1                   & 0.0                   & 0.1                   & 0.2                   & 0.4                   & 0.2                   & 0.0                   & 0.0                   &  0.8                 \\\\\n",
       "\t 21                    & Lonzo Ball            & LAL                   &  2                    & 20.7                  & 3.5                   &  6.0                  & 0.583                 & 3.0                   & 4.5                   & ⋯                     & 1.000                 & 2.0                   & 1.5                   & 1.0                   & 6.0                   & 7.0                   & 5.5                   & 1.5                   & 0.0                   & 11.0                 \\\\\n",
       "\t 22                    & J.J. Barea            & DAL                   &  9                    & 26.9                  & 4.9                   & 10.7                  & 0.458                 & 1.9                   & 5.4                   & ⋯                     & 0.875                 & 2.1                   & 1.2                   & 0.1                   & 2.0                   & 2.1                   & 8.9                   & 0.7                   & 0.1                   & 12.4                 \\\\\n",
       "\t 23                    & Harrison Barnes       & DAL                   &  8                    & 31.8                  & 6.2                   & 14.0                  & 0.446                 & 2.0                   & 5.2                   & ⋯                     & 0.900                 & 1.5                   & 1.2                   & 0.6                   & 4.0                   & 4.6                   & 1.6                   & 0.9                   & 0.1                   & 17.9                 \\\\\n",
       "\t 24                    & Will Barton           & DEN                   & 10                    & 36.5                  & 7.1                   & 13.2                  & 0.538                 & 2.4                   & 5.5                   & ⋯                     & 0.955                 & 1.5                   & 2.3                   & 0.8                   & 4.3                   & 5.1                   & 4.6                   & 1.1                   & 0.8                   & 18.7                 \\\\\n",
       "\t 25                    & Nicolas Batum         & CHA                   & 12                    & 31.4                  & 4.8                   & 11.7                  & 0.407                 & 2.3                   & 6.2                   & ⋯                     & 0.842                 & 1.3                   & 1.2                   & 0.8                   & 3.8                   & 4.6                   & 6.4                   & 1.5                   & 0.3                   & 13.2                 \\\\\n",
       "\t 26                    & Jerryd Bayless        & PHI                   &  4                    & 13.7                  & 1.5                   &  4.0                  & 0.375                 & 0.8                   & 2.0                   & ⋯                     & 0.000                 & 1.0                   & 1.0                   & 0.2                   & 0.5                   & 0.8                   & 1.0                   & 0.0                   & 0.0                   &  3.8                 \\\\\n",
       "\t 27                    & Aron Baynes           & BOS                   & 10                    & 16.9                  & 2.9                   &  5.3                  & 0.547                 & 0.0                   & 0.1                   & ⋯                     & 0.778                 & 0.6                   & 2.1                   & 1.1                   & 4.5                   & 5.6                   & 1.4                   & 0.1                   & 1.1                   &  6.5                 \\\\\n",
       "\t 28                    & Kent Bazemore         & ATL                   & 10                    & 26.1                  & 3.6                   & 10.1                  & 0.356                 & 1.5                   & 3.9                   & ⋯                     & 0.806                 & 2.2                   & 2.6                   & 0.3                   & 3.4                   & 3.7                   & 3.6                   & 0.8                   & 0.7                   & 11.6                 \\\\\n",
       "\t 29                    & Bradley Beal          & WAS                   & 12                    & 37.7                  & 8.5                   & 18.3                  & 0.464                 & 2.3                   & 6.5                   & ⋯                     & 0.879                 & 3.8                   & 1.9                   & 0.6                   & 4.2                   & 4.8                   & 6.7                   & 1.6                   & 0.6                   & 21.8                 \\\\\n",
       "\t 30                    & Malik Beasley         & DEN                   &  9                    &  7.6                  & 1.0                   &  2.4                  & 0.409                 & 0.3                   & 1.0                   & ⋯                     & 0.667                 & 0.3                   & 0.1                   & 0.0                   & 0.4                   & 0.4                   & 0.3                   & 0.2                   & 0.2                   &  2.6                 \\\\\n",
       "\t ⋮ & ⋮ & ⋮ & ⋮ & ⋮ & ⋮ & ⋮ & ⋮ & ⋮ & ⋮ & ⋱ & ⋮ & ⋮ & ⋮ & ⋮ & ⋮ & ⋮ & ⋮ & ⋮ & ⋮ & ⋮\\\\\n",
       "\t 338               & Jonas Valanciunas & TOR               & 11                & 24.8              & 5.0               &  8.8              & 0.567             & 0.9               & 1.8               & ⋯                 & 0.556             & 1.4               & 2.4               & 1.8               & 6.0               &  7.8              &  1.8              & 0.5               & 0.9               & 11.8             \\\\\n",
       "\t 339               & Denzel Valentine  & CHI               & 10                & 24.4              & 3.6               & 10.2              & 0.353             & 1.2               & 4.4               & ⋯                 & 0.900             & 1.3               & 2.4               & 0.8               & 4.6               &  5.4              &  3.1              & 0.7               & 0.1               &  9.3             \\\\\n",
       "\t 340               & Fred VanVleet     & TOR               & 10                & 23.3              & 3.8               &  8.6              & 0.442             & 1.9               & 4.1               & ⋯                 & 0.917             & 1.2               & 1.6               & 0.4               & 3.1               &  3.5              &  4.3              & 1.4               & 0.1               & 10.6             \\\\\n",
       "\t 341               & Rashad Vaughn     & ORL               &  7                &  4.9              & 0.3               &  0.9              & 0.333             & 0.1               & 0.3               & ⋯                 & 0.000             & 0.4               & 0.3               & 0.3               & 0.1               &  0.4              &  0.1              & 0.1               & 0.0               &  0.7             \\\\\n",
       "\t 342               & Noah Vonleh       & CHI               &  7                & 11.5              & 1.6               &  2.9              & 0.550             & 0.4               & 1.1               & ⋯                 & 0.500             & 0.6               & 0.3               & 0.3               & 4.0               &  4.3              &  0.7              & 0.1               & 0.3               &  4.3             \\\\\n",
       "\t 343               & Nikola Vucevic    & ORL               &  4                & 29.0              & 6.8               & 12.5              & 0.540             & 1.5               & 3.8               & ⋯                 & 0.600             & 2.2               & 2.8               & 1.5               & 5.5               &  7.0              &  2.5              & 1.2               & 1.5               & 15.8             \\\\\n",
       "\t 344               & Dwyane Wade       & MIA               &  8                & 22.3              & 4.6               & 11.0              & 0.420             & 0.6               & 2.0               & ⋯                 & 0.706             & 2.6               & 2.2               & 1.0               & 2.9               &  3.9              &  2.2              & 0.8               & 0.6               & 11.4             \\\\\n",
       "\t 345               & Kemba Walker      & CHA               & 12                & 34.0              & 8.5               & 18.1              & 0.470             & 4.0               & 8.2               & ⋯                 & 0.917             & 2.3               & 1.2               & 0.3               & 2.1               &  2.4              &  5.5              & 1.3               & 0.3               & 25.6             \\\\\n",
       "\t 346               & Tyrone Wallace    & LAC               &  8                & 19.5              & 2.4               &  5.9              & 0.404             & 0.1               & 0.8               & ⋯                 & 0.889             & 0.6               & 2.2               & 0.6               & 2.5               &  3.1              &  2.6              & 0.6               & 0.2               &  6.9             \\\\\n",
       "\t 347               & T.J. Warren       & PHX               & 10                & 33.8              & 7.2               & 15.4              & 0.468             & 0.2               & 0.5               & ⋯                 & 0.750             & 0.4               & 2.2               & 1.7               & 2.4               &  4.1              &  1.2              & 1.4               & 0.6               & 17.9             \\\\\n",
       "\t 348               & James Webb III    & BRK               &  6                & 11.7              & 0.8               &  2.2              & 0.385             & 0.7               & 1.7               & ⋯                 & 0.000             & 0.5               & 0.8               & 1.0               & 2.2               &  3.2              &  0.3              & 0.0               & 0.0               &  2.3             \\\\\n",
       "\t 349               & David West        & GSW               &  9                & 14.9              & 3.3               &  5.0              & 0.667             & 0.0               & 0.0               & ⋯                 & 0.900             & 1.2               & 2.1               & 1.1               & 2.7               &  3.8              &  2.6              & 0.7               & 1.2               &  7.7             \\\\\n",
       "\t 350               & Russell Westbrook & OKC               & 10                & 37.4              & 7.7               & 18.9              & 0.407             & 0.7               & 4.5               & ⋯                 & 0.894             & 5.7               & 2.4               & 1.4               & 9.0               & 10.4              & 11.6              & 1.5               & 0.4               & 22.0             \\\\\n",
       "\t 351               & Andrew White      & ATL               &  3                & 12.2              & 2.7               &  6.0              & 0.444             & 1.0               & 3.7               & ⋯                 & 0.000             & 0.3               & 1.3               & 0.7               & 0.7               &  1.3              &  0.3              & 0.3               & 0.0               &  6.3             \\\\\n",
       "\t 352               & Derrick White     & SAS               &  3                & 14.0              & 2.3               &  4.7              & 0.500             & 1.0               & 1.7               & ⋯                 & 0.750             & 0.3               & 0.7               & 0.3               & 2.0               &  2.3              &  1.0              & 0.3               & 0.0               &  7.7             \\\\\n",
       "\t 353               & Hassan Whiteside  & MIA               &  9                & 27.1              & 6.0               & 11.7              & 0.514             & 0.0               & 0.0               & ⋯                 & 0.469             & 1.6               & 2.4               & 3.9               & 8.4               & 12.3              &  1.3              & 0.9               & 1.7               & 13.7             \\\\\n",
       "\t 354               & Andrew Wiggins    & MIN               & 10                & 36.1              & 6.5               & 13.8              & 0.471             & 1.2               & 3.9               & ⋯                 & 0.636             & 1.9               & 1.9               & 0.5               & 3.2               &  3.7              &  1.1              & 0.8               & 0.6               & 15.6             \\\\\n",
       "\t 355               & Lou Williams      & LAC               & 10                & 32.9              & 7.3               & 16.4              & 0.445             & 1.8               & 6.4               & ⋯                 & 0.871             & 3.0               & 1.1               & 0.4               & 2.3               &  2.7              &  6.1              & 1.0               & 0.3               & 21.8             \\\\\n",
       "\t 356               & Marvin Williams   & CHA               &  9                & 25.3              & 3.1               &  7.6              & 0.412             & 1.9               & 4.3               & ⋯                 & 0.706             & 1.6               & 1.4               & 1.1               & 3.9               &  5.0              &  0.9              & 0.6               & 0.8               &  9.4             \\\\\n",
       "\t 357               & Troy Williams     & NYK               &  3                & 10.9              & 3.0               &  5.0              & 0.600             & 0.0               & 1.7               & ⋯                 & 0.750             & 0.7               & 1.0               & 0.7               & 2.3               &  3.0              &  0.0              & 1.0               & 0.3               &  7.0             \\\\\n",
       "\t 358               & Justise Winslow   & MIA               & 10                & 22.9              & 2.0               &  6.5              & 0.308             & 0.5               & 1.3               & ⋯                 & 0.778             & 1.3               & 2.0               & 1.0               & 4.0               &  5.0              &  2.1              & 1.1               & 0.5               &  5.9             \\\\\n",
       "\t 359               & Brandan Wright    & HOU               &  2                & 15.1              & 2.5               &  3.5              & 0.714             & 0.0               & 0.0               & ⋯                 & 0.000             & 0.5               & 3.0               & 1.0               & 1.5               &  2.5              &  1.5              & 0.0               & 1.0               &  5.0             \\\\\n",
       "\t 360               & Delon Wright      & TOR               & 11                & 20.0              & 3.0               &  6.4              & 0.471             & 0.9               & 2.5               & ⋯                 & 0.857             & 1.3               & 1.6               & 0.4               & 1.9               &  2.3              &  3.3              & 1.2               & 0.5               &  7.5             \\\\\n",
       "\t 361               & Joe Young         & IND               &  9                & 16.7              & 2.1               &  4.8              & 0.442             & 1.1               & 2.1               & ⋯                 & 0.000             & 0.8               & 1.1               & 0.0               & 1.9               &  1.9              &  1.1              & 0.6               & 0.0               &  5.3             \\\\\n",
       "\t 362               & Nick Young        & GSW               & 11                & 13.9              & 2.2               &  5.2              & 0.421             & 1.7               & 3.9               & ⋯                 & 1.000             & 0.4               & 0.7               & 0.4               & 1.2               &  1.5              &  0.4              & 0.6               & 0.0               &  6.5             \\\\\n",
       "\t 363               & Thaddeus Young    & IND               &  9                & 32.2              & 5.0               & 10.8              & 0.464             & 0.8               & 1.8               & ⋯                 & 0.526             & 1.6               & 1.7               & 3.4               & 4.2               &  7.7              &  2.3              & 1.6               & 0.8               & 11.9             \\\\\n",
       "\t 364               & Cody Zeller       & CHA               & 11                & 17.4              & 2.5               &  4.4              & 0.562             & 0.1               & 0.2               & ⋯                 & 0.667             & 1.0               & 1.8               & 1.6               & 3.6               &  5.3              &  1.2              & 0.4               & 0.0               &  6.3             \\\\\n",
       "\t 365               & Tyler Zeller      & MIL               &  8                & 15.6              & 2.5               &  4.0              & 0.625             & 0.0               & 0.2               & ⋯                 & 0.000             & 0.8               & 1.6               & 2.1               & 2.2               &  4.4              &  0.4              & 0.0               & 0.6               &  5.0             \\\\\n",
       "\t 366               & Paul Zipser       & CHI               &  7                & 16.7              & 2.1               &  4.9              & 0.441             & 1.3               & 3.0               & ⋯                 & 1.000             & 0.7               & 2.0               & 0.1               & 2.1               &  2.3              &  1.0              & 0.6               & 0.7               &  5.9             \\\\\n",
       "\t 367               & Ivica Zubac       & LAL               &  8                & 11.4              & 2.9               &  4.2              & 0.676             & 0.0               & 0.0               & ⋯                 & 0.706             & 0.9               & 1.6               & 1.4               & 2.0               &  3.4              &  0.4              & 0.0               & 0.2               &  7.2             \\\\\n",
       "\\end{tabular}\n"
      ],
      "text/markdown": [
       "\n",
       "# | Player | Team | GP | MPG | FGM | FGA | FG% | 3PM | 3PA | ⋯ | FT% | TOV | PF | ORB | DRB | RPG | APG | SPG | BPG | PPG | \n",
       "|---|---|---|---|---|---|---|---|---|---|---|---|---|---|---|---|---|---|---|---|---|---|---|---|---|---|---|---|---|---|---|---|---|---|---|---|---|---|---|---|---|---|---|---|---|---|---|---|---|---|---|---|---|---|---|---|---|---|---|---|---|\n",
       "|  1                    | Alex Abrines          | OKC                   | 12                    | 22.3                  | 2.3                   |  6.2                  | 0.373                 | 1.7                   | 4.9                   | ⋯                     | 0.889                 | 0.4                   | 2.2                   | 0.4                   | 1.8                   | 2.2                   | 0.6                   | 0.7                   | 0.3                   |  7.0                  | \n",
       "|  2                    | Quincy Acy            | BRK                   |  8                    | 23.1                  | 1.5                   |  5.1                  | 0.293                 | 1.1                   | 4.4                   | ⋯                     | 1.000                 | 1.0                   | 2.2                   | 0.8                   | 2.8                   | 3.5                   | 2.2                   | 1.2                   | 0.4                   |  4.9                  | \n",
       "|  3                    | Steven Adams          | OKC                   | 12                    | 34.6                  | 5.8                   |  9.5                  | 0.614                 | 0.0                   | 0.0                   | ⋯                     | 0.544                 | 1.6                   | 3.0                   | 5.0                   | 4.3                   | 9.3                   | 1.1                   | 1.3                   | 1.3                   | 14.2                  | \n",
       "|  4                    | Bam Adebayo           | MIA                   | 10                    | 21.5                  | 2.8                   |  5.6                  | 0.500                 | 0.0                   | 0.2                   | ⋯                     | 0.700                 | 0.7                   | 2.2                   | 1.5                   | 5.4                   | 6.9                   | 1.9                   | 0.2                   | 1.0                   |  9.1                  | \n",
       "|  5                    | Arron Afflalo         | ORL                   |  8                    | 12.5                  | 1.4                   |  3.5                  | 0.393                 | 0.8                   | 1.8                   | ⋯                     | 1.000                 | 0.6                   | 1.1                   | 0.0                   | 2.1                   | 2.1                   | 0.8                   | 0.0                   | 0.2                   |  4.0                  | \n",
       "|  6                    | LaMarcus Aldridge     | SAS                   |  7                    | 30.2                  | 9.3                   | 16.1                  | 0.575                 | 0.1                   | 0.4                   | ⋯                     | 0.821                 | 0.9                   | 1.9                   | 2.7                   | 3.7                   | 6.4                   | 2.9                   | 0.6                   | 1.0                   | 23.3                  | \n",
       "|  7                    | Jarrett Allen         | BRK                   | 10                    | 23.9                  | 5.3                   |  8.6                  | 0.616                 | 0.0                   | 0.2                   | ⋯                     | 0.821                 | 0.8                   | 1.8                   | 2.2                   | 4.6                   | 6.8                   | 1.6                   | 0.6                   | 1.0                   | 12.9                  | \n",
       "|  8                    | Al-Farouq Aminu       | POR                   | 10                    | 30.6                  | 2.8                   |  7.3                  | 0.384                 | 1.6                   | 4.2                   | ⋯                     | 0.786                 | 0.9                   | 1.5                   | 1.6                   | 7.2                   | 8.8                   | 1.0                   | 1.1                   | 0.3                   |  8.3                  | \n",
       "|  9                    | Justin Anderson       | PHI                   |  6                    | 12.6                  | 2.7                   |  4.8                  | 0.552                 | 1.2                   | 2.2                   | ⋯                     | 0.286                 | 0.3                   | 1.2                   | 0.0                   | 1.3                   | 1.3                   | 0.5                   | 0.3                   | 0.2                   |  6.8                  | \n",
       "| 10                    | Kyle Anderson         | SAS                   |  9                    | 26.9                  | 3.4                   |  6.7                  | 0.517                 | 0.0                   | 0.9                   | ⋯                     | 0.542                 | 1.2                   | 1.6                   | 1.2                   | 3.4                   | 4.7                   | 2.8                   | 1.2                   | 1.1                   |  8.3                  | \n",
       "| 11                    | Ryan Anderson         | HOU                   |  9                    | 23.3                  | 3.4                   |  7.1                  | 0.484                 | 2.3                   | 5.0                   | ⋯                     | 0.727                 | 0.1                   | 1.8                   | 1.3                   | 3.3                   | 4.7                   | 0.8                   | 0.1                   | 0.2                   | 10.1                  | \n",
       "| 12                    | Giannis Antetokounmpo | MIL                   | 12                    | 36.7                  | 8.8                   | 18.5                  | 0.477                 | 0.5                   | 2.0                   | ⋯                     | 0.679                 | 3.2                   | 2.9                   | 1.3                   | 8.5                   | 9.8                   | 5.3                   | 1.2                   | 1.8                   | 22.6                  | \n",
       "| 13                    | Carmelo Anthony       | OKC                   | 10                    | 30.9                  | 5.4                   | 14.8                  | 0.365                 | 2.0                   | 5.8                   | ⋯                     | 0.750                 | 1.1                   | 2.3                   | 0.9                   | 4.9                   | 5.8                   | 0.5                   | 0.4                   | 0.6                   | 13.4                  | \n",
       "| 14                    | Ogugua Anunoby        | TOR                   | 11                    | 16.9                  | 1.9                   |  4.4                  | 0.438                 | 0.7                   | 2.3                   | ⋯                     | 0.625                 | 0.5                   | 1.2                   | 0.5                   | 1.9                   | 2.4                   | 0.7                   | 0.4                   | 0.1                   |  5.0                  | \n",
       "| 15                    | Ryan Arcidiacono      | CHI                   |  6                    |  7.1                  | 0.3                   |  0.8                  | 0.400                 | 0.2                   | 0.7                   | ⋯                     | 0.000                 | 0.3                   | 0.3                   | 0.0                   | 0.7                   | 0.7                   | 0.7                   | 0.3                   | 0.0                   |  0.8                  | \n",
       "| 16                    | Trevor Ariza          | HOU                   |  4                    | 31.1                  | 4.0                   |  9.0                  | 0.444                 | 3.0                   | 6.2                   | ⋯                     | 0.500                 | 0.0                   | 2.0                   | 0.8                   | 3.5                   | 4.2                   | 0.8                   | 1.0                   | 0.2                   | 11.2                  | \n",
       "| 17                    | Darrell Arthur        | DEN                   |  7                    |  8.6                  | 1.9                   |  2.9                  | 0.650                 | 0.6                   | 1.1                   | ⋯                     | 0.500                 | 1.0                   | 1.7                   | 0.3                   | 0.6                   | 0.9                   | 0.9                   | 0.7                   | 0.1                   |  4.4                  | \n",
       "| 18                    | D.J. Augustin         | ORL                   | 11                    | 27.0                  | 3.5                   |  8.4                  | 0.413                 | 1.9                   | 4.6                   | ⋯                     | 0.935                 | 1.6                   | 1.3                   | 0.4                   | 2.0                   | 2.4                   | 4.5                   | 0.8                   | 0.0                   | 11.5                  | \n",
       "| 19                    | Luke Babbitt          | MIA                   |  5                    |  7.8                  | 0.8                   |  2.4                  | 0.333                 | 0.8                   | 2.4                   | ⋯                     | 0.000                 | 0.4                   | 1.0                   | 0.2                   | 1.4                   | 1.6                   | 0.4                   | 0.2                   | 0.0                   |  2.4                  | \n",
       "| 20                    | Dwayne Bacon          | CHA                   |  8                    |  3.0                  | 0.4                   |  0.9                  | 0.429                 | 0.0                   | 0.1                   | ⋯                     | 0.000                 | 0.1                   | 0.0                   | 0.1                   | 0.2                   | 0.4                   | 0.2                   | 0.0                   | 0.0                   |  0.8                  | \n",
       "| 21                    | Lonzo Ball            | LAL                   |  2                    | 20.7                  | 3.5                   |  6.0                  | 0.583                 | 3.0                   | 4.5                   | ⋯                     | 1.000                 | 2.0                   | 1.5                   | 1.0                   | 6.0                   | 7.0                   | 5.5                   | 1.5                   | 0.0                   | 11.0                  | \n",
       "| 22                    | J.J. Barea            | DAL                   |  9                    | 26.9                  | 4.9                   | 10.7                  | 0.458                 | 1.9                   | 5.4                   | ⋯                     | 0.875                 | 2.1                   | 1.2                   | 0.1                   | 2.0                   | 2.1                   | 8.9                   | 0.7                   | 0.1                   | 12.4                  | \n",
       "| 23                    | Harrison Barnes       | DAL                   |  8                    | 31.8                  | 6.2                   | 14.0                  | 0.446                 | 2.0                   | 5.2                   | ⋯                     | 0.900                 | 1.5                   | 1.2                   | 0.6                   | 4.0                   | 4.6                   | 1.6                   | 0.9                   | 0.1                   | 17.9                  | \n",
       "| 24                    | Will Barton           | DEN                   | 10                    | 36.5                  | 7.1                   | 13.2                  | 0.538                 | 2.4                   | 5.5                   | ⋯                     | 0.955                 | 1.5                   | 2.3                   | 0.8                   | 4.3                   | 5.1                   | 4.6                   | 1.1                   | 0.8                   | 18.7                  | \n",
       "| 25                    | Nicolas Batum         | CHA                   | 12                    | 31.4                  | 4.8                   | 11.7                  | 0.407                 | 2.3                   | 6.2                   | ⋯                     | 0.842                 | 1.3                   | 1.2                   | 0.8                   | 3.8                   | 4.6                   | 6.4                   | 1.5                   | 0.3                   | 13.2                  | \n",
       "| 26                    | Jerryd Bayless        | PHI                   |  4                    | 13.7                  | 1.5                   |  4.0                  | 0.375                 | 0.8                   | 2.0                   | ⋯                     | 0.000                 | 1.0                   | 1.0                   | 0.2                   | 0.5                   | 0.8                   | 1.0                   | 0.0                   | 0.0                   |  3.8                  | \n",
       "| 27                    | Aron Baynes           | BOS                   | 10                    | 16.9                  | 2.9                   |  5.3                  | 0.547                 | 0.0                   | 0.1                   | ⋯                     | 0.778                 | 0.6                   | 2.1                   | 1.1                   | 4.5                   | 5.6                   | 1.4                   | 0.1                   | 1.1                   |  6.5                  | \n",
       "| 28                    | Kent Bazemore         | ATL                   | 10                    | 26.1                  | 3.6                   | 10.1                  | 0.356                 | 1.5                   | 3.9                   | ⋯                     | 0.806                 | 2.2                   | 2.6                   | 0.3                   | 3.4                   | 3.7                   | 3.6                   | 0.8                   | 0.7                   | 11.6                  | \n",
       "| 29                    | Bradley Beal          | WAS                   | 12                    | 37.7                  | 8.5                   | 18.3                  | 0.464                 | 2.3                   | 6.5                   | ⋯                     | 0.879                 | 3.8                   | 1.9                   | 0.6                   | 4.2                   | 4.8                   | 6.7                   | 1.6                   | 0.6                   | 21.8                  | \n",
       "| 30                    | Malik Beasley         | DEN                   |  9                    |  7.6                  | 1.0                   |  2.4                  | 0.409                 | 0.3                   | 1.0                   | ⋯                     | 0.667                 | 0.3                   | 0.1                   | 0.0                   | 0.4                   | 0.4                   | 0.3                   | 0.2                   | 0.2                   |  2.6                  | \n",
       "| ⋮ | ⋮ | ⋮ | ⋮ | ⋮ | ⋮ | ⋮ | ⋮ | ⋮ | ⋮ | ⋱ | ⋮ | ⋮ | ⋮ | ⋮ | ⋮ | ⋮ | ⋮ | ⋮ | ⋮ | ⋮ | \n",
       "| 338               | Jonas Valanciunas | TOR               | 11                | 24.8              | 5.0               |  8.8              | 0.567             | 0.9               | 1.8               | ⋯                 | 0.556             | 1.4               | 2.4               | 1.8               | 6.0               |  7.8              |  1.8              | 0.5               | 0.9               | 11.8              | \n",
       "| 339               | Denzel Valentine  | CHI               | 10                | 24.4              | 3.6               | 10.2              | 0.353             | 1.2               | 4.4               | ⋯                 | 0.900             | 1.3               | 2.4               | 0.8               | 4.6               |  5.4              |  3.1              | 0.7               | 0.1               |  9.3              | \n",
       "| 340               | Fred VanVleet     | TOR               | 10                | 23.3              | 3.8               |  8.6              | 0.442             | 1.9               | 4.1               | ⋯                 | 0.917             | 1.2               | 1.6               | 0.4               | 3.1               |  3.5              |  4.3              | 1.4               | 0.1               | 10.6              | \n",
       "| 341               | Rashad Vaughn     | ORL               |  7                |  4.9              | 0.3               |  0.9              | 0.333             | 0.1               | 0.3               | ⋯                 | 0.000             | 0.4               | 0.3               | 0.3               | 0.1               |  0.4              |  0.1              | 0.1               | 0.0               |  0.7              | \n",
       "| 342               | Noah Vonleh       | CHI               |  7                | 11.5              | 1.6               |  2.9              | 0.550             | 0.4               | 1.1               | ⋯                 | 0.500             | 0.6               | 0.3               | 0.3               | 4.0               |  4.3              |  0.7              | 0.1               | 0.3               |  4.3              | \n",
       "| 343               | Nikola Vucevic    | ORL               |  4                | 29.0              | 6.8               | 12.5              | 0.540             | 1.5               | 3.8               | ⋯                 | 0.600             | 2.2               | 2.8               | 1.5               | 5.5               |  7.0              |  2.5              | 1.2               | 1.5               | 15.8              | \n",
       "| 344               | Dwyane Wade       | MIA               |  8                | 22.3              | 4.6               | 11.0              | 0.420             | 0.6               | 2.0               | ⋯                 | 0.706             | 2.6               | 2.2               | 1.0               | 2.9               |  3.9              |  2.2              | 0.8               | 0.6               | 11.4              | \n",
       "| 345               | Kemba Walker      | CHA               | 12                | 34.0              | 8.5               | 18.1              | 0.470             | 4.0               | 8.2               | ⋯                 | 0.917             | 2.3               | 1.2               | 0.3               | 2.1               |  2.4              |  5.5              | 1.3               | 0.3               | 25.6              | \n",
       "| 346               | Tyrone Wallace    | LAC               |  8                | 19.5              | 2.4               |  5.9              | 0.404             | 0.1               | 0.8               | ⋯                 | 0.889             | 0.6               | 2.2               | 0.6               | 2.5               |  3.1              |  2.6              | 0.6               | 0.2               |  6.9              | \n",
       "| 347               | T.J. Warren       | PHX               | 10                | 33.8              | 7.2               | 15.4              | 0.468             | 0.2               | 0.5               | ⋯                 | 0.750             | 0.4               | 2.2               | 1.7               | 2.4               |  4.1              |  1.2              | 1.4               | 0.6               | 17.9              | \n",
       "| 348               | James Webb III    | BRK               |  6                | 11.7              | 0.8               |  2.2              | 0.385             | 0.7               | 1.7               | ⋯                 | 0.000             | 0.5               | 0.8               | 1.0               | 2.2               |  3.2              |  0.3              | 0.0               | 0.0               |  2.3              | \n",
       "| 349               | David West        | GSW               |  9                | 14.9              | 3.3               |  5.0              | 0.667             | 0.0               | 0.0               | ⋯                 | 0.900             | 1.2               | 2.1               | 1.1               | 2.7               |  3.8              |  2.6              | 0.7               | 1.2               |  7.7              | \n",
       "| 350               | Russell Westbrook | OKC               | 10                | 37.4              | 7.7               | 18.9              | 0.407             | 0.7               | 4.5               | ⋯                 | 0.894             | 5.7               | 2.4               | 1.4               | 9.0               | 10.4              | 11.6              | 1.5               | 0.4               | 22.0              | \n",
       "| 351               | Andrew White      | ATL               |  3                | 12.2              | 2.7               |  6.0              | 0.444             | 1.0               | 3.7               | ⋯                 | 0.000             | 0.3               | 1.3               | 0.7               | 0.7               |  1.3              |  0.3              | 0.3               | 0.0               |  6.3              | \n",
       "| 352               | Derrick White     | SAS               |  3                | 14.0              | 2.3               |  4.7              | 0.500             | 1.0               | 1.7               | ⋯                 | 0.750             | 0.3               | 0.7               | 0.3               | 2.0               |  2.3              |  1.0              | 0.3               | 0.0               |  7.7              | \n",
       "| 353               | Hassan Whiteside  | MIA               |  9                | 27.1              | 6.0               | 11.7              | 0.514             | 0.0               | 0.0               | ⋯                 | 0.469             | 1.6               | 2.4               | 3.9               | 8.4               | 12.3              |  1.3              | 0.9               | 1.7               | 13.7              | \n",
       "| 354               | Andrew Wiggins    | MIN               | 10                | 36.1              | 6.5               | 13.8              | 0.471             | 1.2               | 3.9               | ⋯                 | 0.636             | 1.9               | 1.9               | 0.5               | 3.2               |  3.7              |  1.1              | 0.8               | 0.6               | 15.6              | \n",
       "| 355               | Lou Williams      | LAC               | 10                | 32.9              | 7.3               | 16.4              | 0.445             | 1.8               | 6.4               | ⋯                 | 0.871             | 3.0               | 1.1               | 0.4               | 2.3               |  2.7              |  6.1              | 1.0               | 0.3               | 21.8              | \n",
       "| 356               | Marvin Williams   | CHA               |  9                | 25.3              | 3.1               |  7.6              | 0.412             | 1.9               | 4.3               | ⋯                 | 0.706             | 1.6               | 1.4               | 1.1               | 3.9               |  5.0              |  0.9              | 0.6               | 0.8               |  9.4              | \n",
       "| 357               | Troy Williams     | NYK               |  3                | 10.9              | 3.0               |  5.0              | 0.600             | 0.0               | 1.7               | ⋯                 | 0.750             | 0.7               | 1.0               | 0.7               | 2.3               |  3.0              |  0.0              | 1.0               | 0.3               |  7.0              | \n",
       "| 358               | Justise Winslow   | MIA               | 10                | 22.9              | 2.0               |  6.5              | 0.308             | 0.5               | 1.3               | ⋯                 | 0.778             | 1.3               | 2.0               | 1.0               | 4.0               |  5.0              |  2.1              | 1.1               | 0.5               |  5.9              | \n",
       "| 359               | Brandan Wright    | HOU               |  2                | 15.1              | 2.5               |  3.5              | 0.714             | 0.0               | 0.0               | ⋯                 | 0.000             | 0.5               | 3.0               | 1.0               | 1.5               |  2.5              |  1.5              | 0.0               | 1.0               |  5.0              | \n",
       "| 360               | Delon Wright      | TOR               | 11                | 20.0              | 3.0               |  6.4              | 0.471             | 0.9               | 2.5               | ⋯                 | 0.857             | 1.3               | 1.6               | 0.4               | 1.9               |  2.3              |  3.3              | 1.2               | 0.5               |  7.5              | \n",
       "| 361               | Joe Young         | IND               |  9                | 16.7              | 2.1               |  4.8              | 0.442             | 1.1               | 2.1               | ⋯                 | 0.000             | 0.8               | 1.1               | 0.0               | 1.9               |  1.9              |  1.1              | 0.6               | 0.0               |  5.3              | \n",
       "| 362               | Nick Young        | GSW               | 11                | 13.9              | 2.2               |  5.2              | 0.421             | 1.7               | 3.9               | ⋯                 | 1.000             | 0.4               | 0.7               | 0.4               | 1.2               |  1.5              |  0.4              | 0.6               | 0.0               |  6.5              | \n",
       "| 363               | Thaddeus Young    | IND               |  9                | 32.2              | 5.0               | 10.8              | 0.464             | 0.8               | 1.8               | ⋯                 | 0.526             | 1.6               | 1.7               | 3.4               | 4.2               |  7.7              |  2.3              | 1.6               | 0.8               | 11.9              | \n",
       "| 364               | Cody Zeller       | CHA               | 11                | 17.4              | 2.5               |  4.4              | 0.562             | 0.1               | 0.2               | ⋯                 | 0.667             | 1.0               | 1.8               | 1.6               | 3.6               |  5.3              |  1.2              | 0.4               | 0.0               |  6.3              | \n",
       "| 365               | Tyler Zeller      | MIL               |  8                | 15.6              | 2.5               |  4.0              | 0.625             | 0.0               | 0.2               | ⋯                 | 0.000             | 0.8               | 1.6               | 2.1               | 2.2               |  4.4              |  0.4              | 0.0               | 0.6               |  5.0              | \n",
       "| 366               | Paul Zipser       | CHI               |  7                | 16.7              | 2.1               |  4.9              | 0.441             | 1.3               | 3.0               | ⋯                 | 1.000             | 0.7               | 2.0               | 0.1               | 2.1               |  2.3              |  1.0              | 0.6               | 0.7               |  5.9              | \n",
       "| 367               | Ivica Zubac       | LAL               |  8                | 11.4              | 2.9               |  4.2              | 0.676             | 0.0               | 0.0               | ⋯                 | 0.706             | 0.9               | 1.6               | 1.4               | 2.0               |  3.4              |  0.4              | 0.0               | 0.2               |  7.2              | \n",
       "\n",
       "\n"
      ],
      "text/plain": [
       "    #   Player                Team GP MPG  FGM FGA  FG%   3PM 3PA ⋯ FT%   TOV\n",
       "1    1  Alex Abrines          OKC  12 22.3 2.3  6.2 0.373 1.7 4.9 ⋯ 0.889 0.4\n",
       "2    2  Quincy Acy            BRK   8 23.1 1.5  5.1 0.293 1.1 4.4 ⋯ 1.000 1.0\n",
       "3    3  Steven Adams          OKC  12 34.6 5.8  9.5 0.614 0.0 0.0 ⋯ 0.544 1.6\n",
       "4    4  Bam Adebayo           MIA  10 21.5 2.8  5.6 0.500 0.0 0.2 ⋯ 0.700 0.7\n",
       "5    5  Arron Afflalo         ORL   8 12.5 1.4  3.5 0.393 0.8 1.8 ⋯ 1.000 0.6\n",
       "6    6  LaMarcus Aldridge     SAS   7 30.2 9.3 16.1 0.575 0.1 0.4 ⋯ 0.821 0.9\n",
       "7    7  Jarrett Allen         BRK  10 23.9 5.3  8.6 0.616 0.0 0.2 ⋯ 0.821 0.8\n",
       "8    8  Al-Farouq Aminu       POR  10 30.6 2.8  7.3 0.384 1.6 4.2 ⋯ 0.786 0.9\n",
       "9    9  Justin Anderson       PHI   6 12.6 2.7  4.8 0.552 1.2 2.2 ⋯ 0.286 0.3\n",
       "10  10  Kyle Anderson         SAS   9 26.9 3.4  6.7 0.517 0.0 0.9 ⋯ 0.542 1.2\n",
       "11  11  Ryan Anderson         HOU   9 23.3 3.4  7.1 0.484 2.3 5.0 ⋯ 0.727 0.1\n",
       "12  12  Giannis Antetokounmpo MIL  12 36.7 8.8 18.5 0.477 0.5 2.0 ⋯ 0.679 3.2\n",
       "13  13  Carmelo Anthony       OKC  10 30.9 5.4 14.8 0.365 2.0 5.8 ⋯ 0.750 1.1\n",
       "14  14  Ogugua Anunoby        TOR  11 16.9 1.9  4.4 0.438 0.7 2.3 ⋯ 0.625 0.5\n",
       "15  15  Ryan Arcidiacono      CHI   6  7.1 0.3  0.8 0.400 0.2 0.7 ⋯ 0.000 0.3\n",
       "16  16  Trevor Ariza          HOU   4 31.1 4.0  9.0 0.444 3.0 6.2 ⋯ 0.500 0.0\n",
       "17  17  Darrell Arthur        DEN   7  8.6 1.9  2.9 0.650 0.6 1.1 ⋯ 0.500 1.0\n",
       "18  18  D.J. Augustin         ORL  11 27.0 3.5  8.4 0.413 1.9 4.6 ⋯ 0.935 1.6\n",
       "19  19  Luke Babbitt          MIA   5  7.8 0.8  2.4 0.333 0.8 2.4 ⋯ 0.000 0.4\n",
       "20  20  Dwayne Bacon          CHA   8  3.0 0.4  0.9 0.429 0.0 0.1 ⋯ 0.000 0.1\n",
       "21  21  Lonzo Ball            LAL   2 20.7 3.5  6.0 0.583 3.0 4.5 ⋯ 1.000 2.0\n",
       "22  22  J.J. Barea            DAL   9 26.9 4.9 10.7 0.458 1.9 5.4 ⋯ 0.875 2.1\n",
       "23  23  Harrison Barnes       DAL   8 31.8 6.2 14.0 0.446 2.0 5.2 ⋯ 0.900 1.5\n",
       "24  24  Will Barton           DEN  10 36.5 7.1 13.2 0.538 2.4 5.5 ⋯ 0.955 1.5\n",
       "25  25  Nicolas Batum         CHA  12 31.4 4.8 11.7 0.407 2.3 6.2 ⋯ 0.842 1.3\n",
       "26  26  Jerryd Bayless        PHI   4 13.7 1.5  4.0 0.375 0.8 2.0 ⋯ 0.000 1.0\n",
       "27  27  Aron Baynes           BOS  10 16.9 2.9  5.3 0.547 0.0 0.1 ⋯ 0.778 0.6\n",
       "28  28  Kent Bazemore         ATL  10 26.1 3.6 10.1 0.356 1.5 3.9 ⋯ 0.806 2.2\n",
       "29  29  Bradley Beal          WAS  12 37.7 8.5 18.3 0.464 2.3 6.5 ⋯ 0.879 3.8\n",
       "30  30  Malik Beasley         DEN   9  7.6 1.0  2.4 0.409 0.3 1.0 ⋯ 0.667 0.3\n",
       "⋮   ⋮   ⋮                     ⋮    ⋮  ⋮    ⋮   ⋮    ⋮     ⋮   ⋮   ⋱ ⋮     ⋮  \n",
       "338 338 Jonas Valanciunas     TOR  11 24.8 5.0  8.8 0.567 0.9 1.8 ⋯ 0.556 1.4\n",
       "339 339 Denzel Valentine      CHI  10 24.4 3.6 10.2 0.353 1.2 4.4 ⋯ 0.900 1.3\n",
       "340 340 Fred VanVleet         TOR  10 23.3 3.8  8.6 0.442 1.9 4.1 ⋯ 0.917 1.2\n",
       "341 341 Rashad Vaughn         ORL   7  4.9 0.3  0.9 0.333 0.1 0.3 ⋯ 0.000 0.4\n",
       "342 342 Noah Vonleh           CHI   7 11.5 1.6  2.9 0.550 0.4 1.1 ⋯ 0.500 0.6\n",
       "343 343 Nikola Vucevic        ORL   4 29.0 6.8 12.5 0.540 1.5 3.8 ⋯ 0.600 2.2\n",
       "344 344 Dwyane Wade           MIA   8 22.3 4.6 11.0 0.420 0.6 2.0 ⋯ 0.706 2.6\n",
       "345 345 Kemba Walker          CHA  12 34.0 8.5 18.1 0.470 4.0 8.2 ⋯ 0.917 2.3\n",
       "346 346 Tyrone Wallace        LAC   8 19.5 2.4  5.9 0.404 0.1 0.8 ⋯ 0.889 0.6\n",
       "347 347 T.J. Warren           PHX  10 33.8 7.2 15.4 0.468 0.2 0.5 ⋯ 0.750 0.4\n",
       "348 348 James Webb III        BRK   6 11.7 0.8  2.2 0.385 0.7 1.7 ⋯ 0.000 0.5\n",
       "349 349 David West            GSW   9 14.9 3.3  5.0 0.667 0.0 0.0 ⋯ 0.900 1.2\n",
       "350 350 Russell Westbrook     OKC  10 37.4 7.7 18.9 0.407 0.7 4.5 ⋯ 0.894 5.7\n",
       "351 351 Andrew White          ATL   3 12.2 2.7  6.0 0.444 1.0 3.7 ⋯ 0.000 0.3\n",
       "352 352 Derrick White         SAS   3 14.0 2.3  4.7 0.500 1.0 1.7 ⋯ 0.750 0.3\n",
       "353 353 Hassan Whiteside      MIA   9 27.1 6.0 11.7 0.514 0.0 0.0 ⋯ 0.469 1.6\n",
       "354 354 Andrew Wiggins        MIN  10 36.1 6.5 13.8 0.471 1.2 3.9 ⋯ 0.636 1.9\n",
       "355 355 Lou Williams          LAC  10 32.9 7.3 16.4 0.445 1.8 6.4 ⋯ 0.871 3.0\n",
       "356 356 Marvin Williams       CHA   9 25.3 3.1  7.6 0.412 1.9 4.3 ⋯ 0.706 1.6\n",
       "357 357 Troy Williams         NYK   3 10.9 3.0  5.0 0.600 0.0 1.7 ⋯ 0.750 0.7\n",
       "358 358 Justise Winslow       MIA  10 22.9 2.0  6.5 0.308 0.5 1.3 ⋯ 0.778 1.3\n",
       "359 359 Brandan Wright        HOU   2 15.1 2.5  3.5 0.714 0.0 0.0 ⋯ 0.000 0.5\n",
       "360 360 Delon Wright          TOR  11 20.0 3.0  6.4 0.471 0.9 2.5 ⋯ 0.857 1.3\n",
       "361 361 Joe Young             IND   9 16.7 2.1  4.8 0.442 1.1 2.1 ⋯ 0.000 0.8\n",
       "362 362 Nick Young            GSW  11 13.9 2.2  5.2 0.421 1.7 3.9 ⋯ 1.000 0.4\n",
       "363 363 Thaddeus Young        IND   9 32.2 5.0 10.8 0.464 0.8 1.8 ⋯ 0.526 1.6\n",
       "364 364 Cody Zeller           CHA  11 17.4 2.5  4.4 0.562 0.1 0.2 ⋯ 0.667 1.0\n",
       "365 365 Tyler Zeller          MIL   8 15.6 2.5  4.0 0.625 0.0 0.2 ⋯ 0.000 0.8\n",
       "366 366 Paul Zipser           CHI   7 16.7 2.1  4.9 0.441 1.3 3.0 ⋯ 1.000 0.7\n",
       "367 367 Ivica Zubac           LAL   8 11.4 2.9  4.2 0.676 0.0 0.0 ⋯ 0.706 0.9\n",
       "    PF  ORB DRB RPG  APG  SPG BPG PPG \n",
       "1   2.2 0.4 1.8 2.2  0.6  0.7 0.3  7.0\n",
       "2   2.2 0.8 2.8 3.5  2.2  1.2 0.4  4.9\n",
       "3   3.0 5.0 4.3 9.3  1.1  1.3 1.3 14.2\n",
       "4   2.2 1.5 5.4 6.9  1.9  0.2 1.0  9.1\n",
       "5   1.1 0.0 2.1 2.1  0.8  0.0 0.2  4.0\n",
       "6   1.9 2.7 3.7 6.4  2.9  0.6 1.0 23.3\n",
       "7   1.8 2.2 4.6 6.8  1.6  0.6 1.0 12.9\n",
       "8   1.5 1.6 7.2 8.8  1.0  1.1 0.3  8.3\n",
       "9   1.2 0.0 1.3 1.3  0.5  0.3 0.2  6.8\n",
       "10  1.6 1.2 3.4 4.7  2.8  1.2 1.1  8.3\n",
       "11  1.8 1.3 3.3 4.7  0.8  0.1 0.2 10.1\n",
       "12  2.9 1.3 8.5 9.8  5.3  1.2 1.8 22.6\n",
       "13  2.3 0.9 4.9 5.8  0.5  0.4 0.6 13.4\n",
       "14  1.2 0.5 1.9 2.4  0.7  0.4 0.1  5.0\n",
       "15  0.3 0.0 0.7 0.7  0.7  0.3 0.0  0.8\n",
       "16  2.0 0.8 3.5 4.2  0.8  1.0 0.2 11.2\n",
       "17  1.7 0.3 0.6 0.9  0.9  0.7 0.1  4.4\n",
       "18  1.3 0.4 2.0 2.4  4.5  0.8 0.0 11.5\n",
       "19  1.0 0.2 1.4 1.6  0.4  0.2 0.0  2.4\n",
       "20  0.0 0.1 0.2 0.4  0.2  0.0 0.0  0.8\n",
       "21  1.5 1.0 6.0 7.0  5.5  1.5 0.0 11.0\n",
       "22  1.2 0.1 2.0 2.1  8.9  0.7 0.1 12.4\n",
       "23  1.2 0.6 4.0 4.6  1.6  0.9 0.1 17.9\n",
       "24  2.3 0.8 4.3 5.1  4.6  1.1 0.8 18.7\n",
       "25  1.2 0.8 3.8 4.6  6.4  1.5 0.3 13.2\n",
       "26  1.0 0.2 0.5 0.8  1.0  0.0 0.0  3.8\n",
       "27  2.1 1.1 4.5 5.6  1.4  0.1 1.1  6.5\n",
       "28  2.6 0.3 3.4 3.7  3.6  0.8 0.7 11.6\n",
       "29  1.9 0.6 4.2 4.8  6.7  1.6 0.6 21.8\n",
       "30  0.1 0.0 0.4 0.4  0.3  0.2 0.2  2.6\n",
       "⋮   ⋮   ⋮   ⋮   ⋮    ⋮    ⋮   ⋮   ⋮   \n",
       "338 2.4 1.8 6.0  7.8  1.8 0.5 0.9 11.8\n",
       "339 2.4 0.8 4.6  5.4  3.1 0.7 0.1  9.3\n",
       "340 1.6 0.4 3.1  3.5  4.3 1.4 0.1 10.6\n",
       "341 0.3 0.3 0.1  0.4  0.1 0.1 0.0  0.7\n",
       "342 0.3 0.3 4.0  4.3  0.7 0.1 0.3  4.3\n",
       "343 2.8 1.5 5.5  7.0  2.5 1.2 1.5 15.8\n",
       "344 2.2 1.0 2.9  3.9  2.2 0.8 0.6 11.4\n",
       "345 1.2 0.3 2.1  2.4  5.5 1.3 0.3 25.6\n",
       "346 2.2 0.6 2.5  3.1  2.6 0.6 0.2  6.9\n",
       "347 2.2 1.7 2.4  4.1  1.2 1.4 0.6 17.9\n",
       "348 0.8 1.0 2.2  3.2  0.3 0.0 0.0  2.3\n",
       "349 2.1 1.1 2.7  3.8  2.6 0.7 1.2  7.7\n",
       "350 2.4 1.4 9.0 10.4 11.6 1.5 0.4 22.0\n",
       "351 1.3 0.7 0.7  1.3  0.3 0.3 0.0  6.3\n",
       "352 0.7 0.3 2.0  2.3  1.0 0.3 0.0  7.7\n",
       "353 2.4 3.9 8.4 12.3  1.3 0.9 1.7 13.7\n",
       "354 1.9 0.5 3.2  3.7  1.1 0.8 0.6 15.6\n",
       "355 1.1 0.4 2.3  2.7  6.1 1.0 0.3 21.8\n",
       "356 1.4 1.1 3.9  5.0  0.9 0.6 0.8  9.4\n",
       "357 1.0 0.7 2.3  3.0  0.0 1.0 0.3  7.0\n",
       "358 2.0 1.0 4.0  5.0  2.1 1.1 0.5  5.9\n",
       "359 3.0 1.0 1.5  2.5  1.5 0.0 1.0  5.0\n",
       "360 1.6 0.4 1.9  2.3  3.3 1.2 0.5  7.5\n",
       "361 1.1 0.0 1.9  1.9  1.1 0.6 0.0  5.3\n",
       "362 0.7 0.4 1.2  1.5  0.4 0.6 0.0  6.5\n",
       "363 1.7 3.4 4.2  7.7  2.3 1.6 0.8 11.9\n",
       "364 1.8 1.6 3.6  5.3  1.2 0.4 0.0  6.3\n",
       "365 1.6 2.1 2.2  4.4  0.4 0.0 0.6  5.0\n",
       "366 2.0 0.1 2.1  2.3  1.0 0.6 0.7  5.9\n",
       "367 1.6 1.4 2.0  3.4  0.4 0.0 0.2  7.2"
      ]
     },
     "metadata": {},
     "output_type": "display_data"
    }
   ],
   "source": [
    "February"
   ]
  },
  {
   "cell_type": "code",
   "execution_count": 70,
   "metadata": {},
   "outputs": [
    {
     "data": {
      "text/html": [
       "35"
      ],
      "text/latex": [
       "35"
      ],
      "text/markdown": [
       "35"
      ],
      "text/plain": [
       "[1] 35"
      ]
     },
     "metadata": {},
     "output_type": "display_data"
    }
   ],
   "source": [
    "max(February$PPG, na.rm = TRUE)"
   ]
  },
  {
   "cell_type": "markdown",
   "metadata": {},
   "source": [
    "The highest PPG value in the month of February was 35"
   ]
  },
  {
   "cell_type": "code",
   "execution_count": 71,
   "metadata": {},
   "outputs": [
    {
     "data": {
      "text/html": [
       "<table>\n",
       "<thead><tr><th></th><th scope=col>#</th><th scope=col>Player</th><th scope=col>Team</th><th scope=col>GP</th><th scope=col>MPG</th><th scope=col>FGM</th><th scope=col>FGA</th><th scope=col>FG%</th><th scope=col>3PM</th><th scope=col>3PA</th><th scope=col>⋯</th><th scope=col>FT%</th><th scope=col>TOV</th><th scope=col>PF</th><th scope=col>ORB</th><th scope=col>DRB</th><th scope=col>RPG</th><th scope=col>APG</th><th scope=col>SPG</th><th scope=col>BPG</th><th scope=col>PPG</th></tr></thead>\n",
       "<tbody>\n",
       "\t<tr><th scope=row>84</th><td>84           </td><td>Anthony Davis</td><td>NOP          </td><td>11           </td><td>37.8         </td><td>13.1         </td><td>25.8         </td><td>0.507        </td><td>1.2          </td><td>3.5          </td><td>⋯            </td><td>0.832        </td><td>2.5          </td><td>2.3          </td><td>3.4          </td><td>9.6          </td><td>13           </td><td>1.5          </td><td>2.5          </td><td>2.2          </td><td>35           </td></tr>\n",
       "</tbody>\n",
       "</table>\n"
      ],
      "text/latex": [
       "\\begin{tabular}{r|lllllllllllllllllllllll}\n",
       "  & \\# & Player & Team & GP & MPG & FGM & FGA & FG\\% & 3PM & 3PA & ⋯ & FT\\% & TOV & PF & ORB & DRB & RPG & APG & SPG & BPG & PPG\\\\\n",
       "\\hline\n",
       "\t84 & 84            & Anthony Davis & NOP           & 11            & 37.8          & 13.1          & 25.8          & 0.507         & 1.2           & 3.5           & ⋯             & 0.832         & 2.5           & 2.3           & 3.4           & 9.6           & 13            & 1.5           & 2.5           & 2.2           & 35           \\\\\n",
       "\\end{tabular}\n"
      ],
      "text/markdown": [
       "\n",
       "| <!--/--> | # | Player | Team | GP | MPG | FGM | FGA | FG% | 3PM | 3PA | ⋯ | FT% | TOV | PF | ORB | DRB | RPG | APG | SPG | BPG | PPG | \n",
       "|---|\n",
       "| 84 | 84            | Anthony Davis | NOP           | 11            | 37.8          | 13.1          | 25.8          | 0.507         | 1.2           | 3.5           | ⋯             | 0.832         | 2.5           | 2.3           | 3.4           | 9.6           | 13            | 1.5           | 2.5           | 2.2           | 35            | \n",
       "\n",
       "\n"
      ],
      "text/plain": [
       "   #  Player        Team GP MPG  FGM  FGA  FG%   3PM 3PA ⋯ FT%   TOV PF  ORB\n",
       "84 84 Anthony Davis NOP  11 37.8 13.1 25.8 0.507 1.2 3.5 ⋯ 0.832 2.5 2.3 3.4\n",
       "   DRB RPG APG SPG BPG PPG\n",
       "84 9.6 13  1.5 2.5 2.2 35 "
      ]
     },
     "metadata": {},
     "output_type": "display_data"
    }
   ],
   "source": [
    "February[February$PPG %in% c(\"35\"), ]"
   ]
  },
  {
   "cell_type": "markdown",
   "metadata": {},
   "source": [
    "The player with the most Points Per Game in February is Anthony Davis"
   ]
  },
  {
   "cell_type": "markdown",
   "metadata": {},
   "source": [
    "### March"
   ]
  },
  {
   "cell_type": "code",
   "execution_count": 72,
   "metadata": {},
   "outputs": [],
   "source": [
    "NBA21 = read_html(\"https://basketball.realgm.com/nba/stats/2018/Averages/Qualified/player/All/asc/1/March\")"
   ]
  },
  {
   "cell_type": "code",
   "execution_count": 73,
   "metadata": {},
   "outputs": [],
   "source": [
    "NBA22 = read_html(\"https://basketball.realgm.com/nba/stats/2018/Averages/Qualified/player/All/asc/2/March\")"
   ]
  },
  {
   "cell_type": "code",
   "execution_count": 74,
   "metadata": {},
   "outputs": [],
   "source": [
    "NBA23 = read_html(\"https://basketball.realgm.com/nba/stats/2018/Averages/Qualified/player/All/asc/3/March\")"
   ]
  },
  {
   "cell_type": "code",
   "execution_count": 75,
   "metadata": {},
   "outputs": [],
   "source": [
    "NBA24 = read_html(\"https://basketball.realgm.com/nba/stats/2018/Averages/Qualified/player/All/asc/4/March\")"
   ]
  },
  {
   "cell_type": "code",
   "execution_count": 76,
   "metadata": {},
   "outputs": [],
   "source": [
    "March1 = NBA21 %>% html_nodes('table')%>% .[[1]] %>%\n",
    "  html_table()"
   ]
  },
  {
   "cell_type": "code",
   "execution_count": 77,
   "metadata": {},
   "outputs": [],
   "source": [
    "March2 = NBA22 %>% html_nodes('table')%>% .[[1]] %>%\n",
    "  html_table()"
   ]
  },
  {
   "cell_type": "code",
   "execution_count": 78,
   "metadata": {},
   "outputs": [],
   "source": [
    "March3 = NBA23 %>% html_nodes('table')%>% .[[1]] %>%\n",
    "  html_table()"
   ]
  },
  {
   "cell_type": "code",
   "execution_count": 79,
   "metadata": {},
   "outputs": [],
   "source": [
    "March4 = NBA24 %>% html_nodes('table')%>% .[[1]] %>%\n",
    "  html_table()"
   ]
  },
  {
   "cell_type": "code",
   "execution_count": 80,
   "metadata": {},
   "outputs": [
    {
     "name": "stderr",
     "output_type": "stream",
     "text": [
      "Joining, by = c(\"#\", \"Player\", \"Team\", \"GP\", \"MPG\", \"FGM\", \"FGA\", \"FG%\", \"3PM\", \"3PA\", \"3P%\", \"FTM\", \"FTA\", \"FT%\", \"TOV\", \"PF\", \"ORB\", \"DRB\", \"RPG\", \"APG\", \"SPG\", \"BPG\", \"PPG\")\n"
     ]
    }
   ],
   "source": [
    "k = full_join(March1, March2)"
   ]
  },
  {
   "cell_type": "code",
   "execution_count": 81,
   "metadata": {},
   "outputs": [
    {
     "name": "stderr",
     "output_type": "stream",
     "text": [
      "Joining, by = c(\"#\", \"Player\", \"Team\", \"GP\", \"MPG\", \"FGM\", \"FGA\", \"FG%\", \"3PM\", \"3PA\", \"3P%\", \"FTM\", \"FTA\", \"FT%\", \"TOV\", \"PF\", \"ORB\", \"DRB\", \"RPG\", \"APG\", \"SPG\", \"BPG\", \"PPG\")\n"
     ]
    }
   ],
   "source": [
    "l = full_join(March3, March4)"
   ]
  },
  {
   "cell_type": "code",
   "execution_count": 82,
   "metadata": {},
   "outputs": [
    {
     "name": "stderr",
     "output_type": "stream",
     "text": [
      "Joining, by = c(\"#\", \"Player\", \"Team\", \"GP\", \"MPG\", \"FGM\", \"FGA\", \"FG%\", \"3PM\", \"3PA\", \"3P%\", \"FTM\", \"FTA\", \"FT%\", \"TOV\", \"PF\", \"ORB\", \"DRB\", \"RPG\", \"APG\", \"SPG\", \"BPG\", \"PPG\")\n"
     ]
    }
   ],
   "source": [
    "March = full_join(k, l)"
   ]
  },
  {
   "cell_type": "markdown",
   "metadata": {},
   "source": [
    "Table 6: The data and statistics for all players in the NBA during the month of March in the 2017-2018 season"
   ]
  },
  {
   "cell_type": "code",
   "execution_count": 83,
   "metadata": {},
   "outputs": [
    {
     "data": {
      "text/html": [
       "<table>\n",
       "<thead><tr><th scope=col>#</th><th scope=col>Player</th><th scope=col>Team</th><th scope=col>GP</th><th scope=col>MPG</th><th scope=col>FGM</th><th scope=col>FGA</th><th scope=col>FG%</th><th scope=col>3PM</th><th scope=col>3PA</th><th scope=col>⋯</th><th scope=col>FT%</th><th scope=col>TOV</th><th scope=col>PF</th><th scope=col>ORB</th><th scope=col>DRB</th><th scope=col>RPG</th><th scope=col>APG</th><th scope=col>SPG</th><th scope=col>BPG</th><th scope=col>PPG</th></tr></thead>\n",
       "<tbody>\n",
       "\t<tr><td> 1                   </td><td>Alex Abrines         </td><td>OKC                  </td><td>14                   </td><td> 9.9                 </td><td> 1.4                 </td><td> 2.7                 </td><td>0.500                </td><td>1.2                  </td><td>2.4                  </td><td>⋯                    </td><td>0.500                </td><td>0.1                  </td><td>1.1                  </td><td>0.1                  </td><td>0.6                  </td><td>0.7                  </td><td>0.4                  </td><td>0.4                  </td><td>0.1                  </td><td> 4.0                 </td></tr>\n",
       "\t<tr><td> 2                   </td><td>Quincy Acy           </td><td>BRK                  </td><td> 9                   </td><td>13.8                 </td><td> 2.0                 </td><td> 4.6                 </td><td>0.439                </td><td>1.7                  </td><td>3.9                  </td><td>⋯                    </td><td>1.000                </td><td>0.1                  </td><td>2.2                  </td><td>0.2                  </td><td>1.4                  </td><td>1.7                  </td><td>0.8                  </td><td>0.1                  </td><td>0.7                  </td><td> 5.9                 </td></tr>\n",
       "\t<tr><td> 3                   </td><td>Steven Adams         </td><td>OKC                  </td><td>13                   </td><td>32.7                 </td><td> 5.9                 </td><td> 9.8                 </td><td>0.602                </td><td>0.0                  </td><td>0.0                  </td><td>⋯                    </td><td>0.525                </td><td>1.6                  </td><td>2.6                  </td><td>4.7                  </td><td>4.2                  </td><td>8.8                  </td><td>1.7                  </td><td>1.4                  </td><td>1.2                  </td><td>14.2                 </td></tr>\n",
       "\t<tr><td> 4                   </td><td>Bam Adebayo          </td><td>MIA                  </td><td>13                   </td><td>19.2                 </td><td> 2.3                 </td><td> 5.7                 </td><td>0.405                </td><td>0.0                  </td><td>0.1                  </td><td>⋯                    </td><td>0.593                </td><td>1.0                  </td><td>2.2                  </td><td>2.2                  </td><td>3.9                  </td><td>6.2                  </td><td>1.1                  </td><td>0.1                  </td><td>0.3                  </td><td> 5.8                 </td></tr>\n",
       "\t<tr><td> 5                   </td><td>Arron Afflalo        </td><td>ORL                  </td><td> 6                   </td><td>13.8                 </td><td> 1.3                 </td><td> 3.2                 </td><td>0.421                </td><td>0.5                  </td><td>1.3                  </td><td>⋯                    </td><td>1.000                </td><td>0.5                  </td><td>0.8                  </td><td>0.2                  </td><td>0.7                  </td><td>0.8                  </td><td>0.7                  </td><td>0.3                  </td><td>0.3                  </td><td> 3.5                 </td></tr>\n",
       "\t<tr><td> 6                   </td><td>LaMarcus Aldridge    </td><td>SAS                  </td><td>12                   </td><td>32.0                 </td><td>10.2                 </td><td>19.1                 </td><td>0.537                </td><td>0.2                  </td><td>0.8                  </td><td>⋯                    </td><td>0.812                </td><td>1.8                  </td><td>2.1                  </td><td>3.2                  </td><td>5.8                  </td><td>9.0                  </td><td>2.2                  </td><td>0.4                  </td><td>1.2                  </td><td>26.1                 </td></tr>\n",
       "\t<tr><td> 7                   </td><td>Jarrett Allen        </td><td>BRK                  </td><td>13                   </td><td>23.2                 </td><td> 3.3                 </td><td> 5.8                 </td><td>0.566                </td><td>0.0                  </td><td>0.3                  </td><td>⋯                    </td><td>0.833                </td><td>1.9                  </td><td>2.3                  </td><td>2.8                  </td><td>3.2                  </td><td>6.1                  </td><td>0.7                  </td><td>0.3                  </td><td>1.8                  </td><td> 8.9                 </td></tr>\n",
       "\t<tr><td> 8                   </td><td>Kadeem Allen         </td><td>BOS                  </td><td> 5                   </td><td> 2.4                 </td><td> 0.0                 </td><td> 0.0                 </td><td>0.000                </td><td>0.0                  </td><td>0.0                  </td><td>⋯                    </td><td>0.000                </td><td>0.2                  </td><td>0.6                  </td><td>0.0                  </td><td>0.2                  </td><td>0.2                  </td><td>0.4                  </td><td>0.0                  </td><td>0.0                  </td><td> 0.0                 </td></tr>\n",
       "\t<tr><td> 9                   </td><td>Al-Farouq Aminu      </td><td>POR                  </td><td>15                   </td><td>30.0                 </td><td> 3.3                 </td><td> 8.7                 </td><td>0.374                </td><td>1.7                  </td><td>5.3                  </td><td>⋯                    </td><td>0.714                </td><td>1.4                  </td><td>2.3                  </td><td>1.9                  </td><td>6.3                  </td><td>8.2                  </td><td>1.7                  </td><td>1.8                  </td><td>0.5                  </td><td> 9.3                 </td></tr>\n",
       "\t<tr><td>10                   </td><td>Justin Anderson      </td><td>PHI                  </td><td> 7                   </td><td>14.1                 </td><td> 2.1                 </td><td> 5.9                 </td><td>0.366                </td><td>0.9                  </td><td>3.3                  </td><td>⋯                    </td><td>1.000                </td><td>0.7                  </td><td>1.6                  </td><td>0.4                  </td><td>2.1                  </td><td>2.6                  </td><td>1.1                  </td><td>0.3                  </td><td>0.0                  </td><td> 5.9                 </td></tr>\n",
       "\t<tr><td>11                   </td><td>Kyle Anderson        </td><td>SAS                  </td><td>14                   </td><td>23.9                 </td><td> 2.9                 </td><td> 5.1                 </td><td>0.577                </td><td>0.4                  </td><td>0.9                  </td><td>⋯                    </td><td>0.609                </td><td>1.4                  </td><td>1.6                  </td><td>1.1                  </td><td>3.6                  </td><td>4.7                  </td><td>2.8                  </td><td>2.1                  </td><td>0.4                  </td><td> 7.2                 </td></tr>\n",
       "\t<tr><td>12                   </td><td>Ryan Anderson        </td><td>HOU                  </td><td> 7                   </td><td>18.9                 </td><td> 2.1                 </td><td> 5.0                 </td><td>0.429                </td><td>1.6                  </td><td>3.6                  </td><td>⋯                    </td><td>0.714                </td><td>0.3                  </td><td>2.3                  </td><td>1.3                  </td><td>2.1                  </td><td>3.4                  </td><td>0.9                  </td><td>0.3                  </td><td>0.4                  </td><td> 6.6                 </td></tr>\n",
       "\t<tr><td>13                   </td><td>Giannis Antetokounmpo</td><td>MIL                  </td><td>14                   </td><td>36.6                 </td><td>10.0                 </td><td>18.5                 </td><td>0.541                </td><td>0.9                  </td><td>2.2                  </td><td>⋯                    </td><td>0.773                </td><td>3.2                  </td><td>3.1                  </td><td>2.2                  </td><td>6.9                  </td><td>9.1                  </td><td>4.4                  </td><td>1.5                  </td><td>1.8                  </td><td>27.5                 </td></tr>\n",
       "\t<tr><td>14                   </td><td>Carmelo Anthony      </td><td>OKC                  </td><td>13                   </td><td>31.3                 </td><td> 4.9                 </td><td>12.7                 </td><td>0.388                </td><td>2.5                  </td><td>6.2                  </td><td>⋯                    </td><td>0.706                </td><td>1.3                  </td><td>1.9                  </td><td>1.2                  </td><td>4.2                  </td><td>5.4                  </td><td>1.2                  </td><td>0.7                  </td><td>0.8                  </td><td>13.3                 </td></tr>\n",
       "\t<tr><td>15                   </td><td>Ogugua Anunoby       </td><td>TOR                  </td><td> 8                   </td><td>16.1                 </td><td> 2.0                 </td><td> 3.6                 </td><td>0.552                </td><td>0.6                  </td><td>1.4                  </td><td>⋯                    </td><td>0.167                </td><td>0.8                  </td><td>2.0                  </td><td>0.2                  </td><td>1.4                  </td><td>1.6                  </td><td>0.8                  </td><td>0.4                  </td><td>0.2                  </td><td> 4.8                 </td></tr>\n",
       "\t<tr><td>16                   </td><td>Ryan Arcidiacono     </td><td>CHI                  </td><td> 5                   </td><td>10.0                 </td><td> 1.0                 </td><td> 1.8                 </td><td>0.556                </td><td>0.6                  </td><td>1.4                  </td><td>⋯                    </td><td>1.000                </td><td>0.2                  </td><td>0.0                  </td><td>0.0                  </td><td>0.6                  </td><td>0.6                  </td><td>1.0                  </td><td>0.6                  </td><td>0.0                  </td><td> 3.0                 </td></tr>\n",
       "\t<tr><td>17                   </td><td>Trevor Ariza         </td><td>HOU                  </td><td>15                   </td><td>32.6                 </td><td> 4.1                 </td><td>10.5                 </td><td>0.386                </td><td>2.3                  </td><td>6.8                  </td><td>⋯                    </td><td>0.870                </td><td>0.7                  </td><td>2.1                  </td><td>0.4                  </td><td>3.7                  </td><td>4.1                  </td><td>1.9                  </td><td>1.5                  </td><td>0.3                  </td><td>11.7                 </td></tr>\n",
       "\t<tr><td>18                   </td><td>Jamel Artis          </td><td>ORL                  </td><td> 4                   </td><td>14.6                 </td><td> 1.0                 </td><td> 2.5                 </td><td>0.400                </td><td>0.5                  </td><td>1.2                  </td><td>⋯                    </td><td>1.000                </td><td>0.2                  </td><td>1.2                  </td><td>0.2                  </td><td>2.0                  </td><td>2.2                  </td><td>1.8                  </td><td>0.0                  </td><td>0.2                  </td><td> 3.0                 </td></tr>\n",
       "\t<tr><td>19                   </td><td>D.J. Augustin        </td><td>ORL                  </td><td>14                   </td><td>31.4                 </td><td> 4.6                 </td><td> 9.6                 </td><td>0.485                </td><td>2.1                  </td><td>4.7                  </td><td>⋯                    </td><td>0.870                </td><td>2.4                  </td><td>1.6                  </td><td>0.6                  </td><td>2.4                  </td><td>3.0                  </td><td>5.7                  </td><td>0.6                  </td><td>0.0                  </td><td>14.2                 </td></tr>\n",
       "\t<tr><td>20                   </td><td>Luke Babbitt         </td><td>MIA                  </td><td> 8                   </td><td>11.0                 </td><td> 1.0                 </td><td> 3.8                 </td><td>0.267                </td><td>1.0                  </td><td>3.5                  </td><td>⋯                    </td><td>0.000                </td><td>0.2                  </td><td>0.4                  </td><td>0.0                  </td><td>0.6                  </td><td>0.6                  </td><td>0.2                  </td><td>0.1                  </td><td>0.2                  </td><td> 3.0                 </td></tr>\n",
       "\t<tr><td>21                   </td><td>Dwayne Bacon         </td><td>CHA                  </td><td>13                   </td><td>17.6                 </td><td> 2.2                 </td><td> 5.4                 </td><td>0.400                </td><td>0.1                  </td><td>0.8                  </td><td>⋯                    </td><td>0.909                </td><td>0.5                  </td><td>0.7                  </td><td>0.2                  </td><td>2.3                  </td><td>2.5                  </td><td>1.2                  </td><td>0.5                  </td><td>0.0                  </td><td> 5.2                 </td></tr>\n",
       "\t<tr><td>22                   </td><td>Lonzo Ball           </td><td>LAL                  </td><td>14                   </td><td>36.9                 </td><td> 3.9                 </td><td>10.9                 </td><td>0.353                </td><td>1.8                  </td><td>6.5                  </td><td>⋯                    </td><td>0.316                </td><td>2.4                  </td><td>2.6                  </td><td>1.4                  </td><td>5.0                  </td><td>6.4                  </td><td>7.9                  </td><td>2.1                  </td><td>0.8                  </td><td> 9.9                 </td></tr>\n",
       "\t<tr><td>23                   </td><td>J.J. Barea           </td><td>DAL                  </td><td>10                   </td><td>23.2                 </td><td> 5.0                 </td><td>10.8                 </td><td>0.463                </td><td>1.8                  </td><td>4.7                  </td><td>⋯                    </td><td>0.833                </td><td>2.9                  </td><td>0.6                  </td><td>0.4                  </td><td>2.3                  </td><td>2.7                  </td><td>6.5                  </td><td>0.4                  </td><td>0.0                  </td><td>12.3                 </td></tr>\n",
       "\t<tr><td>24                   </td><td>Harrison Barnes      </td><td>DAL                  </td><td>13                   </td><td>33.0                 </td><td> 7.5                 </td><td>17.2                 </td><td>0.433                </td><td>1.8                  </td><td>4.5                  </td><td>⋯                    </td><td>0.810                </td><td>1.5                  </td><td>1.3                  </td><td>0.8                  </td><td>4.5                  </td><td>5.3                  </td><td>2.5                  </td><td>0.5                  </td><td>0.1                  </td><td>20.7                 </td></tr>\n",
       "\t<tr><td>25                   </td><td>Will Barton          </td><td>DEN                  </td><td>15                   </td><td>33.2                 </td><td> 5.8                 </td><td>13.2                 </td><td>0.439                </td><td>2.1                  </td><td>5.5                  </td><td>⋯                    </td><td>0.902                </td><td>2.1                  </td><td>2.0                  </td><td>0.9                  </td><td>4.0                  </td><td>4.9                  </td><td>3.8                  </td><td>0.8                  </td><td>0.7                  </td><td>16.1                 </td></tr>\n",
       "\t<tr><td>26                   </td><td>Nicolas Batum        </td><td>CHA                  </td><td>11                   </td><td>32.7                 </td><td> 4.0                 </td><td> 9.1                 </td><td>0.440                </td><td>1.2                  </td><td>2.9                  </td><td>⋯                    </td><td>0.885                </td><td>1.9                  </td><td>0.9                  </td><td>1.1                  </td><td>5.5                  </td><td>6.6                  </td><td>7.0                  </td><td>0.9                  </td><td>0.5                  </td><td>11.3                 </td></tr>\n",
       "\t<tr><td>27                   </td><td>Aron Baynes          </td><td>BOS                  </td><td>13                   </td><td>19.7                 </td><td> 2.6                 </td><td> 5.6                 </td><td>0.466                </td><td>0.2                  </td><td>0.4                  </td><td>⋯                    </td><td>0.875                </td><td>1.3                  </td><td>2.9                  </td><td>1.8                  </td><td>3.7                  </td><td>5.5                  </td><td>1.9                  </td><td>0.2                  </td><td>0.4                  </td><td> 5.9                 </td></tr>\n",
       "\t<tr><td>28                   </td><td>Kent Bazemore        </td><td>ATL                  </td><td> 4                   </td><td>23.3                 </td><td> 5.0                 </td><td> 9.8                 </td><td>0.513                </td><td>2.2                  </td><td>4.0                  </td><td>⋯                    </td><td>0.800                </td><td>2.2                  </td><td>1.8                  </td><td>0.2                  </td><td>1.5                  </td><td>1.8                  </td><td>2.2                  </td><td>1.2                  </td><td>0.5                  </td><td>13.2                 </td></tr>\n",
       "\t<tr><td>29                   </td><td>Bradley Beal         </td><td>WAS                  </td><td>14                   </td><td>35.9                 </td><td> 7.6                 </td><td>16.4                 </td><td>0.465                </td><td>2.6                  </td><td>6.4                  </td><td>⋯                    </td><td>0.750                </td><td>3.1                  </td><td>1.9                  </td><td>0.6                  </td><td>3.3                  </td><td>3.9                  </td><td>5.0                  </td><td>1.1                  </td><td>0.3                  </td><td>20.0                 </td></tr>\n",
       "\t<tr><td>30                   </td><td>Malik Beasley        </td><td>DEN                  </td><td> 8                   </td><td> 6.7                 </td><td> 1.0                 </td><td> 2.1                 </td><td>0.471                </td><td>0.8                  </td><td>1.4                  </td><td>⋯                    </td><td>1.000                </td><td>0.2                  </td><td>0.2                  </td><td>0.1                  </td><td>0.5                  </td><td>0.6                  </td><td>0.4                  </td><td>0.1                  </td><td>0.1                  </td><td> 3.1                 </td></tr>\n",
       "\t<tr><td>⋮</td><td>⋮</td><td>⋮</td><td>⋮</td><td>⋮</td><td>⋮</td><td>⋮</td><td>⋮</td><td>⋮</td><td>⋮</td><td>⋱</td><td>⋮</td><td>⋮</td><td>⋮</td><td>⋮</td><td>⋮</td><td>⋮</td><td>⋮</td><td>⋮</td><td>⋮</td><td>⋮</td></tr>\n",
       "\t<tr><td>370               </td><td>Fred VanVleet     </td><td>TOR               </td><td>14                </td><td>24.8              </td><td> 3.9              </td><td> 9.1              </td><td>0.433             </td><td>2.1               </td><td>5.1               </td><td>⋯                 </td><td>0.759             </td><td>1.1               </td><td>1.9               </td><td>0.6               </td><td>2.0               </td><td> 2.6              </td><td>3.6               </td><td>0.9               </td><td>0.5               </td><td>11.5              </td></tr>\n",
       "\t<tr><td>371               </td><td>Noah Vonleh       </td><td>CHI               </td><td>14                </td><td>22.0              </td><td> 3.2              </td><td> 8.3              </td><td>0.388             </td><td>1.0               </td><td>3.6               </td><td>⋯                 </td><td>0.526             </td><td>0.6               </td><td>1.6               </td><td>2.4               </td><td>5.6               </td><td> 8.0              </td><td>1.1               </td><td>0.8               </td><td>0.3               </td><td> 8.1              </td></tr>\n",
       "\t<tr><td>372               </td><td>Nikola Vucevic    </td><td>ORL               </td><td>14                </td><td>31.0              </td><td> 7.4              </td><td>16.3              </td><td>0.452             </td><td>0.7               </td><td>3.1               </td><td>⋯                 </td><td>0.833             </td><td>2.2               </td><td>3.0               </td><td>2.0               </td><td>7.5               </td><td> 9.5              </td><td>3.5               </td><td>0.8               </td><td>0.8               </td><td>16.9              </td></tr>\n",
       "\t<tr><td>373               </td><td>Dwyane Wade       </td><td>MIA               </td><td>11                </td><td>22.5              </td><td> 5.2              </td><td>12.2              </td><td>0.425             </td><td>0.5               </td><td>2.0               </td><td>⋯                 </td><td>0.778             </td><td>2.1               </td><td>1.8               </td><td>0.3               </td><td>2.8               </td><td> 3.1              </td><td>3.3               </td><td>0.9               </td><td>0.7               </td><td>13.4              </td></tr>\n",
       "\t<tr><td>374               </td><td>Kemba Walker      </td><td>CHA               </td><td>15                </td><td>34.8              </td><td> 7.1              </td><td>16.6              </td><td>0.430             </td><td>3.1               </td><td>8.1               </td><td>⋯                 </td><td>0.895             </td><td>2.3               </td><td>1.1               </td><td>0.4               </td><td>2.7               </td><td> 3.1              </td><td>5.1               </td><td>1.1               </td><td>0.2               </td><td>21.9              </td></tr>\n",
       "\t<tr><td>375               </td><td>Tyrone Wallace    </td><td>LAC               </td><td> 3                </td><td>27.6              </td><td> 3.3              </td><td> 9.3              </td><td>0.357             </td><td>0.3               </td><td>1.0               </td><td>⋯                 </td><td>0.833             </td><td>2.0               </td><td>2.0               </td><td>0.7               </td><td>5.3               </td><td> 6.0              </td><td>1.0               </td><td>1.3               </td><td>0.7               </td><td> 8.7              </td></tr>\n",
       "\t<tr><td>376               </td><td>T.J. Warren       </td><td>PHX               </td><td> 6                </td><td>36.0              </td><td> 8.8              </td><td>17.7              </td><td>0.500             </td><td>0.5               </td><td>1.5               </td><td>⋯                 </td><td>0.846             </td><td>1.7               </td><td>2.8               </td><td>2.7               </td><td>2.5               </td><td> 5.2              </td><td>0.7               </td><td>0.7               </td><td>0.5               </td><td>20.0              </td></tr>\n",
       "\t<tr><td>377               </td><td>Travis Wear       </td><td>LAL               </td><td>13                </td><td>13.3              </td><td> 1.7              </td><td> 4.4              </td><td>0.386             </td><td>1.2               </td><td>3.2               </td><td>⋯                 </td><td>1.000             </td><td>0.3               </td><td>1.8               </td><td>0.0               </td><td>2.3               </td><td> 2.3              </td><td>0.3               </td><td>0.2               </td><td>0.3               </td><td> 5.2              </td></tr>\n",
       "\t<tr><td>378               </td><td>Briante Weber     </td><td>MEM               </td><td> 5                </td><td>23.8              </td><td> 2.0              </td><td> 4.2              </td><td>0.476             </td><td>0.0               </td><td>0.4               </td><td>⋯                 </td><td>0.667             </td><td>1.6               </td><td>2.0               </td><td>1.0               </td><td>2.4               </td><td> 3.4              </td><td>1.8               </td><td>1.6               </td><td>0.4               </td><td> 4.8              </td></tr>\n",
       "\t<tr><td>379               </td><td>David West        </td><td>GSW               </td><td> 9                </td><td>14.5              </td><td> 2.9              </td><td> 6.7              </td><td>0.433             </td><td>0.0               </td><td>0.1               </td><td>⋯                 </td><td>0.833             </td><td>1.6               </td><td>1.6               </td><td>0.6               </td><td>2.0               </td><td> 2.6              </td><td>1.7               </td><td>0.7               </td><td>0.7               </td><td> 6.9              </td></tr>\n",
       "\t<tr><td>380               </td><td>Russell Westbrook </td><td>OKC               </td><td>14                </td><td>36.8              </td><td>10.6              </td><td>21.2              </td><td>0.498             </td><td>1.1               </td><td>2.9               </td><td>⋯                 </td><td>0.721             </td><td>4.6               </td><td>3.0               </td><td>2.1               </td><td>8.1               </td><td>10.2              </td><td>9.3               </td><td>1.2               </td><td>0.4               </td><td>27.6              </td></tr>\n",
       "\t<tr><td>381               </td><td>Andrew White      </td><td>ATL               </td><td>11                </td><td>14.8              </td><td> 1.5              </td><td> 4.6              </td><td>0.333             </td><td>1.4               </td><td>3.1               </td><td>⋯                 </td><td>0.333             </td><td>0.5               </td><td>0.6               </td><td>0.2               </td><td>2.4               </td><td> 2.5              </td><td>0.4               </td><td>0.2               </td><td>0.1               </td><td> 4.5              </td></tr>\n",
       "\t<tr><td>382               </td><td>Hassan Whiteside  </td><td>MIA               </td><td> 7                </td><td>22.5              </td><td> 4.9              </td><td> 9.4              </td><td>0.515             </td><td>0.0               </td><td>0.0               </td><td>⋯                 </td><td>0.812             </td><td>2.3               </td><td>2.4               </td><td>3.1               </td><td>6.4               </td><td> 9.6              </td><td>1.4               </td><td>0.7               </td><td>1.6               </td><td>13.4              </td></tr>\n",
       "\t<tr><td>383               </td><td>Andrew Wiggins    </td><td>MIN               </td><td>13                </td><td>37.2              </td><td> 7.2              </td><td>16.6              </td><td>0.435             </td><td>1.5               </td><td>4.1               </td><td>⋯                 </td><td>0.685             </td><td>2.2               </td><td>2.6               </td><td>0.8               </td><td>4.0               </td><td> 4.8              </td><td>2.5               </td><td>1.2               </td><td>0.6               </td><td>18.8              </td></tr>\n",
       "\t<tr><td>384               </td><td>Alan Williams     </td><td>PHX               </td><td> 3                </td><td>16.6              </td><td> 1.3              </td><td> 3.7              </td><td>0.364             </td><td>0.0               </td><td>0.0               </td><td>⋯                 </td><td>0.571             </td><td>1.7               </td><td>3.7               </td><td>1.0               </td><td>4.0               </td><td> 5.0              </td><td>1.7               </td><td>1.0               </td><td>0.3               </td><td> 4.0              </td></tr>\n",
       "\t<tr><td>385               </td><td>C.J. Williams     </td><td>LAC               </td><td> 3                </td><td>16.2              </td><td> 2.0              </td><td> 5.0              </td><td>0.400             </td><td>0.3               </td><td>2.0               </td><td>⋯                 </td><td>1.000             </td><td>1.0               </td><td>2.0               </td><td>0.3               </td><td>0.7               </td><td> 1.0              </td><td>2.3               </td><td>1.3               </td><td>0.0               </td><td> 5.0              </td></tr>\n",
       "\t<tr><td>386               </td><td>Lou Williams      </td><td>LAC               </td><td>16                </td><td>33.7              </td><td> 7.4              </td><td>17.8              </td><td>0.414             </td><td>1.4               </td><td>4.8               </td><td>⋯                 </td><td>0.830             </td><td>3.1               </td><td>1.2               </td><td>0.6               </td><td>2.1               </td><td> 2.7              </td><td>5.4               </td><td>1.0               </td><td>0.3               </td><td>21.0              </td></tr>\n",
       "\t<tr><td>387               </td><td>Marvin Williams   </td><td>CHA               </td><td>15                </td><td>25.8              </td><td> 2.8              </td><td> 7.1              </td><td>0.393             </td><td>0.9               </td><td>3.8               </td><td>⋯                 </td><td>0.774             </td><td>0.8               </td><td>1.3               </td><td>0.9               </td><td>3.7               </td><td> 4.6              </td><td>1.3               </td><td>1.0               </td><td>0.6               </td><td> 8.1              </td></tr>\n",
       "\t<tr><td>388               </td><td>Troy Williams     </td><td>NYK               </td><td>14                </td><td>18.4              </td><td> 2.9              </td><td> 6.1              </td><td>0.471             </td><td>0.8               </td><td>2.0               </td><td>⋯                 </td><td>0.696             </td><td>1.1               </td><td>2.1               </td><td>1.4               </td><td>2.2               </td><td> 3.6              </td><td>1.1               </td><td>1.1               </td><td>0.2               </td><td> 7.6              </td></tr>\n",
       "\t<tr><td>389               </td><td>Justise Winslow   </td><td>MIA               </td><td>16                </td><td>28.3              </td><td> 4.4              </td><td> 9.4              </td><td>0.470             </td><td>1.2               </td><td>3.1               </td><td>⋯                 </td><td>0.559             </td><td>0.9               </td><td>2.4               </td><td>1.1               </td><td>5.1               </td><td> 6.2              </td><td>2.4               </td><td>1.1               </td><td>0.7               </td><td>11.3              </td></tr>\n",
       "\t<tr><td>390               </td><td>Delon Wright      </td><td>TOR               </td><td>15                </td><td>19.1              </td><td> 2.7              </td><td> 5.7              </td><td>0.477             </td><td>0.9               </td><td>2.2               </td><td>⋯                 </td><td>0.682             </td><td>0.9               </td><td>0.7               </td><td>0.7               </td><td>1.6               </td><td> 2.3              </td><td>3.1               </td><td>1.0               </td><td>0.4               </td><td> 7.3              </td></tr>\n",
       "\t<tr><td>391               </td><td>Guerschon Yabusele</td><td>BOS               </td><td> 7                </td><td> 9.2              </td><td> 0.7              </td><td> 1.6              </td><td>0.455             </td><td>0.3               </td><td>1.0               </td><td>⋯                 </td><td>0.750             </td><td>0.7               </td><td>1.0               </td><td>0.3               </td><td>1.0               </td><td> 1.3              </td><td>1.1               </td><td>0.1               </td><td>0.1               </td><td> 2.1              </td></tr>\n",
       "\t<tr><td>392               </td><td>Joe Young         </td><td>IND               </td><td> 6                </td><td> 8.0              </td><td> 1.2              </td><td> 3.7              </td><td>0.318             </td><td>0.2               </td><td>1.0               </td><td>⋯                 </td><td>1.000             </td><td>0.5               </td><td>0.7               </td><td>0.8               </td><td>1.0               </td><td> 1.8              </td><td>0.8               </td><td>0.5               </td><td>0.0               </td><td> 3.2              </td></tr>\n",
       "\t<tr><td>393               </td><td>Nick Young        </td><td>GSW               </td><td>14                </td><td>28.4              </td><td> 3.6              </td><td> 9.8              </td><td>0.365             </td><td>2.0               </td><td>6.0               </td><td>⋯                 </td><td>1.000             </td><td>0.9               </td><td>1.8               </td><td>0.4               </td><td>1.8               </td><td> 2.1              </td><td>0.8               </td><td>0.4               </td><td>0.1               </td><td>10.8              </td></tr>\n",
       "\t<tr><td>394               </td><td>Thaddeus Young    </td><td>IND               </td><td>15                </td><td>32.1              </td><td> 5.1              </td><td>10.6              </td><td>0.478             </td><td>0.4               </td><td>1.9               </td><td>⋯                 </td><td>0.667             </td><td>1.5               </td><td>2.4               </td><td>2.5               </td><td>4.7               </td><td> 7.2              </td><td>1.1               </td><td>2.0               </td><td>0.5               </td><td>11.5              </td></tr>\n",
       "\t<tr><td>395               </td><td>Cody Zeller       </td><td>CHA               </td><td> 3                </td><td>19.1              </td><td> 3.7              </td><td> 4.3              </td><td>0.846             </td><td>0.0               </td><td>0.0               </td><td>⋯                 </td><td>0.833             </td><td>0.3               </td><td>3.0               </td><td>1.0               </td><td>3.7               </td><td> 4.7              </td><td>0.7               </td><td>0.3               </td><td>0.0               </td><td> 9.0              </td></tr>\n",
       "\t<tr><td>396               </td><td>Tyler Zeller      </td><td>MIL               </td><td>10                </td><td>15.8              </td><td> 2.0              </td><td> 4.3              </td><td>0.465             </td><td>0.0               </td><td>0.0               </td><td>⋯                 </td><td>0.833             </td><td>0.4               </td><td>1.8               </td><td>1.4               </td><td>2.8               </td><td> 4.2              </td><td>1.2               </td><td>0.7               </td><td>0.7               </td><td> 5.0              </td></tr>\n",
       "\t<tr><td>397               </td><td>Paul Zipser       </td><td>CHI               </td><td> 5                </td><td>19.3              </td><td> 1.6              </td><td> 6.2              </td><td>0.258             </td><td>1.0               </td><td>3.6               </td><td>⋯                 </td><td>0.875             </td><td>0.8               </td><td>2.4               </td><td>0.4               </td><td>2.6               </td><td> 3.0              </td><td>1.4               </td><td>0.2               </td><td>0.6               </td><td> 5.6              </td></tr>\n",
       "\t<tr><td>398               </td><td>Ante Zizic        </td><td>CLE               </td><td>12                </td><td>11.3              </td><td> 2.9              </td><td> 3.7              </td><td>0.795             </td><td>0.0               </td><td>0.0               </td><td>⋯                 </td><td>0.769             </td><td>0.6               </td><td>1.8               </td><td>1.3               </td><td>1.7               </td><td> 3.0              </td><td>0.3               </td><td>0.1               </td><td>0.7               </td><td> 6.7              </td></tr>\n",
       "\t<tr><td>399               </td><td>Ivica Zubac       </td><td>LAL               </td><td>15                </td><td> 9.3              </td><td> 1.1              </td><td> 2.6              </td><td>0.410             </td><td>0.0               </td><td>0.0               </td><td>⋯                 </td><td>0.833             </td><td>0.5               </td><td>0.9               </td><td>1.0               </td><td>1.9               </td><td> 2.9              </td><td>0.6               </td><td>0.3               </td><td>0.4               </td><td> 3.5              </td></tr>\n",
       "</tbody>\n",
       "</table>\n"
      ],
      "text/latex": [
       "\\begin{tabular}{r|lllllllllllllllllllllll}\n",
       " \\# & Player & Team & GP & MPG & FGM & FGA & FG\\% & 3PM & 3PA & ⋯ & FT\\% & TOV & PF & ORB & DRB & RPG & APG & SPG & BPG & PPG\\\\\n",
       "\\hline\n",
       "\t  1                    & Alex Abrines          & OKC                   & 14                    &  9.9                  &  1.4                  &  2.7                  & 0.500                 & 1.2                   & 2.4                   & ⋯                     & 0.500                 & 0.1                   & 1.1                   & 0.1                   & 0.6                   & 0.7                   & 0.4                   & 0.4                   & 0.1                   &  4.0                 \\\\\n",
       "\t  2                    & Quincy Acy            & BRK                   &  9                    & 13.8                  &  2.0                  &  4.6                  & 0.439                 & 1.7                   & 3.9                   & ⋯                     & 1.000                 & 0.1                   & 2.2                   & 0.2                   & 1.4                   & 1.7                   & 0.8                   & 0.1                   & 0.7                   &  5.9                 \\\\\n",
       "\t  3                    & Steven Adams          & OKC                   & 13                    & 32.7                  &  5.9                  &  9.8                  & 0.602                 & 0.0                   & 0.0                   & ⋯                     & 0.525                 & 1.6                   & 2.6                   & 4.7                   & 4.2                   & 8.8                   & 1.7                   & 1.4                   & 1.2                   & 14.2                 \\\\\n",
       "\t  4                    & Bam Adebayo           & MIA                   & 13                    & 19.2                  &  2.3                  &  5.7                  & 0.405                 & 0.0                   & 0.1                   & ⋯                     & 0.593                 & 1.0                   & 2.2                   & 2.2                   & 3.9                   & 6.2                   & 1.1                   & 0.1                   & 0.3                   &  5.8                 \\\\\n",
       "\t  5                    & Arron Afflalo         & ORL                   &  6                    & 13.8                  &  1.3                  &  3.2                  & 0.421                 & 0.5                   & 1.3                   & ⋯                     & 1.000                 & 0.5                   & 0.8                   & 0.2                   & 0.7                   & 0.8                   & 0.7                   & 0.3                   & 0.3                   &  3.5                 \\\\\n",
       "\t  6                    & LaMarcus Aldridge     & SAS                   & 12                    & 32.0                  & 10.2                  & 19.1                  & 0.537                 & 0.2                   & 0.8                   & ⋯                     & 0.812                 & 1.8                   & 2.1                   & 3.2                   & 5.8                   & 9.0                   & 2.2                   & 0.4                   & 1.2                   & 26.1                 \\\\\n",
       "\t  7                    & Jarrett Allen         & BRK                   & 13                    & 23.2                  &  3.3                  &  5.8                  & 0.566                 & 0.0                   & 0.3                   & ⋯                     & 0.833                 & 1.9                   & 2.3                   & 2.8                   & 3.2                   & 6.1                   & 0.7                   & 0.3                   & 1.8                   &  8.9                 \\\\\n",
       "\t  8                    & Kadeem Allen          & BOS                   &  5                    &  2.4                  &  0.0                  &  0.0                  & 0.000                 & 0.0                   & 0.0                   & ⋯                     & 0.000                 & 0.2                   & 0.6                   & 0.0                   & 0.2                   & 0.2                   & 0.4                   & 0.0                   & 0.0                   &  0.0                 \\\\\n",
       "\t  9                    & Al-Farouq Aminu       & POR                   & 15                    & 30.0                  &  3.3                  &  8.7                  & 0.374                 & 1.7                   & 5.3                   & ⋯                     & 0.714                 & 1.4                   & 2.3                   & 1.9                   & 6.3                   & 8.2                   & 1.7                   & 1.8                   & 0.5                   &  9.3                 \\\\\n",
       "\t 10                    & Justin Anderson       & PHI                   &  7                    & 14.1                  &  2.1                  &  5.9                  & 0.366                 & 0.9                   & 3.3                   & ⋯                     & 1.000                 & 0.7                   & 1.6                   & 0.4                   & 2.1                   & 2.6                   & 1.1                   & 0.3                   & 0.0                   &  5.9                 \\\\\n",
       "\t 11                    & Kyle Anderson         & SAS                   & 14                    & 23.9                  &  2.9                  &  5.1                  & 0.577                 & 0.4                   & 0.9                   & ⋯                     & 0.609                 & 1.4                   & 1.6                   & 1.1                   & 3.6                   & 4.7                   & 2.8                   & 2.1                   & 0.4                   &  7.2                 \\\\\n",
       "\t 12                    & Ryan Anderson         & HOU                   &  7                    & 18.9                  &  2.1                  &  5.0                  & 0.429                 & 1.6                   & 3.6                   & ⋯                     & 0.714                 & 0.3                   & 2.3                   & 1.3                   & 2.1                   & 3.4                   & 0.9                   & 0.3                   & 0.4                   &  6.6                 \\\\\n",
       "\t 13                    & Giannis Antetokounmpo & MIL                   & 14                    & 36.6                  & 10.0                  & 18.5                  & 0.541                 & 0.9                   & 2.2                   & ⋯                     & 0.773                 & 3.2                   & 3.1                   & 2.2                   & 6.9                   & 9.1                   & 4.4                   & 1.5                   & 1.8                   & 27.5                 \\\\\n",
       "\t 14                    & Carmelo Anthony       & OKC                   & 13                    & 31.3                  &  4.9                  & 12.7                  & 0.388                 & 2.5                   & 6.2                   & ⋯                     & 0.706                 & 1.3                   & 1.9                   & 1.2                   & 4.2                   & 5.4                   & 1.2                   & 0.7                   & 0.8                   & 13.3                 \\\\\n",
       "\t 15                    & Ogugua Anunoby        & TOR                   &  8                    & 16.1                  &  2.0                  &  3.6                  & 0.552                 & 0.6                   & 1.4                   & ⋯                     & 0.167                 & 0.8                   & 2.0                   & 0.2                   & 1.4                   & 1.6                   & 0.8                   & 0.4                   & 0.2                   &  4.8                 \\\\\n",
       "\t 16                    & Ryan Arcidiacono      & CHI                   &  5                    & 10.0                  &  1.0                  &  1.8                  & 0.556                 & 0.6                   & 1.4                   & ⋯                     & 1.000                 & 0.2                   & 0.0                   & 0.0                   & 0.6                   & 0.6                   & 1.0                   & 0.6                   & 0.0                   &  3.0                 \\\\\n",
       "\t 17                    & Trevor Ariza          & HOU                   & 15                    & 32.6                  &  4.1                  & 10.5                  & 0.386                 & 2.3                   & 6.8                   & ⋯                     & 0.870                 & 0.7                   & 2.1                   & 0.4                   & 3.7                   & 4.1                   & 1.9                   & 1.5                   & 0.3                   & 11.7                 \\\\\n",
       "\t 18                    & Jamel Artis           & ORL                   &  4                    & 14.6                  &  1.0                  &  2.5                  & 0.400                 & 0.5                   & 1.2                   & ⋯                     & 1.000                 & 0.2                   & 1.2                   & 0.2                   & 2.0                   & 2.2                   & 1.8                   & 0.0                   & 0.2                   &  3.0                 \\\\\n",
       "\t 19                    & D.J. Augustin         & ORL                   & 14                    & 31.4                  &  4.6                  &  9.6                  & 0.485                 & 2.1                   & 4.7                   & ⋯                     & 0.870                 & 2.4                   & 1.6                   & 0.6                   & 2.4                   & 3.0                   & 5.7                   & 0.6                   & 0.0                   & 14.2                 \\\\\n",
       "\t 20                    & Luke Babbitt          & MIA                   &  8                    & 11.0                  &  1.0                  &  3.8                  & 0.267                 & 1.0                   & 3.5                   & ⋯                     & 0.000                 & 0.2                   & 0.4                   & 0.0                   & 0.6                   & 0.6                   & 0.2                   & 0.1                   & 0.2                   &  3.0                 \\\\\n",
       "\t 21                    & Dwayne Bacon          & CHA                   & 13                    & 17.6                  &  2.2                  &  5.4                  & 0.400                 & 0.1                   & 0.8                   & ⋯                     & 0.909                 & 0.5                   & 0.7                   & 0.2                   & 2.3                   & 2.5                   & 1.2                   & 0.5                   & 0.0                   &  5.2                 \\\\\n",
       "\t 22                    & Lonzo Ball            & LAL                   & 14                    & 36.9                  &  3.9                  & 10.9                  & 0.353                 & 1.8                   & 6.5                   & ⋯                     & 0.316                 & 2.4                   & 2.6                   & 1.4                   & 5.0                   & 6.4                   & 7.9                   & 2.1                   & 0.8                   &  9.9                 \\\\\n",
       "\t 23                    & J.J. Barea            & DAL                   & 10                    & 23.2                  &  5.0                  & 10.8                  & 0.463                 & 1.8                   & 4.7                   & ⋯                     & 0.833                 & 2.9                   & 0.6                   & 0.4                   & 2.3                   & 2.7                   & 6.5                   & 0.4                   & 0.0                   & 12.3                 \\\\\n",
       "\t 24                    & Harrison Barnes       & DAL                   & 13                    & 33.0                  &  7.5                  & 17.2                  & 0.433                 & 1.8                   & 4.5                   & ⋯                     & 0.810                 & 1.5                   & 1.3                   & 0.8                   & 4.5                   & 5.3                   & 2.5                   & 0.5                   & 0.1                   & 20.7                 \\\\\n",
       "\t 25                    & Will Barton           & DEN                   & 15                    & 33.2                  &  5.8                  & 13.2                  & 0.439                 & 2.1                   & 5.5                   & ⋯                     & 0.902                 & 2.1                   & 2.0                   & 0.9                   & 4.0                   & 4.9                   & 3.8                   & 0.8                   & 0.7                   & 16.1                 \\\\\n",
       "\t 26                    & Nicolas Batum         & CHA                   & 11                    & 32.7                  &  4.0                  &  9.1                  & 0.440                 & 1.2                   & 2.9                   & ⋯                     & 0.885                 & 1.9                   & 0.9                   & 1.1                   & 5.5                   & 6.6                   & 7.0                   & 0.9                   & 0.5                   & 11.3                 \\\\\n",
       "\t 27                    & Aron Baynes           & BOS                   & 13                    & 19.7                  &  2.6                  &  5.6                  & 0.466                 & 0.2                   & 0.4                   & ⋯                     & 0.875                 & 1.3                   & 2.9                   & 1.8                   & 3.7                   & 5.5                   & 1.9                   & 0.2                   & 0.4                   &  5.9                 \\\\\n",
       "\t 28                    & Kent Bazemore         & ATL                   &  4                    & 23.3                  &  5.0                  &  9.8                  & 0.513                 & 2.2                   & 4.0                   & ⋯                     & 0.800                 & 2.2                   & 1.8                   & 0.2                   & 1.5                   & 1.8                   & 2.2                   & 1.2                   & 0.5                   & 13.2                 \\\\\n",
       "\t 29                    & Bradley Beal          & WAS                   & 14                    & 35.9                  &  7.6                  & 16.4                  & 0.465                 & 2.6                   & 6.4                   & ⋯                     & 0.750                 & 3.1                   & 1.9                   & 0.6                   & 3.3                   & 3.9                   & 5.0                   & 1.1                   & 0.3                   & 20.0                 \\\\\n",
       "\t 30                    & Malik Beasley         & DEN                   &  8                    &  6.7                  &  1.0                  &  2.1                  & 0.471                 & 0.8                   & 1.4                   & ⋯                     & 1.000                 & 0.2                   & 0.2                   & 0.1                   & 0.5                   & 0.6                   & 0.4                   & 0.1                   & 0.1                   &  3.1                 \\\\\n",
       "\t ⋮ & ⋮ & ⋮ & ⋮ & ⋮ & ⋮ & ⋮ & ⋮ & ⋮ & ⋮ & ⋱ & ⋮ & ⋮ & ⋮ & ⋮ & ⋮ & ⋮ & ⋮ & ⋮ & ⋮ & ⋮\\\\\n",
       "\t 370                & Fred VanVleet      & TOR                & 14                 & 24.8               &  3.9               &  9.1               & 0.433              & 2.1                & 5.1                & ⋯                  & 0.759              & 1.1                & 1.9                & 0.6                & 2.0                &  2.6               & 3.6                & 0.9                & 0.5                & 11.5              \\\\\n",
       "\t 371                & Noah Vonleh        & CHI                & 14                 & 22.0               &  3.2               &  8.3               & 0.388              & 1.0                & 3.6                & ⋯                  & 0.526              & 0.6                & 1.6                & 2.4                & 5.6                &  8.0               & 1.1                & 0.8                & 0.3                &  8.1              \\\\\n",
       "\t 372                & Nikola Vucevic     & ORL                & 14                 & 31.0               &  7.4               & 16.3               & 0.452              & 0.7                & 3.1                & ⋯                  & 0.833              & 2.2                & 3.0                & 2.0                & 7.5                &  9.5               & 3.5                & 0.8                & 0.8                & 16.9              \\\\\n",
       "\t 373                & Dwyane Wade        & MIA                & 11                 & 22.5               &  5.2               & 12.2               & 0.425              & 0.5                & 2.0                & ⋯                  & 0.778              & 2.1                & 1.8                & 0.3                & 2.8                &  3.1               & 3.3                & 0.9                & 0.7                & 13.4              \\\\\n",
       "\t 374                & Kemba Walker       & CHA                & 15                 & 34.8               &  7.1               & 16.6               & 0.430              & 3.1                & 8.1                & ⋯                  & 0.895              & 2.3                & 1.1                & 0.4                & 2.7                &  3.1               & 5.1                & 1.1                & 0.2                & 21.9              \\\\\n",
       "\t 375                & Tyrone Wallace     & LAC                &  3                 & 27.6               &  3.3               &  9.3               & 0.357              & 0.3                & 1.0                & ⋯                  & 0.833              & 2.0                & 2.0                & 0.7                & 5.3                &  6.0               & 1.0                & 1.3                & 0.7                &  8.7              \\\\\n",
       "\t 376                & T.J. Warren        & PHX                &  6                 & 36.0               &  8.8               & 17.7               & 0.500              & 0.5                & 1.5                & ⋯                  & 0.846              & 1.7                & 2.8                & 2.7                & 2.5                &  5.2               & 0.7                & 0.7                & 0.5                & 20.0              \\\\\n",
       "\t 377                & Travis Wear        & LAL                & 13                 & 13.3               &  1.7               &  4.4               & 0.386              & 1.2                & 3.2                & ⋯                  & 1.000              & 0.3                & 1.8                & 0.0                & 2.3                &  2.3               & 0.3                & 0.2                & 0.3                &  5.2              \\\\\n",
       "\t 378                & Briante Weber      & MEM                &  5                 & 23.8               &  2.0               &  4.2               & 0.476              & 0.0                & 0.4                & ⋯                  & 0.667              & 1.6                & 2.0                & 1.0                & 2.4                &  3.4               & 1.8                & 1.6                & 0.4                &  4.8              \\\\\n",
       "\t 379                & David West         & GSW                &  9                 & 14.5               &  2.9               &  6.7               & 0.433              & 0.0                & 0.1                & ⋯                  & 0.833              & 1.6                & 1.6                & 0.6                & 2.0                &  2.6               & 1.7                & 0.7                & 0.7                &  6.9              \\\\\n",
       "\t 380                & Russell Westbrook  & OKC                & 14                 & 36.8               & 10.6               & 21.2               & 0.498              & 1.1                & 2.9                & ⋯                  & 0.721              & 4.6                & 3.0                & 2.1                & 8.1                & 10.2               & 9.3                & 1.2                & 0.4                & 27.6              \\\\\n",
       "\t 381                & Andrew White       & ATL                & 11                 & 14.8               &  1.5               &  4.6               & 0.333              & 1.4                & 3.1                & ⋯                  & 0.333              & 0.5                & 0.6                & 0.2                & 2.4                &  2.5               & 0.4                & 0.2                & 0.1                &  4.5              \\\\\n",
       "\t 382                & Hassan Whiteside   & MIA                &  7                 & 22.5               &  4.9               &  9.4               & 0.515              & 0.0                & 0.0                & ⋯                  & 0.812              & 2.3                & 2.4                & 3.1                & 6.4                &  9.6               & 1.4                & 0.7                & 1.6                & 13.4              \\\\\n",
       "\t 383                & Andrew Wiggins     & MIN                & 13                 & 37.2               &  7.2               & 16.6               & 0.435              & 1.5                & 4.1                & ⋯                  & 0.685              & 2.2                & 2.6                & 0.8                & 4.0                &  4.8               & 2.5                & 1.2                & 0.6                & 18.8              \\\\\n",
       "\t 384                & Alan Williams      & PHX                &  3                 & 16.6               &  1.3               &  3.7               & 0.364              & 0.0                & 0.0                & ⋯                  & 0.571              & 1.7                & 3.7                & 1.0                & 4.0                &  5.0               & 1.7                & 1.0                & 0.3                &  4.0              \\\\\n",
       "\t 385                & C.J. Williams      & LAC                &  3                 & 16.2               &  2.0               &  5.0               & 0.400              & 0.3                & 2.0                & ⋯                  & 1.000              & 1.0                & 2.0                & 0.3                & 0.7                &  1.0               & 2.3                & 1.3                & 0.0                &  5.0              \\\\\n",
       "\t 386                & Lou Williams       & LAC                & 16                 & 33.7               &  7.4               & 17.8               & 0.414              & 1.4                & 4.8                & ⋯                  & 0.830              & 3.1                & 1.2                & 0.6                & 2.1                &  2.7               & 5.4                & 1.0                & 0.3                & 21.0              \\\\\n",
       "\t 387                & Marvin Williams    & CHA                & 15                 & 25.8               &  2.8               &  7.1               & 0.393              & 0.9                & 3.8                & ⋯                  & 0.774              & 0.8                & 1.3                & 0.9                & 3.7                &  4.6               & 1.3                & 1.0                & 0.6                &  8.1              \\\\\n",
       "\t 388                & Troy Williams      & NYK                & 14                 & 18.4               &  2.9               &  6.1               & 0.471              & 0.8                & 2.0                & ⋯                  & 0.696              & 1.1                & 2.1                & 1.4                & 2.2                &  3.6               & 1.1                & 1.1                & 0.2                &  7.6              \\\\\n",
       "\t 389                & Justise Winslow    & MIA                & 16                 & 28.3               &  4.4               &  9.4               & 0.470              & 1.2                & 3.1                & ⋯                  & 0.559              & 0.9                & 2.4                & 1.1                & 5.1                &  6.2               & 2.4                & 1.1                & 0.7                & 11.3              \\\\\n",
       "\t 390                & Delon Wright       & TOR                & 15                 & 19.1               &  2.7               &  5.7               & 0.477              & 0.9                & 2.2                & ⋯                  & 0.682              & 0.9                & 0.7                & 0.7                & 1.6                &  2.3               & 3.1                & 1.0                & 0.4                &  7.3              \\\\\n",
       "\t 391                & Guerschon Yabusele & BOS                &  7                 &  9.2               &  0.7               &  1.6               & 0.455              & 0.3                & 1.0                & ⋯                  & 0.750              & 0.7                & 1.0                & 0.3                & 1.0                &  1.3               & 1.1                & 0.1                & 0.1                &  2.1              \\\\\n",
       "\t 392                & Joe Young          & IND                &  6                 &  8.0               &  1.2               &  3.7               & 0.318              & 0.2                & 1.0                & ⋯                  & 1.000              & 0.5                & 0.7                & 0.8                & 1.0                &  1.8               & 0.8                & 0.5                & 0.0                &  3.2              \\\\\n",
       "\t 393                & Nick Young         & GSW                & 14                 & 28.4               &  3.6               &  9.8               & 0.365              & 2.0                & 6.0                & ⋯                  & 1.000              & 0.9                & 1.8                & 0.4                & 1.8                &  2.1               & 0.8                & 0.4                & 0.1                & 10.8              \\\\\n",
       "\t 394                & Thaddeus Young     & IND                & 15                 & 32.1               &  5.1               & 10.6               & 0.478              & 0.4                & 1.9                & ⋯                  & 0.667              & 1.5                & 2.4                & 2.5                & 4.7                &  7.2               & 1.1                & 2.0                & 0.5                & 11.5              \\\\\n",
       "\t 395                & Cody Zeller        & CHA                &  3                 & 19.1               &  3.7               &  4.3               & 0.846              & 0.0                & 0.0                & ⋯                  & 0.833              & 0.3                & 3.0                & 1.0                & 3.7                &  4.7               & 0.7                & 0.3                & 0.0                &  9.0              \\\\\n",
       "\t 396                & Tyler Zeller       & MIL                & 10                 & 15.8               &  2.0               &  4.3               & 0.465              & 0.0                & 0.0                & ⋯                  & 0.833              & 0.4                & 1.8                & 1.4                & 2.8                &  4.2               & 1.2                & 0.7                & 0.7                &  5.0              \\\\\n",
       "\t 397                & Paul Zipser        & CHI                &  5                 & 19.3               &  1.6               &  6.2               & 0.258              & 1.0                & 3.6                & ⋯                  & 0.875              & 0.8                & 2.4                & 0.4                & 2.6                &  3.0               & 1.4                & 0.2                & 0.6                &  5.6              \\\\\n",
       "\t 398                & Ante Zizic         & CLE                & 12                 & 11.3               &  2.9               &  3.7               & 0.795              & 0.0                & 0.0                & ⋯                  & 0.769              & 0.6                & 1.8                & 1.3                & 1.7                &  3.0               & 0.3                & 0.1                & 0.7                &  6.7              \\\\\n",
       "\t 399                & Ivica Zubac        & LAL                & 15                 &  9.3               &  1.1               &  2.6               & 0.410              & 0.0                & 0.0                & ⋯                  & 0.833              & 0.5                & 0.9                & 1.0                & 1.9                &  2.9               & 0.6                & 0.3                & 0.4                &  3.5              \\\\\n",
       "\\end{tabular}\n"
      ],
      "text/markdown": [
       "\n",
       "# | Player | Team | GP | MPG | FGM | FGA | FG% | 3PM | 3PA | ⋯ | FT% | TOV | PF | ORB | DRB | RPG | APG | SPG | BPG | PPG | \n",
       "|---|---|---|---|---|---|---|---|---|---|---|---|---|---|---|---|---|---|---|---|---|---|---|---|---|---|---|---|---|---|---|---|---|---|---|---|---|---|---|---|---|---|---|---|---|---|---|---|---|---|---|---|---|---|---|---|---|---|---|---|---|\n",
       "|  1                    | Alex Abrines          | OKC                   | 14                    |  9.9                  |  1.4                  |  2.7                  | 0.500                 | 1.2                   | 2.4                   | ⋯                     | 0.500                 | 0.1                   | 1.1                   | 0.1                   | 0.6                   | 0.7                   | 0.4                   | 0.4                   | 0.1                   |  4.0                  | \n",
       "|  2                    | Quincy Acy            | BRK                   |  9                    | 13.8                  |  2.0                  |  4.6                  | 0.439                 | 1.7                   | 3.9                   | ⋯                     | 1.000                 | 0.1                   | 2.2                   | 0.2                   | 1.4                   | 1.7                   | 0.8                   | 0.1                   | 0.7                   |  5.9                  | \n",
       "|  3                    | Steven Adams          | OKC                   | 13                    | 32.7                  |  5.9                  |  9.8                  | 0.602                 | 0.0                   | 0.0                   | ⋯                     | 0.525                 | 1.6                   | 2.6                   | 4.7                   | 4.2                   | 8.8                   | 1.7                   | 1.4                   | 1.2                   | 14.2                  | \n",
       "|  4                    | Bam Adebayo           | MIA                   | 13                    | 19.2                  |  2.3                  |  5.7                  | 0.405                 | 0.0                   | 0.1                   | ⋯                     | 0.593                 | 1.0                   | 2.2                   | 2.2                   | 3.9                   | 6.2                   | 1.1                   | 0.1                   | 0.3                   |  5.8                  | \n",
       "|  5                    | Arron Afflalo         | ORL                   |  6                    | 13.8                  |  1.3                  |  3.2                  | 0.421                 | 0.5                   | 1.3                   | ⋯                     | 1.000                 | 0.5                   | 0.8                   | 0.2                   | 0.7                   | 0.8                   | 0.7                   | 0.3                   | 0.3                   |  3.5                  | \n",
       "|  6                    | LaMarcus Aldridge     | SAS                   | 12                    | 32.0                  | 10.2                  | 19.1                  | 0.537                 | 0.2                   | 0.8                   | ⋯                     | 0.812                 | 1.8                   | 2.1                   | 3.2                   | 5.8                   | 9.0                   | 2.2                   | 0.4                   | 1.2                   | 26.1                  | \n",
       "|  7                    | Jarrett Allen         | BRK                   | 13                    | 23.2                  |  3.3                  |  5.8                  | 0.566                 | 0.0                   | 0.3                   | ⋯                     | 0.833                 | 1.9                   | 2.3                   | 2.8                   | 3.2                   | 6.1                   | 0.7                   | 0.3                   | 1.8                   |  8.9                  | \n",
       "|  8                    | Kadeem Allen          | BOS                   |  5                    |  2.4                  |  0.0                  |  0.0                  | 0.000                 | 0.0                   | 0.0                   | ⋯                     | 0.000                 | 0.2                   | 0.6                   | 0.0                   | 0.2                   | 0.2                   | 0.4                   | 0.0                   | 0.0                   |  0.0                  | \n",
       "|  9                    | Al-Farouq Aminu       | POR                   | 15                    | 30.0                  |  3.3                  |  8.7                  | 0.374                 | 1.7                   | 5.3                   | ⋯                     | 0.714                 | 1.4                   | 2.3                   | 1.9                   | 6.3                   | 8.2                   | 1.7                   | 1.8                   | 0.5                   |  9.3                  | \n",
       "| 10                    | Justin Anderson       | PHI                   |  7                    | 14.1                  |  2.1                  |  5.9                  | 0.366                 | 0.9                   | 3.3                   | ⋯                     | 1.000                 | 0.7                   | 1.6                   | 0.4                   | 2.1                   | 2.6                   | 1.1                   | 0.3                   | 0.0                   |  5.9                  | \n",
       "| 11                    | Kyle Anderson         | SAS                   | 14                    | 23.9                  |  2.9                  |  5.1                  | 0.577                 | 0.4                   | 0.9                   | ⋯                     | 0.609                 | 1.4                   | 1.6                   | 1.1                   | 3.6                   | 4.7                   | 2.8                   | 2.1                   | 0.4                   |  7.2                  | \n",
       "| 12                    | Ryan Anderson         | HOU                   |  7                    | 18.9                  |  2.1                  |  5.0                  | 0.429                 | 1.6                   | 3.6                   | ⋯                     | 0.714                 | 0.3                   | 2.3                   | 1.3                   | 2.1                   | 3.4                   | 0.9                   | 0.3                   | 0.4                   |  6.6                  | \n",
       "| 13                    | Giannis Antetokounmpo | MIL                   | 14                    | 36.6                  | 10.0                  | 18.5                  | 0.541                 | 0.9                   | 2.2                   | ⋯                     | 0.773                 | 3.2                   | 3.1                   | 2.2                   | 6.9                   | 9.1                   | 4.4                   | 1.5                   | 1.8                   | 27.5                  | \n",
       "| 14                    | Carmelo Anthony       | OKC                   | 13                    | 31.3                  |  4.9                  | 12.7                  | 0.388                 | 2.5                   | 6.2                   | ⋯                     | 0.706                 | 1.3                   | 1.9                   | 1.2                   | 4.2                   | 5.4                   | 1.2                   | 0.7                   | 0.8                   | 13.3                  | \n",
       "| 15                    | Ogugua Anunoby        | TOR                   |  8                    | 16.1                  |  2.0                  |  3.6                  | 0.552                 | 0.6                   | 1.4                   | ⋯                     | 0.167                 | 0.8                   | 2.0                   | 0.2                   | 1.4                   | 1.6                   | 0.8                   | 0.4                   | 0.2                   |  4.8                  | \n",
       "| 16                    | Ryan Arcidiacono      | CHI                   |  5                    | 10.0                  |  1.0                  |  1.8                  | 0.556                 | 0.6                   | 1.4                   | ⋯                     | 1.000                 | 0.2                   | 0.0                   | 0.0                   | 0.6                   | 0.6                   | 1.0                   | 0.6                   | 0.0                   |  3.0                  | \n",
       "| 17                    | Trevor Ariza          | HOU                   | 15                    | 32.6                  |  4.1                  | 10.5                  | 0.386                 | 2.3                   | 6.8                   | ⋯                     | 0.870                 | 0.7                   | 2.1                   | 0.4                   | 3.7                   | 4.1                   | 1.9                   | 1.5                   | 0.3                   | 11.7                  | \n",
       "| 18                    | Jamel Artis           | ORL                   |  4                    | 14.6                  |  1.0                  |  2.5                  | 0.400                 | 0.5                   | 1.2                   | ⋯                     | 1.000                 | 0.2                   | 1.2                   | 0.2                   | 2.0                   | 2.2                   | 1.8                   | 0.0                   | 0.2                   |  3.0                  | \n",
       "| 19                    | D.J. Augustin         | ORL                   | 14                    | 31.4                  |  4.6                  |  9.6                  | 0.485                 | 2.1                   | 4.7                   | ⋯                     | 0.870                 | 2.4                   | 1.6                   | 0.6                   | 2.4                   | 3.0                   | 5.7                   | 0.6                   | 0.0                   | 14.2                  | \n",
       "| 20                    | Luke Babbitt          | MIA                   |  8                    | 11.0                  |  1.0                  |  3.8                  | 0.267                 | 1.0                   | 3.5                   | ⋯                     | 0.000                 | 0.2                   | 0.4                   | 0.0                   | 0.6                   | 0.6                   | 0.2                   | 0.1                   | 0.2                   |  3.0                  | \n",
       "| 21                    | Dwayne Bacon          | CHA                   | 13                    | 17.6                  |  2.2                  |  5.4                  | 0.400                 | 0.1                   | 0.8                   | ⋯                     | 0.909                 | 0.5                   | 0.7                   | 0.2                   | 2.3                   | 2.5                   | 1.2                   | 0.5                   | 0.0                   |  5.2                  | \n",
       "| 22                    | Lonzo Ball            | LAL                   | 14                    | 36.9                  |  3.9                  | 10.9                  | 0.353                 | 1.8                   | 6.5                   | ⋯                     | 0.316                 | 2.4                   | 2.6                   | 1.4                   | 5.0                   | 6.4                   | 7.9                   | 2.1                   | 0.8                   |  9.9                  | \n",
       "| 23                    | J.J. Barea            | DAL                   | 10                    | 23.2                  |  5.0                  | 10.8                  | 0.463                 | 1.8                   | 4.7                   | ⋯                     | 0.833                 | 2.9                   | 0.6                   | 0.4                   | 2.3                   | 2.7                   | 6.5                   | 0.4                   | 0.0                   | 12.3                  | \n",
       "| 24                    | Harrison Barnes       | DAL                   | 13                    | 33.0                  |  7.5                  | 17.2                  | 0.433                 | 1.8                   | 4.5                   | ⋯                     | 0.810                 | 1.5                   | 1.3                   | 0.8                   | 4.5                   | 5.3                   | 2.5                   | 0.5                   | 0.1                   | 20.7                  | \n",
       "| 25                    | Will Barton           | DEN                   | 15                    | 33.2                  |  5.8                  | 13.2                  | 0.439                 | 2.1                   | 5.5                   | ⋯                     | 0.902                 | 2.1                   | 2.0                   | 0.9                   | 4.0                   | 4.9                   | 3.8                   | 0.8                   | 0.7                   | 16.1                  | \n",
       "| 26                    | Nicolas Batum         | CHA                   | 11                    | 32.7                  |  4.0                  |  9.1                  | 0.440                 | 1.2                   | 2.9                   | ⋯                     | 0.885                 | 1.9                   | 0.9                   | 1.1                   | 5.5                   | 6.6                   | 7.0                   | 0.9                   | 0.5                   | 11.3                  | \n",
       "| 27                    | Aron Baynes           | BOS                   | 13                    | 19.7                  |  2.6                  |  5.6                  | 0.466                 | 0.2                   | 0.4                   | ⋯                     | 0.875                 | 1.3                   | 2.9                   | 1.8                   | 3.7                   | 5.5                   | 1.9                   | 0.2                   | 0.4                   |  5.9                  | \n",
       "| 28                    | Kent Bazemore         | ATL                   |  4                    | 23.3                  |  5.0                  |  9.8                  | 0.513                 | 2.2                   | 4.0                   | ⋯                     | 0.800                 | 2.2                   | 1.8                   | 0.2                   | 1.5                   | 1.8                   | 2.2                   | 1.2                   | 0.5                   | 13.2                  | \n",
       "| 29                    | Bradley Beal          | WAS                   | 14                    | 35.9                  |  7.6                  | 16.4                  | 0.465                 | 2.6                   | 6.4                   | ⋯                     | 0.750                 | 3.1                   | 1.9                   | 0.6                   | 3.3                   | 3.9                   | 5.0                   | 1.1                   | 0.3                   | 20.0                  | \n",
       "| 30                    | Malik Beasley         | DEN                   |  8                    |  6.7                  |  1.0                  |  2.1                  | 0.471                 | 0.8                   | 1.4                   | ⋯                     | 1.000                 | 0.2                   | 0.2                   | 0.1                   | 0.5                   | 0.6                   | 0.4                   | 0.1                   | 0.1                   |  3.1                  | \n",
       "| ⋮ | ⋮ | ⋮ | ⋮ | ⋮ | ⋮ | ⋮ | ⋮ | ⋮ | ⋮ | ⋱ | ⋮ | ⋮ | ⋮ | ⋮ | ⋮ | ⋮ | ⋮ | ⋮ | ⋮ | ⋮ | \n",
       "| 370                | Fred VanVleet      | TOR                | 14                 | 24.8               |  3.9               |  9.1               | 0.433              | 2.1                | 5.1                | ⋯                  | 0.759              | 1.1                | 1.9                | 0.6                | 2.0                |  2.6               | 3.6                | 0.9                | 0.5                | 11.5               | \n",
       "| 371                | Noah Vonleh        | CHI                | 14                 | 22.0               |  3.2               |  8.3               | 0.388              | 1.0                | 3.6                | ⋯                  | 0.526              | 0.6                | 1.6                | 2.4                | 5.6                |  8.0               | 1.1                | 0.8                | 0.3                |  8.1               | \n",
       "| 372                | Nikola Vucevic     | ORL                | 14                 | 31.0               |  7.4               | 16.3               | 0.452              | 0.7                | 3.1                | ⋯                  | 0.833              | 2.2                | 3.0                | 2.0                | 7.5                |  9.5               | 3.5                | 0.8                | 0.8                | 16.9               | \n",
       "| 373                | Dwyane Wade        | MIA                | 11                 | 22.5               |  5.2               | 12.2               | 0.425              | 0.5                | 2.0                | ⋯                  | 0.778              | 2.1                | 1.8                | 0.3                | 2.8                |  3.1               | 3.3                | 0.9                | 0.7                | 13.4               | \n",
       "| 374                | Kemba Walker       | CHA                | 15                 | 34.8               |  7.1               | 16.6               | 0.430              | 3.1                | 8.1                | ⋯                  | 0.895              | 2.3                | 1.1                | 0.4                | 2.7                |  3.1               | 5.1                | 1.1                | 0.2                | 21.9               | \n",
       "| 375                | Tyrone Wallace     | LAC                |  3                 | 27.6               |  3.3               |  9.3               | 0.357              | 0.3                | 1.0                | ⋯                  | 0.833              | 2.0                | 2.0                | 0.7                | 5.3                |  6.0               | 1.0                | 1.3                | 0.7                |  8.7               | \n",
       "| 376                | T.J. Warren        | PHX                |  6                 | 36.0               |  8.8               | 17.7               | 0.500              | 0.5                | 1.5                | ⋯                  | 0.846              | 1.7                | 2.8                | 2.7                | 2.5                |  5.2               | 0.7                | 0.7                | 0.5                | 20.0               | \n",
       "| 377                | Travis Wear        | LAL                | 13                 | 13.3               |  1.7               |  4.4               | 0.386              | 1.2                | 3.2                | ⋯                  | 1.000              | 0.3                | 1.8                | 0.0                | 2.3                |  2.3               | 0.3                | 0.2                | 0.3                |  5.2               | \n",
       "| 378                | Briante Weber      | MEM                |  5                 | 23.8               |  2.0               |  4.2               | 0.476              | 0.0                | 0.4                | ⋯                  | 0.667              | 1.6                | 2.0                | 1.0                | 2.4                |  3.4               | 1.8                | 1.6                | 0.4                |  4.8               | \n",
       "| 379                | David West         | GSW                |  9                 | 14.5               |  2.9               |  6.7               | 0.433              | 0.0                | 0.1                | ⋯                  | 0.833              | 1.6                | 1.6                | 0.6                | 2.0                |  2.6               | 1.7                | 0.7                | 0.7                |  6.9               | \n",
       "| 380                | Russell Westbrook  | OKC                | 14                 | 36.8               | 10.6               | 21.2               | 0.498              | 1.1                | 2.9                | ⋯                  | 0.721              | 4.6                | 3.0                | 2.1                | 8.1                | 10.2               | 9.3                | 1.2                | 0.4                | 27.6               | \n",
       "| 381                | Andrew White       | ATL                | 11                 | 14.8               |  1.5               |  4.6               | 0.333              | 1.4                | 3.1                | ⋯                  | 0.333              | 0.5                | 0.6                | 0.2                | 2.4                |  2.5               | 0.4                | 0.2                | 0.1                |  4.5               | \n",
       "| 382                | Hassan Whiteside   | MIA                |  7                 | 22.5               |  4.9               |  9.4               | 0.515              | 0.0                | 0.0                | ⋯                  | 0.812              | 2.3                | 2.4                | 3.1                | 6.4                |  9.6               | 1.4                | 0.7                | 1.6                | 13.4               | \n",
       "| 383                | Andrew Wiggins     | MIN                | 13                 | 37.2               |  7.2               | 16.6               | 0.435              | 1.5                | 4.1                | ⋯                  | 0.685              | 2.2                | 2.6                | 0.8                | 4.0                |  4.8               | 2.5                | 1.2                | 0.6                | 18.8               | \n",
       "| 384                | Alan Williams      | PHX                |  3                 | 16.6               |  1.3               |  3.7               | 0.364              | 0.0                | 0.0                | ⋯                  | 0.571              | 1.7                | 3.7                | 1.0                | 4.0                |  5.0               | 1.7                | 1.0                | 0.3                |  4.0               | \n",
       "| 385                | C.J. Williams      | LAC                |  3                 | 16.2               |  2.0               |  5.0               | 0.400              | 0.3                | 2.0                | ⋯                  | 1.000              | 1.0                | 2.0                | 0.3                | 0.7                |  1.0               | 2.3                | 1.3                | 0.0                |  5.0               | \n",
       "| 386                | Lou Williams       | LAC                | 16                 | 33.7               |  7.4               | 17.8               | 0.414              | 1.4                | 4.8                | ⋯                  | 0.830              | 3.1                | 1.2                | 0.6                | 2.1                |  2.7               | 5.4                | 1.0                | 0.3                | 21.0               | \n",
       "| 387                | Marvin Williams    | CHA                | 15                 | 25.8               |  2.8               |  7.1               | 0.393              | 0.9                | 3.8                | ⋯                  | 0.774              | 0.8                | 1.3                | 0.9                | 3.7                |  4.6               | 1.3                | 1.0                | 0.6                |  8.1               | \n",
       "| 388                | Troy Williams      | NYK                | 14                 | 18.4               |  2.9               |  6.1               | 0.471              | 0.8                | 2.0                | ⋯                  | 0.696              | 1.1                | 2.1                | 1.4                | 2.2                |  3.6               | 1.1                | 1.1                | 0.2                |  7.6               | \n",
       "| 389                | Justise Winslow    | MIA                | 16                 | 28.3               |  4.4               |  9.4               | 0.470              | 1.2                | 3.1                | ⋯                  | 0.559              | 0.9                | 2.4                | 1.1                | 5.1                |  6.2               | 2.4                | 1.1                | 0.7                | 11.3               | \n",
       "| 390                | Delon Wright       | TOR                | 15                 | 19.1               |  2.7               |  5.7               | 0.477              | 0.9                | 2.2                | ⋯                  | 0.682              | 0.9                | 0.7                | 0.7                | 1.6                |  2.3               | 3.1                | 1.0                | 0.4                |  7.3               | \n",
       "| 391                | Guerschon Yabusele | BOS                |  7                 |  9.2               |  0.7               |  1.6               | 0.455              | 0.3                | 1.0                | ⋯                  | 0.750              | 0.7                | 1.0                | 0.3                | 1.0                |  1.3               | 1.1                | 0.1                | 0.1                |  2.1               | \n",
       "| 392                | Joe Young          | IND                |  6                 |  8.0               |  1.2               |  3.7               | 0.318              | 0.2                | 1.0                | ⋯                  | 1.000              | 0.5                | 0.7                | 0.8                | 1.0                |  1.8               | 0.8                | 0.5                | 0.0                |  3.2               | \n",
       "| 393                | Nick Young         | GSW                | 14                 | 28.4               |  3.6               |  9.8               | 0.365              | 2.0                | 6.0                | ⋯                  | 1.000              | 0.9                | 1.8                | 0.4                | 1.8                |  2.1               | 0.8                | 0.4                | 0.1                | 10.8               | \n",
       "| 394                | Thaddeus Young     | IND                | 15                 | 32.1               |  5.1               | 10.6               | 0.478              | 0.4                | 1.9                | ⋯                  | 0.667              | 1.5                | 2.4                | 2.5                | 4.7                |  7.2               | 1.1                | 2.0                | 0.5                | 11.5               | \n",
       "| 395                | Cody Zeller        | CHA                |  3                 | 19.1               |  3.7               |  4.3               | 0.846              | 0.0                | 0.0                | ⋯                  | 0.833              | 0.3                | 3.0                | 1.0                | 3.7                |  4.7               | 0.7                | 0.3                | 0.0                |  9.0               | \n",
       "| 396                | Tyler Zeller       | MIL                | 10                 | 15.8               |  2.0               |  4.3               | 0.465              | 0.0                | 0.0                | ⋯                  | 0.833              | 0.4                | 1.8                | 1.4                | 2.8                |  4.2               | 1.2                | 0.7                | 0.7                |  5.0               | \n",
       "| 397                | Paul Zipser        | CHI                |  5                 | 19.3               |  1.6               |  6.2               | 0.258              | 1.0                | 3.6                | ⋯                  | 0.875              | 0.8                | 2.4                | 0.4                | 2.6                |  3.0               | 1.4                | 0.2                | 0.6                |  5.6               | \n",
       "| 398                | Ante Zizic         | CLE                | 12                 | 11.3               |  2.9               |  3.7               | 0.795              | 0.0                | 0.0                | ⋯                  | 0.769              | 0.6                | 1.8                | 1.3                | 1.7                |  3.0               | 0.3                | 0.1                | 0.7                |  6.7               | \n",
       "| 399                | Ivica Zubac        | LAL                | 15                 |  9.3               |  1.1               |  2.6               | 0.410              | 0.0                | 0.0                | ⋯                  | 0.833              | 0.5                | 0.9                | 1.0                | 1.9                |  2.9               | 0.6                | 0.3                | 0.4                |  3.5               | \n",
       "\n",
       "\n"
      ],
      "text/plain": [
       "    #   Player                Team GP MPG  FGM  FGA  FG%   3PM 3PA ⋯ FT%   TOV\n",
       "1    1  Alex Abrines          OKC  14  9.9  1.4  2.7 0.500 1.2 2.4 ⋯ 0.500 0.1\n",
       "2    2  Quincy Acy            BRK   9 13.8  2.0  4.6 0.439 1.7 3.9 ⋯ 1.000 0.1\n",
       "3    3  Steven Adams          OKC  13 32.7  5.9  9.8 0.602 0.0 0.0 ⋯ 0.525 1.6\n",
       "4    4  Bam Adebayo           MIA  13 19.2  2.3  5.7 0.405 0.0 0.1 ⋯ 0.593 1.0\n",
       "5    5  Arron Afflalo         ORL   6 13.8  1.3  3.2 0.421 0.5 1.3 ⋯ 1.000 0.5\n",
       "6    6  LaMarcus Aldridge     SAS  12 32.0 10.2 19.1 0.537 0.2 0.8 ⋯ 0.812 1.8\n",
       "7    7  Jarrett Allen         BRK  13 23.2  3.3  5.8 0.566 0.0 0.3 ⋯ 0.833 1.9\n",
       "8    8  Kadeem Allen          BOS   5  2.4  0.0  0.0 0.000 0.0 0.0 ⋯ 0.000 0.2\n",
       "9    9  Al-Farouq Aminu       POR  15 30.0  3.3  8.7 0.374 1.7 5.3 ⋯ 0.714 1.4\n",
       "10  10  Justin Anderson       PHI   7 14.1  2.1  5.9 0.366 0.9 3.3 ⋯ 1.000 0.7\n",
       "11  11  Kyle Anderson         SAS  14 23.9  2.9  5.1 0.577 0.4 0.9 ⋯ 0.609 1.4\n",
       "12  12  Ryan Anderson         HOU   7 18.9  2.1  5.0 0.429 1.6 3.6 ⋯ 0.714 0.3\n",
       "13  13  Giannis Antetokounmpo MIL  14 36.6 10.0 18.5 0.541 0.9 2.2 ⋯ 0.773 3.2\n",
       "14  14  Carmelo Anthony       OKC  13 31.3  4.9 12.7 0.388 2.5 6.2 ⋯ 0.706 1.3\n",
       "15  15  Ogugua Anunoby        TOR   8 16.1  2.0  3.6 0.552 0.6 1.4 ⋯ 0.167 0.8\n",
       "16  16  Ryan Arcidiacono      CHI   5 10.0  1.0  1.8 0.556 0.6 1.4 ⋯ 1.000 0.2\n",
       "17  17  Trevor Ariza          HOU  15 32.6  4.1 10.5 0.386 2.3 6.8 ⋯ 0.870 0.7\n",
       "18  18  Jamel Artis           ORL   4 14.6  1.0  2.5 0.400 0.5 1.2 ⋯ 1.000 0.2\n",
       "19  19  D.J. Augustin         ORL  14 31.4  4.6  9.6 0.485 2.1 4.7 ⋯ 0.870 2.4\n",
       "20  20  Luke Babbitt          MIA   8 11.0  1.0  3.8 0.267 1.0 3.5 ⋯ 0.000 0.2\n",
       "21  21  Dwayne Bacon          CHA  13 17.6  2.2  5.4 0.400 0.1 0.8 ⋯ 0.909 0.5\n",
       "22  22  Lonzo Ball            LAL  14 36.9  3.9 10.9 0.353 1.8 6.5 ⋯ 0.316 2.4\n",
       "23  23  J.J. Barea            DAL  10 23.2  5.0 10.8 0.463 1.8 4.7 ⋯ 0.833 2.9\n",
       "24  24  Harrison Barnes       DAL  13 33.0  7.5 17.2 0.433 1.8 4.5 ⋯ 0.810 1.5\n",
       "25  25  Will Barton           DEN  15 33.2  5.8 13.2 0.439 2.1 5.5 ⋯ 0.902 2.1\n",
       "26  26  Nicolas Batum         CHA  11 32.7  4.0  9.1 0.440 1.2 2.9 ⋯ 0.885 1.9\n",
       "27  27  Aron Baynes           BOS  13 19.7  2.6  5.6 0.466 0.2 0.4 ⋯ 0.875 1.3\n",
       "28  28  Kent Bazemore         ATL   4 23.3  5.0  9.8 0.513 2.2 4.0 ⋯ 0.800 2.2\n",
       "29  29  Bradley Beal          WAS  14 35.9  7.6 16.4 0.465 2.6 6.4 ⋯ 0.750 3.1\n",
       "30  30  Malik Beasley         DEN   8  6.7  1.0  2.1 0.471 0.8 1.4 ⋯ 1.000 0.2\n",
       "⋮   ⋮   ⋮                     ⋮    ⋮  ⋮    ⋮    ⋮    ⋮     ⋮   ⋮   ⋱ ⋮     ⋮  \n",
       "370 370 Fred VanVleet         TOR  14 24.8  3.9  9.1 0.433 2.1 5.1 ⋯ 0.759 1.1\n",
       "371 371 Noah Vonleh           CHI  14 22.0  3.2  8.3 0.388 1.0 3.6 ⋯ 0.526 0.6\n",
       "372 372 Nikola Vucevic        ORL  14 31.0  7.4 16.3 0.452 0.7 3.1 ⋯ 0.833 2.2\n",
       "373 373 Dwyane Wade           MIA  11 22.5  5.2 12.2 0.425 0.5 2.0 ⋯ 0.778 2.1\n",
       "374 374 Kemba Walker          CHA  15 34.8  7.1 16.6 0.430 3.1 8.1 ⋯ 0.895 2.3\n",
       "375 375 Tyrone Wallace        LAC   3 27.6  3.3  9.3 0.357 0.3 1.0 ⋯ 0.833 2.0\n",
       "376 376 T.J. Warren           PHX   6 36.0  8.8 17.7 0.500 0.5 1.5 ⋯ 0.846 1.7\n",
       "377 377 Travis Wear           LAL  13 13.3  1.7  4.4 0.386 1.2 3.2 ⋯ 1.000 0.3\n",
       "378 378 Briante Weber         MEM   5 23.8  2.0  4.2 0.476 0.0 0.4 ⋯ 0.667 1.6\n",
       "379 379 David West            GSW   9 14.5  2.9  6.7 0.433 0.0 0.1 ⋯ 0.833 1.6\n",
       "380 380 Russell Westbrook     OKC  14 36.8 10.6 21.2 0.498 1.1 2.9 ⋯ 0.721 4.6\n",
       "381 381 Andrew White          ATL  11 14.8  1.5  4.6 0.333 1.4 3.1 ⋯ 0.333 0.5\n",
       "382 382 Hassan Whiteside      MIA   7 22.5  4.9  9.4 0.515 0.0 0.0 ⋯ 0.812 2.3\n",
       "383 383 Andrew Wiggins        MIN  13 37.2  7.2 16.6 0.435 1.5 4.1 ⋯ 0.685 2.2\n",
       "384 384 Alan Williams         PHX   3 16.6  1.3  3.7 0.364 0.0 0.0 ⋯ 0.571 1.7\n",
       "385 385 C.J. Williams         LAC   3 16.2  2.0  5.0 0.400 0.3 2.0 ⋯ 1.000 1.0\n",
       "386 386 Lou Williams          LAC  16 33.7  7.4 17.8 0.414 1.4 4.8 ⋯ 0.830 3.1\n",
       "387 387 Marvin Williams       CHA  15 25.8  2.8  7.1 0.393 0.9 3.8 ⋯ 0.774 0.8\n",
       "388 388 Troy Williams         NYK  14 18.4  2.9  6.1 0.471 0.8 2.0 ⋯ 0.696 1.1\n",
       "389 389 Justise Winslow       MIA  16 28.3  4.4  9.4 0.470 1.2 3.1 ⋯ 0.559 0.9\n",
       "390 390 Delon Wright          TOR  15 19.1  2.7  5.7 0.477 0.9 2.2 ⋯ 0.682 0.9\n",
       "391 391 Guerschon Yabusele    BOS   7  9.2  0.7  1.6 0.455 0.3 1.0 ⋯ 0.750 0.7\n",
       "392 392 Joe Young             IND   6  8.0  1.2  3.7 0.318 0.2 1.0 ⋯ 1.000 0.5\n",
       "393 393 Nick Young            GSW  14 28.4  3.6  9.8 0.365 2.0 6.0 ⋯ 1.000 0.9\n",
       "394 394 Thaddeus Young        IND  15 32.1  5.1 10.6 0.478 0.4 1.9 ⋯ 0.667 1.5\n",
       "395 395 Cody Zeller           CHA   3 19.1  3.7  4.3 0.846 0.0 0.0 ⋯ 0.833 0.3\n",
       "396 396 Tyler Zeller          MIL  10 15.8  2.0  4.3 0.465 0.0 0.0 ⋯ 0.833 0.4\n",
       "397 397 Paul Zipser           CHI   5 19.3  1.6  6.2 0.258 1.0 3.6 ⋯ 0.875 0.8\n",
       "398 398 Ante Zizic            CLE  12 11.3  2.9  3.7 0.795 0.0 0.0 ⋯ 0.769 0.6\n",
       "399 399 Ivica Zubac           LAL  15  9.3  1.1  2.6 0.410 0.0 0.0 ⋯ 0.833 0.5\n",
       "    PF  ORB DRB RPG  APG SPG BPG PPG \n",
       "1   1.1 0.1 0.6 0.7  0.4 0.4 0.1  4.0\n",
       "2   2.2 0.2 1.4 1.7  0.8 0.1 0.7  5.9\n",
       "3   2.6 4.7 4.2 8.8  1.7 1.4 1.2 14.2\n",
       "4   2.2 2.2 3.9 6.2  1.1 0.1 0.3  5.8\n",
       "5   0.8 0.2 0.7 0.8  0.7 0.3 0.3  3.5\n",
       "6   2.1 3.2 5.8 9.0  2.2 0.4 1.2 26.1\n",
       "7   2.3 2.8 3.2 6.1  0.7 0.3 1.8  8.9\n",
       "8   0.6 0.0 0.2 0.2  0.4 0.0 0.0  0.0\n",
       "9   2.3 1.9 6.3 8.2  1.7 1.8 0.5  9.3\n",
       "10  1.6 0.4 2.1 2.6  1.1 0.3 0.0  5.9\n",
       "11  1.6 1.1 3.6 4.7  2.8 2.1 0.4  7.2\n",
       "12  2.3 1.3 2.1 3.4  0.9 0.3 0.4  6.6\n",
       "13  3.1 2.2 6.9 9.1  4.4 1.5 1.8 27.5\n",
       "14  1.9 1.2 4.2 5.4  1.2 0.7 0.8 13.3\n",
       "15  2.0 0.2 1.4 1.6  0.8 0.4 0.2  4.8\n",
       "16  0.0 0.0 0.6 0.6  1.0 0.6 0.0  3.0\n",
       "17  2.1 0.4 3.7 4.1  1.9 1.5 0.3 11.7\n",
       "18  1.2 0.2 2.0 2.2  1.8 0.0 0.2  3.0\n",
       "19  1.6 0.6 2.4 3.0  5.7 0.6 0.0 14.2\n",
       "20  0.4 0.0 0.6 0.6  0.2 0.1 0.2  3.0\n",
       "21  0.7 0.2 2.3 2.5  1.2 0.5 0.0  5.2\n",
       "22  2.6 1.4 5.0 6.4  7.9 2.1 0.8  9.9\n",
       "23  0.6 0.4 2.3 2.7  6.5 0.4 0.0 12.3\n",
       "24  1.3 0.8 4.5 5.3  2.5 0.5 0.1 20.7\n",
       "25  2.0 0.9 4.0 4.9  3.8 0.8 0.7 16.1\n",
       "26  0.9 1.1 5.5 6.6  7.0 0.9 0.5 11.3\n",
       "27  2.9 1.8 3.7 5.5  1.9 0.2 0.4  5.9\n",
       "28  1.8 0.2 1.5 1.8  2.2 1.2 0.5 13.2\n",
       "29  1.9 0.6 3.3 3.9  5.0 1.1 0.3 20.0\n",
       "30  0.2 0.1 0.5 0.6  0.4 0.1 0.1  3.1\n",
       "⋮   ⋮   ⋮   ⋮   ⋮    ⋮   ⋮   ⋮   ⋮   \n",
       "370 1.9 0.6 2.0  2.6 3.6 0.9 0.5 11.5\n",
       "371 1.6 2.4 5.6  8.0 1.1 0.8 0.3  8.1\n",
       "372 3.0 2.0 7.5  9.5 3.5 0.8 0.8 16.9\n",
       "373 1.8 0.3 2.8  3.1 3.3 0.9 0.7 13.4\n",
       "374 1.1 0.4 2.7  3.1 5.1 1.1 0.2 21.9\n",
       "375 2.0 0.7 5.3  6.0 1.0 1.3 0.7  8.7\n",
       "376 2.8 2.7 2.5  5.2 0.7 0.7 0.5 20.0\n",
       "377 1.8 0.0 2.3  2.3 0.3 0.2 0.3  5.2\n",
       "378 2.0 1.0 2.4  3.4 1.8 1.6 0.4  4.8\n",
       "379 1.6 0.6 2.0  2.6 1.7 0.7 0.7  6.9\n",
       "380 3.0 2.1 8.1 10.2 9.3 1.2 0.4 27.6\n",
       "381 0.6 0.2 2.4  2.5 0.4 0.2 0.1  4.5\n",
       "382 2.4 3.1 6.4  9.6 1.4 0.7 1.6 13.4\n",
       "383 2.6 0.8 4.0  4.8 2.5 1.2 0.6 18.8\n",
       "384 3.7 1.0 4.0  5.0 1.7 1.0 0.3  4.0\n",
       "385 2.0 0.3 0.7  1.0 2.3 1.3 0.0  5.0\n",
       "386 1.2 0.6 2.1  2.7 5.4 1.0 0.3 21.0\n",
       "387 1.3 0.9 3.7  4.6 1.3 1.0 0.6  8.1\n",
       "388 2.1 1.4 2.2  3.6 1.1 1.1 0.2  7.6\n",
       "389 2.4 1.1 5.1  6.2 2.4 1.1 0.7 11.3\n",
       "390 0.7 0.7 1.6  2.3 3.1 1.0 0.4  7.3\n",
       "391 1.0 0.3 1.0  1.3 1.1 0.1 0.1  2.1\n",
       "392 0.7 0.8 1.0  1.8 0.8 0.5 0.0  3.2\n",
       "393 1.8 0.4 1.8  2.1 0.8 0.4 0.1 10.8\n",
       "394 2.4 2.5 4.7  7.2 1.1 2.0 0.5 11.5\n",
       "395 3.0 1.0 3.7  4.7 0.7 0.3 0.0  9.0\n",
       "396 1.8 1.4 2.8  4.2 1.2 0.7 0.7  5.0\n",
       "397 2.4 0.4 2.6  3.0 1.4 0.2 0.6  5.6\n",
       "398 1.8 1.3 1.7  3.0 0.3 0.1 0.7  6.7\n",
       "399 0.9 1.0 1.9  2.9 0.6 0.3 0.4  3.5"
      ]
     },
     "metadata": {},
     "output_type": "display_data"
    }
   ],
   "source": [
    "March"
   ]
  },
  {
   "cell_type": "code",
   "execution_count": 84,
   "metadata": {},
   "outputs": [
    {
     "data": {
      "text/html": [
       "30.9"
      ],
      "text/latex": [
       "30.9"
      ],
      "text/markdown": [
       "30.9"
      ],
      "text/plain": [
       "[1] 30.9"
      ]
     },
     "metadata": {},
     "output_type": "display_data"
    }
   ],
   "source": [
    "max(March$PPG, na.rm = TRUE)"
   ]
  },
  {
   "cell_type": "markdown",
   "metadata": {},
   "source": [
    "The highest PPG value in the month of March was 30.9"
   ]
  },
  {
   "cell_type": "code",
   "execution_count": 85,
   "metadata": {},
   "outputs": [
    {
     "data": {
      "text/html": [
       "<table>\n",
       "<thead><tr><th></th><th scope=col>#</th><th scope=col>Player</th><th scope=col>Team</th><th scope=col>GP</th><th scope=col>MPG</th><th scope=col>FGM</th><th scope=col>FGA</th><th scope=col>FG%</th><th scope=col>3PM</th><th scope=col>3PA</th><th scope=col>⋯</th><th scope=col>FT%</th><th scope=col>TOV</th><th scope=col>PF</th><th scope=col>ORB</th><th scope=col>DRB</th><th scope=col>RPG</th><th scope=col>APG</th><th scope=col>SPG</th><th scope=col>BPG</th><th scope=col>PPG</th></tr></thead>\n",
       "<tbody>\n",
       "\t<tr><th scope=row>186</th><td>186         </td><td>LeBron James</td><td>CLE         </td><td>16          </td><td>37.3        </td><td>11.8        </td><td>21.3        </td><td>0.551       </td><td>2           </td><td>5.5         </td><td>⋯           </td><td>0.707       </td><td>3.7         </td><td>1.9         </td><td>1.2         </td><td>8.3         </td><td>9.6         </td><td>9.5         </td><td>1.3         </td><td>0.8         </td><td>30.9        </td></tr>\n",
       "</tbody>\n",
       "</table>\n"
      ],
      "text/latex": [
       "\\begin{tabular}{r|lllllllllllllllllllllll}\n",
       "  & \\# & Player & Team & GP & MPG & FGM & FGA & FG\\% & 3PM & 3PA & ⋯ & FT\\% & TOV & PF & ORB & DRB & RPG & APG & SPG & BPG & PPG\\\\\n",
       "\\hline\n",
       "\t186 & 186          & LeBron James & CLE          & 16           & 37.3         & 11.8         & 21.3         & 0.551        & 2            & 5.5          & ⋯            & 0.707        & 3.7          & 1.9          & 1.2          & 8.3          & 9.6          & 9.5          & 1.3          & 0.8          & 30.9        \\\\\n",
       "\\end{tabular}\n"
      ],
      "text/markdown": [
       "\n",
       "| <!--/--> | # | Player | Team | GP | MPG | FGM | FGA | FG% | 3PM | 3PA | ⋯ | FT% | TOV | PF | ORB | DRB | RPG | APG | SPG | BPG | PPG | \n",
       "|---|\n",
       "| 186 | 186          | LeBron James | CLE          | 16           | 37.3         | 11.8         | 21.3         | 0.551        | 2            | 5.5          | ⋯            | 0.707        | 3.7          | 1.9          | 1.2          | 8.3          | 9.6          | 9.5          | 1.3          | 0.8          | 30.9         | \n",
       "\n",
       "\n"
      ],
      "text/plain": [
       "    #   Player       Team GP MPG  FGM  FGA  FG%   3PM 3PA ⋯ FT%   TOV PF  ORB\n",
       "186 186 LeBron James CLE  16 37.3 11.8 21.3 0.551 2   5.5 ⋯ 0.707 3.7 1.9 1.2\n",
       "    DRB RPG APG SPG BPG PPG \n",
       "186 8.3 9.6 9.5 1.3 0.8 30.9"
      ]
     },
     "metadata": {},
     "output_type": "display_data"
    }
   ],
   "source": [
    "March[March$PPG %in% c(\"30.9\"), ]"
   ]
  },
  {
   "cell_type": "markdown",
   "metadata": {},
   "source": [
    "The player with the most Points Per Game in March is LeBron James "
   ]
  },
  {
   "cell_type": "markdown",
   "metadata": {},
   "source": [
    "### April"
   ]
  },
  {
   "cell_type": "code",
   "execution_count": 86,
   "metadata": {},
   "outputs": [],
   "source": [
    "NBA25 = read_html(\"https://basketball.realgm.com/nba/stats/2018/Averages/Qualified/player/All/asc/1/April\")"
   ]
  },
  {
   "cell_type": "code",
   "execution_count": 87,
   "metadata": {},
   "outputs": [],
   "source": [
    "NBA26 = read_html(\"https://basketball.realgm.com/nba/stats/2018/Averages/Qualified/player/All/asc/2/April\")"
   ]
  },
  {
   "cell_type": "code",
   "execution_count": 88,
   "metadata": {},
   "outputs": [],
   "source": [
    "NBA27 = read_html(\"https://basketball.realgm.com/nba/stats/2018/Averages/Qualified/player/All/asc/3/April\")"
   ]
  },
  {
   "cell_type": "code",
   "execution_count": 89,
   "metadata": {},
   "outputs": [],
   "source": [
    "NBA28 = read_html(\"https://basketball.realgm.com/nba/stats/2018/Averages/Qualified/player/All/asc/4/April\")"
   ]
  },
  {
   "cell_type": "code",
   "execution_count": 90,
   "metadata": {},
   "outputs": [],
   "source": [
    "April1 = NBA25 %>% html_nodes('table')%>% .[[1]] %>%\n",
    "  html_table()"
   ]
  },
  {
   "cell_type": "code",
   "execution_count": 91,
   "metadata": {},
   "outputs": [],
   "source": [
    "April2 = NBA26 %>% html_nodes('table')%>% .[[1]] %>%\n",
    "  html_table()"
   ]
  },
  {
   "cell_type": "code",
   "execution_count": 92,
   "metadata": {},
   "outputs": [],
   "source": [
    "April3 = NBA27 %>% html_nodes('table')%>% .[[1]] %>%\n",
    "  html_table()"
   ]
  },
  {
   "cell_type": "code",
   "execution_count": 93,
   "metadata": {},
   "outputs": [],
   "source": [
    "April4 = NBA28 %>% html_nodes('table')%>% .[[1]] %>%\n",
    "  html_table()"
   ]
  },
  {
   "cell_type": "code",
   "execution_count": 94,
   "metadata": {},
   "outputs": [
    {
     "name": "stderr",
     "output_type": "stream",
     "text": [
      "Joining, by = c(\"#\", \"Player\", \"Team\", \"GP\", \"MPG\", \"FGM\", \"FGA\", \"FG%\", \"3PM\", \"3PA\", \"3P%\", \"FTM\", \"FTA\", \"FT%\", \"TOV\", \"PF\", \"ORB\", \"DRB\", \"RPG\", \"APG\", \"SPG\", \"BPG\", \"PPG\")\n"
     ]
    }
   ],
   "source": [
    "m = full_join(April1, April2)"
   ]
  },
  {
   "cell_type": "code",
   "execution_count": 95,
   "metadata": {},
   "outputs": [
    {
     "name": "stderr",
     "output_type": "stream",
     "text": [
      "Joining, by = c(\"#\", \"Player\", \"Team\", \"GP\", \"MPG\", \"FGM\", \"FGA\", \"FG%\", \"3PM\", \"3PA\", \"3P%\", \"FTM\", \"FTA\", \"FT%\", \"TOV\", \"PF\", \"ORB\", \"DRB\", \"RPG\", \"APG\", \"SPG\", \"BPG\", \"PPG\")\n"
     ]
    }
   ],
   "source": [
    "n = full_join(April3, April4)"
   ]
  },
  {
   "cell_type": "code",
   "execution_count": 96,
   "metadata": {},
   "outputs": [
    {
     "name": "stderr",
     "output_type": "stream",
     "text": [
      "Joining, by = c(\"#\", \"Player\", \"Team\", \"GP\", \"MPG\", \"FGM\", \"FGA\", \"FG%\", \"3PM\", \"3PA\", \"3P%\", \"FTM\", \"FTA\", \"FT%\", \"TOV\", \"PF\", \"ORB\", \"DRB\", \"RPG\", \"APG\", \"SPG\", \"BPG\", \"PPG\")\n"
     ]
    }
   ],
   "source": [
    "April = full_join(m, n)"
   ]
  },
  {
   "cell_type": "markdown",
   "metadata": {},
   "source": [
    "Table 7: The data and statistics for all players in the NBA during the month of April in the 2017-2018 season"
   ]
  },
  {
   "cell_type": "code",
   "execution_count": 97,
   "metadata": {},
   "outputs": [
    {
     "data": {
      "text/html": [
       "<table>\n",
       "<thead><tr><th scope=col>#</th><th scope=col>Player</th><th scope=col>Team</th><th scope=col>GP</th><th scope=col>MPG</th><th scope=col>FGM</th><th scope=col>FGA</th><th scope=col>FG%</th><th scope=col>3PM</th><th scope=col>3PA</th><th scope=col>⋯</th><th scope=col>FT%</th><th scope=col>TOV</th><th scope=col>PF</th><th scope=col>ORB</th><th scope=col>DRB</th><th scope=col>RPG</th><th scope=col>APG</th><th scope=col>SPG</th><th scope=col>BPG</th><th scope=col>PPG</th></tr></thead>\n",
       "<tbody>\n",
       "\t<tr><td> 1                   </td><td>Alex Abrines         </td><td>OKC                  </td><td>4                    </td><td>20.1                 </td><td> 1.5                 </td><td> 4.2                 </td><td>0.353                </td><td>1.0                  </td><td>3.8                  </td><td>⋯                    </td><td>0.800                </td><td>0.0                  </td><td>2.2                  </td><td>0.5                  </td><td>1.2                  </td><td> 1.8                 </td><td>0.2                  </td><td>0.5                  </td><td>0.0                  </td><td> 5.0                 </td></tr>\n",
       "\t<tr><td> 2                   </td><td>Quincy Acy           </td><td>BRK                  </td><td>6                    </td><td>19.2                 </td><td> 2.7                 </td><td> 6.2                 </td><td>0.432                </td><td>2.2                  </td><td>5.2                  </td><td>⋯                    </td><td>0.500                </td><td>0.3                  </td><td>2.0                  </td><td>0.3                  </td><td>2.5                  </td><td> 2.8                 </td><td>0.8                  </td><td>0.7                  </td><td>0.7                  </td><td> 7.7                 </td></tr>\n",
       "\t<tr><td> 3                   </td><td>Steven Adams         </td><td>OKC                  </td><td>5                    </td><td>33.2                 </td><td> 5.2                 </td><td> 8.0                 </td><td>0.650                </td><td>0.0                  </td><td>0.0                  </td><td>⋯                    </td><td>0.500                </td><td>2.8                  </td><td>2.4                  </td><td>4.2                  </td><td>4.0                  </td><td> 8.2                 </td><td>1.4                  </td><td>0.6                  </td><td>0.4                  </td><td>12.8                 </td></tr>\n",
       "\t<tr><td> 4                   </td><td>Bam Adebayo          </td><td>MIA                  </td><td>4                    </td><td>15.9                 </td><td> 2.0                 </td><td> 4.2                 </td><td>0.471                </td><td>0.0                  </td><td>0.0                  </td><td>⋯                    </td><td>1.000                </td><td>1.2                  </td><td>1.0                  </td><td>1.5                  </td><td>4.0                  </td><td> 5.5                 </td><td>0.8                  </td><td>0.8                  </td><td>0.5                  </td><td> 6.0                 </td></tr>\n",
       "\t<tr><td> 5                   </td><td>Arron Afflalo        </td><td>ORL                  </td><td>2                    </td><td>12.4                 </td><td> 2.5                 </td><td> 4.5                 </td><td>0.556                </td><td>1.0                  </td><td>2.5                  </td><td>⋯                    </td><td>0.000                </td><td>0.0                  </td><td>1.0                  </td><td>0.0                  </td><td>0.0                  </td><td> 0.0                 </td><td>0.5                  </td><td>0.0                  </td><td>0.0                  </td><td> 6.0                 </td></tr>\n",
       "\t<tr><td> 6                   </td><td>LaMarcus Aldridge    </td><td>SAS                  </td><td>6                    </td><td>35.0                 </td><td>10.0                 </td><td>18.8                 </td><td>0.531                </td><td>0.0                  </td><td>0.8                  </td><td>⋯                    </td><td>0.909                </td><td>0.8                  </td><td>1.8                  </td><td>3.2                  </td><td>6.7                  </td><td> 9.8                 </td><td>1.7                  </td><td>1.3                  </td><td>1.5                  </td><td>23.3                 </td></tr>\n",
       "\t<tr><td> 7                   </td><td>Jarrett Allen        </td><td>BRK                  </td><td>6                    </td><td>24.9                 </td><td> 3.5                 </td><td> 5.3                 </td><td>0.656                </td><td>0.3                  </td><td>0.3                  </td><td>⋯                    </td><td>0.583                </td><td>1.2                  </td><td>2.5                  </td><td>1.0                  </td><td>4.8                  </td><td> 5.8                 </td><td>0.3                  </td><td>0.2                  </td><td>3.2                  </td><td> 8.5                 </td></tr>\n",
       "\t<tr><td> 8                   </td><td>Kadeem Allen         </td><td>BOS                  </td><td>6                    </td><td>11.3                 </td><td> 0.8                 </td><td> 2.7                 </td><td>0.312                </td><td>0.0                  </td><td>1.3                  </td><td>⋯                    </td><td>0.800                </td><td>0.8                  </td><td>1.7                  </td><td>0.5                  </td><td>0.7                  </td><td> 1.2                 </td><td>1.5                  </td><td>0.3                  </td><td>0.3                  </td><td> 2.3                 </td></tr>\n",
       "\t<tr><td> 9                   </td><td>Al-Farouq Aminu      </td><td>POR                  </td><td>6                    </td><td>30.0                 </td><td> 2.8                 </td><td> 8.0                 </td><td>0.354                </td><td>1.3                  </td><td>5.0                  </td><td>⋯                    </td><td>0.800                </td><td>1.7                  </td><td>2.2                  </td><td>1.3                  </td><td>6.8                  </td><td> 8.2                 </td><td>1.0                  </td><td>1.3                  </td><td>0.7                  </td><td> 7.7                 </td></tr>\n",
       "\t<tr><td>10                   </td><td>Justin Anderson      </td><td>PHI                  </td><td>5                    </td><td>10.9                 </td><td> 2.6                 </td><td> 5.6                 </td><td>0.464                </td><td>1.2                  </td><td>3.4                  </td><td>⋯                    </td><td>0.750                </td><td>0.4                  </td><td>0.6                  </td><td>1.0                  </td><td>1.8                  </td><td> 2.8                 </td><td>0.4                  </td><td>0.4                  </td><td>0.4                  </td><td> 7.6                 </td></tr>\n",
       "\t<tr><td>11                   </td><td>Kyle Anderson        </td><td>SAS                  </td><td>6                    </td><td>26.7                 </td><td> 3.0                 </td><td> 5.7                 </td><td>0.529                </td><td>0.5                  </td><td>1.2                  </td><td>⋯                    </td><td>0.636                </td><td>0.3                  </td><td>1.7                  </td><td>0.8                  </td><td>2.7                  </td><td> 3.5                 </td><td>2.5                  </td><td>1.8                  </td><td>1.3                  </td><td> 7.7                 </td></tr>\n",
       "\t<tr><td>12                   </td><td>Ryan Anderson        </td><td>HOU                  </td><td>2                    </td><td>11.8                 </td><td> 0.0                 </td><td> 1.0                 </td><td>0.000                </td><td>0.0                  </td><td>0.5                  </td><td>⋯                    </td><td>0.667                </td><td>0.0                  </td><td>2.0                  </td><td>0.0                  </td><td>2.0                  </td><td> 2.0                 </td><td>0.0                  </td><td>0.0                  </td><td>0.0                  </td><td> 1.0                 </td></tr>\n",
       "\t<tr><td>13                   </td><td>Giannis Antetokounmpo</td><td>MIL                  </td><td>4                    </td><td>31.8                 </td><td> 7.5                 </td><td>17.5                 </td><td>0.429                </td><td>0.2                  </td><td>2.2                  </td><td>⋯                    </td><td>0.789                </td><td>3.8                  </td><td>3.2                  </td><td>1.0                  </td><td>9.8                  </td><td>10.8                 </td><td>5.5                  </td><td>1.5                  </td><td>0.8                  </td><td>19.0                 </td></tr>\n",
       "\t<tr><td>14                   </td><td>Carmelo Anthony      </td><td>OKC                  </td><td>5                    </td><td>30.5                 </td><td> 5.0                 </td><td>13.4                 </td><td>0.373                </td><td>1.8                  </td><td>6.6                  </td><td>⋯                    </td><td>0.800                </td><td>1.2                  </td><td>2.6                  </td><td>1.4                  </td><td>4.2                  </td><td> 5.6                 </td><td>1.6                  </td><td>0.2                  </td><td>0.4                  </td><td>14.2                 </td></tr>\n",
       "\t<tr><td>15                   </td><td>Ogugua Anunoby       </td><td>TOR                  </td><td>6                    </td><td>20.7                 </td><td> 2.8                 </td><td> 5.0                 </td><td>0.567                </td><td>1.5                  </td><td>3.2                  </td><td>⋯                    </td><td>0.600                </td><td>0.5                  </td><td>2.0                  </td><td>1.0                  </td><td>3.2                  </td><td> 4.2                 </td><td>0.2                  </td><td>0.3                  </td><td>0.5                  </td><td> 7.7                 </td></tr>\n",
       "\t<tr><td>16                   </td><td>Ryan Arcidiacono     </td><td>CHI                  </td><td>6                    </td><td>22.4                 </td><td> 1.2                 </td><td> 3.3                 </td><td>0.350                </td><td>0.5                  </td><td>2.3                  </td><td>⋯                    </td><td>0.500                </td><td>1.5                  </td><td>1.3                  </td><td>0.2                  </td><td>2.3                  </td><td> 2.5                 </td><td>2.8                  </td><td>0.8                  </td><td>0.0                  </td><td> 3.0                 </td></tr>\n",
       "\t<tr><td>17                   </td><td>Trevor Ariza         </td><td>HOU                  </td><td>4                    </td><td>29.4                 </td><td> 3.0                 </td><td> 8.8                 </td><td>0.343                </td><td>1.0                  </td><td>5.5                  </td><td>⋯                    </td><td>0.500                </td><td>0.5                  </td><td>2.0                  </td><td>0.0                  </td><td>2.8                  </td><td> 2.8                 </td><td>0.5                  </td><td>1.2                  </td><td>0.0                  </td><td> 7.5                 </td></tr>\n",
       "\t<tr><td>18                   </td><td>Jamel Artis          </td><td>ORL                  </td><td>6                    </td><td>27.5                 </td><td> 3.8                 </td><td> 8.7                 </td><td>0.442                </td><td>1.0                  </td><td>3.2                  </td><td>⋯                    </td><td>0.571                </td><td>1.2                  </td><td>1.0                  </td><td>0.3                  </td><td>3.3                  </td><td> 3.7                 </td><td>1.2                  </td><td>0.3                  </td><td>0.3                  </td><td> 9.3                 </td></tr>\n",
       "\t<tr><td>19                   </td><td>Omer Asik            </td><td>CHI                  </td><td>4                    </td><td>15.3                 </td><td> 0.5                 </td><td> 1.5                 </td><td>0.333                </td><td>0.0                  </td><td>0.0                  </td><td>⋯                    </td><td>0.000                </td><td>1.0                  </td><td>1.5                  </td><td>0.5                  </td><td>2.0                  </td><td> 2.5                 </td><td>0.2                  </td><td>0.2                  </td><td>0.5                  </td><td> 1.0                 </td></tr>\n",
       "\t<tr><td>20                   </td><td>D.J. Augustin        </td><td>ORL                  </td><td>7                    </td><td>22.4                 </td><td> 4.1                 </td><td> 8.1                 </td><td>0.509                </td><td>1.3                  </td><td>3.1                  </td><td>⋯                    </td><td>0.923                </td><td>1.7                  </td><td>0.9                  </td><td>0.6                  </td><td>1.6                  </td><td> 2.1                 </td><td>3.4                  </td><td>0.3                  </td><td>0.0                  </td><td>11.3                 </td></tr>\n",
       "\t<tr><td>21                   </td><td>Luke Babbitt         </td><td>MIA                  </td><td>2                    </td><td>15.8                 </td><td> 0.5                 </td><td> 5.0                 </td><td>0.100                </td><td>0.5                  </td><td>5.0                  </td><td>⋯                    </td><td>0.000                </td><td>0.0                  </td><td>0.0                  </td><td>0.5                  </td><td>1.5                  </td><td> 2.0                 </td><td>1.0                  </td><td>0.0                  </td><td>0.0                  </td><td> 1.5                 </td></tr>\n",
       "\t<tr><td>22                   </td><td>Wade Baldwin IV      </td><td>POR                  </td><td>4                    </td><td>13.9                 </td><td> 2.2                 </td><td> 3.5                 </td><td>0.643                </td><td>0.8                  </td><td>1.0                  </td><td>⋯                    </td><td>1.000                </td><td>0.8                  </td><td>2.2                  </td><td>0.2                  </td><td>0.5                  </td><td> 0.8                 </td><td>0.8                  </td><td>0.5                  </td><td>0.2                  </td><td> 5.5                 </td></tr>\n",
       "\t<tr><td>23                   </td><td>J.J. Barea           </td><td>DAL                  </td><td>2                    </td><td>15.3                 </td><td> 4.0                 </td><td> 7.0                 </td><td>0.571                </td><td>1.5                  </td><td>2.5                  </td><td>⋯                    </td><td>0.000                </td><td>1.5                  </td><td>0.5                  </td><td>0.5                  </td><td>1.5                  </td><td> 2.0                 </td><td>4.5                  </td><td>0.5                  </td><td>0.0                  </td><td> 9.5                 </td></tr>\n",
       "\t<tr><td>24                   </td><td>Harrison Barnes      </td><td>DAL                  </td><td>4                    </td><td>36.0                 </td><td> 7.5                 </td><td>17.8                 </td><td>0.423                </td><td>2.5                  </td><td>7.5                  </td><td>⋯                    </td><td>0.812                </td><td>1.5                  </td><td>0.5                  </td><td>0.5                  </td><td>2.8                  </td><td> 3.2                 </td><td>1.8                  </td><td>0.0                  </td><td>0.0                  </td><td>20.8                 </td></tr>\n",
       "\t<tr><td>25                   </td><td>Will Barton          </td><td>DEN                  </td><td>6                    </td><td>38.3                 </td><td> 7.7                 </td><td>15.3                 </td><td>0.500                </td><td>2.3                  </td><td>6.2                  </td><td>⋯                    </td><td>0.786                </td><td>1.5                  </td><td>3.2                  </td><td>1.3                  </td><td>5.8                  </td><td> 7.2                 </td><td>4.3                  </td><td>0.7                  </td><td>0.5                  </td><td>21.3                 </td></tr>\n",
       "\t<tr><td>26                   </td><td>Nicolas Batum        </td><td>CHA                  </td><td>5                    </td><td>22.6                 </td><td> 3.4                 </td><td> 8.0                 </td><td>0.425                </td><td>1.2                  </td><td>3.6                  </td><td>⋯                    </td><td>0.909                </td><td>3.0                  </td><td>1.0                  </td><td>1.0                  </td><td>3.0                  </td><td> 4.0                 </td><td>4.6                  </td><td>0.2                  </td><td>0.4                  </td><td>10.0                 </td></tr>\n",
       "\t<tr><td>27                   </td><td>Aron Baynes          </td><td>BOS                  </td><td>6                    </td><td>19.9                 </td><td> 3.8                 </td><td> 8.7                 </td><td>0.442                </td><td>0.2                  </td><td>1.2                  </td><td>⋯                    </td><td>1.000                </td><td>1.0                  </td><td>1.8                  </td><td>3.0                  </td><td>3.3                  </td><td> 6.3                 </td><td>1.5                  </td><td>0.7                  </td><td>0.7                  </td><td> 8.2                 </td></tr>\n",
       "\t<tr><td>28                   </td><td>Bradley Beal         </td><td>WAS                  </td><td>6                    </td><td>35.9                 </td><td> 7.3                 </td><td>17.0                 </td><td>0.431                </td><td>2.0                  </td><td>6.0                  </td><td>⋯                    </td><td>0.833                </td><td>1.8                  </td><td>2.7                  </td><td>0.7                  </td><td>4.2                  </td><td> 4.8                 </td><td>4.5                  </td><td>0.8                  </td><td>0.3                  </td><td>20.8                 </td></tr>\n",
       "\t<tr><td>29                   </td><td>Michael Beasley      </td><td>NYK                  </td><td>4                    </td><td>17.9                 </td><td> 4.5                 </td><td> 9.5                 </td><td>0.474                </td><td>0.5                  </td><td>2.0                  </td><td>⋯                    </td><td>0.778                </td><td>1.5                  </td><td>1.0                  </td><td>1.8                  </td><td>2.5                  </td><td> 4.2                 </td><td>1.8                  </td><td>1.0                  </td><td>0.8                  </td><td>11.2                 </td></tr>\n",
       "\t<tr><td>30                   </td><td>Marco Belinelli      </td><td>PHI                  </td><td>7                    </td><td>28.3                 </td><td> 6.6                 </td><td>12.7                 </td><td>0.517                </td><td>3.1                  </td><td>7.3                  </td><td>⋯                    </td><td>0.833                </td><td>2.6                  </td><td>1.9                  </td><td>0.1                  </td><td>2.7                  </td><td> 2.9                 </td><td>2.1                  </td><td>1.1                  </td><td>0.4                  </td><td>18.4                 </td></tr>\n",
       "\t<tr><td>⋮</td><td>⋮</td><td>⋮</td><td>⋮</td><td>⋮</td><td>⋮</td><td>⋮</td><td>⋮</td><td>⋮</td><td>⋮</td><td>⋱</td><td>⋮</td><td>⋮</td><td>⋮</td><td>⋮</td><td>⋮</td><td>⋮</td><td>⋮</td><td>⋮</td><td>⋮</td><td>⋮</td></tr>\n",
       "\t<tr><td>320               </td><td>P.J. Tucker       </td><td>HOU               </td><td>6                 </td><td>28.0              </td><td>2.2               </td><td> 6.3              </td><td>0.342             </td><td>1.7               </td><td>5.3               </td><td>⋯                 </td><td>0.000             </td><td>1.2               </td><td>2.0               </td><td>1.3               </td><td> 5.5              </td><td> 6.8              </td><td> 1.5              </td><td>0.2               </td><td>0.5               </td><td> 6.0              </td></tr>\n",
       "\t<tr><td>321               </td><td>Evan Turner       </td><td>POR               </td><td>6                 </td><td>28.5              </td><td>4.0               </td><td> 7.5              </td><td>0.533             </td><td>0.8               </td><td>2.5               </td><td>⋯                 </td><td>1.000             </td><td>1.3               </td><td>3.2               </td><td>0.2               </td><td> 2.2              </td><td> 2.3              </td><td> 1.8              </td><td>1.2               </td><td>0.3               </td><td> 9.5              </td></tr>\n",
       "\t<tr><td>322               </td><td>Myles Turner      </td><td>IND               </td><td>6                 </td><td>23.8              </td><td>3.0               </td><td> 8.0              </td><td>0.375             </td><td>0.5               </td><td>2.3               </td><td>⋯                 </td><td>0.857             </td><td>1.3               </td><td>2.8               </td><td>1.0               </td><td> 2.5              </td><td> 3.5              </td><td> 0.5              </td><td>0.5               </td><td>1.0               </td><td> 7.5              </td></tr>\n",
       "\t<tr><td>323               </td><td>Ekpe Udoh         </td><td>UTA               </td><td>5                 </td><td> 6.1              </td><td>0.4               </td><td> 1.0              </td><td>0.400             </td><td>0.0               </td><td>0.0               </td><td>⋯                 </td><td>0.500             </td><td>0.0               </td><td>1.4               </td><td>0.8               </td><td> 0.6              </td><td> 1.4              </td><td> 0.4              </td><td>0.2               </td><td>0.4               </td><td> 1.0              </td></tr>\n",
       "\t<tr><td>324               </td><td>Tyler Ulis        </td><td>PHX               </td><td>5                 </td><td>34.7              </td><td>5.2               </td><td>12.8              </td><td>0.406             </td><td>1.0               </td><td>3.2               </td><td>⋯                 </td><td>0.929             </td><td>3.0               </td><td>1.4               </td><td>0.6               </td><td> 2.2              </td><td> 2.8              </td><td> 8.0              </td><td>1.4               </td><td>0.2               </td><td>14.0              </td></tr>\n",
       "\t<tr><td>325               </td><td>Jonas Valanciunas </td><td>TOR               </td><td>5                 </td><td>21.3              </td><td>5.8               </td><td>10.4              </td><td>0.558             </td><td>0.2               </td><td>1.2               </td><td>⋯                 </td><td>0.875             </td><td>1.2               </td><td>1.4               </td><td>2.4               </td><td> 6.2              </td><td> 8.6              </td><td> 0.6              </td><td>0.0               </td><td>0.8               </td><td>13.2              </td></tr>\n",
       "\t<tr><td>326               </td><td>Fred VanVleet     </td><td>TOR               </td><td>5                 </td><td>17.7              </td><td>2.2               </td><td> 6.4              </td><td>0.344             </td><td>1.4               </td><td>3.4               </td><td>⋯                 </td><td>0.800             </td><td>1.0               </td><td>1.2               </td><td>0.2               </td><td> 1.4              </td><td> 1.6              </td><td> 3.8              </td><td>0.4               </td><td>0.2               </td><td> 6.6              </td></tr>\n",
       "\t<tr><td>327               </td><td>Noah Vonleh       </td><td>CHI               </td><td>2                 </td><td>12.4              </td><td>1.0               </td><td> 2.5              </td><td>0.400             </td><td>0.5               </td><td>1.0               </td><td>⋯                 </td><td>0.000             </td><td>1.5               </td><td>0.5               </td><td>0.0               </td><td> 2.5              </td><td> 2.5              </td><td> 0.5              </td><td>0.5               </td><td>0.0               </td><td> 2.5              </td></tr>\n",
       "\t<tr><td>328               </td><td>Nikola Vucevic    </td><td>ORL               </td><td>5                 </td><td>23.1              </td><td>4.2               </td><td>11.4              </td><td>0.368             </td><td>0.0               </td><td>1.2               </td><td>⋯                 </td><td>0.889             </td><td>1.0               </td><td>1.6               </td><td>1.2               </td><td> 8.2              </td><td> 9.4              </td><td> 4.0              </td><td>1.0               </td><td>1.4               </td><td>10.0              </td></tr>\n",
       "\t<tr><td>329               </td><td>Dwyane Wade       </td><td>MIA               </td><td>4                 </td><td>21.0              </td><td>3.8               </td><td>10.5              </td><td>0.357             </td><td>0.2               </td><td>2.2               </td><td>⋯                 </td><td>0.500             </td><td>2.0               </td><td>1.2               </td><td>0.2               </td><td> 2.5              </td><td> 2.8              </td><td> 3.2              </td><td>0.8               </td><td>0.8               </td><td> 8.8              </td></tr>\n",
       "\t<tr><td>330               </td><td>Kemba Walker      </td><td>CHA               </td><td>5                 </td><td>26.0              </td><td>3.8               </td><td> 9.4              </td><td>0.404             </td><td>1.2               </td><td>4.8               </td><td>⋯                 </td><td>0.938             </td><td>2.4               </td><td>0.0               </td><td>0.0               </td><td> 1.2              </td><td> 1.2              </td><td> 4.4              </td><td>0.2               </td><td>0.2               </td><td>11.8              </td></tr>\n",
       "\t<tr><td>331               </td><td>John Wall         </td><td>WAS               </td><td>3                 </td><td>35.8              </td><td>7.3               </td><td>15.3              </td><td>0.478             </td><td>2.3               </td><td>4.3               </td><td>⋯                 </td><td>0.789             </td><td>7.0               </td><td>3.0               </td><td>0.0               </td><td> 5.0              </td><td> 5.0              </td><td>12.0              </td><td>2.3               </td><td>1.0               </td><td>22.0              </td></tr>\n",
       "\t<tr><td>332               </td><td>Tyrone Wallace    </td><td>LAC               </td><td>6                 </td><td>31.3              </td><td>3.8               </td><td> 8.7              </td><td>0.442             </td><td>0.2               </td><td>1.8               </td><td>⋯                 </td><td>0.750             </td><td>2.5               </td><td>3.2               </td><td>0.8               </td><td> 1.8              </td><td> 2.7              </td><td> 2.5              </td><td>0.8               </td><td>0.3               </td><td> 8.8              </td></tr>\n",
       "\t<tr><td>333               </td><td>Travis Wear       </td><td>LAL               </td><td>4                 </td><td>13.9              </td><td>0.8               </td><td> 3.8              </td><td>0.200             </td><td>0.2               </td><td>1.5               </td><td>⋯                 </td><td>0.000             </td><td>0.5               </td><td>1.8               </td><td>0.0               </td><td> 2.0              </td><td> 2.0              </td><td> 0.8              </td><td>0.2               </td><td>0.2               </td><td> 1.8              </td></tr>\n",
       "\t<tr><td>334               </td><td>David West        </td><td>GSW               </td><td>6                 </td><td>12.9              </td><td>1.7               </td><td> 4.0              </td><td>0.417             </td><td>0.0               </td><td>0.0               </td><td>⋯                 </td><td>0.800             </td><td>0.7               </td><td>1.7               </td><td>1.0               </td><td> 1.8              </td><td> 2.8              </td><td> 2.2              </td><td>0.7               </td><td>0.7               </td><td> 4.0              </td></tr>\n",
       "\t<tr><td>335               </td><td>Russell Westbrook </td><td>OKC               </td><td>5                 </td><td>38.0              </td><td>8.8               </td><td>20.2              </td><td>0.436             </td><td>1.2               </td><td>3.6               </td><td>⋯                 </td><td>0.784             </td><td>5.6               </td><td>3.0               </td><td>3.4               </td><td>11.8              </td><td>15.2              </td><td>12.2              </td><td>2.2               </td><td>0.2               </td><td>24.6              </td></tr>\n",
       "\t<tr><td>336               </td><td>Hassan Whiteside  </td><td>MIA               </td><td>5                 </td><td>21.9              </td><td>5.6               </td><td>11.6              </td><td>0.483             </td><td>0.0               </td><td>0.0               </td><td>⋯                 </td><td>0.750             </td><td>0.4               </td><td>3.2               </td><td>3.6               </td><td> 6.6              </td><td>10.2              </td><td> 1.0              </td><td>0.0               </td><td>2.2               </td><td>12.4              </td></tr>\n",
       "\t<tr><td>337               </td><td>Andrew Wiggins    </td><td>MIN               </td><td>5                 </td><td>36.5              </td><td>5.8               </td><td>15.4              </td><td>0.377             </td><td>1.2               </td><td>3.2               </td><td>⋯                 </td><td>0.615             </td><td>0.8               </td><td>1.6               </td><td>2.0               </td><td> 4.2              </td><td> 6.2              </td><td> 3.2              </td><td>1.2               </td><td>0.4               </td><td>14.4              </td></tr>\n",
       "\t<tr><td>338               </td><td>Alan Williams     </td><td>PHX               </td><td>2                 </td><td>10.2              </td><td>1.5               </td><td> 3.5              </td><td>0.429             </td><td>0.0               </td><td>0.0               </td><td>⋯                 </td><td>1.000             </td><td>1.0               </td><td>1.0               </td><td>0.0               </td><td> 3.5              </td><td> 3.5              </td><td> 1.5              </td><td>1.0               </td><td>0.0               </td><td> 4.0              </td></tr>\n",
       "\t<tr><td>339               </td><td>C.J. Williams     </td><td>LAC               </td><td>6                 </td><td>15.6              </td><td>1.8               </td><td> 4.8              </td><td>0.379             </td><td>0.0               </td><td>1.3               </td><td>⋯                 </td><td>0.000             </td><td>0.2               </td><td>0.8               </td><td>0.2               </td><td> 1.5              </td><td> 1.7              </td><td> 1.8              </td><td>0.5               </td><td>0.0               </td><td> 3.7              </td></tr>\n",
       "\t<tr><td>340               </td><td>Lou Williams      </td><td>LAC               </td><td>4                 </td><td>32.8              </td><td>6.0               </td><td>15.0              </td><td>0.400             </td><td>1.0               </td><td>3.2               </td><td>⋯                 </td><td>0.897             </td><td>2.5               </td><td>1.2               </td><td>0.2               </td><td> 1.0              </td><td> 1.2              </td><td> 3.5              </td><td>1.0               </td><td>0.0               </td><td>19.5              </td></tr>\n",
       "\t<tr><td>341               </td><td>Marvin Williams   </td><td>CHA               </td><td>5                 </td><td>22.9              </td><td>5.0               </td><td> 9.2              </td><td>0.543             </td><td>3.2               </td><td>5.4               </td><td>⋯                 </td><td>1.000             </td><td>0.6               </td><td>1.2               </td><td>0.8               </td><td> 3.6              </td><td> 4.4              </td><td> 2.4              </td><td>0.6               </td><td>1.0               </td><td>14.4              </td></tr>\n",
       "\t<tr><td>342               </td><td>Justise Winslow   </td><td>MIA               </td><td>5                 </td><td>28.4              </td><td>4.4               </td><td>10.2              </td><td>0.431             </td><td>0.2               </td><td>2.2               </td><td>⋯                 </td><td>0.583             </td><td>1.6               </td><td>1.6               </td><td>1.0               </td><td> 4.2              </td><td> 5.2              </td><td> 2.6              </td><td>0.8               </td><td>0.0               </td><td>10.4              </td></tr>\n",
       "\t<tr><td>343               </td><td>Delon Wright      </td><td>TOR               </td><td>6                 </td><td>22.5              </td><td>2.8               </td><td> 6.8              </td><td>0.415             </td><td>0.8               </td><td>2.8               </td><td>⋯                 </td><td>0.818             </td><td>0.8               </td><td>1.7               </td><td>0.3               </td><td> 3.8              </td><td> 4.2              </td><td> 3.5              </td><td>1.0               </td><td>0.3               </td><td> 8.0              </td></tr>\n",
       "\t<tr><td>344               </td><td>Guerschon Yabusele</td><td>BOS               </td><td>4                 </td><td>15.1              </td><td>2.0               </td><td> 4.5              </td><td>0.444             </td><td>0.5               </td><td>2.0               </td><td>⋯                 </td><td>0.778             </td><td>0.2               </td><td>0.5               </td><td>0.8               </td><td> 2.2              </td><td> 3.0              </td><td> 0.5              </td><td>0.5               </td><td>0.8               </td><td> 6.2              </td></tr>\n",
       "\t<tr><td>345               </td><td>Joe Young         </td><td>IND               </td><td>3                 </td><td>12.7              </td><td>2.0               </td><td> 5.0              </td><td>0.400             </td><td>1.0               </td><td>2.0               </td><td>⋯                 </td><td>0.000             </td><td>0.3               </td><td>1.0               </td><td>0.3               </td><td> 0.3              </td><td> 0.7              </td><td> 1.0              </td><td>0.0               </td><td>0.0               </td><td> 5.0              </td></tr>\n",
       "\t<tr><td>346               </td><td>Nick Young        </td><td>GSW               </td><td>6                 </td><td>22.9              </td><td>1.8               </td><td> 5.5              </td><td>0.333             </td><td>1.3               </td><td>3.8               </td><td>⋯                 </td><td>1.000             </td><td>0.3               </td><td>1.5               </td><td>0.3               </td><td> 3.0              </td><td> 3.3              </td><td> 0.5              </td><td>0.5               </td><td>0.0               </td><td> 6.2              </td></tr>\n",
       "\t<tr><td>347               </td><td>Thaddeus Young    </td><td>IND               </td><td>5                 </td><td>26.5              </td><td>4.0               </td><td> 9.0              </td><td>0.444             </td><td>0.0               </td><td>0.6               </td><td>⋯                 </td><td>0.625             </td><td>0.8               </td><td>1.8               </td><td>3.4               </td><td> 3.6              </td><td> 7.0              </td><td> 1.6              </td><td>1.4               </td><td>0.2               </td><td> 9.0              </td></tr>\n",
       "\t<tr><td>348               </td><td>Tyler Zeller      </td><td>MIL               </td><td>6                 </td><td>20.4              </td><td>3.7               </td><td> 5.0              </td><td>0.733             </td><td>0.0               </td><td>0.0               </td><td>⋯                 </td><td>1.000             </td><td>0.3               </td><td>2.8               </td><td>2.7               </td><td> 3.0              </td><td> 5.7              </td><td> 0.7              </td><td>0.0               </td><td>0.3               </td><td> 8.5              </td></tr>\n",
       "\t<tr><td>349               </td><td>Ivica Zubac       </td><td>LAL               </td><td>7                 </td><td>18.8              </td><td>2.3               </td><td> 5.0              </td><td>0.457             </td><td>0.0               </td><td>0.1               </td><td>⋯                 </td><td>0.700             </td><td>0.9               </td><td>2.1               </td><td>2.3               </td><td> 3.7              </td><td> 6.0              </td><td> 1.7              </td><td>0.4               </td><td>1.0               </td><td> 5.6              </td></tr>\n",
       "</tbody>\n",
       "</table>\n"
      ],
      "text/latex": [
       "\\begin{tabular}{r|lllllllllllllllllllllll}\n",
       " \\# & Player & Team & GP & MPG & FGM & FGA & FG\\% & 3PM & 3PA & ⋯ & FT\\% & TOV & PF & ORB & DRB & RPG & APG & SPG & BPG & PPG\\\\\n",
       "\\hline\n",
       "\t  1                    & Alex Abrines          & OKC                   & 4                     & 20.1                  &  1.5                  &  4.2                  & 0.353                 & 1.0                   & 3.8                   & ⋯                     & 0.800                 & 0.0                   & 2.2                   & 0.5                   & 1.2                   &  1.8                  & 0.2                   & 0.5                   & 0.0                   &  5.0                 \\\\\n",
       "\t  2                    & Quincy Acy            & BRK                   & 6                     & 19.2                  &  2.7                  &  6.2                  & 0.432                 & 2.2                   & 5.2                   & ⋯                     & 0.500                 & 0.3                   & 2.0                   & 0.3                   & 2.5                   &  2.8                  & 0.8                   & 0.7                   & 0.7                   &  7.7                 \\\\\n",
       "\t  3                    & Steven Adams          & OKC                   & 5                     & 33.2                  &  5.2                  &  8.0                  & 0.650                 & 0.0                   & 0.0                   & ⋯                     & 0.500                 & 2.8                   & 2.4                   & 4.2                   & 4.0                   &  8.2                  & 1.4                   & 0.6                   & 0.4                   & 12.8                 \\\\\n",
       "\t  4                    & Bam Adebayo           & MIA                   & 4                     & 15.9                  &  2.0                  &  4.2                  & 0.471                 & 0.0                   & 0.0                   & ⋯                     & 1.000                 & 1.2                   & 1.0                   & 1.5                   & 4.0                   &  5.5                  & 0.8                   & 0.8                   & 0.5                   &  6.0                 \\\\\n",
       "\t  5                    & Arron Afflalo         & ORL                   & 2                     & 12.4                  &  2.5                  &  4.5                  & 0.556                 & 1.0                   & 2.5                   & ⋯                     & 0.000                 & 0.0                   & 1.0                   & 0.0                   & 0.0                   &  0.0                  & 0.5                   & 0.0                   & 0.0                   &  6.0                 \\\\\n",
       "\t  6                    & LaMarcus Aldridge     & SAS                   & 6                     & 35.0                  & 10.0                  & 18.8                  & 0.531                 & 0.0                   & 0.8                   & ⋯                     & 0.909                 & 0.8                   & 1.8                   & 3.2                   & 6.7                   &  9.8                  & 1.7                   & 1.3                   & 1.5                   & 23.3                 \\\\\n",
       "\t  7                    & Jarrett Allen         & BRK                   & 6                     & 24.9                  &  3.5                  &  5.3                  & 0.656                 & 0.3                   & 0.3                   & ⋯                     & 0.583                 & 1.2                   & 2.5                   & 1.0                   & 4.8                   &  5.8                  & 0.3                   & 0.2                   & 3.2                   &  8.5                 \\\\\n",
       "\t  8                    & Kadeem Allen          & BOS                   & 6                     & 11.3                  &  0.8                  &  2.7                  & 0.312                 & 0.0                   & 1.3                   & ⋯                     & 0.800                 & 0.8                   & 1.7                   & 0.5                   & 0.7                   &  1.2                  & 1.5                   & 0.3                   & 0.3                   &  2.3                 \\\\\n",
       "\t  9                    & Al-Farouq Aminu       & POR                   & 6                     & 30.0                  &  2.8                  &  8.0                  & 0.354                 & 1.3                   & 5.0                   & ⋯                     & 0.800                 & 1.7                   & 2.2                   & 1.3                   & 6.8                   &  8.2                  & 1.0                   & 1.3                   & 0.7                   &  7.7                 \\\\\n",
       "\t 10                    & Justin Anderson       & PHI                   & 5                     & 10.9                  &  2.6                  &  5.6                  & 0.464                 & 1.2                   & 3.4                   & ⋯                     & 0.750                 & 0.4                   & 0.6                   & 1.0                   & 1.8                   &  2.8                  & 0.4                   & 0.4                   & 0.4                   &  7.6                 \\\\\n",
       "\t 11                    & Kyle Anderson         & SAS                   & 6                     & 26.7                  &  3.0                  &  5.7                  & 0.529                 & 0.5                   & 1.2                   & ⋯                     & 0.636                 & 0.3                   & 1.7                   & 0.8                   & 2.7                   &  3.5                  & 2.5                   & 1.8                   & 1.3                   &  7.7                 \\\\\n",
       "\t 12                    & Ryan Anderson         & HOU                   & 2                     & 11.8                  &  0.0                  &  1.0                  & 0.000                 & 0.0                   & 0.5                   & ⋯                     & 0.667                 & 0.0                   & 2.0                   & 0.0                   & 2.0                   &  2.0                  & 0.0                   & 0.0                   & 0.0                   &  1.0                 \\\\\n",
       "\t 13                    & Giannis Antetokounmpo & MIL                   & 4                     & 31.8                  &  7.5                  & 17.5                  & 0.429                 & 0.2                   & 2.2                   & ⋯                     & 0.789                 & 3.8                   & 3.2                   & 1.0                   & 9.8                   & 10.8                  & 5.5                   & 1.5                   & 0.8                   & 19.0                 \\\\\n",
       "\t 14                    & Carmelo Anthony       & OKC                   & 5                     & 30.5                  &  5.0                  & 13.4                  & 0.373                 & 1.8                   & 6.6                   & ⋯                     & 0.800                 & 1.2                   & 2.6                   & 1.4                   & 4.2                   &  5.6                  & 1.6                   & 0.2                   & 0.4                   & 14.2                 \\\\\n",
       "\t 15                    & Ogugua Anunoby        & TOR                   & 6                     & 20.7                  &  2.8                  &  5.0                  & 0.567                 & 1.5                   & 3.2                   & ⋯                     & 0.600                 & 0.5                   & 2.0                   & 1.0                   & 3.2                   &  4.2                  & 0.2                   & 0.3                   & 0.5                   &  7.7                 \\\\\n",
       "\t 16                    & Ryan Arcidiacono      & CHI                   & 6                     & 22.4                  &  1.2                  &  3.3                  & 0.350                 & 0.5                   & 2.3                   & ⋯                     & 0.500                 & 1.5                   & 1.3                   & 0.2                   & 2.3                   &  2.5                  & 2.8                   & 0.8                   & 0.0                   &  3.0                 \\\\\n",
       "\t 17                    & Trevor Ariza          & HOU                   & 4                     & 29.4                  &  3.0                  &  8.8                  & 0.343                 & 1.0                   & 5.5                   & ⋯                     & 0.500                 & 0.5                   & 2.0                   & 0.0                   & 2.8                   &  2.8                  & 0.5                   & 1.2                   & 0.0                   &  7.5                 \\\\\n",
       "\t 18                    & Jamel Artis           & ORL                   & 6                     & 27.5                  &  3.8                  &  8.7                  & 0.442                 & 1.0                   & 3.2                   & ⋯                     & 0.571                 & 1.2                   & 1.0                   & 0.3                   & 3.3                   &  3.7                  & 1.2                   & 0.3                   & 0.3                   &  9.3                 \\\\\n",
       "\t 19                    & Omer Asik             & CHI                   & 4                     & 15.3                  &  0.5                  &  1.5                  & 0.333                 & 0.0                   & 0.0                   & ⋯                     & 0.000                 & 1.0                   & 1.5                   & 0.5                   & 2.0                   &  2.5                  & 0.2                   & 0.2                   & 0.5                   &  1.0                 \\\\\n",
       "\t 20                    & D.J. Augustin         & ORL                   & 7                     & 22.4                  &  4.1                  &  8.1                  & 0.509                 & 1.3                   & 3.1                   & ⋯                     & 0.923                 & 1.7                   & 0.9                   & 0.6                   & 1.6                   &  2.1                  & 3.4                   & 0.3                   & 0.0                   & 11.3                 \\\\\n",
       "\t 21                    & Luke Babbitt          & MIA                   & 2                     & 15.8                  &  0.5                  &  5.0                  & 0.100                 & 0.5                   & 5.0                   & ⋯                     & 0.000                 & 0.0                   & 0.0                   & 0.5                   & 1.5                   &  2.0                  & 1.0                   & 0.0                   & 0.0                   &  1.5                 \\\\\n",
       "\t 22                    & Wade Baldwin IV       & POR                   & 4                     & 13.9                  &  2.2                  &  3.5                  & 0.643                 & 0.8                   & 1.0                   & ⋯                     & 1.000                 & 0.8                   & 2.2                   & 0.2                   & 0.5                   &  0.8                  & 0.8                   & 0.5                   & 0.2                   &  5.5                 \\\\\n",
       "\t 23                    & J.J. Barea            & DAL                   & 2                     & 15.3                  &  4.0                  &  7.0                  & 0.571                 & 1.5                   & 2.5                   & ⋯                     & 0.000                 & 1.5                   & 0.5                   & 0.5                   & 1.5                   &  2.0                  & 4.5                   & 0.5                   & 0.0                   &  9.5                 \\\\\n",
       "\t 24                    & Harrison Barnes       & DAL                   & 4                     & 36.0                  &  7.5                  & 17.8                  & 0.423                 & 2.5                   & 7.5                   & ⋯                     & 0.812                 & 1.5                   & 0.5                   & 0.5                   & 2.8                   &  3.2                  & 1.8                   & 0.0                   & 0.0                   & 20.8                 \\\\\n",
       "\t 25                    & Will Barton           & DEN                   & 6                     & 38.3                  &  7.7                  & 15.3                  & 0.500                 & 2.3                   & 6.2                   & ⋯                     & 0.786                 & 1.5                   & 3.2                   & 1.3                   & 5.8                   &  7.2                  & 4.3                   & 0.7                   & 0.5                   & 21.3                 \\\\\n",
       "\t 26                    & Nicolas Batum         & CHA                   & 5                     & 22.6                  &  3.4                  &  8.0                  & 0.425                 & 1.2                   & 3.6                   & ⋯                     & 0.909                 & 3.0                   & 1.0                   & 1.0                   & 3.0                   &  4.0                  & 4.6                   & 0.2                   & 0.4                   & 10.0                 \\\\\n",
       "\t 27                    & Aron Baynes           & BOS                   & 6                     & 19.9                  &  3.8                  &  8.7                  & 0.442                 & 0.2                   & 1.2                   & ⋯                     & 1.000                 & 1.0                   & 1.8                   & 3.0                   & 3.3                   &  6.3                  & 1.5                   & 0.7                   & 0.7                   &  8.2                 \\\\\n",
       "\t 28                    & Bradley Beal          & WAS                   & 6                     & 35.9                  &  7.3                  & 17.0                  & 0.431                 & 2.0                   & 6.0                   & ⋯                     & 0.833                 & 1.8                   & 2.7                   & 0.7                   & 4.2                   &  4.8                  & 4.5                   & 0.8                   & 0.3                   & 20.8                 \\\\\n",
       "\t 29                    & Michael Beasley       & NYK                   & 4                     & 17.9                  &  4.5                  &  9.5                  & 0.474                 & 0.5                   & 2.0                   & ⋯                     & 0.778                 & 1.5                   & 1.0                   & 1.8                   & 2.5                   &  4.2                  & 1.8                   & 1.0                   & 0.8                   & 11.2                 \\\\\n",
       "\t 30                    & Marco Belinelli       & PHI                   & 7                     & 28.3                  &  6.6                  & 12.7                  & 0.517                 & 3.1                   & 7.3                   & ⋯                     & 0.833                 & 2.6                   & 1.9                   & 0.1                   & 2.7                   &  2.9                  & 2.1                   & 1.1                   & 0.4                   & 18.4                 \\\\\n",
       "\t ⋮ & ⋮ & ⋮ & ⋮ & ⋮ & ⋮ & ⋮ & ⋮ & ⋮ & ⋮ & ⋱ & ⋮ & ⋮ & ⋮ & ⋮ & ⋮ & ⋮ & ⋮ & ⋮ & ⋮ & ⋮\\\\\n",
       "\t 320                & P.J. Tucker        & HOU                & 6                  & 28.0               & 2.2                &  6.3               & 0.342              & 1.7                & 5.3                & ⋯                  & 0.000              & 1.2                & 2.0                & 1.3                &  5.5               &  6.8               &  1.5               & 0.2                & 0.5                &  6.0              \\\\\n",
       "\t 321                & Evan Turner        & POR                & 6                  & 28.5               & 4.0                &  7.5               & 0.533              & 0.8                & 2.5                & ⋯                  & 1.000              & 1.3                & 3.2                & 0.2                &  2.2               &  2.3               &  1.8               & 1.2                & 0.3                &  9.5              \\\\\n",
       "\t 322                & Myles Turner       & IND                & 6                  & 23.8               & 3.0                &  8.0               & 0.375              & 0.5                & 2.3                & ⋯                  & 0.857              & 1.3                & 2.8                & 1.0                &  2.5               &  3.5               &  0.5               & 0.5                & 1.0                &  7.5              \\\\\n",
       "\t 323                & Ekpe Udoh          & UTA                & 5                  &  6.1               & 0.4                &  1.0               & 0.400              & 0.0                & 0.0                & ⋯                  & 0.500              & 0.0                & 1.4                & 0.8                &  0.6               &  1.4               &  0.4               & 0.2                & 0.4                &  1.0              \\\\\n",
       "\t 324                & Tyler Ulis         & PHX                & 5                  & 34.7               & 5.2                & 12.8               & 0.406              & 1.0                & 3.2                & ⋯                  & 0.929              & 3.0                & 1.4                & 0.6                &  2.2               &  2.8               &  8.0               & 1.4                & 0.2                & 14.0              \\\\\n",
       "\t 325                & Jonas Valanciunas  & TOR                & 5                  & 21.3               & 5.8                & 10.4               & 0.558              & 0.2                & 1.2                & ⋯                  & 0.875              & 1.2                & 1.4                & 2.4                &  6.2               &  8.6               &  0.6               & 0.0                & 0.8                & 13.2              \\\\\n",
       "\t 326                & Fred VanVleet      & TOR                & 5                  & 17.7               & 2.2                &  6.4               & 0.344              & 1.4                & 3.4                & ⋯                  & 0.800              & 1.0                & 1.2                & 0.2                &  1.4               &  1.6               &  3.8               & 0.4                & 0.2                &  6.6              \\\\\n",
       "\t 327                & Noah Vonleh        & CHI                & 2                  & 12.4               & 1.0                &  2.5               & 0.400              & 0.5                & 1.0                & ⋯                  & 0.000              & 1.5                & 0.5                & 0.0                &  2.5               &  2.5               &  0.5               & 0.5                & 0.0                &  2.5              \\\\\n",
       "\t 328                & Nikola Vucevic     & ORL                & 5                  & 23.1               & 4.2                & 11.4               & 0.368              & 0.0                & 1.2                & ⋯                  & 0.889              & 1.0                & 1.6                & 1.2                &  8.2               &  9.4               &  4.0               & 1.0                & 1.4                & 10.0              \\\\\n",
       "\t 329                & Dwyane Wade        & MIA                & 4                  & 21.0               & 3.8                & 10.5               & 0.357              & 0.2                & 2.2                & ⋯                  & 0.500              & 2.0                & 1.2                & 0.2                &  2.5               &  2.8               &  3.2               & 0.8                & 0.8                &  8.8              \\\\\n",
       "\t 330                & Kemba Walker       & CHA                & 5                  & 26.0               & 3.8                &  9.4               & 0.404              & 1.2                & 4.8                & ⋯                  & 0.938              & 2.4                & 0.0                & 0.0                &  1.2               &  1.2               &  4.4               & 0.2                & 0.2                & 11.8              \\\\\n",
       "\t 331                & John Wall          & WAS                & 3                  & 35.8               & 7.3                & 15.3               & 0.478              & 2.3                & 4.3                & ⋯                  & 0.789              & 7.0                & 3.0                & 0.0                &  5.0               &  5.0               & 12.0               & 2.3                & 1.0                & 22.0              \\\\\n",
       "\t 332                & Tyrone Wallace     & LAC                & 6                  & 31.3               & 3.8                &  8.7               & 0.442              & 0.2                & 1.8                & ⋯                  & 0.750              & 2.5                & 3.2                & 0.8                &  1.8               &  2.7               &  2.5               & 0.8                & 0.3                &  8.8              \\\\\n",
       "\t 333                & Travis Wear        & LAL                & 4                  & 13.9               & 0.8                &  3.8               & 0.200              & 0.2                & 1.5                & ⋯                  & 0.000              & 0.5                & 1.8                & 0.0                &  2.0               &  2.0               &  0.8               & 0.2                & 0.2                &  1.8              \\\\\n",
       "\t 334                & David West         & GSW                & 6                  & 12.9               & 1.7                &  4.0               & 0.417              & 0.0                & 0.0                & ⋯                  & 0.800              & 0.7                & 1.7                & 1.0                &  1.8               &  2.8               &  2.2               & 0.7                & 0.7                &  4.0              \\\\\n",
       "\t 335                & Russell Westbrook  & OKC                & 5                  & 38.0               & 8.8                & 20.2               & 0.436              & 1.2                & 3.6                & ⋯                  & 0.784              & 5.6                & 3.0                & 3.4                & 11.8               & 15.2               & 12.2               & 2.2                & 0.2                & 24.6              \\\\\n",
       "\t 336                & Hassan Whiteside   & MIA                & 5                  & 21.9               & 5.6                & 11.6               & 0.483              & 0.0                & 0.0                & ⋯                  & 0.750              & 0.4                & 3.2                & 3.6                &  6.6               & 10.2               &  1.0               & 0.0                & 2.2                & 12.4              \\\\\n",
       "\t 337                & Andrew Wiggins     & MIN                & 5                  & 36.5               & 5.8                & 15.4               & 0.377              & 1.2                & 3.2                & ⋯                  & 0.615              & 0.8                & 1.6                & 2.0                &  4.2               &  6.2               &  3.2               & 1.2                & 0.4                & 14.4              \\\\\n",
       "\t 338                & Alan Williams      & PHX                & 2                  & 10.2               & 1.5                &  3.5               & 0.429              & 0.0                & 0.0                & ⋯                  & 1.000              & 1.0                & 1.0                & 0.0                &  3.5               &  3.5               &  1.5               & 1.0                & 0.0                &  4.0              \\\\\n",
       "\t 339                & C.J. Williams      & LAC                & 6                  & 15.6               & 1.8                &  4.8               & 0.379              & 0.0                & 1.3                & ⋯                  & 0.000              & 0.2                & 0.8                & 0.2                &  1.5               &  1.7               &  1.8               & 0.5                & 0.0                &  3.7              \\\\\n",
       "\t 340                & Lou Williams       & LAC                & 4                  & 32.8               & 6.0                & 15.0               & 0.400              & 1.0                & 3.2                & ⋯                  & 0.897              & 2.5                & 1.2                & 0.2                &  1.0               &  1.2               &  3.5               & 1.0                & 0.0                & 19.5              \\\\\n",
       "\t 341                & Marvin Williams    & CHA                & 5                  & 22.9               & 5.0                &  9.2               & 0.543              & 3.2                & 5.4                & ⋯                  & 1.000              & 0.6                & 1.2                & 0.8                &  3.6               &  4.4               &  2.4               & 0.6                & 1.0                & 14.4              \\\\\n",
       "\t 342                & Justise Winslow    & MIA                & 5                  & 28.4               & 4.4                & 10.2               & 0.431              & 0.2                & 2.2                & ⋯                  & 0.583              & 1.6                & 1.6                & 1.0                &  4.2               &  5.2               &  2.6               & 0.8                & 0.0                & 10.4              \\\\\n",
       "\t 343                & Delon Wright       & TOR                & 6                  & 22.5               & 2.8                &  6.8               & 0.415              & 0.8                & 2.8                & ⋯                  & 0.818              & 0.8                & 1.7                & 0.3                &  3.8               &  4.2               &  3.5               & 1.0                & 0.3                &  8.0              \\\\\n",
       "\t 344                & Guerschon Yabusele & BOS                & 4                  & 15.1               & 2.0                &  4.5               & 0.444              & 0.5                & 2.0                & ⋯                  & 0.778              & 0.2                & 0.5                & 0.8                &  2.2               &  3.0               &  0.5               & 0.5                & 0.8                &  6.2              \\\\\n",
       "\t 345                & Joe Young          & IND                & 3                  & 12.7               & 2.0                &  5.0               & 0.400              & 1.0                & 2.0                & ⋯                  & 0.000              & 0.3                & 1.0                & 0.3                &  0.3               &  0.7               &  1.0               & 0.0                & 0.0                &  5.0              \\\\\n",
       "\t 346                & Nick Young         & GSW                & 6                  & 22.9               & 1.8                &  5.5               & 0.333              & 1.3                & 3.8                & ⋯                  & 1.000              & 0.3                & 1.5                & 0.3                &  3.0               &  3.3               &  0.5               & 0.5                & 0.0                &  6.2              \\\\\n",
       "\t 347                & Thaddeus Young     & IND                & 5                  & 26.5               & 4.0                &  9.0               & 0.444              & 0.0                & 0.6                & ⋯                  & 0.625              & 0.8                & 1.8                & 3.4                &  3.6               &  7.0               &  1.6               & 1.4                & 0.2                &  9.0              \\\\\n",
       "\t 348                & Tyler Zeller       & MIL                & 6                  & 20.4               & 3.7                &  5.0               & 0.733              & 0.0                & 0.0                & ⋯                  & 1.000              & 0.3                & 2.8                & 2.7                &  3.0               &  5.7               &  0.7               & 0.0                & 0.3                &  8.5              \\\\\n",
       "\t 349                & Ivica Zubac        & LAL                & 7                  & 18.8               & 2.3                &  5.0               & 0.457              & 0.0                & 0.1                & ⋯                  & 0.700              & 0.9                & 2.1                & 2.3                &  3.7               &  6.0               &  1.7               & 0.4                & 1.0                &  5.6              \\\\\n",
       "\\end{tabular}\n"
      ],
      "text/markdown": [
       "\n",
       "# | Player | Team | GP | MPG | FGM | FGA | FG% | 3PM | 3PA | ⋯ | FT% | TOV | PF | ORB | DRB | RPG | APG | SPG | BPG | PPG | \n",
       "|---|---|---|---|---|---|---|---|---|---|---|---|---|---|---|---|---|---|---|---|---|---|---|---|---|---|---|---|---|---|---|---|---|---|---|---|---|---|---|---|---|---|---|---|---|---|---|---|---|---|---|---|---|---|---|---|---|---|---|---|---|\n",
       "|  1                    | Alex Abrines          | OKC                   | 4                     | 20.1                  |  1.5                  |  4.2                  | 0.353                 | 1.0                   | 3.8                   | ⋯                     | 0.800                 | 0.0                   | 2.2                   | 0.5                   | 1.2                   |  1.8                  | 0.2                   | 0.5                   | 0.0                   |  5.0                  | \n",
       "|  2                    | Quincy Acy            | BRK                   | 6                     | 19.2                  |  2.7                  |  6.2                  | 0.432                 | 2.2                   | 5.2                   | ⋯                     | 0.500                 | 0.3                   | 2.0                   | 0.3                   | 2.5                   |  2.8                  | 0.8                   | 0.7                   | 0.7                   |  7.7                  | \n",
       "|  3                    | Steven Adams          | OKC                   | 5                     | 33.2                  |  5.2                  |  8.0                  | 0.650                 | 0.0                   | 0.0                   | ⋯                     | 0.500                 | 2.8                   | 2.4                   | 4.2                   | 4.0                   |  8.2                  | 1.4                   | 0.6                   | 0.4                   | 12.8                  | \n",
       "|  4                    | Bam Adebayo           | MIA                   | 4                     | 15.9                  |  2.0                  |  4.2                  | 0.471                 | 0.0                   | 0.0                   | ⋯                     | 1.000                 | 1.2                   | 1.0                   | 1.5                   | 4.0                   |  5.5                  | 0.8                   | 0.8                   | 0.5                   |  6.0                  | \n",
       "|  5                    | Arron Afflalo         | ORL                   | 2                     | 12.4                  |  2.5                  |  4.5                  | 0.556                 | 1.0                   | 2.5                   | ⋯                     | 0.000                 | 0.0                   | 1.0                   | 0.0                   | 0.0                   |  0.0                  | 0.5                   | 0.0                   | 0.0                   |  6.0                  | \n",
       "|  6                    | LaMarcus Aldridge     | SAS                   | 6                     | 35.0                  | 10.0                  | 18.8                  | 0.531                 | 0.0                   | 0.8                   | ⋯                     | 0.909                 | 0.8                   | 1.8                   | 3.2                   | 6.7                   |  9.8                  | 1.7                   | 1.3                   | 1.5                   | 23.3                  | \n",
       "|  7                    | Jarrett Allen         | BRK                   | 6                     | 24.9                  |  3.5                  |  5.3                  | 0.656                 | 0.3                   | 0.3                   | ⋯                     | 0.583                 | 1.2                   | 2.5                   | 1.0                   | 4.8                   |  5.8                  | 0.3                   | 0.2                   | 3.2                   |  8.5                  | \n",
       "|  8                    | Kadeem Allen          | BOS                   | 6                     | 11.3                  |  0.8                  |  2.7                  | 0.312                 | 0.0                   | 1.3                   | ⋯                     | 0.800                 | 0.8                   | 1.7                   | 0.5                   | 0.7                   |  1.2                  | 1.5                   | 0.3                   | 0.3                   |  2.3                  | \n",
       "|  9                    | Al-Farouq Aminu       | POR                   | 6                     | 30.0                  |  2.8                  |  8.0                  | 0.354                 | 1.3                   | 5.0                   | ⋯                     | 0.800                 | 1.7                   | 2.2                   | 1.3                   | 6.8                   |  8.2                  | 1.0                   | 1.3                   | 0.7                   |  7.7                  | \n",
       "| 10                    | Justin Anderson       | PHI                   | 5                     | 10.9                  |  2.6                  |  5.6                  | 0.464                 | 1.2                   | 3.4                   | ⋯                     | 0.750                 | 0.4                   | 0.6                   | 1.0                   | 1.8                   |  2.8                  | 0.4                   | 0.4                   | 0.4                   |  7.6                  | \n",
       "| 11                    | Kyle Anderson         | SAS                   | 6                     | 26.7                  |  3.0                  |  5.7                  | 0.529                 | 0.5                   | 1.2                   | ⋯                     | 0.636                 | 0.3                   | 1.7                   | 0.8                   | 2.7                   |  3.5                  | 2.5                   | 1.8                   | 1.3                   |  7.7                  | \n",
       "| 12                    | Ryan Anderson         | HOU                   | 2                     | 11.8                  |  0.0                  |  1.0                  | 0.000                 | 0.0                   | 0.5                   | ⋯                     | 0.667                 | 0.0                   | 2.0                   | 0.0                   | 2.0                   |  2.0                  | 0.0                   | 0.0                   | 0.0                   |  1.0                  | \n",
       "| 13                    | Giannis Antetokounmpo | MIL                   | 4                     | 31.8                  |  7.5                  | 17.5                  | 0.429                 | 0.2                   | 2.2                   | ⋯                     | 0.789                 | 3.8                   | 3.2                   | 1.0                   | 9.8                   | 10.8                  | 5.5                   | 1.5                   | 0.8                   | 19.0                  | \n",
       "| 14                    | Carmelo Anthony       | OKC                   | 5                     | 30.5                  |  5.0                  | 13.4                  | 0.373                 | 1.8                   | 6.6                   | ⋯                     | 0.800                 | 1.2                   | 2.6                   | 1.4                   | 4.2                   |  5.6                  | 1.6                   | 0.2                   | 0.4                   | 14.2                  | \n",
       "| 15                    | Ogugua Anunoby        | TOR                   | 6                     | 20.7                  |  2.8                  |  5.0                  | 0.567                 | 1.5                   | 3.2                   | ⋯                     | 0.600                 | 0.5                   | 2.0                   | 1.0                   | 3.2                   |  4.2                  | 0.2                   | 0.3                   | 0.5                   |  7.7                  | \n",
       "| 16                    | Ryan Arcidiacono      | CHI                   | 6                     | 22.4                  |  1.2                  |  3.3                  | 0.350                 | 0.5                   | 2.3                   | ⋯                     | 0.500                 | 1.5                   | 1.3                   | 0.2                   | 2.3                   |  2.5                  | 2.8                   | 0.8                   | 0.0                   |  3.0                  | \n",
       "| 17                    | Trevor Ariza          | HOU                   | 4                     | 29.4                  |  3.0                  |  8.8                  | 0.343                 | 1.0                   | 5.5                   | ⋯                     | 0.500                 | 0.5                   | 2.0                   | 0.0                   | 2.8                   |  2.8                  | 0.5                   | 1.2                   | 0.0                   |  7.5                  | \n",
       "| 18                    | Jamel Artis           | ORL                   | 6                     | 27.5                  |  3.8                  |  8.7                  | 0.442                 | 1.0                   | 3.2                   | ⋯                     | 0.571                 | 1.2                   | 1.0                   | 0.3                   | 3.3                   |  3.7                  | 1.2                   | 0.3                   | 0.3                   |  9.3                  | \n",
       "| 19                    | Omer Asik             | CHI                   | 4                     | 15.3                  |  0.5                  |  1.5                  | 0.333                 | 0.0                   | 0.0                   | ⋯                     | 0.000                 | 1.0                   | 1.5                   | 0.5                   | 2.0                   |  2.5                  | 0.2                   | 0.2                   | 0.5                   |  1.0                  | \n",
       "| 20                    | D.J. Augustin         | ORL                   | 7                     | 22.4                  |  4.1                  |  8.1                  | 0.509                 | 1.3                   | 3.1                   | ⋯                     | 0.923                 | 1.7                   | 0.9                   | 0.6                   | 1.6                   |  2.1                  | 3.4                   | 0.3                   | 0.0                   | 11.3                  | \n",
       "| 21                    | Luke Babbitt          | MIA                   | 2                     | 15.8                  |  0.5                  |  5.0                  | 0.100                 | 0.5                   | 5.0                   | ⋯                     | 0.000                 | 0.0                   | 0.0                   | 0.5                   | 1.5                   |  2.0                  | 1.0                   | 0.0                   | 0.0                   |  1.5                  | \n",
       "| 22                    | Wade Baldwin IV       | POR                   | 4                     | 13.9                  |  2.2                  |  3.5                  | 0.643                 | 0.8                   | 1.0                   | ⋯                     | 1.000                 | 0.8                   | 2.2                   | 0.2                   | 0.5                   |  0.8                  | 0.8                   | 0.5                   | 0.2                   |  5.5                  | \n",
       "| 23                    | J.J. Barea            | DAL                   | 2                     | 15.3                  |  4.0                  |  7.0                  | 0.571                 | 1.5                   | 2.5                   | ⋯                     | 0.000                 | 1.5                   | 0.5                   | 0.5                   | 1.5                   |  2.0                  | 4.5                   | 0.5                   | 0.0                   |  9.5                  | \n",
       "| 24                    | Harrison Barnes       | DAL                   | 4                     | 36.0                  |  7.5                  | 17.8                  | 0.423                 | 2.5                   | 7.5                   | ⋯                     | 0.812                 | 1.5                   | 0.5                   | 0.5                   | 2.8                   |  3.2                  | 1.8                   | 0.0                   | 0.0                   | 20.8                  | \n",
       "| 25                    | Will Barton           | DEN                   | 6                     | 38.3                  |  7.7                  | 15.3                  | 0.500                 | 2.3                   | 6.2                   | ⋯                     | 0.786                 | 1.5                   | 3.2                   | 1.3                   | 5.8                   |  7.2                  | 4.3                   | 0.7                   | 0.5                   | 21.3                  | \n",
       "| 26                    | Nicolas Batum         | CHA                   | 5                     | 22.6                  |  3.4                  |  8.0                  | 0.425                 | 1.2                   | 3.6                   | ⋯                     | 0.909                 | 3.0                   | 1.0                   | 1.0                   | 3.0                   |  4.0                  | 4.6                   | 0.2                   | 0.4                   | 10.0                  | \n",
       "| 27                    | Aron Baynes           | BOS                   | 6                     | 19.9                  |  3.8                  |  8.7                  | 0.442                 | 0.2                   | 1.2                   | ⋯                     | 1.000                 | 1.0                   | 1.8                   | 3.0                   | 3.3                   |  6.3                  | 1.5                   | 0.7                   | 0.7                   |  8.2                  | \n",
       "| 28                    | Bradley Beal          | WAS                   | 6                     | 35.9                  |  7.3                  | 17.0                  | 0.431                 | 2.0                   | 6.0                   | ⋯                     | 0.833                 | 1.8                   | 2.7                   | 0.7                   | 4.2                   |  4.8                  | 4.5                   | 0.8                   | 0.3                   | 20.8                  | \n",
       "| 29                    | Michael Beasley       | NYK                   | 4                     | 17.9                  |  4.5                  |  9.5                  | 0.474                 | 0.5                   | 2.0                   | ⋯                     | 0.778                 | 1.5                   | 1.0                   | 1.8                   | 2.5                   |  4.2                  | 1.8                   | 1.0                   | 0.8                   | 11.2                  | \n",
       "| 30                    | Marco Belinelli       | PHI                   | 7                     | 28.3                  |  6.6                  | 12.7                  | 0.517                 | 3.1                   | 7.3                   | ⋯                     | 0.833                 | 2.6                   | 1.9                   | 0.1                   | 2.7                   |  2.9                  | 2.1                   | 1.1                   | 0.4                   | 18.4                  | \n",
       "| ⋮ | ⋮ | ⋮ | ⋮ | ⋮ | ⋮ | ⋮ | ⋮ | ⋮ | ⋮ | ⋱ | ⋮ | ⋮ | ⋮ | ⋮ | ⋮ | ⋮ | ⋮ | ⋮ | ⋮ | ⋮ | \n",
       "| 320                | P.J. Tucker        | HOU                | 6                  | 28.0               | 2.2                |  6.3               | 0.342              | 1.7                | 5.3                | ⋯                  | 0.000              | 1.2                | 2.0                | 1.3                |  5.5               |  6.8               |  1.5               | 0.2                | 0.5                |  6.0               | \n",
       "| 321                | Evan Turner        | POR                | 6                  | 28.5               | 4.0                |  7.5               | 0.533              | 0.8                | 2.5                | ⋯                  | 1.000              | 1.3                | 3.2                | 0.2                |  2.2               |  2.3               |  1.8               | 1.2                | 0.3                |  9.5               | \n",
       "| 322                | Myles Turner       | IND                | 6                  | 23.8               | 3.0                |  8.0               | 0.375              | 0.5                | 2.3                | ⋯                  | 0.857              | 1.3                | 2.8                | 1.0                |  2.5               |  3.5               |  0.5               | 0.5                | 1.0                |  7.5               | \n",
       "| 323                | Ekpe Udoh          | UTA                | 5                  |  6.1               | 0.4                |  1.0               | 0.400              | 0.0                | 0.0                | ⋯                  | 0.500              | 0.0                | 1.4                | 0.8                |  0.6               |  1.4               |  0.4               | 0.2                | 0.4                |  1.0               | \n",
       "| 324                | Tyler Ulis         | PHX                | 5                  | 34.7               | 5.2                | 12.8               | 0.406              | 1.0                | 3.2                | ⋯                  | 0.929              | 3.0                | 1.4                | 0.6                |  2.2               |  2.8               |  8.0               | 1.4                | 0.2                | 14.0               | \n",
       "| 325                | Jonas Valanciunas  | TOR                | 5                  | 21.3               | 5.8                | 10.4               | 0.558              | 0.2                | 1.2                | ⋯                  | 0.875              | 1.2                | 1.4                | 2.4                |  6.2               |  8.6               |  0.6               | 0.0                | 0.8                | 13.2               | \n",
       "| 326                | Fred VanVleet      | TOR                | 5                  | 17.7               | 2.2                |  6.4               | 0.344              | 1.4                | 3.4                | ⋯                  | 0.800              | 1.0                | 1.2                | 0.2                |  1.4               |  1.6               |  3.8               | 0.4                | 0.2                |  6.6               | \n",
       "| 327                | Noah Vonleh        | CHI                | 2                  | 12.4               | 1.0                |  2.5               | 0.400              | 0.5                | 1.0                | ⋯                  | 0.000              | 1.5                | 0.5                | 0.0                |  2.5               |  2.5               |  0.5               | 0.5                | 0.0                |  2.5               | \n",
       "| 328                | Nikola Vucevic     | ORL                | 5                  | 23.1               | 4.2                | 11.4               | 0.368              | 0.0                | 1.2                | ⋯                  | 0.889              | 1.0                | 1.6                | 1.2                |  8.2               |  9.4               |  4.0               | 1.0                | 1.4                | 10.0               | \n",
       "| 329                | Dwyane Wade        | MIA                | 4                  | 21.0               | 3.8                | 10.5               | 0.357              | 0.2                | 2.2                | ⋯                  | 0.500              | 2.0                | 1.2                | 0.2                |  2.5               |  2.8               |  3.2               | 0.8                | 0.8                |  8.8               | \n",
       "| 330                | Kemba Walker       | CHA                | 5                  | 26.0               | 3.8                |  9.4               | 0.404              | 1.2                | 4.8                | ⋯                  | 0.938              | 2.4                | 0.0                | 0.0                |  1.2               |  1.2               |  4.4               | 0.2                | 0.2                | 11.8               | \n",
       "| 331                | John Wall          | WAS                | 3                  | 35.8               | 7.3                | 15.3               | 0.478              | 2.3                | 4.3                | ⋯                  | 0.789              | 7.0                | 3.0                | 0.0                |  5.0               |  5.0               | 12.0               | 2.3                | 1.0                | 22.0               | \n",
       "| 332                | Tyrone Wallace     | LAC                | 6                  | 31.3               | 3.8                |  8.7               | 0.442              | 0.2                | 1.8                | ⋯                  | 0.750              | 2.5                | 3.2                | 0.8                |  1.8               |  2.7               |  2.5               | 0.8                | 0.3                |  8.8               | \n",
       "| 333                | Travis Wear        | LAL                | 4                  | 13.9               | 0.8                |  3.8               | 0.200              | 0.2                | 1.5                | ⋯                  | 0.000              | 0.5                | 1.8                | 0.0                |  2.0               |  2.0               |  0.8               | 0.2                | 0.2                |  1.8               | \n",
       "| 334                | David West         | GSW                | 6                  | 12.9               | 1.7                |  4.0               | 0.417              | 0.0                | 0.0                | ⋯                  | 0.800              | 0.7                | 1.7                | 1.0                |  1.8               |  2.8               |  2.2               | 0.7                | 0.7                |  4.0               | \n",
       "| 335                | Russell Westbrook  | OKC                | 5                  | 38.0               | 8.8                | 20.2               | 0.436              | 1.2                | 3.6                | ⋯                  | 0.784              | 5.6                | 3.0                | 3.4                | 11.8               | 15.2               | 12.2               | 2.2                | 0.2                | 24.6               | \n",
       "| 336                | Hassan Whiteside   | MIA                | 5                  | 21.9               | 5.6                | 11.6               | 0.483              | 0.0                | 0.0                | ⋯                  | 0.750              | 0.4                | 3.2                | 3.6                |  6.6               | 10.2               |  1.0               | 0.0                | 2.2                | 12.4               | \n",
       "| 337                | Andrew Wiggins     | MIN                | 5                  | 36.5               | 5.8                | 15.4               | 0.377              | 1.2                | 3.2                | ⋯                  | 0.615              | 0.8                | 1.6                | 2.0                |  4.2               |  6.2               |  3.2               | 1.2                | 0.4                | 14.4               | \n",
       "| 338                | Alan Williams      | PHX                | 2                  | 10.2               | 1.5                |  3.5               | 0.429              | 0.0                | 0.0                | ⋯                  | 1.000              | 1.0                | 1.0                | 0.0                |  3.5               |  3.5               |  1.5               | 1.0                | 0.0                |  4.0               | \n",
       "| 339                | C.J. Williams      | LAC                | 6                  | 15.6               | 1.8                |  4.8               | 0.379              | 0.0                | 1.3                | ⋯                  | 0.000              | 0.2                | 0.8                | 0.2                |  1.5               |  1.7               |  1.8               | 0.5                | 0.0                |  3.7               | \n",
       "| 340                | Lou Williams       | LAC                | 4                  | 32.8               | 6.0                | 15.0               | 0.400              | 1.0                | 3.2                | ⋯                  | 0.897              | 2.5                | 1.2                | 0.2                |  1.0               |  1.2               |  3.5               | 1.0                | 0.0                | 19.5               | \n",
       "| 341                | Marvin Williams    | CHA                | 5                  | 22.9               | 5.0                |  9.2               | 0.543              | 3.2                | 5.4                | ⋯                  | 1.000              | 0.6                | 1.2                | 0.8                |  3.6               |  4.4               |  2.4               | 0.6                | 1.0                | 14.4               | \n",
       "| 342                | Justise Winslow    | MIA                | 5                  | 28.4               | 4.4                | 10.2               | 0.431              | 0.2                | 2.2                | ⋯                  | 0.583              | 1.6                | 1.6                | 1.0                |  4.2               |  5.2               |  2.6               | 0.8                | 0.0                | 10.4               | \n",
       "| 343                | Delon Wright       | TOR                | 6                  | 22.5               | 2.8                |  6.8               | 0.415              | 0.8                | 2.8                | ⋯                  | 0.818              | 0.8                | 1.7                | 0.3                |  3.8               |  4.2               |  3.5               | 1.0                | 0.3                |  8.0               | \n",
       "| 344                | Guerschon Yabusele | BOS                | 4                  | 15.1               | 2.0                |  4.5               | 0.444              | 0.5                | 2.0                | ⋯                  | 0.778              | 0.2                | 0.5                | 0.8                |  2.2               |  3.0               |  0.5               | 0.5                | 0.8                |  6.2               | \n",
       "| 345                | Joe Young          | IND                | 3                  | 12.7               | 2.0                |  5.0               | 0.400              | 1.0                | 2.0                | ⋯                  | 0.000              | 0.3                | 1.0                | 0.3                |  0.3               |  0.7               |  1.0               | 0.0                | 0.0                |  5.0               | \n",
       "| 346                | Nick Young         | GSW                | 6                  | 22.9               | 1.8                |  5.5               | 0.333              | 1.3                | 3.8                | ⋯                  | 1.000              | 0.3                | 1.5                | 0.3                |  3.0               |  3.3               |  0.5               | 0.5                | 0.0                |  6.2               | \n",
       "| 347                | Thaddeus Young     | IND                | 5                  | 26.5               | 4.0                |  9.0               | 0.444              | 0.0                | 0.6                | ⋯                  | 0.625              | 0.8                | 1.8                | 3.4                |  3.6               |  7.0               |  1.6               | 1.4                | 0.2                |  9.0               | \n",
       "| 348                | Tyler Zeller       | MIL                | 6                  | 20.4               | 3.7                |  5.0               | 0.733              | 0.0                | 0.0                | ⋯                  | 1.000              | 0.3                | 2.8                | 2.7                |  3.0               |  5.7               |  0.7               | 0.0                | 0.3                |  8.5               | \n",
       "| 349                | Ivica Zubac        | LAL                | 7                  | 18.8               | 2.3                |  5.0               | 0.457              | 0.0                | 0.1                | ⋯                  | 0.700              | 0.9                | 2.1                | 2.3                |  3.7               |  6.0               |  1.7               | 0.4                | 1.0                |  5.6               | \n",
       "\n",
       "\n"
      ],
      "text/plain": [
       "    #   Player                Team GP MPG  FGM  FGA  FG%   3PM 3PA ⋯ FT%   TOV\n",
       "1    1  Alex Abrines          OKC  4  20.1  1.5  4.2 0.353 1.0 3.8 ⋯ 0.800 0.0\n",
       "2    2  Quincy Acy            BRK  6  19.2  2.7  6.2 0.432 2.2 5.2 ⋯ 0.500 0.3\n",
       "3    3  Steven Adams          OKC  5  33.2  5.2  8.0 0.650 0.0 0.0 ⋯ 0.500 2.8\n",
       "4    4  Bam Adebayo           MIA  4  15.9  2.0  4.2 0.471 0.0 0.0 ⋯ 1.000 1.2\n",
       "5    5  Arron Afflalo         ORL  2  12.4  2.5  4.5 0.556 1.0 2.5 ⋯ 0.000 0.0\n",
       "6    6  LaMarcus Aldridge     SAS  6  35.0 10.0 18.8 0.531 0.0 0.8 ⋯ 0.909 0.8\n",
       "7    7  Jarrett Allen         BRK  6  24.9  3.5  5.3 0.656 0.3 0.3 ⋯ 0.583 1.2\n",
       "8    8  Kadeem Allen          BOS  6  11.3  0.8  2.7 0.312 0.0 1.3 ⋯ 0.800 0.8\n",
       "9    9  Al-Farouq Aminu       POR  6  30.0  2.8  8.0 0.354 1.3 5.0 ⋯ 0.800 1.7\n",
       "10  10  Justin Anderson       PHI  5  10.9  2.6  5.6 0.464 1.2 3.4 ⋯ 0.750 0.4\n",
       "11  11  Kyle Anderson         SAS  6  26.7  3.0  5.7 0.529 0.5 1.2 ⋯ 0.636 0.3\n",
       "12  12  Ryan Anderson         HOU  2  11.8  0.0  1.0 0.000 0.0 0.5 ⋯ 0.667 0.0\n",
       "13  13  Giannis Antetokounmpo MIL  4  31.8  7.5 17.5 0.429 0.2 2.2 ⋯ 0.789 3.8\n",
       "14  14  Carmelo Anthony       OKC  5  30.5  5.0 13.4 0.373 1.8 6.6 ⋯ 0.800 1.2\n",
       "15  15  Ogugua Anunoby        TOR  6  20.7  2.8  5.0 0.567 1.5 3.2 ⋯ 0.600 0.5\n",
       "16  16  Ryan Arcidiacono      CHI  6  22.4  1.2  3.3 0.350 0.5 2.3 ⋯ 0.500 1.5\n",
       "17  17  Trevor Ariza          HOU  4  29.4  3.0  8.8 0.343 1.0 5.5 ⋯ 0.500 0.5\n",
       "18  18  Jamel Artis           ORL  6  27.5  3.8  8.7 0.442 1.0 3.2 ⋯ 0.571 1.2\n",
       "19  19  Omer Asik             CHI  4  15.3  0.5  1.5 0.333 0.0 0.0 ⋯ 0.000 1.0\n",
       "20  20  D.J. Augustin         ORL  7  22.4  4.1  8.1 0.509 1.3 3.1 ⋯ 0.923 1.7\n",
       "21  21  Luke Babbitt          MIA  2  15.8  0.5  5.0 0.100 0.5 5.0 ⋯ 0.000 0.0\n",
       "22  22  Wade Baldwin IV       POR  4  13.9  2.2  3.5 0.643 0.8 1.0 ⋯ 1.000 0.8\n",
       "23  23  J.J. Barea            DAL  2  15.3  4.0  7.0 0.571 1.5 2.5 ⋯ 0.000 1.5\n",
       "24  24  Harrison Barnes       DAL  4  36.0  7.5 17.8 0.423 2.5 7.5 ⋯ 0.812 1.5\n",
       "25  25  Will Barton           DEN  6  38.3  7.7 15.3 0.500 2.3 6.2 ⋯ 0.786 1.5\n",
       "26  26  Nicolas Batum         CHA  5  22.6  3.4  8.0 0.425 1.2 3.6 ⋯ 0.909 3.0\n",
       "27  27  Aron Baynes           BOS  6  19.9  3.8  8.7 0.442 0.2 1.2 ⋯ 1.000 1.0\n",
       "28  28  Bradley Beal          WAS  6  35.9  7.3 17.0 0.431 2.0 6.0 ⋯ 0.833 1.8\n",
       "29  29  Michael Beasley       NYK  4  17.9  4.5  9.5 0.474 0.5 2.0 ⋯ 0.778 1.5\n",
       "30  30  Marco Belinelli       PHI  7  28.3  6.6 12.7 0.517 3.1 7.3 ⋯ 0.833 2.6\n",
       "⋮   ⋮   ⋮                     ⋮    ⋮  ⋮    ⋮    ⋮    ⋮     ⋮   ⋮   ⋱ ⋮     ⋮  \n",
       "320 320 P.J. Tucker           HOU  6  28.0 2.2   6.3 0.342 1.7 5.3 ⋯ 0.000 1.2\n",
       "321 321 Evan Turner           POR  6  28.5 4.0   7.5 0.533 0.8 2.5 ⋯ 1.000 1.3\n",
       "322 322 Myles Turner          IND  6  23.8 3.0   8.0 0.375 0.5 2.3 ⋯ 0.857 1.3\n",
       "323 323 Ekpe Udoh             UTA  5   6.1 0.4   1.0 0.400 0.0 0.0 ⋯ 0.500 0.0\n",
       "324 324 Tyler Ulis            PHX  5  34.7 5.2  12.8 0.406 1.0 3.2 ⋯ 0.929 3.0\n",
       "325 325 Jonas Valanciunas     TOR  5  21.3 5.8  10.4 0.558 0.2 1.2 ⋯ 0.875 1.2\n",
       "326 326 Fred VanVleet         TOR  5  17.7 2.2   6.4 0.344 1.4 3.4 ⋯ 0.800 1.0\n",
       "327 327 Noah Vonleh           CHI  2  12.4 1.0   2.5 0.400 0.5 1.0 ⋯ 0.000 1.5\n",
       "328 328 Nikola Vucevic        ORL  5  23.1 4.2  11.4 0.368 0.0 1.2 ⋯ 0.889 1.0\n",
       "329 329 Dwyane Wade           MIA  4  21.0 3.8  10.5 0.357 0.2 2.2 ⋯ 0.500 2.0\n",
       "330 330 Kemba Walker          CHA  5  26.0 3.8   9.4 0.404 1.2 4.8 ⋯ 0.938 2.4\n",
       "331 331 John Wall             WAS  3  35.8 7.3  15.3 0.478 2.3 4.3 ⋯ 0.789 7.0\n",
       "332 332 Tyrone Wallace        LAC  6  31.3 3.8   8.7 0.442 0.2 1.8 ⋯ 0.750 2.5\n",
       "333 333 Travis Wear           LAL  4  13.9 0.8   3.8 0.200 0.2 1.5 ⋯ 0.000 0.5\n",
       "334 334 David West            GSW  6  12.9 1.7   4.0 0.417 0.0 0.0 ⋯ 0.800 0.7\n",
       "335 335 Russell Westbrook     OKC  5  38.0 8.8  20.2 0.436 1.2 3.6 ⋯ 0.784 5.6\n",
       "336 336 Hassan Whiteside      MIA  5  21.9 5.6  11.6 0.483 0.0 0.0 ⋯ 0.750 0.4\n",
       "337 337 Andrew Wiggins        MIN  5  36.5 5.8  15.4 0.377 1.2 3.2 ⋯ 0.615 0.8\n",
       "338 338 Alan Williams         PHX  2  10.2 1.5   3.5 0.429 0.0 0.0 ⋯ 1.000 1.0\n",
       "339 339 C.J. Williams         LAC  6  15.6 1.8   4.8 0.379 0.0 1.3 ⋯ 0.000 0.2\n",
       "340 340 Lou Williams          LAC  4  32.8 6.0  15.0 0.400 1.0 3.2 ⋯ 0.897 2.5\n",
       "341 341 Marvin Williams       CHA  5  22.9 5.0   9.2 0.543 3.2 5.4 ⋯ 1.000 0.6\n",
       "342 342 Justise Winslow       MIA  5  28.4 4.4  10.2 0.431 0.2 2.2 ⋯ 0.583 1.6\n",
       "343 343 Delon Wright          TOR  6  22.5 2.8   6.8 0.415 0.8 2.8 ⋯ 0.818 0.8\n",
       "344 344 Guerschon Yabusele    BOS  4  15.1 2.0   4.5 0.444 0.5 2.0 ⋯ 0.778 0.2\n",
       "345 345 Joe Young             IND  3  12.7 2.0   5.0 0.400 1.0 2.0 ⋯ 0.000 0.3\n",
       "346 346 Nick Young            GSW  6  22.9 1.8   5.5 0.333 1.3 3.8 ⋯ 1.000 0.3\n",
       "347 347 Thaddeus Young        IND  5  26.5 4.0   9.0 0.444 0.0 0.6 ⋯ 0.625 0.8\n",
       "348 348 Tyler Zeller          MIL  6  20.4 3.7   5.0 0.733 0.0 0.0 ⋯ 1.000 0.3\n",
       "349 349 Ivica Zubac           LAL  7  18.8 2.3   5.0 0.457 0.0 0.1 ⋯ 0.700 0.9\n",
       "    PF  ORB DRB  RPG  APG  SPG BPG PPG \n",
       "1   2.2 0.5 1.2   1.8 0.2  0.5 0.0  5.0\n",
       "2   2.0 0.3 2.5   2.8 0.8  0.7 0.7  7.7\n",
       "3   2.4 4.2 4.0   8.2 1.4  0.6 0.4 12.8\n",
       "4   1.0 1.5 4.0   5.5 0.8  0.8 0.5  6.0\n",
       "5   1.0 0.0 0.0   0.0 0.5  0.0 0.0  6.0\n",
       "6   1.8 3.2 6.7   9.8 1.7  1.3 1.5 23.3\n",
       "7   2.5 1.0 4.8   5.8 0.3  0.2 3.2  8.5\n",
       "8   1.7 0.5 0.7   1.2 1.5  0.3 0.3  2.3\n",
       "9   2.2 1.3 6.8   8.2 1.0  1.3 0.7  7.7\n",
       "10  0.6 1.0 1.8   2.8 0.4  0.4 0.4  7.6\n",
       "11  1.7 0.8 2.7   3.5 2.5  1.8 1.3  7.7\n",
       "12  2.0 0.0 2.0   2.0 0.0  0.0 0.0  1.0\n",
       "13  3.2 1.0 9.8  10.8 5.5  1.5 0.8 19.0\n",
       "14  2.6 1.4 4.2   5.6 1.6  0.2 0.4 14.2\n",
       "15  2.0 1.0 3.2   4.2 0.2  0.3 0.5  7.7\n",
       "16  1.3 0.2 2.3   2.5 2.8  0.8 0.0  3.0\n",
       "17  2.0 0.0 2.8   2.8 0.5  1.2 0.0  7.5\n",
       "18  1.0 0.3 3.3   3.7 1.2  0.3 0.3  9.3\n",
       "19  1.5 0.5 2.0   2.5 0.2  0.2 0.5  1.0\n",
       "20  0.9 0.6 1.6   2.1 3.4  0.3 0.0 11.3\n",
       "21  0.0 0.5 1.5   2.0 1.0  0.0 0.0  1.5\n",
       "22  2.2 0.2 0.5   0.8 0.8  0.5 0.2  5.5\n",
       "23  0.5 0.5 1.5   2.0 4.5  0.5 0.0  9.5\n",
       "24  0.5 0.5 2.8   3.2 1.8  0.0 0.0 20.8\n",
       "25  3.2 1.3 5.8   7.2 4.3  0.7 0.5 21.3\n",
       "26  1.0 1.0 3.0   4.0 4.6  0.2 0.4 10.0\n",
       "27  1.8 3.0 3.3   6.3 1.5  0.7 0.7  8.2\n",
       "28  2.7 0.7 4.2   4.8 4.5  0.8 0.3 20.8\n",
       "29  1.0 1.8 2.5   4.2 1.8  1.0 0.8 11.2\n",
       "30  1.9 0.1 2.7   2.9 2.1  1.1 0.4 18.4\n",
       "⋮   ⋮   ⋮   ⋮    ⋮    ⋮    ⋮   ⋮   ⋮   \n",
       "320 2.0 1.3  5.5  6.8  1.5 0.2 0.5  6.0\n",
       "321 3.2 0.2  2.2  2.3  1.8 1.2 0.3  9.5\n",
       "322 2.8 1.0  2.5  3.5  0.5 0.5 1.0  7.5\n",
       "323 1.4 0.8  0.6  1.4  0.4 0.2 0.4  1.0\n",
       "324 1.4 0.6  2.2  2.8  8.0 1.4 0.2 14.0\n",
       "325 1.4 2.4  6.2  8.6  0.6 0.0 0.8 13.2\n",
       "326 1.2 0.2  1.4  1.6  3.8 0.4 0.2  6.6\n",
       "327 0.5 0.0  2.5  2.5  0.5 0.5 0.0  2.5\n",
       "328 1.6 1.2  8.2  9.4  4.0 1.0 1.4 10.0\n",
       "329 1.2 0.2  2.5  2.8  3.2 0.8 0.8  8.8\n",
       "330 0.0 0.0  1.2  1.2  4.4 0.2 0.2 11.8\n",
       "331 3.0 0.0  5.0  5.0 12.0 2.3 1.0 22.0\n",
       "332 3.2 0.8  1.8  2.7  2.5 0.8 0.3  8.8\n",
       "333 1.8 0.0  2.0  2.0  0.8 0.2 0.2  1.8\n",
       "334 1.7 1.0  1.8  2.8  2.2 0.7 0.7  4.0\n",
       "335 3.0 3.4 11.8 15.2 12.2 2.2 0.2 24.6\n",
       "336 3.2 3.6  6.6 10.2  1.0 0.0 2.2 12.4\n",
       "337 1.6 2.0  4.2  6.2  3.2 1.2 0.4 14.4\n",
       "338 1.0 0.0  3.5  3.5  1.5 1.0 0.0  4.0\n",
       "339 0.8 0.2  1.5  1.7  1.8 0.5 0.0  3.7\n",
       "340 1.2 0.2  1.0  1.2  3.5 1.0 0.0 19.5\n",
       "341 1.2 0.8  3.6  4.4  2.4 0.6 1.0 14.4\n",
       "342 1.6 1.0  4.2  5.2  2.6 0.8 0.0 10.4\n",
       "343 1.7 0.3  3.8  4.2  3.5 1.0 0.3  8.0\n",
       "344 0.5 0.8  2.2  3.0  0.5 0.5 0.8  6.2\n",
       "345 1.0 0.3  0.3  0.7  1.0 0.0 0.0  5.0\n",
       "346 1.5 0.3  3.0  3.3  0.5 0.5 0.0  6.2\n",
       "347 1.8 3.4  3.6  7.0  1.6 1.4 0.2  9.0\n",
       "348 2.8 2.7  3.0  5.7  0.7 0.0 0.3  8.5\n",
       "349 2.1 2.3  3.7  6.0  1.7 0.4 1.0  5.6"
      ]
     },
     "metadata": {},
     "output_type": "display_data"
    }
   ],
   "source": [
    "April"
   ]
  },
  {
   "cell_type": "code",
   "execution_count": 98,
   "metadata": {},
   "outputs": [
    {
     "data": {
      "text/html": [
       "30"
      ],
      "text/latex": [
       "30"
      ],
      "text/markdown": [
       "30"
      ],
      "text/plain": [
       "[1] 30"
      ]
     },
     "metadata": {},
     "output_type": "display_data"
    }
   ],
   "source": [
    "max(April$PPG, na.rm = TRUE)"
   ]
  },
  {
   "cell_type": "markdown",
   "metadata": {},
   "source": [
    "The highest PPG value in the month of April was 30"
   ]
  },
  {
   "cell_type": "code",
   "execution_count": 99,
   "metadata": {},
   "outputs": [
    {
     "data": {
      "text/html": [
       "<table>\n",
       "<thead><tr><th></th><th scope=col>#</th><th scope=col>Player</th><th scope=col>Team</th><th scope=col>GP</th><th scope=col>MPG</th><th scope=col>FGM</th><th scope=col>FGA</th><th scope=col>FG%</th><th scope=col>3PM</th><th scope=col>3PA</th><th scope=col>⋯</th><th scope=col>FT%</th><th scope=col>TOV</th><th scope=col>PF</th><th scope=col>ORB</th><th scope=col>DRB</th><th scope=col>RPG</th><th scope=col>APG</th><th scope=col>SPG</th><th scope=col>BPG</th><th scope=col>PPG</th></tr></thead>\n",
       "<tbody>\n",
       "\t<tr><th scope=row>201</th><td>201           </td><td>Damian Lillard</td><td>POR           </td><td>5             </td><td>36            </td><td>9             </td><td>20.8          </td><td>0.433         </td><td>3.2           </td><td>10            </td><td>⋯             </td><td>0.917         </td><td>2             </td><td>1             </td><td>1             </td><td>2.2           </td><td>3.2           </td><td>7             </td><td>1.2           </td><td>0.2           </td><td>30            </td></tr>\n",
       "</tbody>\n",
       "</table>\n"
      ],
      "text/latex": [
       "\\begin{tabular}{r|lllllllllllllllllllllll}\n",
       "  & \\# & Player & Team & GP & MPG & FGM & FGA & FG\\% & 3PM & 3PA & ⋯ & FT\\% & TOV & PF & ORB & DRB & RPG & APG & SPG & BPG & PPG\\\\\n",
       "\\hline\n",
       "\t201 & 201            & Damian Lillard & POR            & 5              & 36             & 9              & 20.8           & 0.433          & 3.2            & 10             & ⋯              & 0.917          & 2              & 1              & 1              & 2.2            & 3.2            & 7              & 1.2            & 0.2            & 30            \\\\\n",
       "\\end{tabular}\n"
      ],
      "text/markdown": [
       "\n",
       "| <!--/--> | # | Player | Team | GP | MPG | FGM | FGA | FG% | 3PM | 3PA | ⋯ | FT% | TOV | PF | ORB | DRB | RPG | APG | SPG | BPG | PPG | \n",
       "|---|\n",
       "| 201 | 201            | Damian Lillard | POR            | 5              | 36             | 9              | 20.8           | 0.433          | 3.2            | 10             | ⋯              | 0.917          | 2              | 1              | 1              | 2.2            | 3.2            | 7              | 1.2            | 0.2            | 30             | \n",
       "\n",
       "\n"
      ],
      "text/plain": [
       "    #   Player         Team GP MPG FGM FGA  FG%   3PM 3PA ⋯ FT%   TOV PF ORB\n",
       "201 201 Damian Lillard POR  5  36  9   20.8 0.433 3.2 10  ⋯ 0.917 2   1  1  \n",
       "    DRB RPG APG SPG BPG PPG\n",
       "201 2.2 3.2 7   1.2 0.2 30 "
      ]
     },
     "metadata": {},
     "output_type": "display_data"
    }
   ],
   "source": [
    "April[April$PPG %in% c(\"30\"), ]"
   ]
  },
  {
   "cell_type": "markdown",
   "metadata": {},
   "source": [
    "The player with the most Points Per Game in April is Damian Lillard "
   ]
  },
  {
   "cell_type": "markdown",
   "metadata": {},
   "source": [
    "## Disscussion"
   ]
  },
  {
   "cell_type": "markdown",
   "metadata": {},
   "source": [
    "Overall this study was able to find the NBA player who scored the most points per game depending on the month in the 2017-2018 season. In October, the first month of the season the NBA player to score the most points per game was Giannis Antetokounmpo. In November and December, it was James Harden. January the player with the highest points per game was Stephen Curry, February it was Anthony Davis, March it was Lebron James, and finally, in April the player who scored the most points per game was Damian Lillard. Finding these results allows the study to conclusively show which players contribute the most to their team depending on the month. The study even further showed other findings such as a trend in which James Harden can maintain his high PPG for two months within the middle of the NBA season. Another compelling component from this study was it was able to find the highest PPG within the regular season was 35 obtained in February by Anthony Davis and that the highest PPG values ranged from 35 to 29.5.\n",
    "\n",
    "This data is scientifically sound in which it is accurately able to find the maximum value in the PPG column within the data frame and take that information to find the name corresponding to the value. Some errors that may occur, however, could be due to inaccuracy of the website that is being used to gather the information. If the website is inaccurate, then the answers the coding provides are no longer valid. Another error could occur if the proper selling and names are misplaced or misspelled so much as the misuse of a capital letter where there should be a lowercase letter within any line of code in the study will cause the code not to work properly and thus not find the particular data that is being searched for.\n",
    "\n",
    "This study can be used to find the maximum value for other columns within this specific table, similar statistics for any other sport, or even any additional information from a website that an individual may wish to research. Since the method is straightforward involved extracting HTML data and finding a maximum value, it is a widely applicable approach that can be used as an individual sees fit. A similar method was found in a blog post by a user named Alice Sweeting in which they wished to put data straight into R rather than what they were doing previous which was using a program called “Smartabase” to take data and produce a visualization and then import that data into R using a .csv file (Sweeting, 2018,). They also used HTML coding to find information within NBA statistics and showed the methods to take information from a website and use it to create a data set much like what has been produced in this study. David Smith conducted another approach similar to this one in with they found movement and play by play data and placed it within R to animate plays (Smith, 2016). While this study did not use HTML reading to find what this study was looking to see it still is significant because it shows different takes on importing sports data, specifically NBA data, as well as what can be done with it and why it is important."
   ]
  },
  {
   "cell_type": "markdown",
   "metadata": {},
   "source": [
    "## References\n",
    "\n",
    "Bhandari I, Colet E, Parker J, Pines Z, Pratap R, Ramanujam. 1997. Advanced Scout: Data Mining and Knowledge Discovery in NBA Data. Data Min Knowl Disc. 1(1): 121-125.\n",
    "\n",
    "Elmore R, DeWitt P. 2018 Nov 1. Ballr; [accessed 2018 Nov 9]. https://github.com/rtelmore/ballr/blob/master/README.md\n",
    "\n",
    "Smith D. 2016 Sep 2. Analyzing NBA Basketball Data with R [blog]. Revolutions. [accessed 2018 Nov 9]; https://blog.revolutionanalytics.com/2016/09/analyzing-nba-basketball-data-with-r.html\n",
    "\n",
    "Sweeting A. 2018 Sep 5. Quickly Importing Athlete Management System (AMS) Data into R [blog]. Sport Statistics R Sweet! [accessed 2018 Nov 9]; https://sportstatisticsrsweet.wordpress.com\n",
    "\n",
    "Wickham H. 2014 Nov 24. Rvest: Easy Web Scraping with R [blog]. Rstudio [accessed 2018 Nov 9]; https://blog.rstudio.com/2014/11/24/rvest-easy-web-scraping-with-r/\n",
    "\n",
    "Wickham H. 2017 June 13. Dplyr 0.70. [blog]. Rstudio [accessed 2018 Nov 9]; https://blog.rstudio.com/2017/06/13/dplyr-0-7-0/"
   ]
  }
 ],
 "metadata": {
  "kernelspec": {
   "display_name": "R",
   "language": "R",
   "name": "ir"
  },
  "language_info": {
   "codemirror_mode": "r",
   "file_extension": ".r",
   "mimetype": "text/x-r-source",
   "name": "R",
   "pygments_lexer": "r",
   "version": "3.5.1"
  }
 },
 "nbformat": 4,
 "nbformat_minor": 2
}
